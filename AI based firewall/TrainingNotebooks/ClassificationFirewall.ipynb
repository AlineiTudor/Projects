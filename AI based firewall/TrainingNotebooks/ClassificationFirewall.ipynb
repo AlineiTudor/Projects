{
 "cells": [
  {
   "cell_type": "code",
   "execution_count": 4,
   "id": "b4fa1639-b177-48ee-b589-e9fe36483614",
   "metadata": {},
   "outputs": [
    {
     "data": {
      "text/html": [
       "<style type=\"text/css\">\n",
       "#T_af592_row10_col1, #T_af592_row14_col1 {\n",
       "  background-color: lightgreen;\n",
       "}\n",
       "</style>\n",
       "<table id=\"T_af592\">\n",
       "  <thead>\n",
       "    <tr>\n",
       "      <th class=\"blank level0\" >&nbsp;</th>\n",
       "      <th id=\"T_af592_level0_col0\" class=\"col_heading level0 col0\" >Description</th>\n",
       "      <th id=\"T_af592_level0_col1\" class=\"col_heading level0 col1\" >Value</th>\n",
       "    </tr>\n",
       "  </thead>\n",
       "  <tbody>\n",
       "    <tr>\n",
       "      <th id=\"T_af592_level0_row0\" class=\"row_heading level0 row0\" >0</th>\n",
       "      <td id=\"T_af592_row0_col0\" class=\"data row0 col0\" >Session id</td>\n",
       "      <td id=\"T_af592_row0_col1\" class=\"data row0 col1\" >6797</td>\n",
       "    </tr>\n",
       "    <tr>\n",
       "      <th id=\"T_af592_level0_row1\" class=\"row_heading level0 row1\" >1</th>\n",
       "      <td id=\"T_af592_row1_col0\" class=\"data row1 col0\" >Target</td>\n",
       "      <td id=\"T_af592_row1_col1\" class=\"data row1 col1\" >type</td>\n",
       "    </tr>\n",
       "    <tr>\n",
       "      <th id=\"T_af592_level0_row2\" class=\"row_heading level0 row2\" >2</th>\n",
       "      <td id=\"T_af592_row2_col0\" class=\"data row2 col0\" >Target type</td>\n",
       "      <td id=\"T_af592_row2_col1\" class=\"data row2 col1\" >Binary</td>\n",
       "    </tr>\n",
       "    <tr>\n",
       "      <th id=\"T_af592_level0_row3\" class=\"row_heading level0 row3\" >3</th>\n",
       "      <td id=\"T_af592_row3_col0\" class=\"data row3 col0\" >Original data shape</td>\n",
       "      <td id=\"T_af592_row3_col1\" class=\"data row3 col1\" >(2621, 10)</td>\n",
       "    </tr>\n",
       "    <tr>\n",
       "      <th id=\"T_af592_level0_row4\" class=\"row_heading level0 row4\" >4</th>\n",
       "      <td id=\"T_af592_row4_col0\" class=\"data row4 col0\" >Transformed data shape</td>\n",
       "      <td id=\"T_af592_row4_col1\" class=\"data row4 col1\" >(2621, 7)</td>\n",
       "    </tr>\n",
       "    <tr>\n",
       "      <th id=\"T_af592_level0_row5\" class=\"row_heading level0 row5\" >5</th>\n",
       "      <td id=\"T_af592_row5_col0\" class=\"data row5 col0\" >Transformed train set shape</td>\n",
       "      <td id=\"T_af592_row5_col1\" class=\"data row5 col1\" >(1834, 7)</td>\n",
       "    </tr>\n",
       "    <tr>\n",
       "      <th id=\"T_af592_level0_row6\" class=\"row_heading level0 row6\" >6</th>\n",
       "      <td id=\"T_af592_row6_col0\" class=\"data row6 col0\" >Transformed test set shape</td>\n",
       "      <td id=\"T_af592_row6_col1\" class=\"data row6 col1\" >(787, 7)</td>\n",
       "    </tr>\n",
       "    <tr>\n",
       "      <th id=\"T_af592_level0_row7\" class=\"row_heading level0 row7\" >7</th>\n",
       "      <td id=\"T_af592_row7_col0\" class=\"data row7 col0\" >Ignore features</td>\n",
       "      <td id=\"T_af592_row7_col1\" class=\"data row7 col1\" >3</td>\n",
       "    </tr>\n",
       "    <tr>\n",
       "      <th id=\"T_af592_level0_row8\" class=\"row_heading level0 row8\" >8</th>\n",
       "      <td id=\"T_af592_row8_col0\" class=\"data row8 col0\" >Numeric features</td>\n",
       "      <td id=\"T_af592_row8_col1\" class=\"data row8 col1\" >6</td>\n",
       "    </tr>\n",
       "    <tr>\n",
       "      <th id=\"T_af592_level0_row9\" class=\"row_heading level0 row9\" >9</th>\n",
       "      <td id=\"T_af592_row9_col0\" class=\"data row9 col0\" >Rows with missing values</td>\n",
       "      <td id=\"T_af592_row9_col1\" class=\"data row9 col1\" >80.7%</td>\n",
       "    </tr>\n",
       "    <tr>\n",
       "      <th id=\"T_af592_level0_row10\" class=\"row_heading level0 row10\" >10</th>\n",
       "      <td id=\"T_af592_row10_col0\" class=\"data row10 col0\" >Preprocess</td>\n",
       "      <td id=\"T_af592_row10_col1\" class=\"data row10 col1\" >True</td>\n",
       "    </tr>\n",
       "    <tr>\n",
       "      <th id=\"T_af592_level0_row11\" class=\"row_heading level0 row11\" >11</th>\n",
       "      <td id=\"T_af592_row11_col0\" class=\"data row11 col0\" >Imputation type</td>\n",
       "      <td id=\"T_af592_row11_col1\" class=\"data row11 col1\" >simple</td>\n",
       "    </tr>\n",
       "    <tr>\n",
       "      <th id=\"T_af592_level0_row12\" class=\"row_heading level0 row12\" >12</th>\n",
       "      <td id=\"T_af592_row12_col0\" class=\"data row12 col0\" >Numeric imputation</td>\n",
       "      <td id=\"T_af592_row12_col1\" class=\"data row12 col1\" >mean</td>\n",
       "    </tr>\n",
       "    <tr>\n",
       "      <th id=\"T_af592_level0_row13\" class=\"row_heading level0 row13\" >13</th>\n",
       "      <td id=\"T_af592_row13_col0\" class=\"data row13 col0\" >Categorical imputation</td>\n",
       "      <td id=\"T_af592_row13_col1\" class=\"data row13 col1\" >mode</td>\n",
       "    </tr>\n",
       "    <tr>\n",
       "      <th id=\"T_af592_level0_row14\" class=\"row_heading level0 row14\" >14</th>\n",
       "      <td id=\"T_af592_row14_col0\" class=\"data row14 col0\" >Normalize</td>\n",
       "      <td id=\"T_af592_row14_col1\" class=\"data row14 col1\" >True</td>\n",
       "    </tr>\n",
       "    <tr>\n",
       "      <th id=\"T_af592_level0_row15\" class=\"row_heading level0 row15\" >15</th>\n",
       "      <td id=\"T_af592_row15_col0\" class=\"data row15 col0\" >Normalize method</td>\n",
       "      <td id=\"T_af592_row15_col1\" class=\"data row15 col1\" >zscore</td>\n",
       "    </tr>\n",
       "    <tr>\n",
       "      <th id=\"T_af592_level0_row16\" class=\"row_heading level0 row16\" >16</th>\n",
       "      <td id=\"T_af592_row16_col0\" class=\"data row16 col0\" >Fold Generator</td>\n",
       "      <td id=\"T_af592_row16_col1\" class=\"data row16 col1\" >StratifiedKFold</td>\n",
       "    </tr>\n",
       "    <tr>\n",
       "      <th id=\"T_af592_level0_row17\" class=\"row_heading level0 row17\" >17</th>\n",
       "      <td id=\"T_af592_row17_col0\" class=\"data row17 col0\" >Fold Number</td>\n",
       "      <td id=\"T_af592_row17_col1\" class=\"data row17 col1\" >10</td>\n",
       "    </tr>\n",
       "    <tr>\n",
       "      <th id=\"T_af592_level0_row18\" class=\"row_heading level0 row18\" >18</th>\n",
       "      <td id=\"T_af592_row18_col0\" class=\"data row18 col0\" >CPU Jobs</td>\n",
       "      <td id=\"T_af592_row18_col1\" class=\"data row18 col1\" >-1</td>\n",
       "    </tr>\n",
       "    <tr>\n",
       "      <th id=\"T_af592_level0_row19\" class=\"row_heading level0 row19\" >19</th>\n",
       "      <td id=\"T_af592_row19_col0\" class=\"data row19 col0\" >Use GPU</td>\n",
       "      <td id=\"T_af592_row19_col1\" class=\"data row19 col1\" >False</td>\n",
       "    </tr>\n",
       "    <tr>\n",
       "      <th id=\"T_af592_level0_row20\" class=\"row_heading level0 row20\" >20</th>\n",
       "      <td id=\"T_af592_row20_col0\" class=\"data row20 col0\" >Log Experiment</td>\n",
       "      <td id=\"T_af592_row20_col1\" class=\"data row20 col1\" >False</td>\n",
       "    </tr>\n",
       "    <tr>\n",
       "      <th id=\"T_af592_level0_row21\" class=\"row_heading level0 row21\" >21</th>\n",
       "      <td id=\"T_af592_row21_col0\" class=\"data row21 col0\" >Experiment Name</td>\n",
       "      <td id=\"T_af592_row21_col1\" class=\"data row21 col1\" >clf-default-name</td>\n",
       "    </tr>\n",
       "    <tr>\n",
       "      <th id=\"T_af592_level0_row22\" class=\"row_heading level0 row22\" >22</th>\n",
       "      <td id=\"T_af592_row22_col0\" class=\"data row22 col0\" >USI</td>\n",
       "      <td id=\"T_af592_row22_col1\" class=\"data row22 col1\" >54b0</td>\n",
       "    </tr>\n",
       "  </tbody>\n",
       "</table>\n"
      ],
      "text/plain": [
       "<pandas.io.formats.style.Styler at 0x1c64e706150>"
      ]
     },
     "metadata": {},
     "output_type": "display_data"
    },
    {
     "data": {
      "text/html": [],
      "text/plain": [
       "<IPython.core.display.HTML object>"
      ]
     },
     "metadata": {},
     "output_type": "display_data"
    },
    {
     "data": {
      "text/html": [
       "<style type=\"text/css\">\n",
       "#T_8fa36 th {\n",
       "  text-align: left;\n",
       "}\n",
       "#T_8fa36_row0_col0, #T_8fa36_row0_col2, #T_8fa36_row0_col3, #T_8fa36_row1_col0, #T_8fa36_row1_col2, #T_8fa36_row1_col3, #T_8fa36_row2_col0, #T_8fa36_row2_col2, #T_8fa36_row2_col3, #T_8fa36_row3_col0, #T_8fa36_row3_col2, #T_8fa36_row3_col3, #T_8fa36_row4_col0, #T_8fa36_row4_col1, #T_8fa36_row4_col2, #T_8fa36_row4_col3, #T_8fa36_row4_col4, #T_8fa36_row4_col5, #T_8fa36_row4_col6, #T_8fa36_row4_col7, #T_8fa36_row5_col0, #T_8fa36_row5_col1, #T_8fa36_row5_col2, #T_8fa36_row5_col3, #T_8fa36_row5_col4, #T_8fa36_row5_col5, #T_8fa36_row5_col6, #T_8fa36_row5_col7, #T_8fa36_row6_col0, #T_8fa36_row6_col1, #T_8fa36_row6_col3, #T_8fa36_row6_col5, #T_8fa36_row6_col6, #T_8fa36_row6_col7, #T_8fa36_row7_col0, #T_8fa36_row7_col1, #T_8fa36_row7_col2, #T_8fa36_row7_col3, #T_8fa36_row7_col5, #T_8fa36_row7_col6, #T_8fa36_row7_col7, #T_8fa36_row8_col0, #T_8fa36_row8_col1, #T_8fa36_row8_col2, #T_8fa36_row8_col3, #T_8fa36_row8_col4, #T_8fa36_row8_col5, #T_8fa36_row8_col6, #T_8fa36_row8_col7, #T_8fa36_row9_col0, #T_8fa36_row9_col1, #T_8fa36_row9_col2, #T_8fa36_row9_col4, #T_8fa36_row9_col5, #T_8fa36_row9_col6, #T_8fa36_row9_col7, #T_8fa36_row10_col0, #T_8fa36_row10_col1, #T_8fa36_row10_col2, #T_8fa36_row10_col3, #T_8fa36_row10_col4, #T_8fa36_row10_col5, #T_8fa36_row10_col6, #T_8fa36_row10_col7, #T_8fa36_row11_col0, #T_8fa36_row11_col1, #T_8fa36_row11_col2, #T_8fa36_row11_col3, #T_8fa36_row11_col4, #T_8fa36_row11_col5, #T_8fa36_row11_col6, #T_8fa36_row11_col7, #T_8fa36_row12_col0, #T_8fa36_row12_col1, #T_8fa36_row12_col2, #T_8fa36_row12_col3, #T_8fa36_row12_col4, #T_8fa36_row12_col5, #T_8fa36_row12_col6, #T_8fa36_row12_col7, #T_8fa36_row13_col0, #T_8fa36_row13_col1, #T_8fa36_row13_col2, #T_8fa36_row13_col3, #T_8fa36_row13_col4, #T_8fa36_row13_col5, #T_8fa36_row13_col6, #T_8fa36_row13_col7 {\n",
       "  text-align: left;\n",
       "}\n",
       "#T_8fa36_row0_col1, #T_8fa36_row0_col4, #T_8fa36_row0_col5, #T_8fa36_row0_col6, #T_8fa36_row0_col7, #T_8fa36_row1_col1, #T_8fa36_row1_col4, #T_8fa36_row1_col5, #T_8fa36_row1_col6, #T_8fa36_row1_col7, #T_8fa36_row2_col1, #T_8fa36_row2_col4, #T_8fa36_row2_col5, #T_8fa36_row2_col6, #T_8fa36_row2_col7, #T_8fa36_row3_col1, #T_8fa36_row3_col4, #T_8fa36_row3_col5, #T_8fa36_row3_col6, #T_8fa36_row3_col7, #T_8fa36_row6_col2, #T_8fa36_row6_col4, #T_8fa36_row7_col4, #T_8fa36_row9_col3 {\n",
       "  text-align: left;\n",
       "  background-color: yellow;\n",
       "}\n",
       "#T_8fa36_row0_col8, #T_8fa36_row1_col8, #T_8fa36_row2_col8, #T_8fa36_row3_col8, #T_8fa36_row4_col8, #T_8fa36_row5_col8, #T_8fa36_row6_col8, #T_8fa36_row7_col8, #T_8fa36_row8_col8, #T_8fa36_row9_col8, #T_8fa36_row11_col8, #T_8fa36_row12_col8 {\n",
       "  text-align: left;\n",
       "  background-color: lightgrey;\n",
       "}\n",
       "#T_8fa36_row10_col8, #T_8fa36_row13_col8 {\n",
       "  text-align: left;\n",
       "  background-color: yellow;\n",
       "  background-color: lightgrey;\n",
       "}\n",
       "</style>\n",
       "<table id=\"T_8fa36\">\n",
       "  <thead>\n",
       "    <tr>\n",
       "      <th class=\"blank level0\" >&nbsp;</th>\n",
       "      <th id=\"T_8fa36_level0_col0\" class=\"col_heading level0 col0\" >Model</th>\n",
       "      <th id=\"T_8fa36_level0_col1\" class=\"col_heading level0 col1\" >Accuracy</th>\n",
       "      <th id=\"T_8fa36_level0_col2\" class=\"col_heading level0 col2\" >AUC</th>\n",
       "      <th id=\"T_8fa36_level0_col3\" class=\"col_heading level0 col3\" >Recall</th>\n",
       "      <th id=\"T_8fa36_level0_col4\" class=\"col_heading level0 col4\" >Prec.</th>\n",
       "      <th id=\"T_8fa36_level0_col5\" class=\"col_heading level0 col5\" >F1</th>\n",
       "      <th id=\"T_8fa36_level0_col6\" class=\"col_heading level0 col6\" >Kappa</th>\n",
       "      <th id=\"T_8fa36_level0_col7\" class=\"col_heading level0 col7\" >MCC</th>\n",
       "      <th id=\"T_8fa36_level0_col8\" class=\"col_heading level0 col8\" >TT (Sec)</th>\n",
       "    </tr>\n",
       "  </thead>\n",
       "  <tbody>\n",
       "    <tr>\n",
       "      <th id=\"T_8fa36_level0_row0\" class=\"row_heading level0 row0\" >rf</th>\n",
       "      <td id=\"T_8fa36_row0_col0\" class=\"data row0 col0\" >Random Forest Classifier</td>\n",
       "      <td id=\"T_8fa36_row0_col1\" class=\"data row0 col1\" >0.9962</td>\n",
       "      <td id=\"T_8fa36_row0_col2\" class=\"data row0 col2\" >0.6721</td>\n",
       "      <td id=\"T_8fa36_row0_col3\" class=\"data row0 col3\" >0.9806</td>\n",
       "      <td id=\"T_8fa36_row0_col4\" class=\"data row0 col4\" >1.0000</td>\n",
       "      <td id=\"T_8fa36_row0_col5\" class=\"data row0 col5\" >0.9901</td>\n",
       "      <td id=\"T_8fa36_row0_col6\" class=\"data row0 col6\" >0.9877</td>\n",
       "      <td id=\"T_8fa36_row0_col7\" class=\"data row0 col7\" >0.9879</td>\n",
       "      <td id=\"T_8fa36_row0_col8\" class=\"data row0 col8\" >0.0960</td>\n",
       "    </tr>\n",
       "    <tr>\n",
       "      <th id=\"T_8fa36_level0_row1\" class=\"row_heading level0 row1\" >ada</th>\n",
       "      <td id=\"T_8fa36_row1_col0\" class=\"data row1 col0\" >Ada Boost Classifier</td>\n",
       "      <td id=\"T_8fa36_row1_col1\" class=\"data row1 col1\" >0.9962</td>\n",
       "      <td id=\"T_8fa36_row1_col2\" class=\"data row1 col2\" >0.6680</td>\n",
       "      <td id=\"T_8fa36_row1_col3\" class=\"data row1 col3\" >0.9806</td>\n",
       "      <td id=\"T_8fa36_row1_col4\" class=\"data row1 col4\" >1.0000</td>\n",
       "      <td id=\"T_8fa36_row1_col5\" class=\"data row1 col5\" >0.9901</td>\n",
       "      <td id=\"T_8fa36_row1_col6\" class=\"data row1 col6\" >0.9877</td>\n",
       "      <td id=\"T_8fa36_row1_col7\" class=\"data row1 col7\" >0.9879</td>\n",
       "      <td id=\"T_8fa36_row1_col8\" class=\"data row1 col8\" >0.0560</td>\n",
       "    </tr>\n",
       "    <tr>\n",
       "      <th id=\"T_8fa36_level0_row2\" class=\"row_heading level0 row2\" >gbc</th>\n",
       "      <td id=\"T_8fa36_row2_col0\" class=\"data row2 col0\" >Gradient Boosting Classifier</td>\n",
       "      <td id=\"T_8fa36_row2_col1\" class=\"data row2 col1\" >0.9962</td>\n",
       "      <td id=\"T_8fa36_row2_col2\" class=\"data row2 col2\" >0.6591</td>\n",
       "      <td id=\"T_8fa36_row2_col3\" class=\"data row2 col3\" >0.9806</td>\n",
       "      <td id=\"T_8fa36_row2_col4\" class=\"data row2 col4\" >1.0000</td>\n",
       "      <td id=\"T_8fa36_row2_col5\" class=\"data row2 col5\" >0.9901</td>\n",
       "      <td id=\"T_8fa36_row2_col6\" class=\"data row2 col6\" >0.9877</td>\n",
       "      <td id=\"T_8fa36_row2_col7\" class=\"data row2 col7\" >0.9879</td>\n",
       "      <td id=\"T_8fa36_row2_col8\" class=\"data row2 col8\" >0.0570</td>\n",
       "    </tr>\n",
       "    <tr>\n",
       "      <th id=\"T_8fa36_level0_row3\" class=\"row_heading level0 row3\" >lightgbm</th>\n",
       "      <td id=\"T_8fa36_row3_col0\" class=\"data row3 col0\" >Light Gradient Boosting Machine</td>\n",
       "      <td id=\"T_8fa36_row3_col1\" class=\"data row3 col1\" >0.9962</td>\n",
       "      <td id=\"T_8fa36_row3_col2\" class=\"data row3 col2\" >0.6669</td>\n",
       "      <td id=\"T_8fa36_row3_col3\" class=\"data row3 col3\" >0.9806</td>\n",
       "      <td id=\"T_8fa36_row3_col4\" class=\"data row3 col4\" >1.0000</td>\n",
       "      <td id=\"T_8fa36_row3_col5\" class=\"data row3 col5\" >0.9901</td>\n",
       "      <td id=\"T_8fa36_row3_col6\" class=\"data row3 col6\" >0.9877</td>\n",
       "      <td id=\"T_8fa36_row3_col7\" class=\"data row3 col7\" >0.9879</td>\n",
       "      <td id=\"T_8fa36_row3_col8\" class=\"data row3 col8\" >0.0340</td>\n",
       "    </tr>\n",
       "    <tr>\n",
       "      <th id=\"T_8fa36_level0_row4\" class=\"row_heading level0 row4\" >dt</th>\n",
       "      <td id=\"T_8fa36_row4_col0\" class=\"data row4 col0\" >Decision Tree Classifier</td>\n",
       "      <td id=\"T_8fa36_row4_col1\" class=\"data row4 col1\" >0.9956</td>\n",
       "      <td id=\"T_8fa36_row4_col2\" class=\"data row4 col2\" >0.6191</td>\n",
       "      <td id=\"T_8fa36_row4_col3\" class=\"data row4 col3\" >0.9806</td>\n",
       "      <td id=\"T_8fa36_row4_col4\" class=\"data row4 col4\" >0.9973</td>\n",
       "      <td id=\"T_8fa36_row4_col5\" class=\"data row4 col5\" >0.9887</td>\n",
       "      <td id=\"T_8fa36_row4_col6\" class=\"data row4 col6\" >0.9860</td>\n",
       "      <td id=\"T_8fa36_row4_col7\" class=\"data row4 col7\" >0.9862</td>\n",
       "      <td id=\"T_8fa36_row4_col8\" class=\"data row4 col8\" >0.0170</td>\n",
       "    </tr>\n",
       "    <tr>\n",
       "      <th id=\"T_8fa36_level0_row5\" class=\"row_heading level0 row5\" >et</th>\n",
       "      <td id=\"T_8fa36_row5_col0\" class=\"data row5 col0\" >Extra Trees Classifier</td>\n",
       "      <td id=\"T_8fa36_row5_col1\" class=\"data row5 col1\" >0.9956</td>\n",
       "      <td id=\"T_8fa36_row5_col2\" class=\"data row5 col2\" >0.9504</td>\n",
       "      <td id=\"T_8fa36_row5_col3\" class=\"data row5 col3\" >0.9806</td>\n",
       "      <td id=\"T_8fa36_row5_col4\" class=\"data row5 col4\" >0.9973</td>\n",
       "      <td id=\"T_8fa36_row5_col5\" class=\"data row5 col5\" >0.9887</td>\n",
       "      <td id=\"T_8fa36_row5_col6\" class=\"data row5 col6\" >0.9860</td>\n",
       "      <td id=\"T_8fa36_row5_col7\" class=\"data row5 col7\" >0.9862</td>\n",
       "      <td id=\"T_8fa36_row5_col8\" class=\"data row5 col8\" >0.0740</td>\n",
       "    </tr>\n",
       "    <tr>\n",
       "      <th id=\"T_8fa36_level0_row6\" class=\"row_heading level0 row6\" >lr</th>\n",
       "      <td id=\"T_8fa36_row6_col0\" class=\"data row6 col0\" >Logistic Regression</td>\n",
       "      <td id=\"T_8fa36_row6_col1\" class=\"data row6 col1\" >0.9945</td>\n",
       "      <td id=\"T_8fa36_row6_col2\" class=\"data row6 col2\" >0.9816</td>\n",
       "      <td id=\"T_8fa36_row6_col3\" class=\"data row6 col3\" >0.9722</td>\n",
       "      <td id=\"T_8fa36_row6_col4\" class=\"data row6 col4\" >1.0000</td>\n",
       "      <td id=\"T_8fa36_row6_col5\" class=\"data row6 col5\" >0.9857</td>\n",
       "      <td id=\"T_8fa36_row6_col6\" class=\"data row6 col6\" >0.9823</td>\n",
       "      <td id=\"T_8fa36_row6_col7\" class=\"data row6 col7\" >0.9826</td>\n",
       "      <td id=\"T_8fa36_row6_col8\" class=\"data row6 col8\" >0.4790</td>\n",
       "    </tr>\n",
       "    <tr>\n",
       "      <th id=\"T_8fa36_level0_row7\" class=\"row_heading level0 row7\" >knn</th>\n",
       "      <td id=\"T_8fa36_row7_col0\" class=\"data row7 col0\" >K Neighbors Classifier</td>\n",
       "      <td id=\"T_8fa36_row7_col1\" class=\"data row7 col1\" >0.9945</td>\n",
       "      <td id=\"T_8fa36_row7_col2\" class=\"data row7 col2\" >0.6249</td>\n",
       "      <td id=\"T_8fa36_row7_col3\" class=\"data row7 col3\" >0.9722</td>\n",
       "      <td id=\"T_8fa36_row7_col4\" class=\"data row7 col4\" >1.0000</td>\n",
       "      <td id=\"T_8fa36_row7_col5\" class=\"data row7 col5\" >0.9857</td>\n",
       "      <td id=\"T_8fa36_row7_col6\" class=\"data row7 col6\" >0.9823</td>\n",
       "      <td id=\"T_8fa36_row7_col7\" class=\"data row7 col7\" >0.9826</td>\n",
       "      <td id=\"T_8fa36_row7_col8\" class=\"data row7 col8\" >0.0350</td>\n",
       "    </tr>\n",
       "    <tr>\n",
       "      <th id=\"T_8fa36_level0_row8\" class=\"row_heading level0 row8\" >svm</th>\n",
       "      <td id=\"T_8fa36_row8_col0\" class=\"data row8 col0\" >SVM - Linear Kernel</td>\n",
       "      <td id=\"T_8fa36_row8_col1\" class=\"data row8 col1\" >0.9875</td>\n",
       "      <td id=\"T_8fa36_row8_col2\" class=\"data row8 col2\" >0.0000</td>\n",
       "      <td id=\"T_8fa36_row8_col3\" class=\"data row8 col3\" >0.9722</td>\n",
       "      <td id=\"T_8fa36_row8_col4\" class=\"data row8 col4\" >0.9694</td>\n",
       "      <td id=\"T_8fa36_row8_col5\" class=\"data row8 col5\" >0.9692</td>\n",
       "      <td id=\"T_8fa36_row8_col6\" class=\"data row8 col6\" >0.9613</td>\n",
       "      <td id=\"T_8fa36_row8_col7\" class=\"data row8 col7\" >0.9626</td>\n",
       "      <td id=\"T_8fa36_row8_col8\" class=\"data row8 col8\" >0.0160</td>\n",
       "    </tr>\n",
       "    <tr>\n",
       "      <th id=\"T_8fa36_level0_row9\" class=\"row_heading level0 row9\" >nb</th>\n",
       "      <td id=\"T_8fa36_row9_col0\" class=\"data row9 col0\" >Naive Bayes</td>\n",
       "      <td id=\"T_8fa36_row9_col1\" class=\"data row9 col1\" >0.9624</td>\n",
       "      <td id=\"T_8fa36_row9_col2\" class=\"data row9 col2\" >0.5000</td>\n",
       "      <td id=\"T_8fa36_row9_col3\" class=\"data row9 col3\" >0.9972</td>\n",
       "      <td id=\"T_8fa36_row9_col4\" class=\"data row9 col4\" >0.8446</td>\n",
       "      <td id=\"T_8fa36_row9_col5\" class=\"data row9 col5\" >0.9136</td>\n",
       "      <td id=\"T_8fa36_row9_col6\" class=\"data row9 col6\" >0.8899</td>\n",
       "      <td id=\"T_8fa36_row9_col7\" class=\"data row9 col7\" >0.8956</td>\n",
       "      <td id=\"T_8fa36_row9_col8\" class=\"data row9 col8\" >0.0140</td>\n",
       "    </tr>\n",
       "    <tr>\n",
       "      <th id=\"T_8fa36_level0_row10\" class=\"row_heading level0 row10\" >ridge</th>\n",
       "      <td id=\"T_8fa36_row10_col0\" class=\"data row10 col0\" >Ridge Classifier</td>\n",
       "      <td id=\"T_8fa36_row10_col1\" class=\"data row10 col1\" >0.8037</td>\n",
       "      <td id=\"T_8fa36_row10_col2\" class=\"data row10 col2\" >0.0000</td>\n",
       "      <td id=\"T_8fa36_row10_col3\" class=\"data row10 col3\" >0.0000</td>\n",
       "      <td id=\"T_8fa36_row10_col4\" class=\"data row10 col4\" >0.0000</td>\n",
       "      <td id=\"T_8fa36_row10_col5\" class=\"data row10 col5\" >0.0000</td>\n",
       "      <td id=\"T_8fa36_row10_col6\" class=\"data row10 col6\" >0.0000</td>\n",
       "      <td id=\"T_8fa36_row10_col7\" class=\"data row10 col7\" >0.0000</td>\n",
       "      <td id=\"T_8fa36_row10_col8\" class=\"data row10 col8\" >0.0130</td>\n",
       "    </tr>\n",
       "    <tr>\n",
       "      <th id=\"T_8fa36_level0_row11\" class=\"row_heading level0 row11\" >qda</th>\n",
       "      <td id=\"T_8fa36_row11_col0\" class=\"data row11 col0\" >Quadratic Discriminant Analysis</td>\n",
       "      <td id=\"T_8fa36_row11_col1\" class=\"data row11 col1\" >0.8037</td>\n",
       "      <td id=\"T_8fa36_row11_col2\" class=\"data row11 col2\" >0.5000</td>\n",
       "      <td id=\"T_8fa36_row11_col3\" class=\"data row11 col3\" >0.0000</td>\n",
       "      <td id=\"T_8fa36_row11_col4\" class=\"data row11 col4\" >0.0000</td>\n",
       "      <td id=\"T_8fa36_row11_col5\" class=\"data row11 col5\" >0.0000</td>\n",
       "      <td id=\"T_8fa36_row11_col6\" class=\"data row11 col6\" >0.0000</td>\n",
       "      <td id=\"T_8fa36_row11_col7\" class=\"data row11 col7\" >0.0000</td>\n",
       "      <td id=\"T_8fa36_row11_col8\" class=\"data row11 col8\" >0.0160</td>\n",
       "    </tr>\n",
       "    <tr>\n",
       "      <th id=\"T_8fa36_level0_row12\" class=\"row_heading level0 row12\" >lda</th>\n",
       "      <td id=\"T_8fa36_row12_col0\" class=\"data row12 col0\" >Linear Discriminant Analysis</td>\n",
       "      <td id=\"T_8fa36_row12_col1\" class=\"data row12 col1\" >0.8037</td>\n",
       "      <td id=\"T_8fa36_row12_col2\" class=\"data row12 col2\" >0.9300</td>\n",
       "      <td id=\"T_8fa36_row12_col3\" class=\"data row12 col3\" >0.0000</td>\n",
       "      <td id=\"T_8fa36_row12_col4\" class=\"data row12 col4\" >0.0000</td>\n",
       "      <td id=\"T_8fa36_row12_col5\" class=\"data row12 col5\" >0.0000</td>\n",
       "      <td id=\"T_8fa36_row12_col6\" class=\"data row12 col6\" >0.0000</td>\n",
       "      <td id=\"T_8fa36_row12_col7\" class=\"data row12 col7\" >0.0000</td>\n",
       "      <td id=\"T_8fa36_row12_col8\" class=\"data row12 col8\" >0.0140</td>\n",
       "    </tr>\n",
       "    <tr>\n",
       "      <th id=\"T_8fa36_level0_row13\" class=\"row_heading level0 row13\" >dummy</th>\n",
       "      <td id=\"T_8fa36_row13_col0\" class=\"data row13 col0\" >Dummy Classifier</td>\n",
       "      <td id=\"T_8fa36_row13_col1\" class=\"data row13 col1\" >0.8037</td>\n",
       "      <td id=\"T_8fa36_row13_col2\" class=\"data row13 col2\" >0.5000</td>\n",
       "      <td id=\"T_8fa36_row13_col3\" class=\"data row13 col3\" >0.0000</td>\n",
       "      <td id=\"T_8fa36_row13_col4\" class=\"data row13 col4\" >0.0000</td>\n",
       "      <td id=\"T_8fa36_row13_col5\" class=\"data row13 col5\" >0.0000</td>\n",
       "      <td id=\"T_8fa36_row13_col6\" class=\"data row13 col6\" >0.0000</td>\n",
       "      <td id=\"T_8fa36_row13_col7\" class=\"data row13 col7\" >0.0000</td>\n",
       "      <td id=\"T_8fa36_row13_col8\" class=\"data row13 col8\" >0.0130</td>\n",
       "    </tr>\n",
       "  </tbody>\n",
       "</table>\n"
      ],
      "text/plain": [
       "<pandas.io.formats.style.Styler at 0x1c64e70e150>"
      ]
     },
     "metadata": {},
     "output_type": "display_data"
    },
    {
     "data": {
      "text/html": [],
      "text/plain": [
       "<IPython.core.display.HTML object>"
      ]
     },
     "metadata": {},
     "output_type": "display_data"
    },
    {
     "data": {
      "text/html": [
       "<style type=\"text/css\">\n",
       "</style>\n",
       "<table id=\"T_4edd9\">\n",
       "  <thead>\n",
       "    <tr>\n",
       "      <th class=\"blank level0\" >&nbsp;</th>\n",
       "      <th id=\"T_4edd9_level0_col0\" class=\"col_heading level0 col0\" >Model</th>\n",
       "      <th id=\"T_4edd9_level0_col1\" class=\"col_heading level0 col1\" >Accuracy</th>\n",
       "      <th id=\"T_4edd9_level0_col2\" class=\"col_heading level0 col2\" >AUC</th>\n",
       "      <th id=\"T_4edd9_level0_col3\" class=\"col_heading level0 col3\" >Recall</th>\n",
       "      <th id=\"T_4edd9_level0_col4\" class=\"col_heading level0 col4\" >Prec.</th>\n",
       "      <th id=\"T_4edd9_level0_col5\" class=\"col_heading level0 col5\" >F1</th>\n",
       "      <th id=\"T_4edd9_level0_col6\" class=\"col_heading level0 col6\" >Kappa</th>\n",
       "      <th id=\"T_4edd9_level0_col7\" class=\"col_heading level0 col7\" >MCC</th>\n",
       "    </tr>\n",
       "  </thead>\n",
       "  <tbody>\n",
       "    <tr>\n",
       "      <th id=\"T_4edd9_level0_row0\" class=\"row_heading level0 row0\" >0</th>\n",
       "      <td id=\"T_4edd9_row0_col0\" class=\"data row0 col0\" >Random Forest Classifier</td>\n",
       "      <td id=\"T_4edd9_row0_col1\" class=\"data row0 col1\" >0.9962</td>\n",
       "      <td id=\"T_4edd9_row0_col2\" class=\"data row0 col2\" >0.9967</td>\n",
       "      <td id=\"T_4edd9_row0_col3\" class=\"data row0 col3\" >0.9806</td>\n",
       "      <td id=\"T_4edd9_row0_col4\" class=\"data row0 col4\" >1.0000</td>\n",
       "      <td id=\"T_4edd9_row0_col5\" class=\"data row0 col5\" >0.9902</td>\n",
       "      <td id=\"T_4edd9_row0_col6\" class=\"data row0 col6\" >0.9878</td>\n",
       "      <td id=\"T_4edd9_row0_col7\" class=\"data row0 col7\" >0.9879</td>\n",
       "    </tr>\n",
       "  </tbody>\n",
       "</table>\n"
      ],
      "text/plain": [
       "<pandas.io.formats.style.Styler at 0x1c639d18750>"
      ]
     },
     "metadata": {},
     "output_type": "display_data"
    },
    {
     "data": {
      "text/html": [],
      "text/plain": [
       "<IPython.core.display.HTML object>"
      ]
     },
     "metadata": {},
     "output_type": "display_data"
    },
    {
     "data": {
      "image/png": "[encoded data removed]",
      "text/plain": [
       "<Figure size 800x550 with 1 Axes>"
      ]
     },
     "metadata": {},
     "output_type": "display_data"
    }
   ],
   "source": [
    "import pandas as pd\n",
    "from pycaret.classification import *\n",
    "\n",
    "from http.server import SimpleHTTPRequestHandler, HTTPServer\n",
    "from urllib import request, error\n",
    "import urllib.parse\n",
    "import sys\n",
    "\n",
    "badWords=['sleep','drop','uid','select','waitfor','delay','system','union','group by','order by']\n",
    "def extractFeatures(path_enc):\n",
    "    path=urllib.parse.unquote(path_enc)\n",
    "    badWords_count=0\n",
    "    single_q=path.count(\"'\")\n",
    "    double_q=path.count(\"\\\"\")\n",
    "    dashes=path.count(\"--\")\n",
    "    braces=path.count(\"(\")\n",
    "    spaces=path.count(\" \")\n",
    "    for word in badWords:\n",
    "        badWords_count+=path.count(word)\n",
    "    data_list=[single_q,double_q,dashes,braces,spaces,badWords_count]\n",
    "    print(data_list)\n",
    "    return pd.DataFrame([data_list],columns=['single_q','double_q','dashes','braces','spaces','badWords'])\n",
    "\n",
    "data=pd.read_csv(r'C:\\Master\\An1\\sem2\\Cyber Security\\Project\\ClasificationDataset\\ClasificationDataset.csv')\n",
    "#data=pd.read_excel('C:\\Master\\An1\\sem2\\Cyber Security\\Project\\Dataset\\Dataset.xlsx')\n",
    "classifier1=setup(data=data,normalize=True,numeric_features=[\"single_q\",\"double_q\",\"dashes\",\"braces\",\"spaces\",\"badWords\"],target='type',ignore_features=['method','path','body'])\n",
    "\n",
    "classifier_firewall=compare_models()\n",
    "#plot_model(cluster_firewall)\n",
    "#plot_model(cluster_firewall, plot='cluster')\n",
    "\n",
    "#save_model(classifier_firewall,'firewall_classifierModel')\n",
    "\n",
    "\n",
    "predictions=predict_model(classifier_firewall,data=data)\n",
    "predictions.head()\n",
    "\n",
    "plot_model(classifier_firewall,'confusion_matrix')\n",
    "\n",
    "predictions.to_csv('C:\\Master\\An1\\sem2\\Cyber Security\\Project\\ClasificationDataset\\Clasification_result.csv')\n"
   ]
  },
  {
   "cell_type": "code",
   "execution_count": 9,
   "id": "86f43eb9-ff12-4494-b044-69886f0060a1",
   "metadata": {},
   "outputs": [
    {
     "name": "stdout",
     "output_type": "stream",
     "text": [
      "Transformation Pipeline and Model Successfully Saved\n"
     ]
    },
    {
     "data": {
      "text/plain": [
       "(Pipeline(memory=Memory(location=None),\n",
       "          steps=[('numerical_imputer',\n",
       "                  TransformerWrapper(exclude=None,\n",
       "                                     include=['single_q', 'double_q', 'dashes',\n",
       "                                              'braces', 'spaces', 'badWords'],\n",
       "                                     transformer=SimpleImputer(add_indicator=False,\n",
       "                                                               copy=True,\n",
       "                                                               fill_value=None,\n",
       "                                                               keep_empty_features=False,\n",
       "                                                               missing_values=nan,\n",
       "                                                               strategy='mean'))),\n",
       "                 ('categorical_imputer',\n",
       "                  TransformerWrapper(excl...\n",
       "                                     transformer=StandardScaler(copy=True,\n",
       "                                                                with_mean=True,\n",
       "                                                                with_std=True))),\n",
       "                 ('trained_model',\n",
       "                  DecisionTreeClassifier(ccp_alpha=0.0, class_weight=None,\n",
       "                                         criterion='gini', max_depth=None,\n",
       "                                         max_features=None, max_leaf_nodes=None,\n",
       "                                         min_impurity_decrease=0.0,\n",
       "                                         min_samples_leaf=1, min_samples_split=2,\n",
       "                                         min_weight_fraction_leaf=0.0,\n",
       "                                         monotonic_cst=None, random_state=5882,\n",
       "                                         splitter='best'))],\n",
       "          verbose=False),\n",
       " 'firewall_classifierModel.pkl')"
      ]
     },
     "execution_count": 9,
     "metadata": {},
     "output_type": "execute_result"
    }
   ],
   "source": [
    "save_model(classifier_firewall,'firewall_classifierModel')"
   ]
  },
  {
   "cell_type": "code",
   "execution_count": 5,
   "id": "d3dcdbc8-89b8-41c2-a442-8298da361552",
   "metadata": {
    "scrolled": true
   },
   "outputs": [
    {
     "name": "stdout",
     "output_type": "stream",
     "text": [
      "Transformation Pipeline and Model Successfully Loaded\n",
      "Listening on http://127.0.0.1:8080\n",
      "['http:', '', 'detectportal.firefox.com', 'canonical.html']\n",
      "[0, 0, 0, 0, 0, 0]\n"
     ]
    },
    {
     "data": {
      "text/html": [],
      "text/plain": [
       "<IPython.core.display.HTML object>"
      ]
     },
     "metadata": {},
     "output_type": "display_data"
    },
    {
     "name": "stdout",
     "output_type": "stream",
     "text": [
      "   single_q  double_q  dashes  braces  spaces  badWords  prediction_label  \\\n",
      "0         0         0       0       0       0         0                 1   \n",
      "\n",
      "   prediction_score  \n",
      "0               1.0  \n",
      "['http:', '', 'detectportal.firefox.com', 'canonical.html']\n",
      "[0, 0, 0, 0, 0, 0]\n"
     ]
    },
    {
     "data": {
      "text/html": [],
      "text/plain": [
       "<IPython.core.display.HTML object>"
      ]
     },
     "metadata": {},
     "output_type": "display_data"
    },
    {
     "name": "stdout",
     "output_type": "stream",
     "text": [
      "   single_q  double_q  dashes  braces  spaces  badWords  prediction_label  \\\n",
      "0         0         0       0       0       0         0                 1   \n",
      "\n",
      "   prediction_score  \n",
      "0               1.0  \n",
      "['http:', '', 'detectportal.firefox.com', 'canonical.html']\n",
      "[0, 0, 0, 0, 0, 0]\n"
     ]
    },
    {
     "data": {
      "text/html": [],
      "text/plain": [
       "<IPython.core.display.HTML object>"
      ]
     },
     "metadata": {},
     "output_type": "display_data"
    },
    {
     "name": "stdout",
     "output_type": "stream",
     "text": [
      "   single_q  double_q  dashes  braces  spaces  badWords  prediction_label  \\\n",
      "0         0         0       0       0       0         0                 1   \n",
      "\n",
      "   prediction_score  \n",
      "0               1.0  \n",
      "['http:', '', 'demo.testfire.net', 'search.jsp?query=+AS+INJECTX+WHERE+1%3D1+AND+1%3D0']\n",
      "[0, 0, 0, 0, 0, 0]\n"
     ]
    },
    {
     "data": {
      "text/html": [],
      "text/plain": [
       "<IPython.core.display.HTML object>"
      ]
     },
     "metadata": {},
     "output_type": "display_data"
    },
    {
     "name": "stdout",
     "output_type": "stream",
     "text": [
      "   single_q  double_q  dashes  braces  spaces  badWords  prediction_label  \\\n",
      "0         0         0       0       0       0         0                 1   \n",
      "\n",
      "   prediction_score  \n",
      "0               1.0  \n",
      "['http:', '', 'detectportal.firefox.com', 'canonical.html']\n",
      "[0, 0, 0, 0, 0, 0]\n"
     ]
    },
    {
     "data": {
      "text/html": [],
      "text/plain": [
       "<IPython.core.display.HTML object>"
      ]
     },
     "metadata": {},
     "output_type": "display_data"
    },
    {
     "name": "stdout",
     "output_type": "stream",
     "text": [
      "   single_q  double_q  dashes  braces  spaces  badWords  prediction_label  \\\n",
      "0         0         0       0       0       0         0                 1   \n",
      "\n",
      "   prediction_score  \n",
      "0               1.0  \n",
      "['http:', '', 'detectportal.firefox.com', 'canonical.html']\n",
      "[0, 0, 0, 0, 0, 0]\n"
     ]
    },
    {
     "data": {
      "text/html": [],
      "text/plain": [
       "<IPython.core.display.HTML object>"
      ]
     },
     "metadata": {},
     "output_type": "display_data"
    },
    {
     "name": "stdout",
     "output_type": "stream",
     "text": [
      "   single_q  double_q  dashes  braces  spaces  badWords  prediction_label  \\\n",
      "0         0         0       0       0       0         0                 1   \n",
      "\n",
      "   prediction_score  \n",
      "0               1.0  \n",
      "['http:', '', 'detectportal.firefox.com', 'canonical.html']\n",
      "[0, 0, 0, 0, 0, 0]\n"
     ]
    },
    {
     "data": {
      "text/html": [],
      "text/plain": [
       "<IPython.core.display.HTML object>"
      ]
     },
     "metadata": {},
     "output_type": "display_data"
    },
    {
     "name": "stdout",
     "output_type": "stream",
     "text": [
      "   single_q  double_q  dashes  braces  spaces  badWords  prediction_label  \\\n",
      "0         0         0       0       0       0         0                 1   \n",
      "\n",
      "   prediction_score  \n",
      "0               1.0  \n",
      "['http:', '', 'detectportal.firefox.com', 'canonical.html']\n",
      "[0, 0, 0, 0, 0, 0]\n"
     ]
    },
    {
     "data": {
      "text/html": [],
      "text/plain": [
       "<IPython.core.display.HTML object>"
      ]
     },
     "metadata": {},
     "output_type": "display_data"
    },
    {
     "name": "stdout",
     "output_type": "stream",
     "text": [
      "   single_q  double_q  dashes  braces  spaces  badWords  prediction_label  \\\n",
      "0         0         0       0       0       0         0                 1   \n",
      "\n",
      "   prediction_score  \n",
      "0               1.0  \n",
      "['http:', '', 'detectportal.firefox.com', 'canonical.html']\n",
      "[0, 0, 0, 0, 0, 0]\n"
     ]
    },
    {
     "data": {
      "text/html": [],
      "text/plain": [
       "<IPython.core.display.HTML object>"
      ]
     },
     "metadata": {},
     "output_type": "display_data"
    },
    {
     "name": "stdout",
     "output_type": "stream",
     "text": [
      "   single_q  double_q  dashes  braces  spaces  badWords  prediction_label  \\\n",
      "0         0         0       0       0       0         0                 1   \n",
      "\n",
      "   prediction_score  \n",
      "0               1.0  \n",
      "['http:', '', 'detectportal.firefox.com', 'canonical.html']\n",
      "[0, 0, 0, 0, 0, 0]\n"
     ]
    },
    {
     "data": {
      "text/html": [],
      "text/plain": [
       "<IPython.core.display.HTML object>"
      ]
     },
     "metadata": {},
     "output_type": "display_data"
    },
    {
     "name": "stdout",
     "output_type": "stream",
     "text": [
      "   single_q  double_q  dashes  braces  spaces  badWords  prediction_label  \\\n",
      "0         0         0       0       0       0         0                 1   \n",
      "\n",
      "   prediction_score  \n",
      "0               1.0  \n",
      "['http:', '', 'detectportal.firefox.com', 'canonical.html']\n",
      "[0, 0, 0, 0, 0, 0]\n"
     ]
    },
    {
     "data": {
      "text/html": [],
      "text/plain": [
       "<IPython.core.display.HTML object>"
      ]
     },
     "metadata": {},
     "output_type": "display_data"
    },
    {
     "name": "stdout",
     "output_type": "stream",
     "text": [
      "   single_q  double_q  dashes  braces  spaces  badWords  prediction_label  \\\n",
      "0         0         0       0       0       0         0                 1   \n",
      "\n",
      "   prediction_score  \n",
      "0               1.0  \n",
      "['http:', '', 'demo.testfire.net', 'search.jsp?query=+ORDER+BY+1%2CSLEEP%285%29%2CBENCHMARK%281000000%2CMD5%28%27A%27%29%29%2C4%2C5%2C6%2C7%2C8%2C9%2C10%2C11%2C12%2C13%2C14%2C15%2C16']\n",
      "[2, 0, 0, 3, 0, 0]\n"
     ]
    },
    {
     "data": {
      "text/html": [],
      "text/plain": [
       "<IPython.core.display.HTML object>"
      ]
     },
     "metadata": {},
     "output_type": "display_data"
    },
    {
     "name": "stdout",
     "output_type": "stream",
     "text": [
      "   single_q  double_q  dashes  braces  spaces  badWords  prediction_label  \\\n",
      "0         2         0       0       3       0         0                 1   \n",
      "\n",
      "   prediction_score  \n",
      "0               1.0  \n",
      "['http:', '', 'detectportal.firefox.com', 'canonical.html']\n",
      "[0, 0, 0, 0, 0, 0]\n"
     ]
    },
    {
     "data": {
      "text/html": [],
      "text/plain": [
       "<IPython.core.display.HTML object>"
      ]
     },
     "metadata": {},
     "output_type": "display_data"
    },
    {
     "name": "stdout",
     "output_type": "stream",
     "text": [
      "   single_q  double_q  dashes  braces  spaces  badWords  prediction_label  \\\n",
      "0         0         0       0       0       0         0                 1   \n",
      "\n",
      "   prediction_score  \n",
      "0               1.0  \n",
      "['http:', '', 'detectportal.firefox.com', 'canonical.html']\n",
      "[0, 0, 0, 0, 0, 0]\n"
     ]
    },
    {
     "data": {
      "text/html": [],
      "text/plain": [
       "<IPython.core.display.HTML object>"
      ]
     },
     "metadata": {},
     "output_type": "display_data"
    },
    {
     "name": "stdout",
     "output_type": "stream",
     "text": [
      "   single_q  double_q  dashes  braces  spaces  badWords  prediction_label  \\\n",
      "0         0         0       0       0       0         0                 1   \n",
      "\n",
      "   prediction_score  \n",
      "0               1.0  \n",
      "['http:', '', 'detectportal.firefox.com', 'canonical.html']\n",
      "[0, 0, 0, 0, 0, 0]\n"
     ]
    },
    {
     "data": {
      "text/html": [],
      "text/plain": [
       "<IPython.core.display.HTML object>"
      ]
     },
     "metadata": {},
     "output_type": "display_data"
    },
    {
     "name": "stdout",
     "output_type": "stream",
     "text": [
      "   single_q  double_q  dashes  braces  spaces  badWords  prediction_label  \\\n",
      "0         0         0       0       0       0         0                 1   \n",
      "\n",
      "   prediction_score  \n",
      "0               1.0  \n",
      "['http:', '', 'detectportal.firefox.com', 'canonical.html']\n",
      "[0, 0, 0, 0, 0, 0]\n"
     ]
    },
    {
     "data": {
      "text/html": [],
      "text/plain": [
       "<IPython.core.display.HTML object>"
      ]
     },
     "metadata": {},
     "output_type": "display_data"
    },
    {
     "name": "stdout",
     "output_type": "stream",
     "text": [
      "   single_q  double_q  dashes  braces  spaces  badWords  prediction_label  \\\n",
      "0         0         0       0       0       0         0                 1   \n",
      "\n",
      "   prediction_score  \n",
      "0               1.0  \n",
      "['http:', '', 'detectportal.firefox.com', 'canonical.html']\n",
      "[0, 0, 0, 0, 0, 0]\n"
     ]
    },
    {
     "data": {
      "text/html": [],
      "text/plain": [
       "<IPython.core.display.HTML object>"
      ]
     },
     "metadata": {},
     "output_type": "display_data"
    },
    {
     "name": "stdout",
     "output_type": "stream",
     "text": [
      "   single_q  double_q  dashes  braces  spaces  badWords  prediction_label  \\\n",
      "0         0         0       0       0       0         0                 1   \n",
      "\n",
      "   prediction_score  \n",
      "0               1.0  \n",
      "['http:', '', 'detectportal.firefox.com', 'canonical.html']\n",
      "[0, 0, 0, 0, 0, 0]\n"
     ]
    },
    {
     "data": {
      "text/html": [],
      "text/plain": [
       "<IPython.core.display.HTML object>"
      ]
     },
     "metadata": {},
     "output_type": "display_data"
    },
    {
     "name": "stdout",
     "output_type": "stream",
     "text": [
      "   single_q  double_q  dashes  braces  spaces  badWords  prediction_label  \\\n",
      "0         0         0       0       0       0         0                 1   \n",
      "\n",
      "   prediction_score  \n",
      "0               1.0  \n",
      "['http:', '', 'demo.testfire.net', 'search.jsp?query=%22+or+%22%22+%22']\n",
      "[0, 4, 0, 0, 0, 0]\n"
     ]
    },
    {
     "data": {
      "text/html": [],
      "text/plain": [
       "<IPython.core.display.HTML object>"
      ]
     },
     "metadata": {},
     "output_type": "display_data"
    },
    {
     "name": "stdout",
     "output_type": "stream",
     "text": [
      "   single_q  double_q  dashes  braces  spaces  badWords  prediction_label  \\\n",
      "0         0         4       0       0       0         0                 0   \n",
      "\n",
      "   prediction_score  \n",
      "0               1.0  \n",
      "Malicious HTTP request\n",
      "['http:', '', 'detectportal.firefox.com', 'canonical.html']\n",
      "[0, 0, 0, 0, 0, 0]\n"
     ]
    },
    {
     "data": {
      "text/html": [],
      "text/plain": [
       "<IPython.core.display.HTML object>"
      ]
     },
     "metadata": {},
     "output_type": "display_data"
    },
    {
     "name": "stdout",
     "output_type": "stream",
     "text": [
      "   single_q  double_q  dashes  braces  spaces  badWords  prediction_label  \\\n",
      "0         0         0       0       0       0         0                 1   \n",
      "\n",
      "   prediction_score  \n",
      "0               1.0  \n",
      "['http:', '', 'detectportal.firefox.com', 'canonical.html']\n",
      "[0, 0, 0, 0, 0, 0]\n"
     ]
    },
    {
     "data": {
      "text/html": [],
      "text/plain": [
       "<IPython.core.display.HTML object>"
      ]
     },
     "metadata": {},
     "output_type": "display_data"
    },
    {
     "name": "stdout",
     "output_type": "stream",
     "text": [
      "   single_q  double_q  dashes  braces  spaces  badWords  prediction_label  \\\n",
      "0         0         0       0       0       0         0                 1   \n",
      "\n",
      "   prediction_score  \n",
      "0               1.0  \n",
      "['http:', '', 'demo.testfire.net', 'search.jsp?query=%22+or+%22%22+%22']\n",
      "[0, 4, 0, 0, 0, 0]\n"
     ]
    },
    {
     "data": {
      "text/html": [],
      "text/plain": [
       "<IPython.core.display.HTML object>"
      ]
     },
     "metadata": {},
     "output_type": "display_data"
    },
    {
     "name": "stdout",
     "output_type": "stream",
     "text": [
      "   single_q  double_q  dashes  braces  spaces  badWords  prediction_label  \\\n",
      "0         0         4       0       0       0         0                 0   \n",
      "\n",
      "   prediction_score  \n",
      "0               1.0  \n",
      "Malicious HTTP request\n",
      "['http:', '', 'detectportal.firefox.com', 'canonical.html']\n",
      "[0, 0, 0, 0, 0, 0]\n"
     ]
    },
    {
     "data": {
      "text/html": [],
      "text/plain": [
       "<IPython.core.display.HTML object>"
      ]
     },
     "metadata": {},
     "output_type": "display_data"
    },
    {
     "name": "stdout",
     "output_type": "stream",
     "text": [
      "   single_q  double_q  dashes  braces  spaces  badWords  prediction_label  \\\n",
      "0         0         0       0       0       0         0                 1   \n",
      "\n",
      "   prediction_score  \n",
      "0               1.0  \n",
      "['http:', '', 'detectportal.firefox.com', 'canonical.html']\n",
      "[0, 0, 0, 0, 0, 0]\n"
     ]
    },
    {
     "data": {
      "text/html": [],
      "text/plain": [
       "<IPython.core.display.HTML object>"
      ]
     },
     "metadata": {},
     "output_type": "display_data"
    },
    {
     "name": "stdout",
     "output_type": "stream",
     "text": [
      "   single_q  double_q  dashes  braces  spaces  badWords  prediction_label  \\\n",
      "0         0         0       0       0       0         0                 1   \n",
      "\n",
      "   prediction_score  \n",
      "0               1.0  \n",
      "['http:', '', 'detectportal.firefox.com', 'canonical.html']\n",
      "[0, 0, 0, 0, 0, 0]\n"
     ]
    },
    {
     "data": {
      "text/html": [],
      "text/plain": [
       "<IPython.core.display.HTML object>"
      ]
     },
     "metadata": {},
     "output_type": "display_data"
    },
    {
     "name": "stdout",
     "output_type": "stream",
     "text": [
      "   single_q  double_q  dashes  braces  spaces  badWords  prediction_label  \\\n",
      "0         0         0       0       0       0         0                 1   \n",
      "\n",
      "   prediction_score  \n",
      "0               1.0  \n",
      "['http:', '', 'detectportal.firefox.com', 'canonical.html']\n",
      "[0, 0, 0, 0, 0, 0]\n"
     ]
    },
    {
     "data": {
      "text/html": [],
      "text/plain": [
       "<IPython.core.display.HTML object>"
      ]
     },
     "metadata": {},
     "output_type": "display_data"
    },
    {
     "name": "stdout",
     "output_type": "stream",
     "text": [
      "   single_q  double_q  dashes  braces  spaces  badWords  prediction_label  \\\n",
      "0         0         0       0       0       0         0                 1   \n",
      "\n",
      "   prediction_score  \n",
      "0               1.0  \n",
      "['http:', '', 'demo.testfire.net', 'search.jsp?query=admin%27or+1%3D1+or+%27%27%3D%27']\n",
      "[4, 0, 0, 0, 0, 0]\n"
     ]
    },
    {
     "data": {
      "text/html": [],
      "text/plain": [
       "<IPython.core.display.HTML object>"
      ]
     },
     "metadata": {},
     "output_type": "display_data"
    },
    {
     "name": "stdout",
     "output_type": "stream",
     "text": [
      "   single_q  double_q  dashes  braces  spaces  badWords  prediction_label  \\\n",
      "0         4         0       0       0       0         0                 1   \n",
      "\n",
      "   prediction_score  \n",
      "0               1.0  \n",
      "['http:', '', 'detectportal.firefox.com', 'canonical.html']\n",
      "[0, 0, 0, 0, 0, 0]\n"
     ]
    },
    {
     "data": {
      "text/html": [],
      "text/plain": [
       "<IPython.core.display.HTML object>"
      ]
     },
     "metadata": {},
     "output_type": "display_data"
    },
    {
     "name": "stdout",
     "output_type": "stream",
     "text": [
      "   single_q  double_q  dashes  braces  spaces  badWords  prediction_label  \\\n",
      "0         0         0       0       0       0         0                 1   \n",
      "\n",
      "   prediction_score  \n",
      "0               1.0  \n",
      "['http:', '', 'detectportal.firefox.com', 'canonical.html']\n",
      "[0, 0, 0, 0, 0, 0]\n"
     ]
    },
    {
     "data": {
      "text/html": [],
      "text/plain": [
       "<IPython.core.display.HTML object>"
      ]
     },
     "metadata": {},
     "output_type": "display_data"
    },
    {
     "name": "stdout",
     "output_type": "stream",
     "text": [
      "   single_q  double_q  dashes  braces  spaces  badWords  prediction_label  \\\n",
      "0         0         0       0       0       0         0                 1   \n",
      "\n",
      "   prediction_score  \n",
      "0               1.0  \n",
      "['http:', '', 'detectportal.firefox.com', 'canonical.html']\n",
      "[0, 0, 0, 0, 0, 0]\n"
     ]
    },
    {
     "data": {
      "text/html": [],
      "text/plain": [
       "<IPython.core.display.HTML object>"
      ]
     },
     "metadata": {},
     "output_type": "display_data"
    },
    {
     "name": "stdout",
     "output_type": "stream",
     "text": [
      "   single_q  double_q  dashes  braces  spaces  badWords  prediction_label  \\\n",
      "0         0         0       0       0       0         0                 1   \n",
      "\n",
      "   prediction_score  \n",
      "0               1.0  \n",
      "['http:', '', 'demo.testfire.net', 'search.jsp?query=admin%27or+1%3D1+or+%27%27%3D%27']\n",
      "[4, 0, 0, 0, 0, 0]\n"
     ]
    },
    {
     "data": {
      "text/html": [],
      "text/plain": [
       "<IPython.core.display.HTML object>"
      ]
     },
     "metadata": {},
     "output_type": "display_data"
    },
    {
     "name": "stdout",
     "output_type": "stream",
     "text": [
      "   single_q  double_q  dashes  braces  spaces  badWords  prediction_label  \\\n",
      "0         4         0       0       0       0         0                 1   \n",
      "\n",
      "   prediction_score  \n",
      "0               1.0  \n",
      "['http:', '', 'detectportal.firefox.com', 'canonical.html']\n",
      "[0, 0, 0, 0, 0, 0]\n"
     ]
    },
    {
     "data": {
      "text/html": [],
      "text/plain": [
       "<IPython.core.display.HTML object>"
      ]
     },
     "metadata": {},
     "output_type": "display_data"
    },
    {
     "name": "stdout",
     "output_type": "stream",
     "text": [
      "   single_q  double_q  dashes  braces  spaces  badWords  prediction_label  \\\n",
      "0         0         0       0       0       0         0                 1   \n",
      "\n",
      "   prediction_score  \n",
      "0               1.0  \n",
      "['http:', '', 'detectportal.firefox.com', 'canonical.html']\n",
      "[0, 0, 0, 0, 0, 0]\n"
     ]
    },
    {
     "data": {
      "text/html": [],
      "text/plain": [
       "<IPython.core.display.HTML object>"
      ]
     },
     "metadata": {},
     "output_type": "display_data"
    },
    {
     "name": "stdout",
     "output_type": "stream",
     "text": [
      "   single_q  double_q  dashes  braces  spaces  badWords  prediction_label  \\\n",
      "0         0         0       0       0       0         0                 1   \n",
      "\n",
      "   prediction_score  \n",
      "0               1.0  \n",
      "['http:', '', 'demo.testfire.net', 'search.jsp?query=admin%27%29+or+%271%27%3D%271%27%23']\n",
      "[5, 0, 0, 0, 0, 0]\n"
     ]
    },
    {
     "data": {
      "text/html": [],
      "text/plain": [
       "<IPython.core.display.HTML object>"
      ]
     },
     "metadata": {},
     "output_type": "display_data"
    },
    {
     "name": "stdout",
     "output_type": "stream",
     "text": [
      "   single_q  double_q  dashes  braces  spaces  badWords  prediction_label  \\\n",
      "0         5         0       0       0       0         0                 1   \n",
      "\n",
      "   prediction_score  \n",
      "0               1.0  \n",
      "['http:', '', 'detectportal.firefox.com', 'canonical.html']\n",
      "[0, 0, 0, 0, 0, 0]\n"
     ]
    },
    {
     "data": {
      "text/html": [],
      "text/plain": [
       "<IPython.core.display.HTML object>"
      ]
     },
     "metadata": {},
     "output_type": "display_data"
    },
    {
     "name": "stdout",
     "output_type": "stream",
     "text": [
      "   single_q  double_q  dashes  braces  spaces  badWords  prediction_label  \\\n",
      "0         0         0       0       0       0         0                 1   \n",
      "\n",
      "   prediction_score  \n",
      "0               1.0  \n"
     ]
    },
    {
     "name": "stderr",
     "output_type": "stream",
     "text": [
      "127.0.0.1 - - [14/May/2024 15:03:56] code 501, message Unsupported method ('CONNECT')\n",
      "127.0.0.1 - - [14/May/2024 15:03:56] \"CONNECT safebrowsing.googleapis.com:443 HTTP/1.1\" 501 -\n"
     ]
    },
    {
     "name": "stdout",
     "output_type": "stream",
     "text": [
      "['http:', '', 'detectportal.firefox.com', 'canonical.html']\n",
      "[0, 0, 0, 0, 0, 0]\n"
     ]
    },
    {
     "data": {
      "text/html": [],
      "text/plain": [
       "<IPython.core.display.HTML object>"
      ]
     },
     "metadata": {},
     "output_type": "display_data"
    },
    {
     "name": "stdout",
     "output_type": "stream",
     "text": [
      "   single_q  double_q  dashes  braces  spaces  badWords  prediction_label  \\\n",
      "0         0         0       0       0       0         0                 1   \n",
      "\n",
      "   prediction_score  \n",
      "0               1.0  \n",
      "['http:', '', 'detectportal.firefox.com', 'canonical.html']\n",
      "[0, 0, 0, 0, 0, 0]\n"
     ]
    },
    {
     "data": {
      "text/html": [],
      "text/plain": [
       "<IPython.core.display.HTML object>"
      ]
     },
     "metadata": {},
     "output_type": "display_data"
    },
    {
     "name": "stdout",
     "output_type": "stream",
     "text": [
      "   single_q  double_q  dashes  braces  spaces  badWords  prediction_label  \\\n",
      "0         0         0       0       0       0         0                 1   \n",
      "\n",
      "   prediction_score  \n",
      "0               1.0  \n",
      "['http:', '', 'demo.testfire.net', 'search.jsp?query=1234+%27+AND+1%3D0+UNION+ALL+SELECT+%27admin%27%2C+%2781dc9bdb52d04dc20036dbd8313ed055']\n",
      "[4, 0, 0, 0, 0, 0]\n"
     ]
    },
    {
     "data": {
      "text/html": [],
      "text/plain": [
       "<IPython.core.display.HTML object>"
      ]
     },
     "metadata": {},
     "output_type": "display_data"
    },
    {
     "name": "stdout",
     "output_type": "stream",
     "text": [
      "   single_q  double_q  dashes  braces  spaces  badWords  prediction_label  \\\n",
      "0         4         0       0       0       0         0                 1   \n",
      "\n",
      "   prediction_score  \n",
      "0               1.0  \n",
      "['http:', '', 'detectportal.firefox.com', 'canonical.html']\n",
      "[0, 0, 0, 0, 0, 0]\n"
     ]
    },
    {
     "data": {
      "text/html": [],
      "text/plain": [
       "<IPython.core.display.HTML object>"
      ]
     },
     "metadata": {},
     "output_type": "display_data"
    },
    {
     "name": "stdout",
     "output_type": "stream",
     "text": [
      "   single_q  double_q  dashes  braces  spaces  badWords  prediction_label  \\\n",
      "0         0         0       0       0       0         0                 1   \n",
      "\n",
      "   prediction_score  \n",
      "0               1.0  \n",
      "['http:', '', 'detectportal.firefox.com', 'canonical.html']\n",
      "[0, 0, 0, 0, 0, 0]\n"
     ]
    },
    {
     "data": {
      "text/html": [],
      "text/plain": [
       "<IPython.core.display.HTML object>"
      ]
     },
     "metadata": {},
     "output_type": "display_data"
    },
    {
     "name": "stdout",
     "output_type": "stream",
     "text": [
      "   single_q  double_q  dashes  braces  spaces  badWords  prediction_label  \\\n",
      "0         0         0       0       0       0         0                 1   \n",
      "\n",
      "   prediction_score  \n",
      "0               1.0  \n",
      "['http:', '', 'detectportal.firefox.com', 'canonical.html']\n",
      "[0, 0, 0, 0, 0, 0]\n"
     ]
    },
    {
     "data": {
      "text/html": [],
      "text/plain": [
       "<IPython.core.display.HTML object>"
      ]
     },
     "metadata": {},
     "output_type": "display_data"
    },
    {
     "name": "stdout",
     "output_type": "stream",
     "text": [
      "   single_q  double_q  dashes  braces  spaces  badWords  prediction_label  \\\n",
      "0         0         0       0       0       0         0                 1   \n",
      "\n",
      "   prediction_score  \n",
      "0               1.0  \n",
      "['http:', '', 'demo.testfire.net', 'search.jsp?query=1234+%27+AND+1%3D0+UNION+ALL+SELECT+%27admin%27%2C+%27admin%22%29+or+%28%221%22%3D%221%22--']\n",
      "[4, 5, 1, 1, 0, 0]\n"
     ]
    },
    {
     "data": {
      "text/html": [],
      "text/plain": [
       "<IPython.core.display.HTML object>"
      ]
     },
     "metadata": {},
     "output_type": "display_data"
    },
    {
     "name": "stdout",
     "output_type": "stream",
     "text": [
      "   single_q  double_q  dashes  braces  spaces  badWords  prediction_label  \\\n",
      "0         4         5       1       1       0         0                 0   \n",
      "\n",
      "   prediction_score  \n",
      "0               1.0  \n",
      "Malicious HTTP request\n",
      "['http:', '', 'detectportal.firefox.com', 'canonical.html']\n",
      "[0, 0, 0, 0, 0, 0]\n"
     ]
    },
    {
     "data": {
      "text/html": [],
      "text/plain": [
       "<IPython.core.display.HTML object>"
      ]
     },
     "metadata": {},
     "output_type": "display_data"
    },
    {
     "name": "stdout",
     "output_type": "stream",
     "text": [
      "   single_q  double_q  dashes  braces  spaces  badWords  prediction_label  \\\n",
      "0         0         0       0       0       0         0                 1   \n",
      "\n",
      "   prediction_score  \n",
      "0               1.0  \n",
      "['http:', '', 'detectportal.firefox.com', 'canonical.html']\n",
      "[0, 0, 0, 0, 0, 0]\n"
     ]
    },
    {
     "data": {
      "text/html": [],
      "text/plain": [
       "<IPython.core.display.HTML object>"
      ]
     },
     "metadata": {},
     "output_type": "display_data"
    },
    {
     "name": "stdout",
     "output_type": "stream",
     "text": [
      "   single_q  double_q  dashes  braces  spaces  badWords  prediction_label  \\\n",
      "0         0         0       0       0       0         0                 1   \n",
      "\n",
      "   prediction_score  \n",
      "0               1.0  \n",
      "['http:', '', 'detectportal.firefox.com', 'canonical.html']\n",
      "[0, 0, 0, 0, 0, 0]\n"
     ]
    },
    {
     "data": {
      "text/html": [],
      "text/plain": [
       "<IPython.core.display.HTML object>"
      ]
     },
     "metadata": {},
     "output_type": "display_data"
    },
    {
     "name": "stdout",
     "output_type": "stream",
     "text": [
      "   single_q  double_q  dashes  braces  spaces  badWords  prediction_label  \\\n",
      "0         0         0       0       0       0         0                 1   \n",
      "\n",
      "   prediction_score  \n",
      "0               1.0  \n",
      "['http:', '', 'demo.testfire.net', 'search.jsp?query=admin%22%29+or+%221%22%3D%221%22%2F*']\n",
      "[0, 5, 0, 0, 0, 0]\n"
     ]
    },
    {
     "data": {
      "text/html": [],
      "text/plain": [
       "<IPython.core.display.HTML object>"
      ]
     },
     "metadata": {},
     "output_type": "display_data"
    },
    {
     "name": "stdout",
     "output_type": "stream",
     "text": [
      "   single_q  double_q  dashes  braces  spaces  badWords  prediction_label  \\\n",
      "0         0         5       0       0       0         0                 0   \n",
      "\n",
      "   prediction_score  \n",
      "0               1.0  \n",
      "Malicious HTTP request\n",
      "['http:', '', 'detectportal.firefox.com', 'canonical.html']\n",
      "[0, 0, 0, 0, 0, 0]\n"
     ]
    },
    {
     "data": {
      "text/html": [],
      "text/plain": [
       "<IPython.core.display.HTML object>"
      ]
     },
     "metadata": {},
     "output_type": "display_data"
    },
    {
     "name": "stdout",
     "output_type": "stream",
     "text": [
      "   single_q  double_q  dashes  braces  spaces  badWords  prediction_label  \\\n",
      "0         0         0       0       0       0         0                 1   \n",
      "\n",
      "   prediction_score  \n",
      "0               1.0  \n",
      "['http:', '', 'detectportal.firefox.com', 'canonical.html']\n",
      "[0, 0, 0, 0, 0, 0]\n"
     ]
    },
    {
     "data": {
      "text/html": [],
      "text/plain": [
       "<IPython.core.display.HTML object>"
      ]
     },
     "metadata": {},
     "output_type": "display_data"
    },
    {
     "name": "stdout",
     "output_type": "stream",
     "text": [
      "   single_q  double_q  dashes  braces  spaces  badWords  prediction_label  \\\n",
      "0         0         0       0       0       0         0                 1   \n",
      "\n",
      "   prediction_score  \n",
      "0               1.0  \n",
      "['http:', '', 'demo.testfire.net', 'search.jsp?query=1234+%22+AND+1%3D0+UNION+ALL+SELECT+%22admin%22%2C+%2281dc9bdb52d04dc20036dbd8313ed055']\n",
      "[0, 4, 0, 0, 0, 0]\n"
     ]
    },
    {
     "data": {
      "text/html": [],
      "text/plain": [
       "<IPython.core.display.HTML object>"
      ]
     },
     "metadata": {},
     "output_type": "display_data"
    },
    {
     "name": "stdout",
     "output_type": "stream",
     "text": [
      "   single_q  double_q  dashes  braces  spaces  badWords  prediction_label  \\\n",
      "0         0         4       0       0       0         0                 0   \n",
      "\n",
      "   prediction_score  \n",
      "0               1.0  \n",
      "Malicious HTTP request\n",
      "['http:', '', 'detectportal.firefox.com', 'canonical.html']\n",
      "[0, 0, 0, 0, 0, 0]\n"
     ]
    },
    {
     "data": {
      "text/html": [],
      "text/plain": [
       "<IPython.core.display.HTML object>"
      ]
     },
     "metadata": {},
     "output_type": "display_data"
    },
    {
     "name": "stdout",
     "output_type": "stream",
     "text": [
      "   single_q  double_q  dashes  braces  spaces  badWords  prediction_label  \\\n",
      "0         0         0       0       0       0         0                 1   \n",
      "\n",
      "   prediction_score  \n",
      "0               1.0  \n",
      "['http:', '', 'detectportal.firefox.com', 'canonical.html']\n",
      "[0, 0, 0, 0, 0, 0]\n"
     ]
    },
    {
     "data": {
      "text/html": [],
      "text/plain": [
       "<IPython.core.display.HTML object>"
      ]
     },
     "metadata": {},
     "output_type": "display_data"
    },
    {
     "name": "stdout",
     "output_type": "stream",
     "text": [
      "   single_q  double_q  dashes  braces  spaces  badWords  prediction_label  \\\n",
      "0         0         0       0       0       0         0                 1   \n",
      "\n",
      "   prediction_score  \n",
      "0               1.0  \n",
      "['http:', '', 'detectportal.firefox.com', 'canonical.html']\n",
      "[0, 0, 0, 0, 0, 0]\n"
     ]
    },
    {
     "data": {
      "text/html": [],
      "text/plain": [
       "<IPython.core.display.HTML object>"
      ]
     },
     "metadata": {},
     "output_type": "display_data"
    },
    {
     "name": "stdout",
     "output_type": "stream",
     "text": [
      "   single_q  double_q  dashes  braces  spaces  badWords  prediction_label  \\\n",
      "0         0         0       0       0       0         0                 1   \n",
      "\n",
      "   prediction_score  \n",
      "0               1.0  \n",
      "['http:', '', 'demo.testfire.net', 'search.jsp?query=admin%22+or+%221%22%3D%221']\n",
      "[0, 4, 0, 0, 0, 0]\n"
     ]
    },
    {
     "data": {
      "text/html": [],
      "text/plain": [
       "<IPython.core.display.HTML object>"
      ]
     },
     "metadata": {},
     "output_type": "display_data"
    },
    {
     "name": "stdout",
     "output_type": "stream",
     "text": [
      "   single_q  double_q  dashes  braces  spaces  badWords  prediction_label  \\\n",
      "0         0         4       0       0       0         0                 0   \n",
      "\n",
      "   prediction_score  \n",
      "0               1.0  \n",
      "Malicious HTTP request\n",
      "['http:', '', 'detectportal.firefox.com', 'canonical.html']\n",
      "[0, 0, 0, 0, 0, 0]\n"
     ]
    },
    {
     "data": {
      "text/html": [],
      "text/plain": [
       "<IPython.core.display.HTML object>"
      ]
     },
     "metadata": {},
     "output_type": "display_data"
    },
    {
     "name": "stdout",
     "output_type": "stream",
     "text": [
      "   single_q  double_q  dashes  braces  spaces  badWords  prediction_label  \\\n",
      "0         0         0       0       0       0         0                 1   \n",
      "\n",
      "   prediction_score  \n",
      "0               1.0  \n",
      "['http:', '', 'demo.testfire.net', 'search.jsp?query=admin%27+or+1%3D1']\n",
      "[1, 0, 0, 0, 0, 0]\n"
     ]
    },
    {
     "data": {
      "text/html": [],
      "text/plain": [
       "<IPython.core.display.HTML object>"
      ]
     },
     "metadata": {},
     "output_type": "display_data"
    },
    {
     "name": "stdout",
     "output_type": "stream",
     "text": [
      "   single_q  double_q  dashes  braces  spaces  badWords  prediction_label  \\\n",
      "0         1         0       0       0       0         0                 1   \n",
      "\n",
      "   prediction_score  \n",
      "0               1.0  \n",
      "['http:', '', 'detectportal.firefox.com', 'canonical.html']\n",
      "[0, 0, 0, 0, 0, 0]\n"
     ]
    },
    {
     "data": {
      "text/html": [],
      "text/plain": [
       "<IPython.core.display.HTML object>"
      ]
     },
     "metadata": {},
     "output_type": "display_data"
    },
    {
     "name": "stdout",
     "output_type": "stream",
     "text": [
      "   single_q  double_q  dashes  braces  spaces  badWords  prediction_label  \\\n",
      "0         0         0       0       0       0         0                 1   \n",
      "\n",
      "   prediction_score  \n",
      "0               1.0  \n",
      "['http:', '', 'detectportal.firefox.com', 'canonical.html']\n",
      "[0, 0, 0, 0, 0, 0]\n"
     ]
    },
    {
     "data": {
      "text/html": [],
      "text/plain": [
       "<IPython.core.display.HTML object>"
      ]
     },
     "metadata": {},
     "output_type": "display_data"
    },
    {
     "name": "stdout",
     "output_type": "stream",
     "text": [
      "   single_q  double_q  dashes  braces  spaces  badWords  prediction_label  \\\n",
      "0         0         0       0       0       0         0                 1   \n",
      "\n",
      "   prediction_score  \n",
      "0               1.0  \n",
      "['http:', '', 'demo.testfire.net', 'search.jsp?query=admin%27+or+1%3D1']\n",
      "[1, 0, 0, 0, 0, 0]\n"
     ]
    },
    {
     "data": {
      "text/html": [],
      "text/plain": [
       "<IPython.core.display.HTML object>"
      ]
     },
     "metadata": {},
     "output_type": "display_data"
    },
    {
     "name": "stdout",
     "output_type": "stream",
     "text": [
      "   single_q  double_q  dashes  braces  spaces  badWords  prediction_label  \\\n",
      "0         1         0       0       0       0         0                 1   \n",
      "\n",
      "   prediction_score  \n",
      "0               1.0  \n",
      "['http:', '', 'detectportal.firefox.com', 'canonical.html']\n",
      "[0, 0, 0, 0, 0, 0]\n"
     ]
    },
    {
     "data": {
      "text/html": [],
      "text/plain": [
       "<IPython.core.display.HTML object>"
      ]
     },
     "metadata": {},
     "output_type": "display_data"
    },
    {
     "name": "stdout",
     "output_type": "stream",
     "text": [
      "   single_q  double_q  dashes  braces  spaces  badWords  prediction_label  \\\n",
      "0         0         0       0       0       0         0                 1   \n",
      "\n",
      "   prediction_score  \n",
      "0               1.0  \n",
      "['http:', '', 'detectportal.firefox.com', 'canonical.html']\n",
      "[0, 0, 0, 0, 0, 0]\n"
     ]
    },
    {
     "data": {
      "text/html": [],
      "text/plain": [
       "<IPython.core.display.HTML object>"
      ]
     },
     "metadata": {},
     "output_type": "display_data"
    },
    {
     "name": "stdout",
     "output_type": "stream",
     "text": [
      "   single_q  double_q  dashes  braces  spaces  badWords  prediction_label  \\\n",
      "0         0         0       0       0       0         0                 1   \n",
      "\n",
      "   prediction_score  \n",
      "0               1.0  \n",
      "['http:', '', 'demo.testfire.net', 'search.jsp?query=or+1%3D1%2F*']\n",
      "[0, 0, 0, 0, 0, 0]\n"
     ]
    },
    {
     "data": {
      "text/html": [],
      "text/plain": [
       "<IPython.core.display.HTML object>"
      ]
     },
     "metadata": {},
     "output_type": "display_data"
    },
    {
     "name": "stdout",
     "output_type": "stream",
     "text": [
      "   single_q  double_q  dashes  braces  spaces  badWords  prediction_label  \\\n",
      "0         0         0       0       0       0         0                 1   \n",
      "\n",
      "   prediction_score  \n",
      "0               1.0  \n",
      "['http:', '', 'detectportal.firefox.com', 'canonical.html']\n",
      "[0, 0, 0, 0, 0, 0]\n"
     ]
    },
    {
     "data": {
      "text/html": [],
      "text/plain": [
       "<IPython.core.display.HTML object>"
      ]
     },
     "metadata": {},
     "output_type": "display_data"
    },
    {
     "name": "stdout",
     "output_type": "stream",
     "text": [
      "   single_q  double_q  dashes  braces  spaces  badWords  prediction_label  \\\n",
      "0         0         0       0       0       0         0                 1   \n",
      "\n",
      "   prediction_score  \n",
      "0               1.0  \n",
      "['http:', '', 'detectportal.firefox.com', 'canonical.html']\n",
      "[0, 0, 0, 0, 0, 0]\n"
     ]
    },
    {
     "data": {
      "text/html": [],
      "text/plain": [
       "<IPython.core.display.HTML object>"
      ]
     },
     "metadata": {},
     "output_type": "display_data"
    },
    {
     "name": "stdout",
     "output_type": "stream",
     "text": [
      "   single_q  double_q  dashes  braces  spaces  badWords  prediction_label  \\\n",
      "0         0         0       0       0       0         0                 1   \n",
      "\n",
      "   prediction_score  \n",
      "0               1.0  \n",
      "['http:', '', 'demo.testfire.net', 'search.jsp?query=or+1%3D1%2F*']\n",
      "[0, 0, 0, 0, 0, 0]\n"
     ]
    },
    {
     "data": {
      "text/html": [],
      "text/plain": [
       "<IPython.core.display.HTML object>"
      ]
     },
     "metadata": {},
     "output_type": "display_data"
    },
    {
     "name": "stdout",
     "output_type": "stream",
     "text": [
      "   single_q  double_q  dashes  braces  spaces  badWords  prediction_label  \\\n",
      "0         0         0       0       0       0         0                 1   \n",
      "\n",
      "   prediction_score  \n",
      "0               1.0  \n",
      "['http:', '', 'detectportal.firefox.com', 'canonical.html']\n",
      "[0, 0, 0, 0, 0, 0]\n"
     ]
    },
    {
     "data": {
      "text/html": [],
      "text/plain": [
       "<IPython.core.display.HTML object>"
      ]
     },
     "metadata": {},
     "output_type": "display_data"
    },
    {
     "name": "stdout",
     "output_type": "stream",
     "text": [
      "   single_q  double_q  dashes  braces  spaces  badWords  prediction_label  \\\n",
      "0         0         0       0       0       0         0                 1   \n",
      "\n",
      "   prediction_score  \n",
      "0               1.0  \n",
      "['http:', '', 'detectportal.firefox.com', 'canonical.html']\n",
      "[0, 0, 0, 0, 0, 0]\n"
     ]
    },
    {
     "data": {
      "text/html": [],
      "text/plain": [
       "<IPython.core.display.HTML object>"
      ]
     },
     "metadata": {},
     "output_type": "display_data"
    },
    {
     "name": "stdout",
     "output_type": "stream",
     "text": [
      "   single_q  double_q  dashes  braces  spaces  badWords  prediction_label  \\\n",
      "0         0         0       0       0       0         0                 1   \n",
      "\n",
      "   prediction_score  \n",
      "0               1.0  \n",
      "['http:', '', 'demo.testfire.net', 'search.jsp?query=%22%29%29+or+%28%28%22x%22%29%29%3D%28%28%22x']\n",
      "[0, 4, 0, 4, 0, 0]\n"
     ]
    },
    {
     "data": {
      "text/html": [],
      "text/plain": [
       "<IPython.core.display.HTML object>"
      ]
     },
     "metadata": {},
     "output_type": "display_data"
    },
    {
     "name": "stdout",
     "output_type": "stream",
     "text": [
      "   single_q  double_q  dashes  braces  spaces  badWords  prediction_label  \\\n",
      "0         0         4       0       4       0         0                 0   \n",
      "\n",
      "   prediction_score  \n",
      "0               1.0  \n",
      "Malicious HTTP request\n",
      "['http:', '', 'detectportal.firefox.com', 'canonical.html']\n",
      "[0, 0, 0, 0, 0, 0]\n"
     ]
    },
    {
     "data": {
      "text/html": [],
      "text/plain": [
       "<IPython.core.display.HTML object>"
      ]
     },
     "metadata": {},
     "output_type": "display_data"
    },
    {
     "name": "stdout",
     "output_type": "stream",
     "text": [
      "   single_q  double_q  dashes  braces  spaces  badWords  prediction_label  \\\n",
      "0         0         0       0       0       0         0                 1   \n",
      "\n",
      "   prediction_score  \n",
      "0               1.0  \n",
      "['http:', '', 'detectportal.firefox.com', 'canonical.html']\n",
      "[0, 0, 0, 0, 0, 0]\n"
     ]
    },
    {
     "data": {
      "text/html": [],
      "text/plain": [
       "<IPython.core.display.HTML object>"
      ]
     },
     "metadata": {},
     "output_type": "display_data"
    },
    {
     "name": "stdout",
     "output_type": "stream",
     "text": [
      "   single_q  double_q  dashes  braces  spaces  badWords  prediction_label  \\\n",
      "0         0         0       0       0       0         0                 1   \n",
      "\n",
      "   prediction_score  \n",
      "0               1.0  \n",
      "['http:', '', 'detectportal.firefox.com', 'canonical.html']\n",
      "[0, 0, 0, 0, 0, 0]\n"
     ]
    },
    {
     "data": {
      "text/html": [],
      "text/plain": [
       "<IPython.core.display.HTML object>"
      ]
     },
     "metadata": {},
     "output_type": "display_data"
    },
    {
     "name": "stdout",
     "output_type": "stream",
     "text": [
      "   single_q  double_q  dashes  braces  spaces  badWords  prediction_label  \\\n",
      "0         0         0       0       0       0         0                 1   \n",
      "\n",
      "   prediction_score  \n",
      "0               1.0  \n",
      "['http:', '', 'detectportal.firefox.com', 'canonical.html']\n",
      "[0, 0, 0, 0, 0, 0]\n"
     ]
    },
    {
     "data": {
      "text/html": [],
      "text/plain": [
       "<IPython.core.display.HTML object>"
      ]
     },
     "metadata": {},
     "output_type": "display_data"
    },
    {
     "name": "stdout",
     "output_type": "stream",
     "text": [
      "   single_q  double_q  dashes  braces  spaces  badWords  prediction_label  \\\n",
      "0         0         0       0       0       0         0                 1   \n",
      "\n",
      "   prediction_score  \n",
      "0               1.0  \n",
      "['http:', '', 'detectportal.firefox.com', 'canonical.html']\n",
      "[0, 0, 0, 0, 0, 0]\n"
     ]
    },
    {
     "data": {
      "text/html": [],
      "text/plain": [
       "<IPython.core.display.HTML object>"
      ]
     },
     "metadata": {},
     "output_type": "display_data"
    },
    {
     "name": "stdout",
     "output_type": "stream",
     "text": [
      "   single_q  double_q  dashes  braces  spaces  badWords  prediction_label  \\\n",
      "0         0         0       0       0       0         0                 1   \n",
      "\n",
      "   prediction_score  \n",
      "0               1.0  \n",
      "['http:', '', 'detectportal.firefox.com', 'canonical.html']\n",
      "[0, 0, 0, 0, 0, 0]\n"
     ]
    },
    {
     "data": {
      "text/html": [],
      "text/plain": [
       "<IPython.core.display.HTML object>"
      ]
     },
     "metadata": {},
     "output_type": "display_data"
    },
    {
     "name": "stdout",
     "output_type": "stream",
     "text": [
      "   single_q  double_q  dashes  braces  spaces  badWords  prediction_label  \\\n",
      "0         0         0       0       0       0         0                 1   \n",
      "\n",
      "   prediction_score  \n",
      "0               1.0  \n",
      "['http:', '', 'detectportal.firefox.com', 'canonical.html']\n",
      "[0, 0, 0, 0, 0, 0]\n"
     ]
    },
    {
     "data": {
      "text/html": [],
      "text/plain": [
       "<IPython.core.display.HTML object>"
      ]
     },
     "metadata": {},
     "output_type": "display_data"
    },
    {
     "name": "stdout",
     "output_type": "stream",
     "text": [
      "   single_q  double_q  dashes  braces  spaces  badWords  prediction_label  \\\n",
      "0         0         0       0       0       0         0                 1   \n",
      "\n",
      "   prediction_score  \n",
      "0               1.0  \n",
      "['http:', '', 'detectportal.firefox.com', 'canonical.html']\n",
      "[0, 0, 0, 0, 0, 0]\n"
     ]
    },
    {
     "data": {
      "text/html": [],
      "text/plain": [
       "<IPython.core.display.HTML object>"
      ]
     },
     "metadata": {},
     "output_type": "display_data"
    },
    {
     "name": "stdout",
     "output_type": "stream",
     "text": [
      "   single_q  double_q  dashes  braces  spaces  badWords  prediction_label  \\\n",
      "0         0         0       0       0       0         0                 1   \n",
      "\n",
      "   prediction_score  \n",
      "0               1.0  \n",
      "['http:', '', 'demo.testfire.net', 'search.jsp?query=%22+or+%22%22%26%22']\n",
      "[0, 4, 0, 0, 0, 0]\n"
     ]
    },
    {
     "data": {
      "text/html": [],
      "text/plain": [
       "<IPython.core.display.HTML object>"
      ]
     },
     "metadata": {},
     "output_type": "display_data"
    },
    {
     "name": "stdout",
     "output_type": "stream",
     "text": [
      "   single_q  double_q  dashes  braces  spaces  badWords  prediction_label  \\\n",
      "0         0         4       0       0       0         0                 0   \n",
      "\n",
      "   prediction_score  \n",
      "0               1.0  \n",
      "Malicious HTTP request\n",
      "['http:', '', 'detectportal.firefox.com', 'canonical.html']\n",
      "[0, 0, 0, 0, 0, 0]\n"
     ]
    },
    {
     "data": {
      "text/html": [],
      "text/plain": [
       "<IPython.core.display.HTML object>"
      ]
     },
     "metadata": {},
     "output_type": "display_data"
    },
    {
     "name": "stdout",
     "output_type": "stream",
     "text": [
      "   single_q  double_q  dashes  braces  spaces  badWords  prediction_label  \\\n",
      "0         0         0       0       0       0         0                 1   \n",
      "\n",
      "   prediction_score  \n",
      "0               1.0  \n",
      "['http:', '', 'detectportal.firefox.com', 'canonical.html']\n",
      "[0, 0, 0, 0, 0, 0]\n"
     ]
    },
    {
     "data": {
      "text/html": [],
      "text/plain": [
       "<IPython.core.display.HTML object>"
      ]
     },
     "metadata": {},
     "output_type": "display_data"
    },
    {
     "name": "stdout",
     "output_type": "stream",
     "text": [
      "   single_q  double_q  dashes  braces  spaces  badWords  prediction_label  \\\n",
      "0         0         0       0       0       0         0                 1   \n",
      "\n",
      "   prediction_score  \n",
      "0               1.0  \n",
      "['http:', '', 'detectportal.firefox.com', 'canonical.html']\n",
      "[0, 0, 0, 0, 0, 0]\n"
     ]
    },
    {
     "data": {
      "text/html": [],
      "text/plain": [
       "<IPython.core.display.HTML object>"
      ]
     },
     "metadata": {},
     "output_type": "display_data"
    },
    {
     "name": "stdout",
     "output_type": "stream",
     "text": [
      "   single_q  double_q  dashes  braces  spaces  badWords  prediction_label  \\\n",
      "0         0         0       0       0       0         0                 1   \n",
      "\n",
      "   prediction_score  \n",
      "0               1.0  \n",
      "['http:', '', 'detectportal.firefox.com', 'canonical.html']\n",
      "[0, 0, 0, 0, 0, 0]\n"
     ]
    },
    {
     "data": {
      "text/html": [],
      "text/plain": [
       "<IPython.core.display.HTML object>"
      ]
     },
     "metadata": {},
     "output_type": "display_data"
    },
    {
     "name": "stdout",
     "output_type": "stream",
     "text": [
      "   single_q  double_q  dashes  braces  spaces  badWords  prediction_label  \\\n",
      "0         0         0       0       0       0         0                 1   \n",
      "\n",
      "   prediction_score  \n",
      "0               1.0  \n",
      "['http:', '', 'detectportal.firefox.com', 'canonical.html']\n",
      "[0, 0, 0, 0, 0, 0]\n"
     ]
    },
    {
     "data": {
      "text/html": [],
      "text/plain": [
       "<IPython.core.display.HTML object>"
      ]
     },
     "metadata": {},
     "output_type": "display_data"
    },
    {
     "name": "stdout",
     "output_type": "stream",
     "text": [
      "   single_q  double_q  dashes  braces  spaces  badWords  prediction_label  \\\n",
      "0         0         0       0       0       0         0                 1   \n",
      "\n",
      "   prediction_score  \n",
      "0               1.0  \n",
      "['http:', '', 'demo.testfire.net', 'search.jsp?query=%22%26%22']\n",
      "[0, 2, 0, 0, 0, 0]\n"
     ]
    },
    {
     "data": {
      "text/html": [],
      "text/plain": [
       "<IPython.core.display.HTML object>"
      ]
     },
     "metadata": {},
     "output_type": "display_data"
    },
    {
     "name": "stdout",
     "output_type": "stream",
     "text": [
      "   single_q  double_q  dashes  braces  spaces  badWords  prediction_label  \\\n",
      "0         0         2       0       0       0         0                 0   \n",
      "\n",
      "   prediction_score  \n",
      "0               1.0  \n",
      "Malicious HTTP request\n",
      "['http:', '', 'detectportal.firefox.com', 'canonical.html']\n",
      "[0, 0, 0, 0, 0, 0]\n"
     ]
    },
    {
     "data": {
      "text/html": [],
      "text/plain": [
       "<IPython.core.display.HTML object>"
      ]
     },
     "metadata": {},
     "output_type": "display_data"
    },
    {
     "name": "stdout",
     "output_type": "stream",
     "text": [
      "   single_q  double_q  dashes  braces  spaces  badWords  prediction_label  \\\n",
      "0         0         0       0       0       0         0                 1   \n",
      "\n",
      "   prediction_score  \n",
      "0               1.0  \n",
      "['http:', '', 'detectportal.firefox.com', 'canonical.html']\n",
      "[0, 0, 0, 0, 0, 0]\n"
     ]
    },
    {
     "data": {
      "text/html": [],
      "text/plain": [
       "<IPython.core.display.HTML object>"
      ]
     },
     "metadata": {},
     "output_type": "display_data"
    },
    {
     "name": "stdout",
     "output_type": "stream",
     "text": [
      "   single_q  double_q  dashes  braces  spaces  badWords  prediction_label  \\\n",
      "0         0         0       0       0       0         0                 1   \n",
      "\n",
      "   prediction_score  \n",
      "0               1.0  \n",
      "['http:', '', 'detectportal.firefox.com', 'canonical.html']\n",
      "[0, 0, 0, 0, 0, 0]\n"
     ]
    },
    {
     "data": {
      "text/html": [],
      "text/plain": [
       "<IPython.core.display.HTML object>"
      ]
     },
     "metadata": {},
     "output_type": "display_data"
    },
    {
     "name": "stdout",
     "output_type": "stream",
     "text": [
      "   single_q  double_q  dashes  braces  spaces  badWords  prediction_label  \\\n",
      "0         0         0       0       0       0         0                 1   \n",
      "\n",
      "   prediction_score  \n",
      "0               1.0  \n",
      "['http:', '', 'detectportal.firefox.com', 'canonical.html']\n",
      "[0, 0, 0, 0, 0, 0]\n"
     ]
    },
    {
     "data": {
      "text/html": [],
      "text/plain": [
       "<IPython.core.display.HTML object>"
      ]
     },
     "metadata": {},
     "output_type": "display_data"
    },
    {
     "name": "stdout",
     "output_type": "stream",
     "text": [
      "   single_q  double_q  dashes  braces  spaces  badWords  prediction_label  \\\n",
      "0         0         0       0       0       0         0                 1   \n",
      "\n",
      "   prediction_score  \n",
      "0               1.0  \n",
      "['http:', '', 'demo.testfire.net', 'search.jsp?query=%27+or+%27%27%26%27']\n",
      "[4, 0, 0, 0, 0, 0]\n"
     ]
    },
    {
     "data": {
      "text/html": [],
      "text/plain": [
       "<IPython.core.display.HTML object>"
      ]
     },
     "metadata": {},
     "output_type": "display_data"
    },
    {
     "name": "stdout",
     "output_type": "stream",
     "text": [
      "   single_q  double_q  dashes  braces  spaces  badWords  prediction_label  \\\n",
      "0         4         0       0       0       0         0                 1   \n",
      "\n",
      "   prediction_score  \n",
      "0               1.0  \n",
      "['http:', '', 'detectportal.firefox.com', 'canonical.html']\n",
      "[0, 0, 0, 0, 0, 0]\n"
     ]
    },
    {
     "data": {
      "text/html": [],
      "text/plain": [
       "<IPython.core.display.HTML object>"
      ]
     },
     "metadata": {},
     "output_type": "display_data"
    },
    {
     "name": "stdout",
     "output_type": "stream",
     "text": [
      "   single_q  double_q  dashes  braces  spaces  badWords  prediction_label  \\\n",
      "0         0         0       0       0       0         0                 1   \n",
      "\n",
      "   prediction_score  \n",
      "0               1.0  \n",
      "['http:', '', 'detectportal.firefox.com', 'canonical.html']\n",
      "[0, 0, 0, 0, 0, 0]\n"
     ]
    },
    {
     "data": {
      "text/html": [],
      "text/plain": [
       "<IPython.core.display.HTML object>"
      ]
     },
     "metadata": {},
     "output_type": "display_data"
    },
    {
     "name": "stdout",
     "output_type": "stream",
     "text": [
      "   single_q  double_q  dashes  braces  spaces  badWords  prediction_label  \\\n",
      "0         0         0       0       0       0         0                 1   \n",
      "\n",
      "   prediction_score  \n",
      "0               1.0  \n",
      "['http:', '', 'detectportal.firefox.com', 'canonical.html']\n",
      "[0, 0, 0, 0, 0, 0]\n"
     ]
    },
    {
     "data": {
      "text/html": [],
      "text/plain": [
       "<IPython.core.display.HTML object>"
      ]
     },
     "metadata": {},
     "output_type": "display_data"
    },
    {
     "name": "stdout",
     "output_type": "stream",
     "text": [
      "   single_q  double_q  dashes  braces  spaces  badWords  prediction_label  \\\n",
      "0         0         0       0       0       0         0                 1   \n",
      "\n",
      "   prediction_score  \n",
      "0               1.0  \n",
      "['http:', '', 'demo.testfire.net', 'search.jsp?query=+UNION+ALL+SELECT+%27INJ%27%7C%7C%27ECT%27%7C%7C%27XXX%27%2C2%2C3%2C4%2C5%2C6%2C7%2C8%2C9%2C10%2C11%2C12%2C13%2C14%2C15%2C16%2C17%2C18%2C19%2C20%2C21%2C22%2C23%2C24%2C25%23']\n",
      "[6, 0, 0, 0, 0, 0]\n"
     ]
    },
    {
     "data": {
      "text/html": [],
      "text/plain": [
       "<IPython.core.display.HTML object>"
      ]
     },
     "metadata": {},
     "output_type": "display_data"
    },
    {
     "name": "stdout",
     "output_type": "stream",
     "text": [
      "   single_q  double_q  dashes  braces  spaces  badWords  prediction_label  \\\n",
      "0         6         0       0       0       0         0                 1   \n",
      "\n",
      "   prediction_score  \n",
      "0               1.0  \n",
      "['http:', '', 'detectportal.firefox.com', 'canonical.html']\n",
      "[0, 0, 0, 0, 0, 0]\n"
     ]
    },
    {
     "data": {
      "text/html": [],
      "text/plain": [
       "<IPython.core.display.HTML object>"
      ]
     },
     "metadata": {},
     "output_type": "display_data"
    },
    {
     "name": "stdout",
     "output_type": "stream",
     "text": [
      "   single_q  double_q  dashes  braces  spaces  badWords  prediction_label  \\\n",
      "0         0         0       0       0       0         0                 1   \n",
      "\n",
      "   prediction_score  \n",
      "0               1.0  \n",
      "['http:', '', 'detectportal.firefox.com', 'canonical.html']\n",
      "[0, 0, 0, 0, 0, 0]\n"
     ]
    },
    {
     "data": {
      "text/html": [],
      "text/plain": [
       "<IPython.core.display.HTML object>"
      ]
     },
     "metadata": {},
     "output_type": "display_data"
    },
    {
     "name": "stdout",
     "output_type": "stream",
     "text": [
      "   single_q  double_q  dashes  braces  spaces  badWords  prediction_label  \\\n",
      "0         0         0       0       0       0         0                 1   \n",
      "\n",
      "   prediction_score  \n",
      "0               1.0  \n",
      "['http:', '', 'detectportal.firefox.com', 'canonical.html']\n",
      "[0, 0, 0, 0, 0, 0]\n"
     ]
    },
    {
     "data": {
      "text/html": [],
      "text/plain": [
       "<IPython.core.display.HTML object>"
      ]
     },
     "metadata": {},
     "output_type": "display_data"
    },
    {
     "name": "stdout",
     "output_type": "stream",
     "text": [
      "   single_q  double_q  dashes  braces  spaces  badWords  prediction_label  \\\n",
      "0         0         0       0       0       0         0                 1   \n",
      "\n",
      "   prediction_score  \n",
      "0               1.0  \n",
      "['http:', '', 'demo.testfire.net', 'search.jsp?query=+UNION+ALL+SELECT+%27INJ%27%7C%7C%27ECT%27%7C%7C%27XXX%27%2C2%2C3%2C4%2C5%2C6%2C7%2C8%2C9%2C10%2C11%2C12%2C13%2C14%2C15%2C16%2C17%2C18%2C19%2C20%2C21%2C22%23']\n",
      "[6, 0, 0, 0, 0, 0]\n"
     ]
    },
    {
     "data": {
      "text/html": [],
      "text/plain": [
       "<IPython.core.display.HTML object>"
      ]
     },
     "metadata": {},
     "output_type": "display_data"
    },
    {
     "name": "stdout",
     "output_type": "stream",
     "text": [
      "   single_q  double_q  dashes  braces  spaces  badWords  prediction_label  \\\n",
      "0         6         0       0       0       0         0                 1   \n",
      "\n",
      "   prediction_score  \n",
      "0               1.0  \n",
      "['http:', '', 'detectportal.firefox.com', 'canonical.html']\n",
      "[0, 0, 0, 0, 0, 0]\n"
     ]
    },
    {
     "data": {
      "text/html": [],
      "text/plain": [
       "<IPython.core.display.HTML object>"
      ]
     },
     "metadata": {},
     "output_type": "display_data"
    },
    {
     "name": "stdout",
     "output_type": "stream",
     "text": [
      "   single_q  double_q  dashes  braces  spaces  badWords  prediction_label  \\\n",
      "0         0         0       0       0       0         0                 1   \n",
      "\n",
      "   prediction_score  \n",
      "0               1.0  \n",
      "['http:', '', 'detectportal.firefox.com', 'canonical.html']\n",
      "[0, 0, 0, 0, 0, 0]\n"
     ]
    },
    {
     "data": {
      "text/html": [],
      "text/plain": [
       "<IPython.core.display.HTML object>"
      ]
     },
     "metadata": {},
     "output_type": "display_data"
    },
    {
     "name": "stdout",
     "output_type": "stream",
     "text": [
      "   single_q  double_q  dashes  braces  spaces  badWords  prediction_label  \\\n",
      "0         0         0       0       0       0         0                 1   \n",
      "\n",
      "   prediction_score  \n",
      "0               1.0  \n",
      "['http:', '', 'detectportal.firefox.com', 'canonical.html']\n",
      "[0, 0, 0, 0, 0, 0]\n"
     ]
    },
    {
     "data": {
      "text/html": [],
      "text/plain": [
       "<IPython.core.display.HTML object>"
      ]
     },
     "metadata": {},
     "output_type": "display_data"
    },
    {
     "name": "stdout",
     "output_type": "stream",
     "text": [
      "   single_q  double_q  dashes  braces  spaces  badWords  prediction_label  \\\n",
      "0         0         0       0       0       0         0                 1   \n",
      "\n",
      "   prediction_score  \n",
      "0               1.0  \n",
      "['http:', '', 'detectportal.firefox.com', 'canonical.html']\n",
      "[0, 0, 0, 0, 0, 0]\n"
     ]
    },
    {
     "data": {
      "text/html": [],
      "text/plain": [
       "<IPython.core.display.HTML object>"
      ]
     },
     "metadata": {},
     "output_type": "display_data"
    },
    {
     "name": "stdout",
     "output_type": "stream",
     "text": [
      "   single_q  double_q  dashes  braces  spaces  badWords  prediction_label  \\\n",
      "0         0         0       0       0       0         0                 1   \n",
      "\n",
      "   prediction_score  \n",
      "0               1.0  \n",
      "['http:', '', 'detectportal.firefox.com', 'canonical.html']\n",
      "[0, 0, 0, 0, 0, 0]\n"
     ]
    },
    {
     "data": {
      "text/html": [],
      "text/plain": [
       "<IPython.core.display.HTML object>"
      ]
     },
     "metadata": {},
     "output_type": "display_data"
    },
    {
     "name": "stdout",
     "output_type": "stream",
     "text": [
      "   single_q  double_q  dashes  braces  spaces  badWords  prediction_label  \\\n",
      "0         0         0       0       0       0         0                 1   \n",
      "\n",
      "   prediction_score  \n",
      "0               1.0  \n",
      "['http:', '', 'demo.testfire.net', 'search.jsp?query=%27%26%27']\n",
      "[2, 0, 0, 0, 0, 0]\n"
     ]
    },
    {
     "data": {
      "text/html": [],
      "text/plain": [
       "<IPython.core.display.HTML object>"
      ]
     },
     "metadata": {},
     "output_type": "display_data"
    },
    {
     "name": "stdout",
     "output_type": "stream",
     "text": [
      "   single_q  double_q  dashes  braces  spaces  badWords  prediction_label  \\\n",
      "0         2         0       0       0       0         0                 1   \n",
      "\n",
      "   prediction_score  \n",
      "0               1.0  \n",
      "['http:', '', 'detectportal.firefox.com', 'canonical.html']\n",
      "[0, 0, 0, 0, 0, 0]\n"
     ]
    },
    {
     "data": {
      "text/html": [],
      "text/plain": [
       "<IPython.core.display.HTML object>"
      ]
     },
     "metadata": {},
     "output_type": "display_data"
    },
    {
     "name": "stdout",
     "output_type": "stream",
     "text": [
      "   single_q  double_q  dashes  braces  spaces  badWords  prediction_label  \\\n",
      "0         0         0       0       0       0         0                 1   \n",
      "\n",
      "   prediction_score  \n",
      "0               1.0  \n",
      "['http:', '', 'demo.testfire.net', 'search.jsp?query=%27%26%27']\n",
      "[2, 0, 0, 0, 0, 0]\n"
     ]
    },
    {
     "data": {
      "text/html": [],
      "text/plain": [
       "<IPython.core.display.HTML object>"
      ]
     },
     "metadata": {},
     "output_type": "display_data"
    },
    {
     "name": "stdout",
     "output_type": "stream",
     "text": [
      "   single_q  double_q  dashes  braces  spaces  badWords  prediction_label  \\\n",
      "0         2         0       0       0       0         0                 1   \n",
      "\n",
      "   prediction_score  \n",
      "0               1.0  \n",
      "['http:', '', 'detectportal.firefox.com', 'canonical.html']\n",
      "[0, 0, 0, 0, 0, 0]\n"
     ]
    },
    {
     "data": {
      "text/html": [],
      "text/plain": [
       "<IPython.core.display.HTML object>"
      ]
     },
     "metadata": {},
     "output_type": "display_data"
    },
    {
     "name": "stdout",
     "output_type": "stream",
     "text": [
      "   single_q  double_q  dashes  braces  spaces  badWords  prediction_label  \\\n",
      "0         0         0       0       0       0         0                 1   \n",
      "\n",
      "   prediction_score  \n",
      "0               1.0  \n",
      "['http:', '', 'detectportal.firefox.com', 'canonical.html']\n",
      "[0, 0, 0, 0, 0, 0]\n"
     ]
    },
    {
     "data": {
      "text/html": [],
      "text/plain": [
       "<IPython.core.display.HTML object>"
      ]
     },
     "metadata": {},
     "output_type": "display_data"
    },
    {
     "name": "stdout",
     "output_type": "stream",
     "text": [
      "   single_q  double_q  dashes  braces  spaces  badWords  prediction_label  \\\n",
      "0         0         0       0       0       0         0                 1   \n",
      "\n",
      "   prediction_score  \n",
      "0               1.0  \n"
     ]
    },
    {
     "name": "stderr",
     "output_type": "stream",
     "text": [
      "127.0.0.1 - - [14/May/2024 15:06:49] code 501, message Unsupported method ('CONNECT')\n",
      "127.0.0.1 - - [14/May/2024 15:06:49] \"CONNECT spocs.getpocket.com:443 HTTP/1.1\" 501 -\n"
     ]
    },
    {
     "name": "stdout",
     "output_type": "stream",
     "text": [
      "['http:', '', 'detectportal.firefox.com', 'canonical.html']\n",
      "[0, 0, 0, 0, 0, 0]\n"
     ]
    },
    {
     "data": {
      "text/html": [],
      "text/plain": [
       "<IPython.core.display.HTML object>"
      ]
     },
     "metadata": {},
     "output_type": "display_data"
    },
    {
     "name": "stdout",
     "output_type": "stream",
     "text": [
      "   single_q  double_q  dashes  braces  spaces  badWords  prediction_label  \\\n",
      "0         0         0       0       0       0         0                 1   \n",
      "\n",
      "   prediction_score  \n",
      "0               1.0  \n",
      "['http:', '', 'detectportal.firefox.com', 'canonical.html']\n",
      "[0, 0, 0, 0, 0, 0]\n"
     ]
    },
    {
     "data": {
      "text/html": [],
      "text/plain": [
       "<IPython.core.display.HTML object>"
      ]
     },
     "metadata": {},
     "output_type": "display_data"
    },
    {
     "name": "stdout",
     "output_type": "stream",
     "text": [
      "   single_q  double_q  dashes  braces  spaces  badWords  prediction_label  \\\n",
      "0         0         0       0       0       0         0                 1   \n",
      "\n",
      "   prediction_score  \n",
      "0               1.0  \n",
      "['http:', '', 'detectportal.firefox.com', 'canonical.html']\n",
      "[0, 0, 0, 0, 0, 0]\n"
     ]
    },
    {
     "data": {
      "text/html": [],
      "text/plain": [
       "<IPython.core.display.HTML object>"
      ]
     },
     "metadata": {},
     "output_type": "display_data"
    },
    {
     "name": "stdout",
     "output_type": "stream",
     "text": [
      "   single_q  double_q  dashes  braces  spaces  badWords  prediction_label  \\\n",
      "0         0         0       0       0       0         0                 1   \n",
      "\n",
      "   prediction_score  \n",
      "0               1.0  \n",
      "['http:', '', 'detectportal.firefox.com', 'canonical.html']\n",
      "[0, 0, 0, 0, 0, 0]\n"
     ]
    },
    {
     "data": {
      "text/html": [],
      "text/plain": [
       "<IPython.core.display.HTML object>"
      ]
     },
     "metadata": {},
     "output_type": "display_data"
    },
    {
     "name": "stdout",
     "output_type": "stream",
     "text": [
      "   single_q  double_q  dashes  braces  spaces  badWords  prediction_label  \\\n",
      "0         0         0       0       0       0         0                 1   \n",
      "\n",
      "   prediction_score  \n",
      "0               1.0  \n",
      "['http:', '', 'demo.testfire.net', 'search.jsp?query=waitfor+delay+%2700%3A00%3A05%27--']\n",
      "[2, 0, 1, 0, 0, 2]\n"
     ]
    },
    {
     "data": {
      "text/html": [],
      "text/plain": [
       "<IPython.core.display.HTML object>"
      ]
     },
     "metadata": {},
     "output_type": "display_data"
    },
    {
     "name": "stdout",
     "output_type": "stream",
     "text": [
      "   single_q  double_q  dashes  braces  spaces  badWords  prediction_label  \\\n",
      "0         2         0       1       0       0         2                 0   \n",
      "\n",
      "   prediction_score  \n",
      "0               1.0  \n",
      "Malicious HTTP request\n",
      "['http:', '', 'detectportal.firefox.com', 'canonical.html']\n",
      "[0, 0, 0, 0, 0, 0]\n"
     ]
    },
    {
     "data": {
      "text/html": [],
      "text/plain": [
       "<IPython.core.display.HTML object>"
      ]
     },
     "metadata": {},
     "output_type": "display_data"
    },
    {
     "name": "stdout",
     "output_type": "stream",
     "text": [
      "   single_q  double_q  dashes  braces  spaces  badWords  prediction_label  \\\n",
      "0         0         0       0       0       0         0                 1   \n",
      "\n",
      "   prediction_score  \n",
      "0               1.0  \n",
      "['http:', '', 'detectportal.firefox.com', 'canonical.html']\n",
      "[0, 0, 0, 0, 0, 0]\n"
     ]
    },
    {
     "data": {
      "text/html": [],
      "text/plain": [
       "<IPython.core.display.HTML object>"
      ]
     },
     "metadata": {},
     "output_type": "display_data"
    },
    {
     "name": "stdout",
     "output_type": "stream",
     "text": [
      "   single_q  double_q  dashes  braces  spaces  badWords  prediction_label  \\\n",
      "0         0         0       0       0       0         0                 1   \n",
      "\n",
      "   prediction_score  \n",
      "0               1.0  \n",
      "['http:', '', 'detectportal.firefox.com', 'canonical.html']\n",
      "[0, 0, 0, 0, 0, 0]\n"
     ]
    },
    {
     "data": {
      "text/html": [],
      "text/plain": [
       "<IPython.core.display.HTML object>"
      ]
     },
     "metadata": {},
     "output_type": "display_data"
    },
    {
     "name": "stdout",
     "output_type": "stream",
     "text": [
      "   single_q  double_q  dashes  braces  spaces  badWords  prediction_label  \\\n",
      "0         0         0       0       0       0         0                 1   \n",
      "\n",
      "   prediction_score  \n",
      "0               1.0  \n",
      "['http:', '', 'detectportal.firefox.com', 'canonical.html']\n",
      "[0, 0, 0, 0, 0, 0]\n"
     ]
    },
    {
     "data": {
      "text/html": [],
      "text/plain": [
       "<IPython.core.display.HTML object>"
      ]
     },
     "metadata": {},
     "output_type": "display_data"
    },
    {
     "name": "stdout",
     "output_type": "stream",
     "text": [
      "   single_q  double_q  dashes  braces  spaces  badWords  prediction_label  \\\n",
      "0         0         0       0       0       0         0                 1   \n",
      "\n",
      "   prediction_score  \n",
      "0               1.0  \n",
      "['http:', '', 'demo.testfire.net', 'search.jsp?query=benchmark%2850000000%2CMD5%281%29%29%23']\n",
      "[0, 0, 0, 2, 0, 0]\n"
     ]
    },
    {
     "data": {
      "text/html": [],
      "text/plain": [
       "<IPython.core.display.HTML object>"
      ]
     },
     "metadata": {},
     "output_type": "display_data"
    },
    {
     "name": "stdout",
     "output_type": "stream",
     "text": [
      "   single_q  double_q  dashes  braces  spaces  badWords  prediction_label  \\\n",
      "0         0         0       0       2       0         0                 1   \n",
      "\n",
      "   prediction_score  \n",
      "0               1.0  \n",
      "['http:', '', 'detectportal.firefox.com', 'canonical.html']\n",
      "[0, 0, 0, 0, 0, 0]\n"
     ]
    },
    {
     "data": {
      "text/html": [],
      "text/plain": [
       "<IPython.core.display.HTML object>"
      ]
     },
     "metadata": {},
     "output_type": "display_data"
    },
    {
     "name": "stdout",
     "output_type": "stream",
     "text": [
      "   single_q  double_q  dashes  braces  spaces  badWords  prediction_label  \\\n",
      "0         0         0       0       0       0         0                 1   \n",
      "\n",
      "   prediction_score  \n",
      "0               1.0  \n",
      "['http:', '', 'detectportal.firefox.com', 'canonical.html']\n",
      "[0, 0, 0, 0, 0, 0]\n"
     ]
    },
    {
     "data": {
      "text/html": [],
      "text/plain": [
       "<IPython.core.display.HTML object>"
      ]
     },
     "metadata": {},
     "output_type": "display_data"
    },
    {
     "name": "stdout",
     "output_type": "stream",
     "text": [
      "   single_q  double_q  dashes  braces  spaces  badWords  prediction_label  \\\n",
      "0         0         0       0       0       0         0                 1   \n",
      "\n",
      "   prediction_score  \n",
      "0               1.0  \n",
      "['http:', '', 'detectportal.firefox.com', 'canonical.html']\n",
      "[0, 0, 0, 0, 0, 0]\n"
     ]
    },
    {
     "data": {
      "text/html": [],
      "text/plain": [
       "<IPython.core.display.HTML object>"
      ]
     },
     "metadata": {},
     "output_type": "display_data"
    },
    {
     "name": "stdout",
     "output_type": "stream",
     "text": [
      "   single_q  double_q  dashes  braces  spaces  badWords  prediction_label  \\\n",
      "0         0         0       0       0       0         0                 1   \n",
      "\n",
      "   prediction_score  \n",
      "0               1.0  \n",
      "['http:', '', 'detectportal.firefox.com', 'canonical.html']\n",
      "[0, 0, 0, 0, 0, 0]\n"
     ]
    },
    {
     "data": {
      "text/html": [],
      "text/plain": [
       "<IPython.core.display.HTML object>"
      ]
     },
     "metadata": {},
     "output_type": "display_data"
    },
    {
     "name": "stdout",
     "output_type": "stream",
     "text": [
      "   single_q  double_q  dashes  braces  spaces  badWords  prediction_label  \\\n",
      "0         0         0       0       0       0         0                 1   \n",
      "\n",
      "   prediction_score  \n",
      "0               1.0  \n",
      "['http:', '', 'demo.testfire.net', 'search.jsp?query=%28SELECT+*+FROM+%28SELECT%28SLEEP%285%29%29%29ecMj%29']\n",
      "[0, 0, 0, 4, 0, 0]\n"
     ]
    },
    {
     "data": {
      "text/html": [],
      "text/plain": [
       "<IPython.core.display.HTML object>"
      ]
     },
     "metadata": {},
     "output_type": "display_data"
    },
    {
     "name": "stdout",
     "output_type": "stream",
     "text": [
      "   single_q  double_q  dashes  braces  spaces  badWords  prediction_label  \\\n",
      "0         0         0       0       4       0         0                 1   \n",
      "\n",
      "   prediction_score  \n",
      "0               1.0  \n",
      "['http:', '', 'detectportal.firefox.com', 'canonical.html']\n",
      "[0, 0, 0, 0, 0, 0]\n"
     ]
    },
    {
     "data": {
      "text/html": [],
      "text/plain": [
       "<IPython.core.display.HTML object>"
      ]
     },
     "metadata": {},
     "output_type": "display_data"
    },
    {
     "name": "stdout",
     "output_type": "stream",
     "text": [
      "   single_q  double_q  dashes  braces  spaces  badWords  prediction_label  \\\n",
      "0         0         0       0       0       0         0                 1   \n",
      "\n",
      "   prediction_score  \n",
      "0               1.0  \n",
      "['http:', '', 'detectportal.firefox.com', 'canonical.html']\n",
      "[0, 0, 0, 0, 0, 0]\n"
     ]
    },
    {
     "data": {
      "text/html": [],
      "text/plain": [
       "<IPython.core.display.HTML object>"
      ]
     },
     "metadata": {},
     "output_type": "display_data"
    },
    {
     "name": "stdout",
     "output_type": "stream",
     "text": [
      "   single_q  double_q  dashes  braces  spaces  badWords  prediction_label  \\\n",
      "0         0         0       0       0       0         0                 1   \n",
      "\n",
      "   prediction_score  \n",
      "0               1.0  \n",
      "['http:', '', 'demo.testfire.net', 'search.jsp?query=%2Bbenchmark%283200%2CSHA1%281%29%29%2B%27']\n",
      "[1, 0, 0, 2, 0, 0]\n"
     ]
    },
    {
     "data": {
      "text/html": [],
      "text/plain": [
       "<IPython.core.display.HTML object>"
      ]
     },
     "metadata": {},
     "output_type": "display_data"
    },
    {
     "name": "stdout",
     "output_type": "stream",
     "text": [
      "   single_q  double_q  dashes  braces  spaces  badWords  prediction_label  \\\n",
      "0         1         0       0       2       0         0                 1   \n",
      "\n",
      "   prediction_score  \n",
      "0               1.0  \n",
      "['http:', '', 'detectportal.firefox.com', 'canonical.html']\n",
      "[0, 0, 0, 0, 0, 0]\n"
     ]
    },
    {
     "data": {
      "text/html": [],
      "text/plain": [
       "<IPython.core.display.HTML object>"
      ]
     },
     "metadata": {},
     "output_type": "display_data"
    },
    {
     "name": "stdout",
     "output_type": "stream",
     "text": [
      "   single_q  double_q  dashes  braces  spaces  badWords  prediction_label  \\\n",
      "0         0         0       0       0       0         0                 1   \n",
      "\n",
      "   prediction_score  \n",
      "0               1.0  \n",
      "['http:', '', 'detectportal.firefox.com', 'canonical.html']\n",
      "[0, 0, 0, 0, 0, 0]\n"
     ]
    },
    {
     "data": {
      "text/html": [],
      "text/plain": [
       "<IPython.core.display.HTML object>"
      ]
     },
     "metadata": {},
     "output_type": "display_data"
    },
    {
     "name": "stdout",
     "output_type": "stream",
     "text": [
      "   single_q  double_q  dashes  braces  spaces  badWords  prediction_label  \\\n",
      "0         0         0       0       0       0         0                 1   \n",
      "\n",
      "   prediction_score  \n",
      "0               1.0  \n",
      "['http:', '', 'detectportal.firefox.com', 'canonical.html']\n",
      "[0, 0, 0, 0, 0, 0]\n"
     ]
    },
    {
     "data": {
      "text/html": [],
      "text/plain": [
       "<IPython.core.display.HTML object>"
      ]
     },
     "metadata": {},
     "output_type": "display_data"
    },
    {
     "name": "stdout",
     "output_type": "stream",
     "text": [
      "   single_q  double_q  dashes  braces  spaces  badWords  prediction_label  \\\n",
      "0         0         0       0       0       0         0                 1   \n",
      "\n",
      "   prediction_score  \n",
      "0               1.0  \n",
      "['http:', '', 'demo.testfire.net', 'search.jsp?query=AND+%28SELECT+*+FROM+%28SELECT%28SLEEP%285%29%29%29nQIP%29--']\n",
      "[0, 0, 1, 4, 0, 0]\n"
     ]
    },
    {
     "data": {
      "text/html": [],
      "text/plain": [
       "<IPython.core.display.HTML object>"
      ]
     },
     "metadata": {},
     "output_type": "display_data"
    },
    {
     "name": "stdout",
     "output_type": "stream",
     "text": [
      "   single_q  double_q  dashes  braces  spaces  badWords  prediction_label  \\\n",
      "0         0         0       1       4       0         0                 1   \n",
      "\n",
      "   prediction_score  \n",
      "0               1.0  \n",
      "['http:', '', 'detectportal.firefox.com', 'canonical.html']\n",
      "[0, 0, 0, 0, 0, 0]\n"
     ]
    },
    {
     "data": {
      "text/html": [],
      "text/plain": [
       "<IPython.core.display.HTML object>"
      ]
     },
     "metadata": {},
     "output_type": "display_data"
    },
    {
     "name": "stdout",
     "output_type": "stream",
     "text": [
      "   single_q  double_q  dashes  braces  spaces  badWords  prediction_label  \\\n",
      "0         0         0       0       0       0         0                 1   \n",
      "\n",
      "   prediction_score  \n",
      "0               1.0  \n",
      "['http:', '', 'detectportal.firefox.com', 'canonical.html']\n",
      "[0, 0, 0, 0, 0, 0]\n"
     ]
    },
    {
     "data": {
      "text/html": [],
      "text/plain": [
       "<IPython.core.display.HTML object>"
      ]
     },
     "metadata": {},
     "output_type": "display_data"
    },
    {
     "name": "stdout",
     "output_type": "stream",
     "text": [
      "   single_q  double_q  dashes  braces  spaces  badWords  prediction_label  \\\n",
      "0         0         0       0       0       0         0                 1   \n",
      "\n",
      "   prediction_score  \n",
      "0               1.0  \n",
      "['http:', '', 'demo.testfire.net', 'search.jsp?query=AND+%28SELECT+*+FROM+%28SELECT%28SLEEP%285%29%29%29nQIP%29--']\n",
      "[0, 0, 1, 4, 0, 0]\n"
     ]
    },
    {
     "data": {
      "text/html": [],
      "text/plain": [
       "<IPython.core.display.HTML object>"
      ]
     },
     "metadata": {},
     "output_type": "display_data"
    },
    {
     "name": "stdout",
     "output_type": "stream",
     "text": [
      "   single_q  double_q  dashes  braces  spaces  badWords  prediction_label  \\\n",
      "0         0         0       1       4       0         0                 1   \n",
      "\n",
      "   prediction_score  \n",
      "0               1.0  \n",
      "['http:', '', 'detectportal.firefox.com', 'canonical.html']\n",
      "[0, 0, 0, 0, 0, 0]\n"
     ]
    },
    {
     "data": {
      "text/html": [],
      "text/plain": [
       "<IPython.core.display.HTML object>"
      ]
     },
     "metadata": {},
     "output_type": "display_data"
    },
    {
     "name": "stdout",
     "output_type": "stream",
     "text": [
      "   single_q  double_q  dashes  braces  spaces  badWords  prediction_label  \\\n",
      "0         0         0       0       0       0         0                 1   \n",
      "\n",
      "   prediction_score  \n",
      "0               1.0  \n",
      "['http:', '', 'detectportal.firefox.com', 'canonical.html']\n",
      "[0, 0, 0, 0, 0, 0]\n"
     ]
    },
    {
     "data": {
      "text/html": [],
      "text/plain": [
       "<IPython.core.display.HTML object>"
      ]
     },
     "metadata": {},
     "output_type": "display_data"
    },
    {
     "name": "stdout",
     "output_type": "stream",
     "text": [
      "   single_q  double_q  dashes  braces  spaces  badWords  prediction_label  \\\n",
      "0         0         0       0       0       0         0                 1   \n",
      "\n",
      "   prediction_score  \n",
      "0               1.0  \n",
      "['http:', '', 'demo.testfire.net', 'search.jsp?query=%22%29%3Bwaitfor+delay+%270%3A0%3A5%27--']\n",
      "[2, 1, 1, 0, 0, 2]\n"
     ]
    },
    {
     "data": {
      "text/html": [],
      "text/plain": [
       "<IPython.core.display.HTML object>"
      ]
     },
     "metadata": {},
     "output_type": "display_data"
    },
    {
     "name": "stdout",
     "output_type": "stream",
     "text": [
      "   single_q  double_q  dashes  braces  spaces  badWords  prediction_label  \\\n",
      "0         2         1       1       0       0         2                 0   \n",
      "\n",
      "   prediction_score  \n",
      "0               1.0  \n",
      "Malicious HTTP request\n",
      "['http:', '', 'detectportal.firefox.com', 'canonical.html']\n",
      "[0, 0, 0, 0, 0, 0]\n"
     ]
    },
    {
     "data": {
      "text/html": [],
      "text/plain": [
       "<IPython.core.display.HTML object>"
      ]
     },
     "metadata": {},
     "output_type": "display_data"
    },
    {
     "name": "stdout",
     "output_type": "stream",
     "text": [
      "   single_q  double_q  dashes  braces  spaces  badWords  prediction_label  \\\n",
      "0         0         0       0       0       0         0                 1   \n",
      "\n",
      "   prediction_score  \n",
      "0               1.0  \n",
      "['http:', '', 'detectportal.firefox.com', 'canonical.html']\n",
      "[0, 0, 0, 0, 0, 0]\n"
     ]
    },
    {
     "data": {
      "text/html": [],
      "text/plain": [
       "<IPython.core.display.HTML object>"
      ]
     },
     "metadata": {},
     "output_type": "display_data"
    },
    {
     "name": "stdout",
     "output_type": "stream",
     "text": [
      "   single_q  double_q  dashes  braces  spaces  badWords  prediction_label  \\\n",
      "0         0         0       0       0       0         0                 1   \n",
      "\n",
      "   prediction_score  \n",
      "0               1.0  \n",
      "['http:', '', 'detectportal.firefox.com', 'canonical.html']\n",
      "[0, 0, 0, 0, 0, 0]\n"
     ]
    },
    {
     "data": {
      "text/html": [],
      "text/plain": [
       "<IPython.core.display.HTML object>"
      ]
     },
     "metadata": {},
     "output_type": "display_data"
    },
    {
     "name": "stdout",
     "output_type": "stream",
     "text": [
      "   single_q  double_q  dashes  braces  spaces  badWords  prediction_label  \\\n",
      "0         0         0       0       0       0         0                 1   \n",
      "\n",
      "   prediction_score  \n",
      "0               1.0  \n",
      "['http:', '', 'detectportal.firefox.com', 'canonical.html']\n",
      "[0, 0, 0, 0, 0, 0]\n"
     ]
    },
    {
     "data": {
      "text/html": [],
      "text/plain": [
       "<IPython.core.display.HTML object>"
      ]
     },
     "metadata": {},
     "output_type": "display_data"
    },
    {
     "name": "stdout",
     "output_type": "stream",
     "text": [
      "   single_q  double_q  dashes  braces  spaces  badWords  prediction_label  \\\n",
      "0         0         0       0       0       0         0                 1   \n",
      "\n",
      "   prediction_score  \n",
      "0               1.0  \n",
      "Proxy was stopped by KeyboardInterrupt\n"
     ]
    }
   ],
   "source": [
    "classifier_firewall=load_model('firewall_classifierModel')\n",
    "class MyHTTPProxy(SimpleHTTPRequestHandler):\n",
    "    proxy_routes={}\n",
    "\n",
    "    @classmethod\n",
    "    def set_routes(cls,proxy_routes):\n",
    "        cls.proxy_routes=proxy_routes\n",
    "\n",
    "    def do_GET(self):\n",
    "        parts=self.path.split('/')\n",
    "        print(parts)\n",
    "        live_data=extractFeatures(parts[3])\n",
    "        result=predict_model(classifier_firewall,data=live_data)\n",
    "        print(result)\n",
    "        if result['prediction_label'][0]==0:\n",
    "            print(\"Malicious HTTP request\")\n",
    "        if len(parts)>=2:\n",
    "            self.proxy_request(\"http://\"+parts[2]+\"/\")\n",
    "        else:\n",
    "            super().do_GET()\n",
    "\n",
    "    def proxy_request(self,url):\n",
    "        try:\n",
    "            response=request.urlopen(url)\n",
    "        except error.HTTPError as err:\n",
    "            print('error')\n",
    "            self.send_response_only(err.code)\n",
    "            self.end_headers()\n",
    "            return\n",
    "        self.send_response_only(response.status)\n",
    "        for name, value in response.headers.items():\n",
    "            self.send_header(name, value)\n",
    "        self.end_headers()\n",
    "        self.copyfile(response,self.wfile)\n",
    "\n",
    "MyHTTPProxy.set_routes({'proxy_route':'http://demo.testfire.net/'})\n",
    "with HTTPServer(('127.0.0.1',8080),MyHTTPProxy) as httpd:\n",
    "    host, port=httpd.socket.getsockname()\n",
    "    print(f'Listening on http://{host}:{port}')\n",
    "    try:\n",
    "        httpd.serve_forever()\n",
    "    except KeyboardInterrupt:\n",
    "        print('Proxy was stopped by KeyboardInterrupt')\n",
    "        \n",
    "            \n",
    "            "
   ]
  },
  {
   "cell_type": "code",
   "execution_count": null,
   "id": "ff962066-e373-4355-b635-21a0ff6aed52",
   "metadata": {},
   "outputs": [],
   "source": []
  }
 ],
 "metadata": {
  "kernelspec": {
   "display_name": "Python 3 (ipykernel)",
   "language": "python",
   "name": "python3"
  },
  "language_info": {
   "codemirror_mode": {
    "name": "ipython",
    "version": 3
   },
   "file_extension": ".py",
   "mimetype": "text/x-python",
   "name": "python",
   "nbconvert_exporter": "python",
   "pygments_lexer": "ipython3",
   "version": "3.11.7"
  }
 },
 "nbformat": 4,
 "nbformat_minor": 5
}
