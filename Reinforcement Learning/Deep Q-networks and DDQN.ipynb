{
  "cells": [
    {
      "cell_type": "markdown",
      "metadata": {
        "id": "-Vt1BBXGZ8d1"
      },
      "source": [
        "# Deep Q-Networks\n",
        "\n",
        "## Lab policy\n",
        "\n",
        "- This lab is a mandatory part of the \"Reinforcement Learning\" course.\n",
        "The solution is graded from 0 to 10.\n",
        "The average of the Python labs counts for 50% of the final grade.\n",
        "\n",
        "- This lab is to be solved **individually**.\n",
        "\n",
        "- The solution consists of a copy of this notebook, containing your implementations and algorithm analysis.\n",
        "It will be sent by email to florin.gogianu@gmail.com.\n",
        "\n",
        "- The deadline for submitting the solution is **January 23, 2025, by 23:59**.\n",
        "Late submission is accepted, but the maximum grade is reduced by half: 5 points.\n",
        "The time required to complete the lab depends on experience with Python programming, but part of the work will need to be done at home.\n",
        "It is strongly recommended that you do not wait until right before the deadline to finish the solution.\n",
        "\n",
        "- Discussion of ideas between groups is encouraged, but reusing code or reports (even partially) is not allowed. **Violation of this rule (copying) will result in immediate loss of the right to take the exam**.\n",
        "\n",
        "- A discussion session will be organized and will include detailed technical questions related to your implementation."
      ]
    },
    {
      "cell_type": "code",
      "execution_count": null,
      "metadata": {
        "execution": {
          "iopub.execute_input": "2025-01-14T07:26:05.089507Z",
          "iopub.status.busy": "2025-01-14T07:26:05.089253Z",
          "iopub.status.idle": "2025-01-14T07:26:05.094517Z",
          "shell.execute_reply": "2025-01-14T07:26:05.093389Z",
          "shell.execute_reply.started": "2025-01-14T07:26:05.089478Z"
        },
        "id": "bV3FLjS9RCSW",
        "colab": {
          "base_uri": "https://localhost:8080/"
        },
        "outputId": "56db6001-1dc6-4035-c29d-206000eb93e2"
      },
      "outputs": [
        {
          "output_type": "stream",
          "name": "stdout",
          "text": [
            "Collecting minatar\n",
            "  Downloading MinAtar-1.0.15-py3-none-any.whl.metadata (685 bytes)\n",
            "Requirement already satisfied: cycler>=0.10.0 in /usr/local/lib/python3.10/dist-packages (from minatar) (0.12.1)\n",
            "Requirement already satisfied: kiwisolver>=1.0.1 in /usr/local/lib/python3.10/dist-packages (from minatar) (1.4.7)\n",
            "Requirement already satisfied: matplotlib>=3.0.3 in /usr/local/lib/python3.10/dist-packages (from minatar) (3.8.0)\n",
            "Requirement already satisfied: numpy>=1.16.2 in /usr/local/lib/python3.10/dist-packages (from minatar) (1.26.4)\n",
            "Requirement already satisfied: pandas>=0.24.2 in /usr/local/lib/python3.10/dist-packages (from minatar) (2.2.2)\n",
            "Requirement already satisfied: pyparsing>=2.3.1 in /usr/local/lib/python3.10/dist-packages (from minatar) (3.2.0)\n",
            "Requirement already satisfied: python-dateutil>=2.8.0 in /usr/local/lib/python3.10/dist-packages (from minatar) (2.8.2)\n",
            "Requirement already satisfied: pytz>=2018.9 in /usr/local/lib/python3.10/dist-packages (from minatar) (2024.2)\n",
            "Requirement already satisfied: scipy>=1.2.1 in /usr/local/lib/python3.10/dist-packages (from minatar) (1.13.1)\n",
            "Requirement already satisfied: seaborn>=0.9.0 in /usr/local/lib/python3.10/dist-packages (from minatar) (0.13.2)\n",
            "Requirement already satisfied: six>=1.12.0 in /usr/local/lib/python3.10/dist-packages (from minatar) (1.17.0)\n",
            "Requirement already satisfied: contourpy>=1.0.1 in /usr/local/lib/python3.10/dist-packages (from matplotlib>=3.0.3->minatar) (1.3.1)\n",
            "Requirement already satisfied: fonttools>=4.22.0 in /usr/local/lib/python3.10/dist-packages (from matplotlib>=3.0.3->minatar) (4.55.3)\n",
            "Requirement already satisfied: packaging>=20.0 in /usr/local/lib/python3.10/dist-packages (from matplotlib>=3.0.3->minatar) (24.2)\n",
            "Requirement already satisfied: pillow>=6.2.0 in /usr/local/lib/python3.10/dist-packages (from matplotlib>=3.0.3->minatar) (11.0.0)\n",
            "Requirement already satisfied: tzdata>=2022.7 in /usr/local/lib/python3.10/dist-packages (from pandas>=0.24.2->minatar) (2024.2)\n",
            "Downloading MinAtar-1.0.15-py3-none-any.whl (16 kB)\n",
            "Installing collected packages: minatar\n",
            "Successfully installed minatar-1.0.15\n"
          ]
        }
      ],
      "source": [
        "!pip install minatar"
      ]
    },
    {
      "cell_type": "code",
      "execution_count": null,
      "metadata": {
        "colab": {
          "base_uri": "https://localhost:8080/"
        },
        "execution": {
          "iopub.execute_input": "2025-01-14T07:26:05.305568Z",
          "iopub.status.busy": "2025-01-14T07:26:05.305355Z",
          "iopub.status.idle": "2025-01-14T07:26:07.004947Z",
          "shell.execute_reply": "2025-01-14T07:26:07.004715Z",
          "shell.execute_reply.started": "2025-01-14T07:26:05.305551Z"
        },
        "id": "V7EDjtx-ZopX",
        "outputId": "b229769b-7841-4fb1-a8fb-01a2589636c7"
      },
      "outputs": [
        {
          "output_type": "stream",
          "name": "stdout",
          "text": [
            "PyTorch   : 2.5.1+cu121.  \tShould be: >=1.10.x+cu100\n"
          ]
        }
      ],
      "source": [
        "import itertools\n",
        "import random\n",
        "from argparse import Namespace\n",
        "from collections import deque, defaultdict\n",
        "from copy import deepcopy\n",
        "\n",
        "import numpy as np\n",
        "import pandas as pd\n",
        "import torch\n",
        "import torch.nn as nn\n",
        "import torch.optim as O\n",
        "\n",
        "import matplotlib\n",
        "import matplotlib.pyplot as plt\n",
        "from matplotlib import colors\n",
        "import seaborn as sns\n",
        "\n",
        "from minatar import Environment\n",
        "#from minatar.gui import GUI\n",
        "\n",
        "print(f\"PyTorch   : {torch.__version__}.  \\tShould be: >=1.10.x+cu100\")"
      ]
    },
    {
      "cell_type": "code",
      "execution_count": null,
      "metadata": {
        "execution": {
          "iopub.execute_input": "2025-01-14T07:26:17.602051Z",
          "iopub.status.busy": "2025-01-14T07:26:17.601651Z",
          "iopub.status.idle": "2025-01-14T07:26:17.606731Z",
          "shell.execute_reply": "2025-01-14T07:26:17.606229Z",
          "shell.execute_reply.started": "2025-01-14T07:26:17.602025Z"
        },
        "id": "twLaEWQzfGQb"
      },
      "outputs": [],
      "source": [
        "sns.set()\n",
        "%matplotlib inline"
      ]
    },
    {
      "cell_type": "code",
      "execution_count": null,
      "metadata": {
        "colab": {
          "base_uri": "https://localhost:8080/"
        },
        "execution": {
          "iopub.execute_input": "2025-01-14T07:26:18.758527Z",
          "iopub.status.busy": "2025-01-14T07:26:18.758056Z",
          "iopub.status.idle": "2025-01-14T07:26:18.763566Z",
          "shell.execute_reply": "2025-01-14T07:26:18.762253Z",
          "shell.execute_reply.started": "2025-01-14T07:26:18.758499Z"
        },
        "id": "jt3lyxOI8IQb",
        "outputId": "8470889f-21fa-4b8e-e755-71ea7cbb16f5"
      },
      "outputs": [
        {
          "output_type": "stream",
          "name": "stdout",
          "text": [
            "cpu\n"
          ]
        }
      ],
      "source": [
        "#DEVICE = torch.device(\"cuda\" if torch.cuda.is_available() else \"cpu\")\n",
        "DEVICE = torch.device(\"cpu\")\n",
        "print(DEVICE)"
      ]
    },
    {
      "cell_type": "markdown",
      "metadata": {
        "id": "_LVhG2X6Cfhx"
      },
      "source": [
        "## Part 1. Code walkthrough"
      ]
    },
    {
      "cell_type": "code",
      "execution_count": null,
      "metadata": {
        "colab": {
          "base_uri": "https://localhost:8080/"
        },
        "execution": {
          "iopub.execute_input": "2025-01-14T07:56:26.422721Z",
          "iopub.status.busy": "2025-01-14T07:56:26.422221Z",
          "iopub.status.idle": "2025-01-14T07:56:26.434253Z",
          "shell.execute_reply": "2025-01-14T07:56:26.433812Z",
          "shell.execute_reply.started": "2025-01-14T07:56:26.422694Z"
        },
        "id": "D6wSOEiEXw5m",
        "outputId": "99b2e714-7ef4-41e2-950d-7195b5af3afc"
      },
      "outputs": [
        {
          "output_type": "stream",
          "name": "stdout",
          "text": [
            "Setting all rngs to seed=42\n"
          ]
        }
      ],
      "source": [
        "# a function you can use to reset the random number generators in this runtime\n",
        "def reset_rng(seed=42):\n",
        "    print(f\"Setting all rngs to seed={seed}\")\n",
        "    torch.manual_seed(seed)\n",
        "    np.random.seed(seed)\n",
        "    random.seed(seed)\n",
        "\n",
        "reset_rng()"
      ]
    },
    {
      "cell_type": "code",
      "execution_count": null,
      "metadata": {
        "execution": {
          "iopub.execute_input": "2025-01-14T07:56:36.190454Z",
          "iopub.status.busy": "2025-01-14T07:56:36.189974Z",
          "iopub.status.idle": "2025-01-14T07:56:36.195854Z",
          "shell.execute_reply": "2025-01-14T07:56:36.195289Z",
          "shell.execute_reply.started": "2025-01-14T07:56:36.190421Z"
        },
        "id": "IroBI8X_hh3w"
      },
      "outputs": [],
      "source": [
        "# plotting utility\n",
        "def plot_stats(stats, y=\"ep_rewards\", hue=None, window=10):\n",
        "    df = pd.DataFrame(stats)\n",
        "\n",
        "    if window:\n",
        "        new_col = f\"avg_{y}\"\n",
        "        if hue is not None:\n",
        "            df[new_col] = df.groupby(hue)[y].rolling(window=window).mean().reset_index(0,drop=True)\n",
        "        else:\n",
        "            df[new_col] = df[y].rolling(window=window).mean()\n",
        "\n",
        "    y = f\"avg_{y}\" if window else y\n",
        "    with matplotlib.rc_context({'figure.figsize':(10, 6)}):\n",
        "        sns.lineplot(x=\"step_idx\", y=y, hue=hue, data=df)"
      ]
    },
    {
      "cell_type": "code",
      "execution_count": null,
      "metadata": {
        "execution": {
          "iopub.execute_input": "2025-01-14T07:56:42.157045Z",
          "iopub.status.busy": "2025-01-14T07:56:42.156190Z",
          "iopub.status.idle": "2025-01-14T07:56:42.165226Z",
          "shell.execute_reply": "2025-01-14T07:56:42.164699Z",
          "shell.execute_reply.started": "2025-01-14T07:56:42.156985Z"
        },
        "id": "fWrW4cNcfGQd"
      },
      "outputs": [],
      "source": [
        "class Gym:\n",
        "    def __init__(self, mdp_name):\n",
        "        self.mdp = Environment(mdp_name)\n",
        "        self.actions = self.mdp.minimal_action_set()\n",
        "        print(\"{}: {} actions  |  state shape {}\".format(\n",
        "            self.mdp.env_name, self.actions, self.mdp.state_shape()\n",
        "        ))\n",
        "\n",
        "    def reset(self):\n",
        "        self.mdp.reset()\n",
        "        return self._np2th(self.mdp.state()), self.mdp.env.terminal\n",
        "\n",
        "    def step(self, action_idx):\n",
        "        assert -1 < action_idx < self.num_action, f\"Actions should be between 0 and {self.num_action}.\"\n",
        "        reward, done = self.mdp.act(self.actions[action_idx])\n",
        "        return self._np2th(self.mdp.state()), reward, done\n",
        "\n",
        "    def _np2th(self, obs):\n",
        "        return torch.tensor(obs).permute(2, 0, 1).unsqueeze(0).float()\n",
        "\n",
        "    @property\n",
        "    def num_action(self):\n",
        "        return len(self.actions)\n",
        "\n",
        "    @property\n",
        "    def observation_shape(self):\n",
        "        s = self.mdp.state_shape()\n",
        "        return [1, s[-1], *s[:-1]]\n",
        "\n",
        "    def display(self):\n",
        "        obs = self.mdp.state()\n",
        "        obs_ = np.amax(obs * np.reshape(np.arange(obs.shape[-1]) + 1, (1,1,-1)), 2) + 0.5\n",
        "        sns.heatmap(obs_, cbar=None, square=True, yticklabels=False, xticklabels=False)\n",
        "        plt.show(block=False)"
      ]
    },
    {
      "cell_type": "markdown",
      "metadata": {
        "id": "m4E7qF01fGQe"
      },
      "source": [
        "### How to interact with the environment"
      ]
    },
    {
      "cell_type": "code",
      "execution_count": null,
      "metadata": {
        "colab": {
          "base_uri": "https://localhost:8080/"
        },
        "execution": {
          "iopub.execute_input": "2025-01-14T07:56:43.735855Z",
          "iopub.status.busy": "2025-01-14T07:56:43.735342Z",
          "iopub.status.idle": "2025-01-14T07:56:52.986299Z",
          "shell.execute_reply": "2025-01-14T07:56:52.986034Z",
          "shell.execute_reply.started": "2025-01-14T07:56:43.735822Z"
        },
        "id": "2dxbztKnfGQf",
        "outputId": "617fbcd7-c478-4e3d-b287-833c2d0ab3c6"
      },
      "outputs": [
        {
          "output_type": "stream",
          "name": "stdout",
          "text": [
            "breakout: [0, 1, 3] actions  |  state shape [10, 10, 4]\n",
            "Performanța politicii aleatoare: 0.38 reward/ep in 9.9 steps/ep.\n"
          ]
        }
      ],
      "source": [
        "sim = Gym(\"breakout\")\n",
        "random_policy = lambda: torch.randint(sim.num_action, (1,)).item()\n",
        "\n",
        "ep_num, tot_reward, tot_steps = 100_000, 0, 0\n",
        "for ep in range(ep_num):\n",
        "\n",
        "    # each episode starts with resetting the environment\n",
        "    observation, done = sim.reset()\n",
        "\n",
        "    while not done:\n",
        "        # compute an action using some policy\n",
        "        action = random_policy()\n",
        "\n",
        "        # use the action to increment the environment\n",
        "        observation, reward, done = sim.step(action)\n",
        "\n",
        "        tot_reward += reward\n",
        "        tot_steps += 1\n",
        "print(\"Performanța politicii aleatoare: {:3.2f} reward/ep in {:3.1f} steps/ep.\".format(\n",
        "    tot_reward/ep_num, tot_steps/ep_num\n",
        "))"
      ]
    },
    {
      "cell_type": "markdown",
      "metadata": {
        "id": "5ZPyUwBdBdn5"
      },
      "source": [
        "### Understanding the observation space\n",
        "\n",
        "MinAtar observations are 10 by 10 \"images\" with 4 and up to 6 channels (instead of the regular 3 in RGBs).\n",
        "\n",
        "The special format is to make sure the observations obey the Markov property."
      ]
    },
    {
      "cell_type": "code",
      "execution_count": null,
      "metadata": {
        "colab": {
          "base_uri": "https://localhost:8080/",
          "height": 253
        },
        "execution": {
          "iopub.execute_input": "2025-01-14T07:57:31.221218Z",
          "iopub.status.busy": "2025-01-14T07:57:31.220749Z",
          "iopub.status.idle": "2025-01-14T07:57:31.546675Z",
          "shell.execute_reply": "2025-01-14T07:57:31.546444Z",
          "shell.execute_reply.started": "2025-01-14T07:57:31.221191Z"
        },
        "id": "6C47Rf_QfGQg",
        "outputId": "9d8272a8-d1cc-48e1-f86c-02295a220c31"
      },
      "outputs": [
        {
          "output_type": "stream",
          "name": "stdout",
          "text": [
            "breakout: [0, 1, 3] actions  |  state shape [10, 10, 4]\n"
          ]
        },
        {
          "output_type": "display_data",
          "data": {
            "text/plain": [
              "<Figure size 1800x300 with 6 Axes>"
            ],
            "image/png": "[encoded data removed]"
          },
          "metadata": {}
        }
      ],
      "source": [
        "sim = Gym(\"breakout\")\n",
        "policy = lambda: torch.randint(sim.num_action, (1,)).item()\n",
        "step_num, observations = 6, []\n",
        "\n",
        "sim.reset()\n",
        "for _ in range(step_num):\n",
        "    obs, _, _ = sim.step(policy())\n",
        "    observations.append(obs.squeeze().permute(1,2,0).numpy())\n",
        "\n",
        "_, axs = plt.subplots(1, step_num, figsize=(3 * step_num, 3))\n",
        "for ax, obs in zip(axs, observations):\n",
        "    obs_ = np.amax(obs * np.reshape(np.arange(obs.shape[-1]) + 1, (1,1,-1)), 2) + 0.5\n",
        "    sns.heatmap(obs_, cbar=None, square=True, xticklabels=False, yticklabels=False, ax=ax)"
      ]
    },
    {
      "cell_type": "markdown",
      "metadata": {
        "id": "MyiIR0R97ZOQ"
      },
      "source": [
        "### The training loop\n",
        "\n",
        "It takes an agent and an environment and implements the agent-environment interaction loop"
      ]
    },
    {
      "cell_type": "code",
      "execution_count": null,
      "metadata": {
        "execution": {
          "iopub.execute_input": "2025-01-14T07:57:33.326425Z",
          "iopub.status.busy": "2025-01-14T07:57:33.326102Z",
          "iopub.status.idle": "2025-01-14T07:57:33.334895Z",
          "shell.execute_reply": "2025-01-14T07:57:33.333995Z",
          "shell.execute_reply.started": "2025-01-14T07:57:33.326405Z"
        },
        "id": "uOy_rHVDbdiB"
      },
      "outputs": [],
      "source": [
        "def train(agent, env, step_num=100_000, log_freq=50):\n",
        "\n",
        "    stats, N = {\"step_idx\": [0], \"ep_rewards\": [0.0], \"ep_steps\": [0.0]}, 0\n",
        "\n",
        "    state, done = env.reset()\n",
        "    for step in range(step_num):\n",
        "\n",
        "        action = agent.step(state)\n",
        "        state_, reward, done = env.step(action)\n",
        "        agent.learn(state, action, reward, state_, done)\n",
        "\n",
        "        # some envs just update the state and are not returning a new one\n",
        "        state = state_.clone()\n",
        "\n",
        "        # stats\n",
        "        stats[\"ep_rewards\"][N] += reward\n",
        "        stats[\"ep_steps\"][N] += 1\n",
        "\n",
        "        if done:\n",
        "            # episode done, reset env!\n",
        "            state, done = env.reset()\n",
        "\n",
        "            # some more stats\n",
        "            if (N % log_freq) == 0 and N != 0:\n",
        "                print(\"[{0:3d}][{1:6d}], R/ep={2:6.2f}, steps/ep={3:2.0f}.\".format(\n",
        "                    N, step,\n",
        "                    torch.tensor(stats[\"ep_rewards\"][-10:]).mean().item(),\n",
        "                    torch.tensor(stats[\"ep_steps\"][-10:]).mean().item(),\n",
        "                ))\n",
        "\n",
        "            stats[\"ep_rewards\"].append(0.0)  # reward accumulator for a new episode\n",
        "            stats[\"ep_steps\"].append(0.0)    # reward accumulator for a new episode\n",
        "            stats[\"step_idx\"].append(step)\n",
        "            N += 1\n",
        "\n",
        "    print(\"[{0:3d}][{1:6d}], R/ep={2:6.2f}, steps/ep={3:2.0f}.\".format(\n",
        "        N, step, torch.tensor(stats[\"ep_rewards\"][-10:]).mean().item(),\n",
        "        torch.tensor(stats[\"ep_steps\"][-10:]).mean().item(),\n",
        "    ))\n",
        "    stats[\"agent\"] = [agent.__class__.__name__ for _ in range(N+1)]\n",
        "    return stats"
      ]
    },
    {
      "cell_type": "markdown",
      "metadata": {
        "id": "9PlMUQUKdku-"
      },
      "source": [
        "## Part II. Deep Q-Networks implementation"
      ]
    },
    {
      "cell_type": "markdown",
      "source": [
        "For a refresher on the DQN algorithm, you can use the following resources:\n",
        "\n",
        "- [lecture slides](https://busoniu.net/teaching/rl2024/slides_drl_handout_2024.pdf)\n",
        "- [original paper](https://arxiv.org/abs/1312.5602)\n"
      ],
      "metadata": {
        "id": "_dL4sb7Zn-XO"
      }
    },
    {
      "cell_type": "markdown",
      "metadata": {
        "id": "Ln9FLf7rBiiE"
      },
      "source": [
        "### Task 1 [3pts]. Experience Replay\n",
        "\n",
        "Implement the `sample` method."
      ]
    },
    {
      "cell_type": "code",
      "execution_count": null,
      "metadata": {
        "execution": {
          "iopub.execute_input": "2025-01-14T07:59:51.667220Z",
          "iopub.status.busy": "2025-01-14T07:59:51.666744Z",
          "iopub.status.idle": "2025-01-14T07:59:51.674979Z",
          "shell.execute_reply": "2025-01-14T07:59:51.674220Z",
          "shell.execute_reply.started": "2025-01-14T07:59:51.667196Z"
        },
        "id": "rmAH2_p-zW64"
      },
      "outputs": [],
      "source": [
        "class ReplayMemory:\n",
        "    def __init__(self, size=1000, batch_size=32):\n",
        "        self._buffer = deque(maxlen=size)\n",
        "        self._batch_size = batch_size\n",
        "\n",
        "    def push(self, transition):\n",
        "        self._buffer.append(transition)\n",
        "\n",
        "    def sample(self):\n",
        "        \"\"\" Sample from self._buffer\n",
        "\n",
        "            Should return a tuple of tensors of size:\n",
        "            (\n",
        "                states:     N * C * H * W,  (torch.uint8)\n",
        "                actions:    N * 1, (torch.int64)\n",
        "                rewards:    N * 1, (torch.float32)\n",
        "                states_:    N * C * H * W,  (torch.uint8)\n",
        "                done:       N * 1, (torch.uint8)\n",
        "            )\n",
        "\n",
        "            where N is the batch_size, C is the number of channels.\n",
        "\n",
        "            WARNING, this method must not change the contents of `self._buffer`!\n",
        "        \"\"\"\n",
        "        # sample batch_size elements from the buffer\n",
        "        N = self._batch_size\n",
        "        C = self._buffer[1][0].size(1)\n",
        "        H = self._buffer[1][0].size(2)\n",
        "        W = self._buffer[1][0].size(3)\n",
        "        buffer_len = len(self._buffer)\n",
        "\n",
        "        rand_sam = torch.randint(0,buffer_len,(self._batch_size,))\n",
        "\n",
        "        states = torch.zeros(N,C,H,W)\n",
        "        actions = torch.zeros(N,1)\n",
        "        rewards = torch.zeros(N,1)\n",
        "        states_ = torch.zeros(N,C,H,W)\n",
        "        done=torch.zeros(N,1)\n",
        "        for i in range(self._batch_size):\n",
        "          observation = self._buffer[rand_sam[i].item()]\n",
        "          states[i] = observation[0].view(C,H,W)\n",
        "          actions[i] = observation[1]\n",
        "          rewards[i] = observation[2]\n",
        "          states_[i] = observation[3].view(C,H,W)\n",
        "          done[i] = observation[4]\n",
        "\n",
        "        samples=(states,actions,rewards,states_,done)\n",
        "        # reshape, convert if needed, put on device (use torch.to(DEVICE))\n",
        "        return samples\n",
        "\n",
        "    def __len__(self):\n",
        "        return len(self._buffer)"
      ]
    },
    {
      "cell_type": "code",
      "source": [
        "mem = ReplayMemory(size=5, batch_size=2)\n",
        "mem.push((torch.rand(1,4,10,10) , 0 , 0.1 , torch.rand(1,4,10,10) , False))\n",
        "mem.push((torch.rand(1,4,10,10) , 0 , 0.1 , torch.rand(1,4,10,10) , False))\n",
        "mem.push((torch.rand(1,4,10,10) , 0 , 0.1 , torch.rand(1,4,10,10) , False))\n",
        "mem.push((torch.rand(1,4,10,10) , 0 , 0.1 , torch.rand(1,4,10,10) , False))\n",
        "mem.push((torch.rand(1,4,10,10) , 0 , 0.1 , torch.rand(1,4,10,10) , False))\n",
        "\n",
        "a=mem.sample()\n",
        "a\n",
        "\n"
      ],
      "metadata": {
        "colab": {
          "base_uri": "https://localhost:8080/"
        },
        "id": "KtYBHftVZuks",
        "outputId": "664bee0b-1758-4fb8-9246-561757870eaa"
      },
      "execution_count": null,
      "outputs": [
        {
          "output_type": "execute_result",
          "data": {
            "text/plain": [
              "(tensor([[[[0.9527, 0.9570, 0.0765, 0.7017, 0.7661, 0.7344, 0.2759, 0.8572,\n",
              "            0.5427, 0.6456],\n",
              "           [0.9701, 0.4439, 0.9384, 0.1516, 0.6668, 0.9863, 0.4695, 0.1449,\n",
              "            0.9678, 0.4593],\n",
              "           [0.6931, 0.4047, 0.4125, 0.4114, 0.0099, 0.9664, 0.4974, 0.5271,\n",
              "            0.4806, 0.5159],\n",
              "           [0.8789, 0.4986, 0.5862, 0.4188, 0.7773, 0.8378, 0.1319, 0.2446,\n",
              "            0.4782, 0.5428],\n",
              "           [0.2601, 0.5836, 0.1372, 0.3339, 0.4491, 0.0510, 0.1475, 0.2133,\n",
              "            0.1309, 0.6789],\n",
              "           [0.3145, 0.0239, 0.8969, 0.2110, 0.5865, 0.7651, 0.8922, 0.0484,\n",
              "            0.9279, 0.1097],\n",
              "           [0.2361, 0.0860, 0.1854, 0.3925, 0.2954, 0.7887, 0.0797, 0.4445,\n",
              "            0.6647, 0.7535],\n",
              "           [0.3276, 0.1551, 0.4790, 0.6103, 0.1659, 0.2090, 0.8433, 0.1282,\n",
              "            0.7623, 0.2662],\n",
              "           [0.6926, 0.0446, 0.8195, 0.5656, 0.5687, 0.3420, 0.5950, 0.4087,\n",
              "            0.1885, 0.9812],\n",
              "           [0.2236, 0.1594, 0.5240, 0.3219, 0.2745, 0.7422, 0.3262, 0.4108,\n",
              "            0.4862, 0.5609]],\n",
              " \n",
              "          [[0.1329, 0.7037, 0.7870, 0.5792, 0.1458, 0.3792, 0.6685, 0.4404,\n",
              "            0.3538, 0.4032],\n",
              "           [0.1663, 0.7622, 0.3727, 0.8213, 0.4265, 0.9888, 0.7406, 0.1589,\n",
              "            0.2628, 0.7689],\n",
              "           [0.2932, 0.4252, 0.6293, 0.7169, 0.9842, 0.0381, 0.6601, 0.7015,\n",
              "            0.9038, 0.6375],\n",
              "           [0.3312, 0.8361, 0.5079, 0.5217, 0.2601, 0.4285, 0.2358, 0.8167,\n",
              "            0.8833, 0.1257],\n",
              "           [0.0283, 0.9564, 0.1100, 0.6187, 0.5987, 0.6376, 0.4798, 0.1831,\n",
              "            0.1146, 0.1398],\n",
              "           [0.1535, 0.0994, 0.8540, 0.5901, 0.6871, 0.2889, 0.8409, 0.7100,\n",
              "            0.8093, 0.7231],\n",
              "           [0.4499, 0.5083, 0.8251, 0.4635, 0.5729, 0.5730, 0.6340, 0.0927,\n",
              "            0.3570, 0.7887],\n",
              "           [0.6397, 0.6615, 0.0424, 0.2321, 0.6461, 0.8494, 0.7409, 0.5212,\n",
              "            0.9521, 0.7988],\n",
              "           [0.7720, 0.1405, 0.8067, 0.8689, 0.1555, 0.2865, 0.6893, 0.9132,\n",
              "            0.6428, 0.0546],\n",
              "           [0.9385, 0.9774, 0.6636, 0.2948, 0.2813, 0.4121, 0.3988, 0.0624,\n",
              "            0.0857, 0.1810]],\n",
              " \n",
              "          [[0.8025, 0.8540, 0.4982, 0.0703, 0.1970, 0.9986, 0.2389, 0.8931,\n",
              "            0.9828, 0.6802],\n",
              "           [0.0909, 0.5618, 0.3033, 0.7172, 0.6474, 0.5643, 0.1610, 0.5115,\n",
              "            0.9750, 0.0291],\n",
              "           [0.9929, 0.3718, 0.2913, 0.6575, 0.2308, 0.0956, 0.7616, 0.6018,\n",
              "            0.3310, 0.2174],\n",
              "           [0.3375, 0.8813, 0.5909, 0.3579, 0.5685, 0.2880, 0.2379, 0.1451,\n",
              "            0.8467, 0.9398],\n",
              "           [0.5339, 0.2491, 0.0866, 0.1173, 0.2212, 0.9497, 0.9713, 0.8871,\n",
              "            0.4875, 0.2054],\n",
              "           [0.1771, 0.3129, 0.1971, 0.6318, 0.7469, 0.0094, 0.5497, 0.9298,\n",
              "            0.9919, 0.2225],\n",
              "           [0.8927, 0.2582, 0.7648, 0.5470, 0.8287, 0.4798, 0.3291, 0.5235,\n",
              "            0.5467, 0.6562],\n",
              "           [0.9184, 0.1895, 0.6944, 0.6362, 0.4322, 0.3279, 0.9256, 0.5801,\n",
              "            0.9439, 0.4762],\n",
              "           [0.2893, 0.1891, 0.7011, 0.4400, 0.1197, 0.7946, 0.1778, 0.0750,\n",
              "            0.6176, 0.4384],\n",
              "           [0.6325, 0.8618, 0.8729, 0.5871, 0.7718, 0.3088, 0.4507, 0.1058,\n",
              "            0.0555, 0.9631]],\n",
              " \n",
              "          [[0.9034, 0.9364, 0.4530, 0.2608, 0.0795, 0.0787, 0.9393, 0.0629,\n",
              "            0.5457, 0.8333],\n",
              "           [0.9179, 0.5112, 0.8911, 0.7941, 0.0152, 0.7099, 0.8188, 0.2224,\n",
              "            0.8632, 0.7576],\n",
              "           [0.3510, 0.2635, 0.4982, 0.5408, 0.6345, 0.9811, 0.3693, 0.4481,\n",
              "            0.7351, 0.8668],\n",
              "           [0.3175, 0.8969, 0.9582, 0.3491, 0.9883, 0.7562, 0.7819, 0.3918,\n",
              "            0.4439, 0.6342],\n",
              "           [0.7328, 0.2810, 0.6742, 0.6699, 0.2043, 0.9986, 0.4961, 0.4800,\n",
              "            0.0938, 0.7499],\n",
              "           [0.8027, 0.8838, 0.6517, 0.0397, 0.9101, 0.2894, 0.2313, 0.8301,\n",
              "            0.1174, 0.2675],\n",
              "           [0.1198, 0.9517, 0.3626, 0.8840, 0.8060, 0.3877, 0.7385, 0.6035,\n",
              "            0.4182, 0.1460],\n",
              "           [0.4323, 0.4517, 0.1889, 0.4215, 0.6459, 0.0464, 0.9557, 0.9816,\n",
              "            0.4759, 0.3927],\n",
              "           [0.4886, 0.8203, 0.0256, 0.1130, 0.6209, 0.6991, 0.7051, 0.3258,\n",
              "            0.1276, 0.8718],\n",
              "           [0.6469, 0.3754, 0.5791, 0.8808, 0.3420, 0.0744, 0.4893, 0.8919,\n",
              "            0.7162, 0.9201]]],\n",
              " \n",
              " \n",
              "         [[[0.2014, 0.8481, 0.7553, 0.1282, 0.5646, 0.7762, 0.1165, 0.1975,\n",
              "            0.8611, 0.2678],\n",
              "           [0.6145, 0.2820, 0.8886, 0.5503, 0.2762, 0.0164, 0.1866, 0.4743,\n",
              "            0.9705, 0.4137],\n",
              "           [0.2698, 0.5538, 0.3436, 0.6040, 0.4328, 0.4180, 0.8597, 0.7168,\n",
              "            0.1463, 0.7149],\n",
              "           [0.8026, 0.3471, 0.5470, 0.6149, 0.6194, 0.1039, 0.6919, 0.2302,\n",
              "            0.1680, 0.8852],\n",
              "           [0.5434, 0.9926, 0.4794, 0.0105, 0.8723, 0.2594, 0.9349, 0.4684,\n",
              "            0.6154, 0.5334],\n",
              "           [0.1916, 0.7225, 0.2922, 0.7779, 0.1293, 0.4077, 0.4531, 0.6683,\n",
              "            0.8487, 0.6138],\n",
              "           [0.3818, 0.9978, 0.2531, 0.9608, 0.7747, 0.0851, 0.9312, 0.4997,\n",
              "            0.3119, 0.7138],\n",
              "           [0.9992, 0.0410, 0.2072, 0.9755, 0.1017, 0.5947, 0.5797, 0.4082,\n",
              "            0.7382, 0.7064],\n",
              "           [0.1826, 0.6747, 0.0150, 0.6549, 0.6263, 0.3353, 0.6149, 0.1114,\n",
              "            0.0312, 0.4682],\n",
              "           [0.2750, 0.0151, 0.5833, 0.0382, 0.9427, 0.1866, 0.1130, 0.9774,\n",
              "            0.4145, 0.5308]],\n",
              " \n",
              "          [[0.5356, 0.3598, 0.1200, 0.3357, 0.9412, 0.3999, 0.9682, 0.0469,\n",
              "            0.2349, 0.7710],\n",
              "           [0.0060, 0.5286, 0.6550, 0.5923, 0.6728, 0.8888, 0.1517, 0.3044,\n",
              "            0.3219, 0.8387],\n",
              "           [0.0084, 0.0594, 0.1042, 0.4467, 0.1212, 0.9722, 0.7287, 0.5606,\n",
              "            0.5454, 0.4768],\n",
              "           [0.8849, 0.7826, 0.5265, 0.7011, 0.6701, 0.4691, 0.3795, 0.1597,\n",
              "            0.0835, 0.3825],\n",
              "           [0.5538, 0.7219, 0.7615, 0.8980, 0.0767, 0.6323, 0.6993, 0.0491,\n",
              "            0.2087, 0.8899],\n",
              "           [0.9243, 0.7856, 0.5880, 0.4942, 0.1711, 0.7294, 0.9934, 0.6370,\n",
              "            0.2409, 0.7715],\n",
              "           [0.5175, 0.4552, 0.6359, 0.4397, 0.5050, 0.0500, 0.9416, 0.6488,\n",
              "            0.4117, 0.6605],\n",
              "           [0.4342, 0.9497, 0.6736, 0.0421, 0.1726, 0.9387, 0.4219, 0.0187,\n",
              "            0.2322, 0.4611],\n",
              "           [0.7647, 0.2035, 0.5728, 0.5604, 0.4506, 0.3454, 0.4016, 0.3572,\n",
              "            0.2210, 0.5726],\n",
              "           [0.9903, 0.8806, 0.5202, 0.3024, 0.6211, 0.5570, 0.8287, 0.4867,\n",
              "            0.4600, 0.3449]],\n",
              " \n",
              "          [[0.5359, 0.6538, 0.7483, 0.1126, 0.3355, 0.4154, 0.4345, 0.0396,\n",
              "            0.7567, 0.6516],\n",
              "           [0.7443, 0.1053, 0.6428, 0.9959, 0.2787, 0.0469, 0.8254, 0.2843,\n",
              "            0.5360, 0.4986],\n",
              "           [0.4555, 0.4242, 0.9199, 0.9589, 0.3610, 0.7197, 0.5072, 0.1528,\n",
              "            0.9947, 0.1503],\n",
              "           [0.8772, 0.9228, 0.3298, 0.5466, 0.7315, 0.5894, 0.2760, 0.0336,\n",
              "            0.7613, 0.1844],\n",
              "           [0.8297, 0.8382, 0.7262, 0.3373, 0.7528, 0.3544, 0.6387, 0.8323,\n",
              "            0.5247, 0.5635],\n",
              "           [0.1683, 0.6013, 0.7573, 0.9462, 0.4937, 0.2442, 0.9489, 0.7939,\n",
              "            0.5077, 0.0436],\n",
              "           [0.0928, 0.0923, 0.4204, 0.6374, 0.8808, 0.7076, 0.6933, 0.4746,\n",
              "            0.7746, 0.9120],\n",
              "           [0.3869, 0.9806, 0.1086, 0.2051, 0.8928, 0.5873, 0.0679, 0.2314,\n",
              "            0.0494, 0.8008],\n",
              "           [0.6870, 0.3538, 0.1265, 0.3252, 0.5560, 0.3026, 0.4653, 0.7973,\n",
              "            0.1624, 0.4519],\n",
              "           [0.6413, 0.9091, 0.2217, 0.2558, 0.1417, 0.5571, 0.5652, 0.8313,\n",
              "            0.2115, 0.3524]],\n",
              " \n",
              "          [[0.1272, 0.2204, 0.9855, 0.9821, 0.5049, 0.4170, 0.2374, 0.9506,\n",
              "            0.7190, 0.1309],\n",
              "           [0.9726, 0.6496, 0.3443, 0.4085, 0.9467, 0.5290, 0.8546, 0.2448,\n",
              "            0.2637, 0.0314],\n",
              "           [0.1933, 0.8299, 0.0588, 0.0993, 0.4917, 0.4239, 0.6771, 0.8755,\n",
              "            0.4785, 0.7568],\n",
              "           [0.3158, 0.8474, 0.4814, 0.3635, 0.0024, 0.8327, 0.8836, 0.0230,\n",
              "            0.9148, 0.0207],\n",
              "           [0.7194, 0.2806, 0.8143, 0.6575, 0.3494, 0.8099, 0.6103, 0.6859,\n",
              "            0.0504, 0.4537],\n",
              "           [0.2304, 0.2420, 0.8192, 0.9666, 0.7758, 0.1387, 0.4195, 0.0837,\n",
              "            0.2934, 0.8522],\n",
              "           [0.2251, 0.2570, 0.8460, 0.0111, 0.0573, 0.3203, 0.4590, 0.6201,\n",
              "            0.6194, 0.4962],\n",
              "           [0.2562, 0.0575, 0.1339, 0.7825, 0.8911, 0.3626, 0.5304, 0.2351,\n",
              "            0.7314, 0.4387],\n",
              "           [0.1541, 0.1332, 0.0976, 0.1536, 0.9593, 0.2352, 0.6364, 0.1118,\n",
              "            0.8222, 0.0519],\n",
              "           [0.6479, 0.3138, 0.3547, 0.2389, 0.7141, 0.2456, 0.2844, 0.0487,\n",
              "            0.6134, 0.3625]]]]),\n",
              " tensor([[0.],\n",
              "         [0.]]),\n",
              " tensor([[0.1000],\n",
              "         [0.1000]]),\n",
              " tensor([[[[7.4498e-01, 9.7437e-01, 7.2965e-01, 7.6409e-01, 3.7991e-01,\n",
              "            2.8023e-01, 4.4156e-01, 6.6103e-01, 7.3739e-02, 5.6939e-01],\n",
              "           [9.7053e-01, 3.6893e-01, 2.2772e-01, 3.0259e-01, 3.4035e-01,\n",
              "            9.8525e-01, 5.5946e-01, 4.2454e-01, 8.1152e-01, 2.2807e-01],\n",
              "           [1.1236e-01, 7.7338e-01, 9.2327e-01, 7.5490e-01, 2.4229e-01,\n",
              "            9.8313e-01, 1.1469e-01, 9.7049e-01, 8.7275e-01, 7.9832e-02],\n",
              "           [8.7045e-01, 5.7295e-02, 9.8570e-01, 1.0335e-01, 5.7261e-01,\n",
              "            8.3034e-01, 2.7634e-01, 2.1969e-01, 5.3070e-02, 1.7107e-01],\n",
              "           [7.3549e-01, 9.8537e-01, 9.2711e-01, 5.8146e-01, 3.3183e-01,\n",
              "            8.0014e-02, 4.2833e-01, 1.4650e-01, 2.4788e-01, 3.6568e-01],\n",
              "           [6.2524e-01, 7.7846e-01, 7.2152e-01, 2.3842e-01, 5.0634e-01,\n",
              "            9.0156e-02, 6.9178e-01, 7.3584e-01, 9.7956e-01, 9.1308e-01],\n",
              "           [9.9415e-02, 1.6451e-01, 7.4152e-01, 7.7943e-01, 6.4207e-01,\n",
              "            7.1705e-01, 8.0547e-01, 4.4979e-01, 6.0592e-01, 5.3087e-01],\n",
              "           [4.8636e-01, 1.1363e-02, 4.8915e-01, 6.1227e-01, 2.5659e-01,\n",
              "            2.0950e-01, 8.2651e-01, 3.2447e-01, 6.8558e-01, 6.7174e-01],\n",
              "           [9.2446e-01, 3.6610e-01, 4.9130e-01, 5.9094e-01, 8.3067e-01,\n",
              "            3.8371e-01, 6.4733e-01, 9.9872e-01, 3.5490e-03, 2.1896e-01],\n",
              "           [7.4489e-02, 4.8566e-02, 9.8304e-01, 3.3575e-01, 2.6629e-01,\n",
              "            2.0106e-01, 5.8153e-01, 1.5757e-01, 7.5888e-01, 4.9013e-02]],\n",
              " \n",
              "          [[4.2422e-01, 8.7345e-01, 9.4094e-01, 6.7724e-01, 9.8588e-01,\n",
              "            8.4082e-01, 8.7110e-01, 7.3520e-02, 9.0268e-01, 9.7751e-01],\n",
              "           [2.5763e-01, 3.5730e-01, 9.8130e-01, 4.4294e-02, 7.5280e-01,\n",
              "            7.2035e-01, 4.0769e-01, 7.2774e-01, 3.1041e-01, 3.7148e-01],\n",
              "           [4.1394e-01, 5.8191e-01, 7.0698e-01, 7.8669e-01, 7.5513e-01,\n",
              "            9.3160e-02, 3.9275e-01, 8.9205e-01, 9.7491e-03, 6.3463e-01],\n",
              "           [8.3701e-02, 9.2698e-01, 4.2338e-01, 7.9092e-01, 6.7212e-03,\n",
              "            3.8546e-01, 8.2611e-01, 5.4608e-01, 4.8243e-01, 7.2134e-02],\n",
              "           [2.4558e-01, 3.8513e-01, 4.2618e-01, 5.7761e-01, 8.5640e-01,\n",
              "            1.7275e-01, 9.1070e-01, 5.5600e-01, 8.8099e-01, 6.8378e-01],\n",
              "           [1.8144e-01, 4.5186e-01, 3.3885e-01, 6.2549e-01, 8.1491e-01,\n",
              "            2.4779e-01, 9.4239e-01, 6.1055e-01, 8.3623e-01, 5.2350e-01],\n",
              "           [5.3309e-02, 4.4267e-01, 2.3109e-01, 8.5485e-01, 9.6245e-01,\n",
              "            5.2577e-01, 2.8054e-01, 3.2262e-01, 1.5358e-01, 9.6031e-01],\n",
              "           [4.3655e-01, 8.2225e-01, 1.9065e-01, 7.6577e-01, 8.5383e-01,\n",
              "            7.6090e-01, 4.8224e-01, 2.5247e-01, 6.8256e-01, 7.8227e-01],\n",
              "           [6.1736e-01, 1.8091e-01, 5.8031e-01, 9.1959e-01, 9.3892e-01,\n",
              "            5.3349e-01, 5.8341e-01, 3.6846e-01, 6.8122e-01, 1.5248e-01],\n",
              "           [5.3005e-01, 8.1042e-01, 6.0484e-01, 1.8974e-01, 9.6389e-01,\n",
              "            9.6997e-01, 3.5914e-01, 4.2176e-01, 8.1188e-01, 6.2893e-01]],\n",
              " \n",
              "          [[8.6581e-01, 2.4874e-01, 7.6313e-01, 1.9221e-01, 5.2094e-02,\n",
              "            9.5661e-01, 9.2617e-01, 8.3275e-01, 1.6173e-01, 3.5298e-01],\n",
              "           [3.8558e-02, 6.2241e-01, 5.0207e-01, 9.5321e-01, 3.5925e-01,\n",
              "            8.6932e-01, 1.6899e-01, 4.2448e-01, 3.9098e-01, 9.7274e-01],\n",
              "           [4.0845e-01, 6.3122e-01, 1.3778e-01, 5.7364e-01, 3.5048e-01,\n",
              "            5.0229e-01, 4.4977e-01, 8.5484e-01, 1.7455e-01, 6.3154e-01],\n",
              "           [6.6502e-01, 3.4911e-01, 1.4071e-01, 8.7809e-02, 3.6064e-01,\n",
              "            7.7830e-01, 7.6201e-01, 1.9336e-01, 1.0952e-02, 2.6426e-01],\n",
              "           [5.2884e-01, 7.6525e-01, 9.3361e-01, 1.1223e-01, 2.5197e-01,\n",
              "            2.7792e-01, 3.3108e-01, 9.0816e-01, 4.6548e-01, 3.0444e-01],\n",
              "           [2.8537e-01, 4.8307e-01, 4.1758e-01, 3.4659e-01, 7.8973e-02,\n",
              "            1.1935e-01, 1.2282e-01, 4.7074e-01, 9.8331e-01, 6.0810e-02],\n",
              "           [4.5630e-01, 1.0595e-01, 9.5774e-01, 4.3456e-01, 2.0640e-01,\n",
              "            6.1454e-01, 6.4607e-01, 6.6086e-01, 8.0004e-01, 2.4180e-01],\n",
              "           [2.7122e-01, 7.4222e-01, 2.4620e-02, 2.6697e-01, 7.3709e-01,\n",
              "            6.7153e-01, 7.4702e-01, 8.9696e-01, 7.6043e-01, 3.1526e-01],\n",
              "           [8.4232e-01, 5.0374e-01, 4.7886e-01, 5.2121e-01, 8.3147e-01,\n",
              "            2.4324e-02, 3.4345e-01, 2.7188e-01, 9.7532e-01, 5.7196e-02],\n",
              "           [1.0733e-01, 5.8348e-01, 7.1795e-01, 1.5886e-02, 4.9485e-01,\n",
              "            8.8509e-01, 4.2535e-01, 4.0170e-01, 5.6832e-01, 4.0253e-01]],\n",
              " \n",
              "          [[1.1290e-01, 9.4275e-01, 9.4368e-01, 1.9879e-02, 7.8675e-01,\n",
              "            8.9702e-01, 7.8877e-01, 6.0557e-01, 7.7873e-01, 7.5843e-01],\n",
              "           [5.7508e-01, 1.5131e-01, 7.1105e-01, 8.9674e-01, 7.9049e-01,\n",
              "            2.5123e-01, 5.6314e-01, 7.1912e-01, 4.6292e-03, 4.4017e-01],\n",
              "           [6.4739e-01, 7.4070e-01, 6.0609e-01, 4.4832e-01, 5.8605e-01,\n",
              "            8.3541e-01, 4.3054e-01, 6.4977e-01, 4.5533e-01, 9.9392e-01],\n",
              "           [1.3054e-01, 9.8068e-01, 2.6541e-01, 4.7415e-01, 3.4593e-02,\n",
              "            8.5953e-01, 1.9996e-01, 5.5886e-01, 4.4416e-01, 6.7838e-01],\n",
              "           [4.7736e-01, 9.6267e-01, 9.0499e-01, 3.6538e-01, 5.0016e-01,\n",
              "            2.0470e-01, 7.1979e-01, 2.0188e-01, 5.7684e-01, 7.2623e-01],\n",
              "           [3.6916e-02, 7.0469e-01, 7.1412e-01, 6.4189e-01, 6.3540e-01,\n",
              "            7.7180e-01, 9.5438e-01, 7.0451e-02, 1.4043e-01, 5.1266e-01],\n",
              "           [9.0889e-01, 6.3028e-02, 6.9335e-01, 1.9786e-01, 6.8335e-01,\n",
              "            7.3103e-01, 2.8306e-01, 3.7876e-01, 6.6793e-01, 5.9533e-01],\n",
              "           [9.7170e-01, 1.5274e-01, 7.2778e-02, 6.0571e-02, 3.3203e-01,\n",
              "            8.3483e-01, 8.4921e-01, 2.4874e-01, 3.6818e-01, 8.6002e-01],\n",
              "           [7.7717e-01, 1.1790e-02, 8.6068e-02, 6.4036e-01, 9.7863e-01,\n",
              "            9.7505e-01, 9.3174e-01, 1.7424e-01, 2.4821e-01, 9.7167e-01],\n",
              "           [1.6282e-01, 7.1389e-01, 1.2761e-01, 3.2728e-01, 4.1669e-01,\n",
              "            6.0307e-01, 1.6978e-01, 2.2376e-04, 5.0753e-01, 6.7799e-01]]],\n",
              " \n",
              " \n",
              "         [[[8.2319e-01, 6.8795e-01, 8.5944e-01, 7.4666e-01, 2.4668e-01,\n",
              "            7.9380e-01, 6.4069e-01, 3.9305e-01, 5.3548e-01, 5.4345e-01],\n",
              "           [9.0584e-01, 3.5797e-01, 2.5060e-01, 2.3480e-01, 9.2896e-01,\n",
              "            4.7369e-01, 2.5226e-01, 8.7094e-01, 7.2917e-01, 7.1413e-01],\n",
              "           [1.1978e-01, 4.7089e-01, 5.8376e-01, 5.6780e-01, 4.4886e-02,\n",
              "            9.2656e-01, 1.7546e-01, 8.4536e-01, 1.2273e-01, 1.2142e-01],\n",
              "           [2.2998e-02, 1.2116e-01, 8.5874e-01, 7.8811e-01, 8.0206e-01,\n",
              "            9.5134e-01, 7.9093e-01, 7.0137e-01, 7.1445e-01, 9.3779e-01],\n",
              "           [4.0735e-01, 9.5925e-01, 6.6869e-02, 8.7651e-01, 9.2477e-01,\n",
              "            8.6609e-02, 5.0334e-01, 3.4151e-01, 8.0955e-01, 3.3604e-01],\n",
              "           [5.7333e-01, 3.8451e-01, 8.8347e-01, 3.7221e-01, 4.0785e-01,\n",
              "            5.5479e-01, 8.0910e-01, 3.3727e-01, 7.5827e-01, 7.1321e-01],\n",
              "           [8.1371e-01, 8.9091e-01, 5.1294e-01, 9.4729e-01, 7.8646e-01,\n",
              "            6.2048e-01, 7.9980e-01, 2.0273e-01, 6.3892e-01, 4.0346e-01],\n",
              "           [9.1574e-01, 4.2886e-01, 1.6011e-01, 3.0817e-01, 3.4251e-02,\n",
              "            2.3327e-02, 3.6212e-01, 2.4429e-01, 8.2535e-01, 4.8938e-01],\n",
              "           [5.9771e-01, 8.7603e-02, 3.7237e-01, 1.5265e-01, 5.0646e-02,\n",
              "            2.5816e-01, 8.6286e-01, 9.7577e-01, 4.0471e-01, 6.6931e-01],\n",
              "           [2.8520e-01, 8.6406e-01, 5.5507e-01, 3.5835e-01, 4.6596e-01,\n",
              "            2.5825e-01, 1.1883e-01, 2.7056e-01, 4.2321e-01, 1.1151e-01]],\n",
              " \n",
              "          [[9.4892e-01, 7.1937e-02, 7.1213e-01, 2.8350e-02, 5.1492e-02,\n",
              "            2.3290e-01, 5.6542e-01, 9.7083e-01, 3.6880e-01, 5.6606e-01],\n",
              "           [4.9863e-02, 3.6220e-01, 9.2155e-01, 2.8691e-01, 9.5687e-01,\n",
              "            1.5443e-01, 3.1744e-01, 3.2520e-01, 6.1412e-01, 2.6218e-01],\n",
              "           [2.6675e-01, 2.9516e-01, 8.1611e-01, 5.5085e-01, 5.1968e-01,\n",
              "            4.0695e-01, 2.3802e-01, 9.6644e-01, 4.3071e-01, 4.9600e-02],\n",
              "           [6.2340e-01, 2.8501e-01, 9.7942e-01, 1.6274e-02, 3.0572e-01,\n",
              "            7.1110e-01, 8.6034e-02, 9.2505e-01, 4.7349e-01, 6.1647e-01],\n",
              "           [3.5642e-01, 2.5339e-01, 5.6744e-01, 4.3704e-01, 5.1775e-01,\n",
              "            9.9247e-01, 3.0017e-01, 4.6896e-01, 6.7959e-01, 1.1116e-01],\n",
              "           [4.7359e-02, 9.5492e-01, 7.8388e-01, 6.3398e-01, 4.2015e-01,\n",
              "            7.7235e-01, 2.0843e-01, 9.4613e-03, 8.7873e-02, 5.5411e-01],\n",
              "           [9.4188e-02, 2.2418e-01, 7.5493e-02, 6.2393e-01, 9.2555e-02,\n",
              "            6.2071e-01, 2.8581e-01, 7.0645e-03, 9.1718e-01, 7.5412e-01],\n",
              "           [9.5370e-01, 6.1288e-01, 8.7572e-01, 7.9934e-01, 5.5661e-01,\n",
              "            5.8747e-01, 1.1610e-01, 2.9635e-01, 9.6304e-01, 5.1950e-01],\n",
              "           [7.8516e-01, 8.9247e-01, 1.4170e-02, 8.4666e-01, 8.7813e-01,\n",
              "            7.3604e-01, 8.5642e-01, 1.0346e-01, 6.1332e-01, 9.1401e-01],\n",
              "           [2.0996e-02, 6.2304e-01, 3.4166e-01, 1.7016e-01, 1.5993e-01,\n",
              "            7.7880e-01, 6.6960e-02, 6.0307e-01, 2.3387e-01, 8.1596e-02]],\n",
              " \n",
              "          [[4.8679e-01, 6.8898e-01, 9.9647e-02, 7.6185e-01, 5.3496e-01,\n",
              "            8.0347e-01, 3.5473e-01, 3.5910e-01, 6.1292e-01, 6.6849e-01],\n",
              "           [3.9797e-01, 5.0017e-01, 5.6026e-01, 7.0627e-01, 4.8103e-01,\n",
              "            1.9811e-01, 6.2225e-01, 9.5930e-01, 3.3504e-01, 1.6628e-01],\n",
              "           [1.0073e-01, 7.3057e-01, 8.2798e-01, 7.8507e-01, 3.8959e-01,\n",
              "            5.8752e-01, 4.5044e-01, 9.2574e-01, 8.0921e-01, 5.3554e-01],\n",
              "           [4.3883e-01, 5.9789e-01, 1.1399e-01, 3.1437e-01, 9.7472e-01,\n",
              "            7.2186e-01, 1.8294e-02, 5.3022e-01, 5.3313e-01, 1.4068e-03],\n",
              "           [5.0265e-01, 5.8987e-01, 3.4937e-01, 6.0608e-01, 5.0426e-01,\n",
              "            7.6941e-01, 6.3745e-01, 2.5880e-01, 6.3132e-01, 7.8925e-02],\n",
              "           [2.9304e-01, 9.8593e-01, 6.4903e-01, 1.4670e-01, 6.7927e-01,\n",
              "            5.9348e-01, 2.1301e-01, 2.4710e-01, 1.9082e-01, 1.3208e-01],\n",
              "           [5.1264e-01, 4.9158e-01, 6.9777e-01, 5.1603e-01, 3.2214e-01,\n",
              "            6.9230e-01, 7.5823e-01, 8.8536e-01, 1.0287e-01, 6.9424e-01],\n",
              "           [5.3714e-02, 2.9422e-01, 9.3328e-01, 3.8818e-01, 2.2747e-01,\n",
              "            4.4225e-01, 6.2791e-01, 9.4185e-01, 4.3189e-01, 5.9862e-01],\n",
              "           [6.0287e-01, 1.0363e-01, 7.5645e-01, 2.1669e-01, 2.2217e-02,\n",
              "            9.4168e-02, 2.3136e-01, 4.0796e-01, 3.0937e-01, 5.0639e-01],\n",
              "           [2.9727e-02, 8.0742e-02, 1.2581e-02, 8.5129e-01, 2.3708e-02,\n",
              "            2.2833e-02, 3.7521e-01, 6.8843e-01, 2.2381e-01, 8.4236e-01]],\n",
              " \n",
              "          [[7.2030e-01, 3.6915e-02, 1.1570e-01, 5.5811e-01, 5.5977e-01,\n",
              "            1.1796e-01, 9.7737e-01, 1.0501e-01, 3.2569e-02, 1.8800e-01],\n",
              "           [7.6164e-02, 9.0348e-02, 7.1011e-01, 3.1802e-01, 2.6111e-01,\n",
              "            3.2936e-01, 5.6513e-02, 3.9026e-01, 3.9650e-02, 6.5367e-01],\n",
              "           [3.4457e-01, 5.0052e-01, 9.5051e-01, 2.5824e-01, 6.6204e-01,\n",
              "            7.2051e-01, 3.7556e-01, 5.2940e-01, 1.7735e-01, 6.8138e-01],\n",
              "           [7.4105e-01, 6.5155e-01, 3.5381e-01, 7.3437e-01, 3.5813e-01,\n",
              "            6.3203e-01, 1.3617e-01, 6.6550e-01, 1.0499e-01, 4.3508e-01],\n",
              "           [1.6395e-02, 4.6257e-02, 7.0351e-02, 8.4894e-01, 1.9945e-01,\n",
              "            9.0429e-01, 7.1582e-01, 5.1382e-01, 5.0936e-01, 6.7407e-03],\n",
              "           [9.4091e-01, 2.1817e-01, 1.2298e-01, 4.7250e-01, 6.4219e-01,\n",
              "            9.7981e-01, 9.3967e-01, 1.8405e-01, 1.8534e-01, 4.2214e-01],\n",
              "           [6.4249e-01, 4.8776e-01, 2.6136e-02, 3.3928e-01, 8.0659e-01,\n",
              "            7.9029e-01, 3.9271e-01, 1.0465e-01, 9.2637e-01, 5.5317e-01],\n",
              "           [5.6710e-01, 5.4843e-02, 9.9362e-01, 7.7701e-01, 3.0434e-01,\n",
              "            9.1301e-02, 5.1375e-01, 4.8616e-01, 1.4168e-01, 3.8450e-01],\n",
              "           [4.8031e-01, 6.0906e-01, 5.7988e-01, 8.9832e-01, 1.8175e-01,\n",
              "            6.8680e-01, 4.8853e-01, 7.8961e-02, 8.0654e-01, 6.7915e-01],\n",
              "           [5.0771e-01, 1.5254e-01, 6.8468e-01, 7.9161e-01, 6.1302e-01,\n",
              "            9.8619e-01, 5.5895e-01, 7.5237e-01, 7.3017e-01, 4.2923e-01]]]]),\n",
              " tensor([[0.],\n",
              "         [0.]]))"
            ]
          },
          "metadata": {},
          "execution_count": 164
        }
      ]
    },
    {
      "cell_type": "markdown",
      "metadata": {
        "id": "HRVj-5ZoBuyH"
      },
      "source": [
        "### Task 2 [1pt]. Epsilon-greedy exploration\n",
        "\n",
        "Implement an epsilon-greedy exploration schedule."
      ]
    },
    {
      "cell_type": "code",
      "execution_count": null,
      "metadata": {
        "colab": {
          "base_uri": "https://localhost:8080/",
          "height": 451
        },
        "execution": {
          "iopub.execute_input": "2025-01-14T08:01:08.106300Z",
          "iopub.status.busy": "2025-01-14T08:01:08.105604Z",
          "iopub.status.idle": "2025-01-14T08:01:08.199154Z",
          "shell.execute_reply": "2025-01-14T08:01:08.198861Z",
          "shell.execute_reply.started": "2025-01-14T08:01:08.106248Z"
        },
        "id": "AYTRm1CruA6f",
        "outputId": "1129c45a-2929-429f-872f-9833efd48a18"
      },
      "outputs": [
        {
          "output_type": "execute_result",
          "data": {
            "text/plain": [
              "[<matplotlib.lines.Line2D at 0x7c52640d3a60>]"
            ]
          },
          "metadata": {},
          "execution_count": 13
        },
        {
          "output_type": "display_data",
          "data": {
            "text/plain": [
              "<Figure size 640x480 with 1 Axes>"
            ],
            "image/png": "[encoded data removed]"
          },
          "metadata": {}
        }
      ],
      "source": [
        "import math\n",
        "def get_epsilon_schedule(start=1.0, end=0.1, steps=500):\n",
        "    \"\"\" Returns either:\n",
        "        - a generator of epsilon values\n",
        "        - a function that receives the current step and returns an epsilon\n",
        "\n",
        "        The epsilon values returned by the generator or function need\n",
        "        to be degraded from the `start` value to the `end` within the number\n",
        "        of `steps` and then continue returning the `end` value indefinetly.\n",
        "\n",
        "        You can pick any schedule (exp, poly, etc.). I tested with linear decay.\n",
        "    \"\"\"\n",
        "    #I picked the exponential decay schedule\n",
        "    t=0\n",
        "    rate = -math.log(0.1) / steps\n",
        "    while True:\n",
        "      if t <= steps:\n",
        "        epsilon = end + (start - end) * math.exp(-rate * t)\n",
        "      else:\n",
        "        epsilon = end\n",
        "      yield epsilon\n",
        "      t += 1\n",
        "\n",
        "\n",
        "\n",
        "# test it, it needs to look nice\n",
        "epsilon = get_epsilon_schedule(1.0, 0.1, 100)\n",
        "plt.plot([next(epsilon) for _ in range(500)])\n"
      ]
    },
    {
      "cell_type": "markdown",
      "metadata": {
        "id": "dPeDNQ4_ej6e"
      },
      "source": [
        "### Neural Network Function Approximation\n",
        "\n",
        "Before we continue, take a look at the neural network we defined for you."
      ]
    },
    {
      "cell_type": "code",
      "execution_count": null,
      "metadata": {
        "execution": {
          "iopub.execute_input": "2025-01-14T08:02:50.631051Z",
          "iopub.status.busy": "2025-01-14T08:02:50.630570Z",
          "iopub.status.idle": "2025-01-14T08:02:50.636573Z",
          "shell.execute_reply": "2025-01-14T08:02:50.635676Z",
          "shell.execute_reply.started": "2025-01-14T08:02:50.631025Z"
        },
        "id": "WJVwmKxiPtBZ"
      },
      "outputs": [],
      "source": [
        "def get_estimator(action_num, input_ch=3, cnv_width=32, lin_width=64):\n",
        "    return nn.Sequential(\n",
        "        nn.Conv2d(input_ch, cnv_width, kernel_size=3),\n",
        "        nn.ReLU(inplace=True),\n",
        "        nn.Conv2d(cnv_width, cnv_width, kernel_size=3),\n",
        "        nn.ReLU(inplace=True),\n",
        "        nn.Conv2d(cnv_width, cnv_width, kernel_size=2),\n",
        "        nn.ReLU(inplace=True),\n",
        "        nn.Flatten(),\n",
        "        nn.Linear(25 * cnv_width, lin_width),  # number of pixels in the feature map\n",
        "        nn.ReLU(inplace=True),\n",
        "        nn.Linear(lin_width, action_num),\n",
        "    ).to(DEVICE)"
      ]
    },
    {
      "cell_type": "markdown",
      "metadata": {
        "id": "JOW_OQQ7CBQi"
      },
      "source": [
        "### Task 3. Deep Q-Network algorithm\n",
        "\n",
        "You will have to implement the following:\n",
        "\n",
        "- a) `step()` method [1pt]\n",
        "- b) `learn()` method [1pts]\n",
        "- c) `_update()` method [4pts]"
      ]
    },
    {
      "cell_type": "code",
      "execution_count": null,
      "metadata": {
        "execution": {
          "iopub.execute_input": "2025-01-14T08:06:53.274824Z",
          "iopub.status.busy": "2025-01-14T08:06:53.274532Z",
          "iopub.status.idle": "2025-01-14T08:06:53.287860Z",
          "shell.execute_reply": "2025-01-14T08:06:53.286901Z",
          "shell.execute_reply.started": "2025-01-14T08:06:53.274806Z"
        },
        "id": "KtLpVEj2sKsa"
      },
      "outputs": [],
      "source": [
        "class DQN:\n",
        "    def __init__(\n",
        "        self,\n",
        "        estimator,\n",
        "        buffer,\n",
        "        optimizer,\n",
        "        epsilon_schedule,\n",
        "        action_num,\n",
        "        gamma=0.92,\n",
        "        update_steps=4,\n",
        "        update_target_steps=10,\n",
        "        warmup_steps=100,\n",
        "    ):\n",
        "        self._estimator = estimator\n",
        "        self._target_estimator = deepcopy(estimator)\n",
        "        self._buffer = buffer\n",
        "        self._optimizer = optimizer\n",
        "        self._epsilon = epsilon_schedule\n",
        "        self._action_num = action_num\n",
        "        self._gamma = gamma\n",
        "        self._update_steps=update_steps\n",
        "        self._update_target_steps=update_target_steps\n",
        "        self._warmup_steps = warmup_steps\n",
        "        self._step_cnt = 0\n",
        "        assert warmup_steps > self._buffer._batch_size, (\n",
        "            \"You should have at least a batch in the ER.\")\n",
        "\n",
        "    def step(self, state):\n",
        "        # implement an epsilon greedy policy using the\n",
        "        # estimator and epsilon schedule attributes.\n",
        "\n",
        "        # warning, you should make sure you are not including\n",
        "        # this step into torch computation graph (remember torch.detach()\n",
        "        # and torch.no_grad())\n",
        "\n",
        "        # TODO: return the action according to the self._epsilon schedule\n",
        "        # you defined earlier\n",
        "        with torch.no_grad():\n",
        "          if torch.rand(1)<(1-next(self._epsilon)):\n",
        "            u=self._estimator(state).argmax()\n",
        "          else:\n",
        "            u=torch.randint(low=0,high=2,size=(1,1))\n",
        "        return u.item()\n",
        "\n",
        "\n",
        "    def learn(self, state, action, reward, state_, done):\n",
        "\n",
        "        # TODO: add transition to the experience replay\n",
        "        self._buffer.push((state,action,reward,state_,done))\n",
        "\n",
        "        if self._step_cnt < self._warmup_steps:\n",
        "            self._step_cnt += 1\n",
        "            return\n",
        "\n",
        "        # TODO: sample from experience replay and do an update\n",
        "        if self._step_cnt % self._update_steps == 0:\n",
        "            states, actions, rewards, states_, done=self._buffer.sample()\n",
        "            self._update(states, actions, rewards, states_, done)\n",
        "\n",
        "\n",
        "        # TODO: update the target estimator (hint, use pytorch state_dict methods)\n",
        "        if self._step_cnt % self._update_target_steps == 0:\n",
        "          self._target_estimator.load_state_dict(self._estimator.state_dict())\n",
        "\n",
        "        self._step_cnt += 1\n",
        "\n",
        "    def _update(self, states, actions, rewards, states_, done):\n",
        "        # TODO: compute the Deep Q-Network update. Careful not to include the\n",
        "        # target network in the computational graph.\n",
        "\n",
        "        # Compute Q(s, * | θ) and Q(s', . | θ^)\n",
        "        q_values = self._estimator(states)\n",
        "        with torch.no_grad():\n",
        "          q_values_ = self._target_estimator(states_)\n",
        "\n",
        "        # compute Q(s, a) and max_a' Q(s', a')\n",
        "        #can use gather method from torch\n",
        "        actions = actions.to(torch.int64)\n",
        "        qsa = q_values.gather(1,actions)\n",
        "        qsa_ = q_values_.max(1,keepdim=True)[0]\n",
        "        qsa_ = qsa_ * (1 - done)\n",
        "\n",
        "        # compute target values\n",
        "        target_qsa = rewards + self._gamma * qsa_\n",
        "\n",
        "        # at this step you should check the target values\n",
        "        # are looking about right :). You can use this code.\n",
        "        # if rewards.squeeze().sum().item() > 0.0:\n",
        "        #     print(\"R: \", rewards.squeeze())\n",
        "        #     print(\"T: \", target_qsa.squeeze())\n",
        "        #     print(\"D: \", done.squeeze())\n",
        "\n",
        "        # compute the loss and average it over the entire batch\n",
        "        loss = torch.nn.functional.mse_loss(qsa,target_qsa)\n",
        "\n",
        "        # backprop and optimize\n",
        "        self._optimizer.zero_grad()\n",
        "        loss.backward()\n",
        "        self._optimizer.step()\n"
      ]
    },
    {
      "cell_type": "code",
      "source": [
        "env = Gym(\"breakout\")"
      ],
      "metadata": {
        "colab": {
          "base_uri": "https://localhost:8080/"
        },
        "id": "UnOcvUm3G0G6",
        "outputId": "c5c2dd52-a700-45f0-a45a-ccc1f3185543"
      },
      "execution_count": null,
      "outputs": [
        {
          "output_type": "stream",
          "name": "stdout",
          "text": [
            "breakout: [0, 1, 3] actions  |  state shape [10, 10, 4]\n"
          ]
        }
      ]
    },
    {
      "cell_type": "markdown",
      "metadata": {
        "id": "xjOnNTU7Cfh3"
      },
      "source": [
        "If your implementation is correct you should be able to run the following cell without errors.\n",
        "\n",
        "The average episodic return should reach 5.0 with a proper implementation."
      ]
    },
    {
      "cell_type": "code",
      "execution_count": null,
      "metadata": {
        "colab": {
          "base_uri": "https://localhost:8080/",
          "height": 1000
        },
        "execution": {
          "iopub.execute_input": "2025-01-14T08:09:23.240850Z",
          "iopub.status.busy": "2025-01-14T08:09:23.240348Z",
          "iopub.status.idle": "2025-01-14T08:13:57.906907Z",
          "shell.execute_reply": "2025-01-14T08:13:57.906625Z",
          "shell.execute_reply.started": "2025-01-14T08:09:23.240822Z"
        },
        "id": "lX5zAQQ9oAFL",
        "outputId": "0a5de715-b5e5-4d17-8975-89a28ed2290a"
      },
      "outputs": [
        {
          "output_type": "stream",
          "name": "stdout",
          "text": [
            "breakout: [0, 1, 3] actions  |  state shape [10, 10, 4]\n",
            "[ 50][   335], R/ep=  0.10, steps/ep= 7.\n",
            "[100][   655], R/ep=  0.00, steps/ep= 6.\n",
            "[150][  1025], R/ep=  0.30, steps/ep= 9.\n",
            "[200][  1465], R/ep=  0.40, steps/ep=10.\n",
            "[250][  2027], R/ep=  0.80, steps/ep=14.\n",
            "[300][  2601], R/ep=  0.40, steps/ep=10.\n",
            "[350][  3263], R/ep=  0.60, steps/ep=12.\n",
            "[400][  4229], R/ep=  1.60, steps/ep=23.\n",
            "[450][  5119], R/ep=  1.50, steps/ep=22.\n",
            "[500][  6203], R/ep=  1.40, steps/ep=21.\n",
            "[550][  7439], R/ep=  2.80, steps/ep=35.\n",
            "[600][  9007], R/ep=  2.10, steps/ep=28.\n",
            "[650][ 11107], R/ep=  2.80, steps/ep=35.\n",
            "[700][ 13537], R/ep=  4.20, steps/ep=51.\n",
            "[750][ 15937], R/ep=  3.10, steps/ep=39.\n",
            "[800][ 18895], R/ep=  6.10, steps/ep=71.\n",
            "[850][ 21311], R/ep=  5.00, steps/ep=60.\n",
            "[900][ 23843], R/ep=  4.80, steps/ep=58.\n",
            "[950][ 26813], R/ep=  4.40, steps/ep=53.\n",
            "[1000][ 29877], R/ep=  5.20, steps/ep=62.\n",
            "[1050][ 32705], R/ep=  3.20, steps/ep=41.\n",
            "[1100][ 35497], R/ep=  3.60, steps/ep=45.\n",
            "[1150][ 38483], R/ep=  6.00, steps/ep=71.\n",
            "[1200][ 41847], R/ep=  7.00, steps/ep=83.\n",
            "[1250][ 44753], R/ep=  3.50, steps/ep=44.\n",
            "[1300][ 48035], R/ep=  5.60, steps/ep=66.\n",
            "[1350][ 51237], R/ep=  5.40, steps/ep=65.\n",
            "[1400][ 55005], R/ep=  6.50, steps/ep=76.\n",
            "[1450][ 58203], R/ep=  3.90, steps/ep=47.\n",
            "[1500][ 61031], R/ep=  4.50, steps/ep=55.\n",
            "[1550][ 64135], R/ep=  5.70, steps/ep=62.\n",
            "[1600][ 68125], R/ep=  9.30, steps/ep=103.\n",
            "[1650][ 71359], R/ep=  5.20, steps/ep=62.\n",
            "[1700][ 75003], R/ep=  6.50, steps/ep=77.\n",
            "[1750][ 78537], R/ep=  5.80, steps/ep=68.\n",
            "[1800][ 81541], R/ep=  6.20, steps/ep=72.\n",
            "[1850][ 85367], R/ep=  7.10, steps/ep=83.\n",
            "[1900][ 88801], R/ep=  6.00, steps/ep=71.\n",
            "[1950][ 92137], R/ep=  5.70, steps/ep=67.\n",
            "[2000][ 95485], R/ep=  5.80, steps/ep=69.\n",
            "[2050][ 98897], R/ep=  4.80, steps/ep=58.\n",
            "[2069][ 99999], R/ep=  3.80, steps/ep=46.\n"
          ]
        },
        {
          "output_type": "display_data",
          "data": {
            "text/plain": [
              "<Figure size 1000x600 with 1 Axes>"
            ],
            "image/png": "[encoded data removed]"
          },
          "metadata": {}
        }
      ],
      "source": [
        "env = Gym(\"breakout\")\n",
        "net = get_estimator(env.num_action, input_ch=env.observation_shape[1], cnv_width=16)\n",
        "\n",
        "stats = train(\n",
        "    DQN(\n",
        "        net,\n",
        "        ReplayMemory(size=10_000, batch_size=32),\n",
        "        O.Adam(net.parameters(), lr=1e-3, eps=1e-5),\n",
        "        get_epsilon_schedule(start=1.0, end=0.05, steps=10_000),\n",
        "        env.num_action,\n",
        "        warmup_steps=100,\n",
        "        update_steps=1,\n",
        "    ),\n",
        "    env,\n",
        "    step_num=100_000,  # change the experiment length if it's learning but not reaching about 5.0\n",
        "    log_freq=50       # you can change this\n",
        ")\n",
        "\n",
        "# go ahead an plot the training stats\n",
        "plot_stats(stats, window=50)"
      ]
    },
    {
      "cell_type": "markdown",
      "metadata": {
        "id": "75f9cj3cBO3l"
      },
      "source": [
        "### Task 4. Deep Q-Network algorithm [not graded]\n",
        "\n",
        "For the curiously inclined, one of the popular extensions to DQN is Double DQN, a simple modification which computes the target based on the target network value of the optimal actions of the online network.\n",
        "\n",
        "To implement this algorithm you only need to change the `_update` method below.\n",
        "\n",
        "For reference you can use: [Deep Reinforcement Learning with Double Q-Learning](https://arxiv.org/abs/1509.06461)."
      ]
    },
    {
      "cell_type": "code",
      "execution_count": null,
      "metadata": {
        "id": "9bknZF0pPuQR"
      },
      "outputs": [],
      "source": [
        "class DoubleDQN(DQN):\n",
        "    def _update(self, states, actions, rewards, states_, done):\n",
        "        # TODO: compute the Deep Q-Network update. Careful not to include the\n",
        "        # target network in the computational graph.\n",
        "        actions = actions.to(torch.int64)\n",
        "\n",
        "\n",
        "        # Compute Q(s, * | θ) and Q(s', . | θ^)\n",
        "        q_values = self._estimator(states)\n",
        "        qsa = q_values.gather(1,actions)\n",
        "        act_size=actions.size()\n",
        "        #print(actions.size())\n",
        "\n",
        "        with torch.no_grad():\n",
        "          q_values_online_ = self._estimator(states_)#compute future states q_values\n",
        "          optim_actions_online = q_values_online_.argmax(1)#extracting the best actions from the future state\n",
        "          #print(optim_actions_online.size())\n",
        "\n",
        "          q_values_=self._target_estimator(states_)\n",
        "          qsa_ = q_values_.gather(1,optim_actions_online.view(act_size[0],act_size[1]))#using target network to evaluate the value of the chosen actions\n",
        "          qsa_ = qsa_ * (1 - done)\n",
        "\n",
        "\n",
        "        # compute target values\n",
        "        target_qsa = rewards + self._gamma * qsa_\n",
        "\n",
        "        # at this step you should check the target values\n",
        "        # are looking about right :). You can use this code.\n",
        "        # if rewards.squeeze().sum().item() > 0.0:\n",
        "        #     print(\"R: \", rewards.squeeze())\n",
        "        #     print(\"T: \", target_qsa.squeeze())\n",
        "        #     print(\"D: \", done.squeeze())\n",
        "\n",
        "        # compute the loss and average it over the entire batch\n",
        "        loss = torch.nn.functional.mse_loss(qsa,target_qsa)\n",
        "\n",
        "        # backprop and optimize\n",
        "        self._optimizer.zero_grad()\n",
        "        loss.backward()\n",
        "        self._optimizer.step()"
      ]
    },
    {
      "cell_type": "code",
      "execution_count": null,
      "metadata": {
        "colab": {
          "base_uri": "https://localhost:8080/"
        },
        "id": "8V4DXQS4QwwU",
        "outputId": "2a9fdb92-f87b-4d33-d20e-8ecc733586bc"
      },
      "outputs": [
        {
          "output_type": "stream",
          "name": "stdout",
          "text": [
            "breakout: [0, 1, 3] actions  |  state shape [10, 10, 4]\n",
            "[ 50][   345], R/ep=  0.20, steps/ep= 8.\n",
            "[100][   665], R/ep=  0.20, steps/ep= 8.\n",
            "[150][   985], R/ep=  0.10, steps/ep= 7.\n",
            "[200][  1455], R/ep=  0.40, steps/ep=10.\n",
            "[250][  1917], R/ep=  0.30, steps/ep= 9.\n",
            "[300][  2513], R/ep=  1.00, steps/ep=16.\n",
            "[350][  3175], R/ep=  1.10, steps/ep=17.\n",
            "[400][  4145], R/ep=  0.90, steps/ep=15.\n",
            "[450][  5109], R/ep=  1.10, steps/ep=17.\n",
            "[500][  6323], R/ep=  1.80, steps/ep=25.\n",
            "[550][  7685], R/ep=  2.30, steps/ep=30.\n",
            "[600][  9403], R/ep=  2.50, steps/ep=33.\n",
            "[650][ 11167], R/ep=  3.30, steps/ep=41.\n",
            "[700][ 13033], R/ep=  2.90, steps/ep=37.\n",
            "[750][ 15633], R/ep=  4.00, steps/ep=49.\n",
            "[800][ 18113], R/ep=  4.10, steps/ep=50.\n",
            "[850][ 20933], R/ep=  4.60, steps/ep=56.\n",
            "[900][ 23867], R/ep=  3.30, steps/ep=41.\n",
            "[950][ 26829], R/ep=  4.00, steps/ep=49.\n",
            "[1000][ 30023], R/ep=  5.90, steps/ep=70.\n",
            "[1050][ 33067], R/ep=  6.50, steps/ep=77.\n",
            "[1100][ 36499], R/ep=  6.20, steps/ep=73.\n",
            "[1150][ 39915], R/ep=  4.70, steps/ep=57.\n",
            "[1200][ 43483], R/ep=  7.00, steps/ep=83.\n",
            "[1250][ 46783], R/ep=  5.20, steps/ep=62.\n",
            "[1300][ 50149], R/ep=  3.70, steps/ep=46.\n",
            "[1350][ 52757], R/ep=  3.50, steps/ep=44.\n",
            "[1400][ 55843], R/ep=  4.50, steps/ep=54.\n",
            "[1450][ 58581], R/ep=  4.90, steps/ep=58.\n",
            "[1500][ 61297], R/ep=  5.00, steps/ep=60.\n",
            "[1550][ 64449], R/ep=  6.30, steps/ep=75.\n",
            "[1600][ 67753], R/ep=  3.90, steps/ep=48.\n",
            "[1650][ 71349], R/ep=  6.30, steps/ep=75.\n",
            "[1700][ 74843], R/ep=  5.00, steps/ep=60.\n",
            "[1750][ 78051], R/ep=  5.30, steps/ep=63.\n",
            "[1800][ 81525], R/ep=  5.00, steps/ep=60.\n",
            "[1850][ 84553], R/ep=  4.80, steps/ep=58.\n",
            "[1900][ 88311], R/ep=  5.70, steps/ep=67.\n",
            "[1950][ 91595], R/ep=  6.30, steps/ep=75.\n",
            "[2000][ 94399], R/ep=  3.80, steps/ep=46.\n",
            "[2050][ 98043], R/ep=  6.50, steps/ep=76.\n",
            "[2094][ 99999], R/ep=  4.20, steps/ep=52.\n"
          ]
        }
      ],
      "source": [
        "env = Gym(\"breakout\")\n",
        "net = get_estimator(env.num_action, input_ch=env.observation_shape[1], cnv_width=16)\n",
        "\n",
        "stats = train(\n",
        "    DoubleDQN(\n",
        "        net,\n",
        "        ReplayMemory(size=10_000, batch_size=32),\n",
        "        O.Adam(net.parameters(), lr=1e-3, eps=1e-5),\n",
        "        get_epsilon_schedule(start=1.0, end=0.05, steps=10_000),\n",
        "        env.num_action,\n",
        "        warmup_steps=100,\n",
        "        update_steps=1,\n",
        "    ),\n",
        "    env,\n",
        "    step_num=100_000,  # change the experiment length if it's learning but not reaching about 5.0\n",
        "    log_freq=50       # you can change this\n",
        ")"
      ]
    },
    {
      "cell_type": "code",
      "execution_count": null,
      "metadata": {
        "colab": {
          "base_uri": "https://localhost:8080/",
          "height": 551
        },
        "id": "ljdbMokWRXUM",
        "outputId": "e6ddc823-2b7c-4fa9-a061-9966b25c2926"
      },
      "outputs": [
        {
          "output_type": "display_data",
          "data": {
            "text/plain": [
              "<Figure size 1000x600 with 1 Axes>"
            ],
            "image/png": "[encoded data removed]"
          },
          "metadata": {}
        }
      ],
      "source": [
        "plot_stats(stats, window=50)"
      ]
    }
  ],
  "metadata": {
    "accelerator": "GPU",
    "colab": {
      "provenance": []
    },
    "kernelspec": {
      "display_name": "Python 3 (ipykernel)",
      "language": "python",
      "name": "python3"
    },
    "language_info": {
      "codemirror_mode": {
        "name": "ipython",
        "version": 3
      },
      "file_extension": ".py",
      "mimetype": "text/x-python",
      "name": "python",
      "nbconvert_exporter": "python",
      "pygments_lexer": "ipython3",
      "version": "3.12.8"
    }
  },
  "nbformat": 4,
  "nbformat_minor": 0
}