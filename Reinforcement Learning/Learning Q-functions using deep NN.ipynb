{
  "cells": [
    {
      "cell_type": "markdown",
      "metadata": {
        "id": "b0XnD3x1-C44"
      },
      "source": [
        "# Neural Networks in PyTorch\n",
        "\n",
        "## Lab policy\n",
        "\n",
        "- This lab is a mandatory part of the \"Reinforcement Learning\" course.\n",
        "The solution is graded from 0 to 10.\n",
        "The average of the Python labs counts for 50% of the final grade.\n",
        "\n",
        "- This lab is to be solved **individually**.\n",
        "\n",
        "- The solution consists of a copy of this notebook, containing your implementations and algorithm analysis.\n",
        "It will be sent by email to florin.gogianu@gmail.com.\n",
        "\n",
        "- The deadline for submitting the solution is **December 17, 2024, by 23:59**.\n",
        "Late submission is accepted, but the maximum grade is reduced by half: 5 points.\n",
        "The time required to complete the lab depends on experience with Python programming, but part of the work will need to be done at home.\n",
        "It is strongly recommended that you do not wait until right before the deadline to finish the solution.\n",
        "\n",
        "- Discussion of ideas between groups is encouraged, but reusing code or reports (even partially) is not allowed. **Violation of this rule (copying) will result in immediate loss of the right to take the exam**.\n",
        "\n",
        "- A discussion session will be organized where the contribution of each student will be determined through detailed technical questions, including questions related to Python implementation."
      ]
    },
    {
      "cell_type": "markdown",
      "metadata": {
        "id": "Su_o6fbJbLMl"
      },
      "source": [
        "## Part I: Basic tensor operations\n",
        "---"
      ]
    },
    {
      "cell_type": "markdown",
      "metadata": {
        "id": "wK8vJCF8FKh1"
      },
      "source": [
        "![Source: DataCamp](https://i.imgur.com/1Ai1wAB.jpg)\n",
        "*Image source: [DataCamp](https://www.datacamp.com/)*"
      ]
    },
    {
      "cell_type": "markdown",
      "metadata": {
        "id": "c8xdT_QTpTG0"
      },
      "source": [
        "### Initializing tensors"
      ]
    },
    {
      "cell_type": "markdown",
      "metadata": {
        "id": "x4Hj0QIU-_F3"
      },
      "source": [
        "PyTorch supports tensors and provides a lot of useful tensor operations. Let's play with some of them. When in doubt, look up function definitions and examples of use in the official PyTorch documentation https://pytorch.org/docs/stable/tensors.html"
      ]
    },
    {
      "cell_type": "code",
      "execution_count": null,
      "metadata": {
        "id": "vikLrtsj4S1C"
      },
      "outputs": [],
      "source": [
        "import torch\n",
        "import numpy"
      ]
    },
    {
      "cell_type": "markdown",
      "metadata": {
        "id": "qmq6OqEQxaI3"
      },
      "source": [
        "### Create tensor from existing data\n",
        "Let's create our first tensor from a list."
      ]
    },
    {
      "cell_type": "code",
      "execution_count": null,
      "metadata": {
        "colab": {
          "base_uri": "https://localhost:8080/"
        },
        "id": "THoKHTPpxksq",
        "outputId": "00d91f5b-fb5c-425a-ba7b-8d6ec1583877"
      },
      "outputs": [
        {
          "name": "stdout",
          "output_type": "stream",
          "text": [
            "tensor([1., 2., 3.])\n"
          ]
        }
      ],
      "source": [
        "x = torch.tensor([1, 2, 3.0])\n",
        "print(x)"
      ]
    },
    {
      "cell_type": "markdown",
      "metadata": {
        "id": "Pv8hi9gQz6nc"
      },
      "source": [
        "### Hardware acceleration\n",
        "\n",
        "PyTorch can use various hardware accelerators such as GPUs, TPUs (Tensor Processing Unit, google it :) ), ARM co-processors for efficient matrix operations.\n",
        "\n",
        "For taking advantage of accelerators we first need to load the tensor into the memory of the device.\n",
        "\n",
        "Where is our Tensor located? To find out whether the tensor is loaded into RAM or resides on the GPU, inspect the ```.device``` attribute."
      ]
    },
    {
      "cell_type": "code",
      "execution_count": null,
      "metadata": {
        "colab": {
          "base_uri": "https://localhost:8080/"
        },
        "id": "cHpH3egk0R7w",
        "outputId": "1490df10-d432-42ea-f827-0f415a857e64"
      },
      "outputs": [
        {
          "name": "stdout",
          "output_type": "stream",
          "text": [
            "cpu\n"
          ]
        }
      ],
      "source": [
        "print(x.device)"
      ]
    },
    {
      "cell_type": "markdown",
      "metadata": {
        "id": "FUiHzCS90iTp"
      },
      "source": [
        "To move Tensor to either CPU/GPU, call function ```.to()``` on the Tensor object with the argument ```device='cpu'``` or ```device='cuda'```."
      ]
    },
    {
      "cell_type": "code",
      "execution_count": null,
      "metadata": {
        "colab": {
          "base_uri": "https://localhost:8080/"
        },
        "id": "TBlpfZkT07YJ",
        "outputId": "46b8e02e-74eb-4441-a40e-8f978a65ad33"
      },
      "outputs": [
        {
          "name": "stdout",
          "output_type": "stream",
          "text": [
            "cuda:0\n"
          ]
        }
      ],
      "source": [
        "x = x.to('cuda')\n",
        "print(x.device)"
      ]
    },
    {
      "cell_type": "markdown",
      "metadata": {
        "id": "UBLNpqjk19EB"
      },
      "source": [
        "Let's move the Tensor back to the CPU."
      ]
    },
    {
      "cell_type": "code",
      "execution_count": null,
      "metadata": {
        "colab": {
          "base_uri": "https://localhost:8080/"
        },
        "id": "w2BldyIC1TIH",
        "outputId": "ace9f06a-68c8-4514-bdd8-b8254a63d29f"
      },
      "outputs": [
        {
          "name": "stdout",
          "output_type": "stream",
          "text": [
            "cpu\n"
          ]
        }
      ],
      "source": [
        "x = x.to('cpu')\n",
        "print(x.device)"
      ]
    },
    {
      "cell_type": "markdown",
      "metadata": {
        "id": "Z4aU54Z4EP81"
      },
      "source": [
        "### Shapes"
      ]
    },
    {
      "cell_type": "markdown",
      "metadata": {
        "id": "506y9zrpzXhQ"
      },
      "source": [
        "What is the size of our Tensor? To find out, call ```.size()``` or the attribute ```.shape``` on the Tensor object."
      ]
    },
    {
      "cell_type": "code",
      "execution_count": null,
      "metadata": {
        "colab": {
          "base_uri": "https://localhost:8080/"
        },
        "id": "zYUU_Hpwzxfy",
        "outputId": "7c895495-02a9-433a-b200-55f72b4f23ba"
      },
      "outputs": [
        {
          "name": "stdout",
          "output_type": "stream",
          "text": [
            "torch.Size([3])\n",
            "torch.Size([3])\n"
          ]
        }
      ],
      "source": [
        "print(x.size())\n",
        "print(x.shape)"
      ]
    },
    {
      "cell_type": "markdown",
      "metadata": {
        "id": "8EuBazM72G8N"
      },
      "source": [
        "Let's now create 2 other Tensors of different shapes."
      ]
    },
    {
      "cell_type": "code",
      "execution_count": null,
      "metadata": {
        "colab": {
          "base_uri": "https://localhost:8080/"
        },
        "id": "P7Xa1Mz71VGU",
        "outputId": "881384c4-280c-4513-c1d3-c3645d60e1a5"
      },
      "outputs": [
        {
          "name": "stdout",
          "output_type": "stream",
          "text": [
            "tensor([[1., 2., 3.],\n",
            "        [4., 5., 6.]])\n",
            "tensor([[[3, 7],\n",
            "         [6, 1]],\n",
            "\n",
            "        [[0, 9],\n",
            "         [2, 5]]])\n"
          ]
        }
      ],
      "source": [
        "y = torch.tensor([[1, 2, 3],\n",
        "                  [4, 5, 6.0]])\n",
        "z = torch.tensor([[[3, 7], [6, 1]],\n",
        "                  [[0, 9], [2, 5]]])\n",
        "print(y)\n",
        "print(z)"
      ]
    },
    {
      "cell_type": "markdown",
      "metadata": {
        "id": "Gzmsuz_t2qkT"
      },
      "source": [
        "What are the shapes and types of ```y``` and ```z```?"
      ]
    },
    {
      "cell_type": "code",
      "execution_count": null,
      "metadata": {
        "colab": {
          "base_uri": "https://localhost:8080/"
        },
        "id": "9n-cf3EB2wAG",
        "outputId": "6f84152a-91af-44ff-9661-f0b2e920d7ee"
      },
      "outputs": [
        {
          "name": "stdout",
          "output_type": "stream",
          "text": [
            "y shape:  torch.Size([2, 3])\n",
            "z shape:  torch.Size([2, 2, 2])\n",
            "y type:  torch.float32\n",
            "z type:  torch.int64\n",
            "6\n"
          ]
        }
      ],
      "source": [
        "print('y shape: ', y.size())\n",
        "print('z shape: ', z.size())\n",
        "print('y type: ', y.dtype)\n",
        "print('z type: ', z.dtype)\n",
        "\n",
        "print(y.nelement())"
      ]
    },
    {
      "cell_type": "markdown",
      "metadata": {
        "id": "Lb9Q_G8j3Hlf"
      },
      "source": [
        "### Create tensor using predefined operations\n",
        "\n",
        "Let's create a Tensor and populate it with random numbers. We can call the [```torch.rand()```](https://pytorch.org/docs/stable/generated/torch.rand.html#torch.rand) function, which populates the Tensor with numbers from U(0, 1). The function requires the dimensions of the Tensor as arguments."
      ]
    },
    {
      "cell_type": "code",
      "execution_count": null,
      "metadata": {
        "colab": {
          "base_uri": "https://localhost:8080/"
        },
        "id": "DViUnz8s4-Q1",
        "outputId": "9ac6d6de-2ad4-48bd-f226-b7cba4bf5bd0"
      },
      "outputs": [
        {
          "name": "stdout",
          "output_type": "stream",
          "text": [
            "tensor([[0.2781, 0.4460, 0.2026],\n",
            "        [0.9435, 0.6094, 0.2496]])\n"
          ]
        }
      ],
      "source": [
        "x = torch.rand(2, 3)\n",
        "print(x)"
      ]
    },
    {
      "cell_type": "markdown",
      "metadata": {
        "id": "G2GojP_p6Fdf"
      },
      "source": [
        "To create a Tensor filled with 1s, use the function ```torch.ones()```."
      ]
    },
    {
      "cell_type": "code",
      "execution_count": null,
      "metadata": {
        "colab": {
          "base_uri": "https://localhost:8080/"
        },
        "id": "TrU9Rhyt4xmI",
        "outputId": "80dd3088-87c2-49c2-f2ac-fd3520e1fb55"
      },
      "outputs": [
        {
          "name": "stdout",
          "output_type": "stream",
          "text": [
            "2D Tensor: \n",
            "tensor([[1., 1., 1.],\n",
            "        [1., 1., 1.],\n",
            "        [1., 1., 1.]])\n",
            "type: torch.float32\n"
          ]
        }
      ],
      "source": [
        "x = torch.ones(3, 3)  # Creates a 3x3 2D Tensor initialized with 1s\n",
        "print(f'2D Tensor: \\n{x}')\n",
        "print(f'type: {x.dtype}')"
      ]
    },
    {
      "cell_type": "markdown",
      "metadata": {
        "id": "u6NOosp56VCS"
      },
      "source": [
        "To create a Tensor filled with zeros, use the function ```torch.zeros()```."
      ]
    },
    {
      "cell_type": "code",
      "execution_count": null,
      "metadata": {
        "colab": {
          "base_uri": "https://localhost:8080/"
        },
        "id": "VWe0uEwP40G0",
        "outputId": "404e40a5-9101-42bd-e100-fb682b343c70"
      },
      "outputs": [
        {
          "name": "stdout",
          "output_type": "stream",
          "text": [
            "3D Tensor: \n",
            "tensor([[[0., 0., 0.],\n",
            "         [0., 0., 0.],\n",
            "         [0., 0., 0.]],\n",
            "\n",
            "        [[0., 0., 0.],\n",
            "         [0., 0., 0.],\n",
            "         [0., 0., 0.]],\n",
            "\n",
            "        [[0., 0., 0.],\n",
            "         [0., 0., 0.],\n",
            "         [0., 0., 0.]]])\n",
            "type: torch.float32\n"
          ]
        }
      ],
      "source": [
        "x = torch.zeros(3, 3, 3)  # Creates a 3x3x3 3D Tensor initialized with 0s\n",
        "print(f'3D Tensor: \\n{x}')\n",
        "print(f'type: {x.dtype}')"
      ]
    },
    {
      "cell_type": "markdown",
      "metadata": {
        "id": "bvEiKe527O6k"
      },
      "source": [
        "#### Task 1a [0.5pt]:\n",
        "\n",
        "Create a 2D Tensor of size 100x100 representing an identity matrix. Use a predefined ```PyTorch``` operation (hint: look up function in the documentation - section Creation Ops [link to documentation](https://pytorch.org/docs/stable/torch.html#tensor-creation-ops))"
      ]
    },
    {
      "cell_type": "code",
      "execution_count": null,
      "metadata": {
        "colab": {
          "base_uri": "https://localhost:8080/"
        },
        "id": "QxUk3EuI25j0",
        "outputId": "6c4ac97d-e4fe-466c-bc32-62eee3b2bbf2"
      },
      "outputs": [
        {
          "name": "stdout",
          "output_type": "stream",
          "text": [
            "tensor([[1., 0., 0.,  ..., 0., 0., 0.],\n",
            "        [0., 1., 0.,  ..., 0., 0., 0.],\n",
            "        [0., 0., 1.,  ..., 0., 0., 0.],\n",
            "        ...,\n",
            "        [0., 0., 0.,  ..., 1., 0., 0.],\n",
            "        [0., 0., 0.,  ..., 0., 1., 0.],\n",
            "        [0., 0., 0.,  ..., 0., 0., 1.]])\n",
            "torch.Size([100, 100])\n"
          ]
        }
      ],
      "source": [
        "x = torch.eye(100,100)\n",
        "\n",
        "print(x)\n",
        "print(x.size())"
      ]
    },
    {
      "cell_type": "markdown",
      "metadata": {
        "id": "WcxUFXsU40P3"
      },
      "source": [
        "You can create an interval \\[```start_index```, ```stop_index```) using the [```torch.arange()```](https://pytorch.org/docs/stable/generated/torch.arange.html#torch.arange) function."
      ]
    },
    {
      "cell_type": "code",
      "execution_count": null,
      "metadata": {
        "colab": {
          "base_uri": "https://localhost:8080/"
        },
        "id": "kGdXZEMsExbR",
        "outputId": "3ba7a562-e49b-4979-cf5c-bb603a370451"
      },
      "outputs": [
        {
          "name": "stdout",
          "output_type": "stream",
          "text": [
            "tensor([0, 1, 2, 3, 4, 5, 6, 7, 8, 9])\n"
          ]
        }
      ],
      "source": [
        "x = torch.arange(start=0, end=10)\n",
        "print(x)"
      ]
    },
    {
      "cell_type": "markdown",
      "metadata": {
        "id": "6xw5d8iqE3wh"
      },
      "source": [
        "If you want steps > 1, use the ```step``` argument"
      ]
    },
    {
      "cell_type": "code",
      "execution_count": null,
      "metadata": {
        "colab": {
          "base_uri": "https://localhost:8080/"
        },
        "id": "QnhBG0YMFDVd",
        "outputId": "c2af30c7-dd4a-4f5b-f7a5-96bbdef83c59"
      },
      "outputs": [
        {
          "name": "stdout",
          "output_type": "stream",
          "text": [
            "tensor([10, 12, 14, 16, 18])\n"
          ]
        }
      ],
      "source": [
        "x = torch.arange(start=10, end=20, step=2)\n",
        "print(x)"
      ]
    },
    {
      "cell_type": "markdown",
      "metadata": {
        "id": "xkHkd-OT760P"
      },
      "source": [
        "### Numerical precision and casting"
      ]
    },
    {
      "cell_type": "code",
      "execution_count": null,
      "metadata": {
        "colab": {
          "base_uri": "https://localhost:8080/"
        },
        "id": "PsJfVOHjEP85",
        "outputId": "330f96ac-a48e-4698-c6f2-6374a0eba13c"
      },
      "outputs": [
        {
          "name": "stdout",
          "output_type": "stream",
          "text": [
            "tensor([[1., 1., 1.],\n",
            "        [1., 1., 1.]])\n"
          ]
        }
      ],
      "source": [
        "x = torch.ones(2, 3)\n",
        "print(x)"
      ]
    },
    {
      "cell_type": "markdown",
      "metadata": {
        "id": "7OxUvGvSEP86"
      },
      "source": [
        "What is the type of our Tensor? We can find out by inspecting the ```.dtype``` attribute of the Tensor object. All Tensor types are listed in the documentation: https://pytorch.org/docs/stable/tensor_attributes.html#torch.torch.dtype"
      ]
    },
    {
      "cell_type": "code",
      "execution_count": null,
      "metadata": {
        "colab": {
          "base_uri": "https://localhost:8080/"
        },
        "id": "s3uygyi5EP86",
        "outputId": "473f452a-7ea0-4656-f02f-2883a68db8b4"
      },
      "outputs": [
        {
          "name": "stdout",
          "output_type": "stream",
          "text": [
            "torch.float32\n"
          ]
        }
      ],
      "source": [
        "print(x.dtype)"
      ]
    },
    {
      "cell_type": "markdown",
      "metadata": {
        "id": "eFGR3_ncEP86"
      },
      "source": [
        "More about the types supported by PyTorch: https://pytorch.org/docs/stable/tensors.html\n",
        "\n",
        "To convert a Float Tensor let's say to Long, use the [```.long()```](https://pytorch.org/docs/stable/generated/torch.Tensor.long.html?highlight=long) function."
      ]
    },
    {
      "cell_type": "code",
      "execution_count": null,
      "metadata": {
        "colab": {
          "base_uri": "https://localhost:8080/"
        },
        "id": "zWmoAhGw8G91",
        "outputId": "4a7da671-f84c-4366-d558-59dcfb467c98"
      },
      "outputs": [
        {
          "name": "stdout",
          "output_type": "stream",
          "text": [
            "tensor([[1, 1, 1],\n",
            "        [1, 1, 1]])\n",
            "torch.int64\n"
          ]
        }
      ],
      "source": [
        "y = x.long()\n",
        "print(y)\n",
        "print(y.dtype)"
      ]
    },
    {
      "cell_type": "markdown",
      "metadata": {
        "id": "A2ktTipW84H4"
      },
      "source": [
        "Another option is to call the [```.to()```](https://pytorch.org/docs/stable/generated/torch.Tensor.to.html#torch.Tensor.to) function (which we used to move Tensors to GPU and back to CPU) and specify the ```dtype``` argument."
      ]
    },
    {
      "cell_type": "code",
      "execution_count": null,
      "metadata": {
        "colab": {
          "base_uri": "https://localhost:8080/"
        },
        "id": "08UULINl9P8z",
        "outputId": "b26dd4b8-a9a2-4076-9ad5-e8e14ac8db95"
      },
      "outputs": [
        {
          "name": "stdout",
          "output_type": "stream",
          "text": [
            "tensor([[1, 1, 1],\n",
            "        [1, 1, 1]], dtype=torch.int32)\n",
            "torch.int32\n"
          ]
        }
      ],
      "source": [
        "z = x.to(dtype=torch.int32)\n",
        "print(z)\n",
        "print(z.dtype)"
      ]
    },
    {
      "cell_type": "markdown",
      "metadata": {
        "id": "LtYQTN0W9ngx"
      },
      "source": [
        "Sometimes our datasets are saved as [NumPy](https://numpy.org/doc/stable/reference/index.html#reference) arrays. To convert them to Tensors, call the [```torch.from_numpy```](https://pytorch.org/docs/stable/generated/torch.from_numpy.html#torch.from_numpy) (or [```torch.astensor()```](https://pytorch.org/docs/stable/generated/torch.as_tensor.html?highlight=as_tensor#torch.as_tensor)) function."
      ]
    },
    {
      "cell_type": "code",
      "execution_count": null,
      "metadata": {
        "colab": {
          "base_uri": "https://localhost:8080/"
        },
        "id": "94U6M-ej-W53",
        "outputId": "f9bec0e3-9a8d-4009-f4fe-e28b5e0c0fee"
      },
      "outputs": [
        {
          "name": "stdout",
          "output_type": "stream",
          "text": [
            "tensor([1, 2, 3])\n",
            "torch.int64\n"
          ]
        }
      ],
      "source": [
        "x_np = numpy.array([1, 2, 3])\n",
        "x = torch.from_numpy(x_np)\n",
        "print(x)\n",
        "print(x.dtype)\n"
      ]
    },
    {
      "cell_type": "markdown",
      "metadata": {
        "id": "YJKKqDxgcgVE"
      },
      "source": [
        "**Careful:** The returned tensor will share the same memory as the original tensor."
      ]
    },
    {
      "cell_type": "code",
      "execution_count": null,
      "metadata": {
        "colab": {
          "base_uri": "https://localhost:8080/"
        },
        "id": "VoXZGAM8hVIV",
        "outputId": "74bf2dfe-c11e-4a34-f787-2748c51adae4"
      },
      "outputs": [
        {
          "name": "stdout",
          "output_type": "stream",
          "text": [
            "x =  tensor([-10,   2,   3])\n",
            "x_np =  [-10   2   3]\n"
          ]
        }
      ],
      "source": [
        "x[0] = -10\n",
        "print(\"x = \", x)\n",
        "print(\"x_np = \", x_np)"
      ]
    },
    {
      "cell_type": "markdown",
      "metadata": {
        "id": "e4C-HLU-iMEr"
      },
      "source": [
        "To return a Tensor without sharing memory with the old one, call [```torch.tensor```](https://pytorch.org/docs/stable/generated/torch.tensor.html#torch.tensor):"
      ]
    },
    {
      "cell_type": "code",
      "execution_count": null,
      "metadata": {
        "colab": {
          "base_uri": "https://localhost:8080/"
        },
        "id": "blHXZnlDuO7y",
        "outputId": "e08e5b7c-d33e-4a55-e8c3-80e8e722e25c"
      },
      "outputs": [
        {
          "name": "stdout",
          "output_type": "stream",
          "text": [
            "tensor([1, 2, 3])\n",
            "torch.int64\n",
            "x =  tensor([-10,   2,   3])\n",
            "x_np =  [1 2 3]\n"
          ]
        }
      ],
      "source": [
        "x_np = numpy.array([1, 2, 3])\n",
        "x = torch.tensor(x_np)\n",
        "print(x)\n",
        "print(x.dtype)\n",
        "x[0] = -10\n",
        "print(\"x = \", x)\n",
        "print(\"x_np = \", x_np)"
      ]
    },
    {
      "cell_type": "markdown",
      "metadata": {
        "id": "6AFPOWKQCeq-"
      },
      "source": [
        "### Basic arithmetic\n",
        "Let's do some basic matrix operations with PyTorch.\n"
      ]
    },
    {
      "cell_type": "code",
      "execution_count": null,
      "metadata": {
        "colab": {
          "base_uri": "https://localhost:8080/"
        },
        "id": "SD8e49maUkib",
        "outputId": "858642a9-8959-4319-988b-6669ce3d8bf5"
      },
      "outputs": [
        {
          "name": "stdout",
          "output_type": "stream",
          "text": [
            "Random PyTorch Tensor:\n",
            "tensor([[ 0.7323, -1.6370, -0.0173,  0.1488],\n",
            "        [ 0.6990, -0.8442,  1.1800,  1.4478],\n",
            "        [ 0.1455, -0.1618,  0.3283, -0.9390]])\n",
            "Ones PyTorch Tensor:\n",
            "tensor([[1., 1., 1., 1.],\n",
            "        [1., 1., 1., 1.],\n",
            "        [1., 1., 1., 1.]])\n"
          ]
        }
      ],
      "source": [
        "# Create a 3x4 random PyTorch Tensor and a 3x4 one filled with ones.\n",
        "rand_tens = torch.randn(3, 4)\n",
        "ones_tens = torch.ones(3, 4)\n",
        "print(f'Random PyTorch Tensor:\\n{rand_tens}')\n",
        "print(f'Ones PyTorch Tensor:\\n{ones_tens}')"
      ]
    },
    {
      "cell_type": "markdown",
      "metadata": {
        "id": "W-PRVjpn9FCB"
      },
      "source": [
        "You can perform addition:"
      ]
    },
    {
      "cell_type": "code",
      "execution_count": null,
      "metadata": {
        "colab": {
          "base_uri": "https://localhost:8080/"
        },
        "id": "wpDxNYCS6A_p",
        "outputId": "9482deaf-fd6a-49dc-86fc-335793a99f8f"
      },
      "outputs": [
        {
          "name": "stdout",
          "output_type": "stream",
          "text": [
            "Their sum:\n",
            "tensor([[ 1.7323, -0.6370,  0.9827,  1.1488],\n",
            "        [ 1.6990,  0.1558,  2.1800,  2.4478],\n",
            "        [ 1.1455,  0.8382,  1.3283,  0.0610]])\n"
          ]
        }
      ],
      "source": [
        "print(f'Their sum:\\n{ones_tens + rand_tens}')"
      ]
    },
    {
      "cell_type": "markdown",
      "metadata": {
        "id": "NPzhCvBa9I5G"
      },
      "source": [
        "And subtraction:"
      ]
    },
    {
      "cell_type": "code",
      "execution_count": null,
      "metadata": {
        "colab": {
          "base_uri": "https://localhost:8080/"
        },
        "id": "LCgi5jRQ6fm-",
        "outputId": "c4446ac6-ca28-48a3-8f0a-dbc0d6f69199"
      },
      "outputs": [
        {
          "name": "stdout",
          "output_type": "stream",
          "text": [
            "Their difference:\n",
            "tensor([[ 0.2677,  2.6370,  1.0173,  0.8512],\n",
            "        [ 0.3010,  1.8442, -0.1800, -0.4478],\n",
            "        [ 0.8545,  1.1618,  0.6717,  1.9390]])\n"
          ]
        }
      ],
      "source": [
        "print(f'Their difference:\\n{ones_tens - rand_tens}')"
      ]
    },
    {
      "cell_type": "markdown",
      "metadata": {
        "id": "1I9AL2XE74kE"
      },
      "source": [
        "Matrix addition is not defined if the shapes are not the same. What do you think happens if you add a number to a Tensor?"
      ]
    },
    {
      "cell_type": "code",
      "execution_count": null,
      "metadata": {
        "colab": {
          "base_uri": "https://localhost:8080/"
        },
        "id": "A917-vhv8AZr",
        "outputId": "919b9d57-3948-41ca-e31e-5992f6508a68"
      },
      "outputs": [
        {
          "name": "stdout",
          "output_type": "stream",
          "text": [
            "tensor([[2., 2., 2., 2.],\n",
            "        [2., 2., 2., 2.],\n",
            "        [2., 2., 2., 2.]])\n"
          ]
        }
      ],
      "source": [
        "resulting = ones_tens + 1\n",
        "print(resulting)"
      ]
    },
    {
      "cell_type": "markdown",
      "metadata": {
        "id": "3lVcxbo68Rqr"
      },
      "source": [
        "Notice how *1* is added to every element in the Tensor.\n",
        "\n",
        "This convenient operation is called *broadcasting* and it's a way of '**stretching/copying**' some Tensor dimensions - we're gonna come back to this concept a bit later.\n",
        "\n",
        "Let's now multiply two matrices using `torch.mm()`:\n"
      ]
    },
    {
      "cell_type": "code",
      "execution_count": null,
      "metadata": {
        "colab": {
          "base_uri": "https://localhost:8080/",
          "height": 141
        },
        "id": "E7WAHNyY-EpZ",
        "outputId": "5a8a9495-b5a6-440f-96ad-e787e2fb55c5"
      },
      "outputs": [
        {
          "ename": "RuntimeError",
          "evalue": "mat1 and mat2 shapes cannot be multiplied (3x4 and 3x4)",
          "output_type": "error",
          "traceback": [
            "\u001b[0;31m---------------------------------------------------------------------------\u001b[0m",
            "\u001b[0;31mRuntimeError\u001b[0m                              Traceback (most recent call last)",
            "\u001b[0;32m<ipython-input-35-1eb0e0613237>\u001b[0m in \u001b[0;36m<cell line: 1>\u001b[0;34m()\u001b[0m\n\u001b[0;32m----> 1\u001b[0;31m \u001b[0mprint\u001b[0m\u001b[0;34m(\u001b[0m\u001b[0;34mf'Their product:\\n{torch.mm(ones_tens, rand_tens)}'\u001b[0m\u001b[0;34m)\u001b[0m\u001b[0;34m\u001b[0m\u001b[0;34m\u001b[0m\u001b[0m\n\u001b[0m",
            "\u001b[0;31mRuntimeError\u001b[0m: mat1 and mat2 shapes cannot be multiplied (3x4 and 3x4)"
          ]
        }
      ],
      "source": [
        "print(f'Their product:\\n{torch.mm(ones_tens, rand_tens)}')"
      ]
    },
    {
      "cell_type": "markdown",
      "metadata": {
        "id": "2Ize7HSX-JIe"
      },
      "source": [
        "Whoops. Recall from Linear Algebra that matrix dimensions must agree. If A is an `m×n` matrix and B is an `n×p` matrix, the product will be an `m×p` matrix. Let's use `torch.transpose()` to swap the dimensions of `rand_tens`:"
      ]
    },
    {
      "cell_type": "code",
      "execution_count": null,
      "metadata": {
        "colab": {
          "base_uri": "https://localhost:8080/"
        },
        "id": "XfRp1KCl6g6r",
        "outputId": "c81813eb-1c20-4cf3-8d07-f1e8051a8a50"
      },
      "outputs": [
        {
          "name": "stdout",
          "output_type": "stream",
          "text": [
            "Their product:\n",
            "tensor([[-0.7732,  2.4826, -0.6271],\n",
            "        [-0.7732,  2.4826, -0.6271],\n",
            "        [-0.7732,  2.4826, -0.6271]])\n"
          ]
        }
      ],
      "source": [
        "print(f'Their product:\\n{torch.mm(ones_tens, torch.transpose(rand_tens, 0, 1))}')"
      ]
    },
    {
      "cell_type": "markdown",
      "metadata": {
        "id": "hLO_b7uyHegG"
      },
      "source": [
        "#### Task 1b [0.5pt]:\n",
        "\n",
        "Compute $X = ABC$, where $A$, $B$ and $C$ are three matrices defined below:"
      ]
    },
    {
      "cell_type": "code",
      "execution_count": null,
      "metadata": {
        "colab": {
          "base_uri": "https://localhost:8080/"
        },
        "id": "oWICTrtbHfB7",
        "outputId": "8fd53d73-8e34-4b84-addd-50bbda99b221"
      },
      "outputs": [
        {
          "name": "stdout",
          "output_type": "stream",
          "text": [
            "tensor([[37.6279, 44.5850, 34.3364, 39.1095, 39.7155],\n",
            "        [21.3523, 24.6764, 19.3422, 22.5053, 21.7693],\n",
            "        [38.3779, 45.1808, 35.2317, 40.2853, 40.3029]])\n",
            "tensor([[37.6279, 44.5850, 34.3364, 39.1095, 39.7155],\n",
            "        [21.3523, 24.6764, 19.3422, 22.5053, 21.7693],\n",
            "        [38.3779, 45.1808, 35.2317, 40.2853, 40.3029]])\n"
          ]
        }
      ],
      "source": [
        "A = torch.rand(3, 10)\n",
        "B = torch.rand(10, 30)\n",
        "C = torch.rand(30, 5)\n",
        "\n",
        "X = torch.mm(torch.mm(A,B),C)\n",
        "print(X)\n",
        "X=A @ B @ C\n",
        "print(X)"
      ]
    },
    {
      "cell_type": "markdown",
      "metadata": {
        "id": "zOI2juH8ND_E"
      },
      "source": [
        "Do not confuse ```torch.mm``` with ```*``` operator, which computes elementwise multiplication (if Tensor dimensions agreee):"
      ]
    },
    {
      "cell_type": "code",
      "execution_count": null,
      "metadata": {
        "colab": {
          "base_uri": "https://localhost:8080/"
        },
        "id": "swqINzFNHhXJ",
        "outputId": "e0da50c2-2e97-40bb-a65d-13bc480c4235"
      },
      "outputs": [
        {
          "name": "stdout",
          "output_type": "stream",
          "text": [
            "x =  tensor([0, 1, 2, 3, 4, 5, 6, 7, 8, 9])\n",
            "y =  tensor([10, 11, 12, 13, 14, 15, 16, 17, 18, 19])\n",
            "elementwise multiplication:  tensor([  0,  11,  24,  39,  56,  75,  96, 119, 144, 171])\n"
          ]
        }
      ],
      "source": [
        "x = torch.arange(0, 10)\n",
        "y = torch.arange(10, 20)\n",
        "print('x = ', x)\n",
        "print('y = ', y)\n",
        "print('elementwise multiplication: ', x*y)"
      ]
    },
    {
      "cell_type": "markdown",
      "metadata": {
        "id": "IdZurKuWNxGH"
      },
      "source": [
        "Let's compute the sum of all the elements in a Tensor using ```torch.sum()```."
      ]
    },
    {
      "cell_type": "code",
      "execution_count": null,
      "metadata": {
        "colab": {
          "base_uri": "https://localhost:8080/"
        },
        "id": "f1z_mmEmN4zW",
        "outputId": "4ac6f87a-bae1-4e69-e05d-2156f44e496f"
      },
      "outputs": [
        {
          "name": "stdout",
          "output_type": "stream",
          "text": [
            "tensor([[1., 1., 1., 1., 1.],\n",
            "        [1., 1., 1., 1., 1.]])\n"
          ]
        }
      ],
      "source": [
        "x = torch.ones(2, 5)\n",
        "print(x)"
      ]
    },
    {
      "cell_type": "code",
      "execution_count": null,
      "metadata": {
        "colab": {
          "base_uri": "https://localhost:8080/"
        },
        "id": "EHCPDYivOBCf",
        "outputId": "53e7fc21-f95f-46b5-fe33-0f1969b45577"
      },
      "outputs": [
        {
          "name": "stdout",
          "output_type": "stream",
          "text": [
            "sum of elements in x =  tensor(10.)\n"
          ]
        }
      ],
      "source": [
        "print('sum of elements in x = ', torch.sum(x))"
      ]
    },
    {
      "cell_type": "markdown",
      "metadata": {
        "id": "S2Xe23TCOcBo"
      },
      "source": [
        "What if we want to compute the sum of each column of a 2D Tensor? We can specify the ```dim``` argument:"
      ]
    },
    {
      "cell_type": "code",
      "execution_count": null,
      "metadata": {
        "colab": {
          "base_uri": "https://localhost:8080/"
        },
        "id": "9Lx6EfPqPFOY",
        "outputId": "36a99778-7d4d-4df1-cedf-5e674922a416"
      },
      "outputs": [
        {
          "data": {
            "text/plain": [
              "tensor([2., 2., 2., 2., 2.])"
            ]
          },
          "execution_count": 42,
          "metadata": {},
          "output_type": "execute_result"
        }
      ],
      "source": [
        "# dim refers to the axis/dimension over which the operation is performed (i.e. over rows - dimension 0)\n",
        "torch.sum(x, dim=0)"
      ]
    },
    {
      "cell_type": "markdown",
      "metadata": {
        "id": "F78NfmcS_1Fm"
      },
      "source": [
        "What happens when we specify ```dim=1```?"
      ]
    },
    {
      "cell_type": "code",
      "execution_count": null,
      "metadata": {
        "colab": {
          "base_uri": "https://localhost:8080/"
        },
        "id": "AplByDtyRSUn",
        "outputId": "f6c2a31f-4f1d-40b7-c0a5-049cfd1cfc06"
      },
      "outputs": [
        {
          "data": {
            "text/plain": [
              "tensor([5., 5.])"
            ]
          },
          "execution_count": 43,
          "metadata": {},
          "output_type": "execute_result"
        }
      ],
      "source": [
        "torch.sum(x, dim=1)"
      ]
    },
    {
      "cell_type": "markdown",
      "metadata": {
        "id": "UITZPyM2Q2X0"
      },
      "source": [
        "The sum is of each row is computed, by aggregating the elements over the columns (dimension 1). You can think of `dim` as the dimension which is reduced/collapses as a result of the operation.  "
      ]
    },
    {
      "cell_type": "code",
      "execution_count": null,
      "metadata": {
        "colab": {
          "base_uri": "https://localhost:8080/"
        },
        "id": "rN-uHSI6_xwm",
        "outputId": "11dc2e5c-2d2b-4cb5-e881-4d508a609976"
      },
      "outputs": [
        {
          "name": "stdout",
          "output_type": "stream",
          "text": [
            "torch.Size([100, 32, 32])\n"
          ]
        }
      ],
      "source": [
        "# tensor containing 100 images\n",
        "images = torch.randn(100, 3, 32, 32)\n",
        "\n",
        "# TODO: compute pixelwise mean over the 3 channels\n",
        "ch_mean = torch.mean(images, dim=1)\n",
        "\n",
        "print(ch_mean.size())"
      ]
    },
    {
      "cell_type": "markdown",
      "metadata": {
        "id": "DaeLJ_cdTAzF"
      },
      "source": [
        "We can compute the vector norm of a 1D Tensor of length n using [```torch.linalg.norm()```](https://pytorch.org/docs/stable/generated/torch.linalg.norm.html#torch.linalg.norm):\n",
        "$$\\|\\textbf{x}\\| = \\sqrt{x_1^{2}+x_2^{2}+...+x_n^{2}}$$"
      ]
    },
    {
      "cell_type": "code",
      "execution_count": null,
      "metadata": {
        "colab": {
          "base_uri": "https://localhost:8080/"
        },
        "id": "r1GLUZhnRl2Y",
        "outputId": "fe30e977-487b-493a-8b97-a3944eadf2d2"
      },
      "outputs": [
        {
          "name": "stdout",
          "output_type": "stream",
          "text": [
            "tensor([0.0681, 0.7419, 0.5960, 0.6021, 0.3386, 0.5912, 0.8001, 0.6276, 0.3529,\n",
            "        0.4485])\n",
            "norm =  tensor(1.7597)\n"
          ]
        }
      ],
      "source": [
        "x = torch.rand(10)\n",
        "x_norm = torch.linalg.norm(x)\n",
        "print(x)\n",
        "print(\"norm = \", x_norm)"
      ]
    },
    {
      "cell_type": "markdown",
      "metadata": {
        "id": "wcLWbBTKTl4f"
      },
      "source": [
        "#### Task 1c [0.5pt]:\n",
        "\n",
        "Compute the vector norm using [```torch.sum()```](https://pytorch.org/docs/stable/generated/torch.sum.html?highlight=sum#torch.sum) and [```torch.sqrt()```](https://pytorch.org/docs/stable/generated/torch.sqrt.html?highlight=sqrt#torch.sqrt)"
      ]
    },
    {
      "cell_type": "code",
      "execution_count": null,
      "metadata": {
        "colab": {
          "base_uri": "https://localhost:8080/"
        },
        "id": "96iJRvyrTTMN",
        "outputId": "0fbc90cd-7bf2-4a6b-aaef-eca2cbec0080"
      },
      "outputs": [
        {
          "name": "stdout",
          "output_type": "stream",
          "text": [
            "norm =  tensor(1.7597)\n"
          ]
        }
      ],
      "source": [
        "x_norm_2 = torch.sqrt(torch.sum(x*x))\n",
        "\n",
        "print(\"norm = \", x_norm_2)"
      ]
    },
    {
      "cell_type": "markdown",
      "metadata": {
        "id": "iLho2sv2pgk9"
      },
      "source": [
        "### Non-arithmetic tensor operations"
      ]
    },
    {
      "cell_type": "markdown",
      "metadata": {
        "id": "ZFfx7ACUbei7"
      },
      "source": [
        "You can also do non-arithmetic operations, like slicing, reshaping and concatenation."
      ]
    },
    {
      "cell_type": "markdown",
      "metadata": {
        "id": "bml81BjOSs77"
      },
      "source": [
        "#### Concatenating & Stacking Tensors"
      ]
    },
    {
      "cell_type": "code",
      "execution_count": null,
      "metadata": {
        "colab": {
          "base_uri": "https://localhost:8080/"
        },
        "id": "qz6r-T2rbdRx",
        "outputId": "a9a4d87f-ee19-4362-d903-1f960683d509"
      },
      "outputs": [
        {
          "name": "stdout",
          "output_type": "stream",
          "text": [
            "m1: tensor([[0., 0., 0., 0.],\n",
            "        [0., 0., 0., 0.],\n",
            "        [0., 0., 0., 0.]]) shape: torch.Size([3, 4])\n",
            "m2: tensor([[1., 1., 1., 1.],\n",
            "        [1., 1., 1., 1.],\n",
            "        [1., 1., 1., 1.]]) shape: torch.Size([3, 4])\n",
            "m3: tensor([[2., 2., 2., 2.],\n",
            "        [2., 2., 2., 2.],\n",
            "        [2., 2., 2., 2.]]) shape: torch.Size([3, 4])\n"
          ]
        }
      ],
      "source": [
        "# Let's make some 2D Tensors:\n",
        "m1 = torch.zeros(3, 4)\n",
        "m2 = torch.ones(3, 4)\n",
        "m3 = torch.ones(3, 4) * 2\n",
        "print(f'm1: {m1} shape: {m1.shape}\\nm2: {m2} shape: {m2.shape}\\nm3: {m3} shape: {m3.shape}')"
      ]
    },
    {
      "cell_type": "markdown",
      "metadata": {
        "id": "jA0tu3I4Hijt"
      },
      "source": [
        "Let's concatenate them over dimension 0:"
      ]
    },
    {
      "cell_type": "code",
      "execution_count": null,
      "metadata": {
        "colab": {
          "base_uri": "https://localhost:8080/"
        },
        "id": "_XA6P7xgHfwo",
        "outputId": "d3cf375e-aa43-405d-a340-b5df4501fcaa"
      },
      "outputs": [
        {
          "name": "stdout",
          "output_type": "stream",
          "text": [
            "Concatenated (dim=0):\n",
            "tensor([[0., 0., 0., 0.],\n",
            "        [0., 0., 0., 0.],\n",
            "        [0., 0., 0., 0.],\n",
            "        [1., 1., 1., 1.],\n",
            "        [1., 1., 1., 1.],\n",
            "        [1., 1., 1., 1.],\n",
            "        [2., 2., 2., 2.],\n",
            "        [2., 2., 2., 2.],\n",
            "        [2., 2., 2., 2.]]) shape: torch.Size([9, 4])\n"
          ]
        }
      ],
      "source": [
        "concat = torch.cat((m1, m2, m3), dim=0)\n",
        "print(f'Concatenated (dim=0):\\n{concat} shape: {concat.shape}')"
      ]
    },
    {
      "cell_type": "markdown",
      "metadata": {
        "id": "s-0906OgHrlA"
      },
      "source": [
        "... or over dimension 1:"
      ]
    },
    {
      "cell_type": "code",
      "execution_count": null,
      "metadata": {
        "colab": {
          "base_uri": "https://localhost:8080/"
        },
        "id": "TmQumtrtHqZV",
        "outputId": "c86aab17-7d72-4620-b22c-7f305cb279d6"
      },
      "outputs": [
        {
          "name": "stdout",
          "output_type": "stream",
          "text": [
            "Concatenated: (dim=1)\n",
            "tensor([[0., 0., 0., 0., 1., 1., 1., 1., 2., 2., 2., 2.],\n",
            "        [0., 0., 0., 0., 1., 1., 1., 1., 2., 2., 2., 2.],\n",
            "        [0., 0., 0., 0., 1., 1., 1., 1., 2., 2., 2., 2.]]) shape: torch.Size([3, 12])\n"
          ]
        }
      ],
      "source": [
        "concat = torch.cat((m1, m2, m3), dim=1)\n",
        "print(f'Concatenated: (dim=1)\\n{concat} shape: {concat.shape}')"
      ]
    },
    {
      "cell_type": "markdown",
      "metadata": {
        "id": "gBAZmQAEkF0E"
      },
      "source": [
        "**There's a subtle difference between *concatenation* and *stacking*:**\n",
        "\n",
        "Consider three arrays with the following elements: [1, 1], [2, 2], [3, 3]\n",
        "\n",
        "If you *concatenate* them, the resulting array will be [1, 1, 2, 2, 3, 3] (1D - shape, same number of dimensions)\n",
        "\n",
        "If you *stack* them, the resulting array will be [[1, 1], [2, 2], [3, 3]] (2D - shape, additional dimension)"
      ]
    },
    {
      "cell_type": "code",
      "execution_count": null,
      "metadata": {
        "colab": {
          "base_uri": "https://localhost:8080/"
        },
        "id": "NLEzgL0cj74C",
        "outputId": "c31079e6-aad6-4044-9981-fbe1a448a4b6"
      },
      "outputs": [
        {
          "name": "stdout",
          "output_type": "stream",
          "text": [
            "Stacked: (dim=0)\n",
            "tensor([[[0., 0., 0., 0.],\n",
            "         [0., 0., 0., 0.],\n",
            "         [0., 0., 0., 0.]],\n",
            "\n",
            "        [[1., 1., 1., 1.],\n",
            "         [1., 1., 1., 1.],\n",
            "         [1., 1., 1., 1.]],\n",
            "\n",
            "        [[2., 2., 2., 2.],\n",
            "         [2., 2., 2., 2.],\n",
            "         [2., 2., 2., 2.]]]) shape: torch.Size([3, 3, 4])\n"
          ]
        }
      ],
      "source": [
        "# Tensors can also be stacked:\n",
        "stacked = torch.stack((m1, m2, m3))\n",
        "print(f'Stacked: (dim=0)\\n{stacked} shape: {stacked.shape}')\n",
        "# The Stacked tensor has 3 dimensions while the concatenated one has just 2."
      ]
    },
    {
      "cell_type": "markdown",
      "metadata": {
        "id": "VX5fdWVotGFq"
      },
      "source": [
        "### Slicing Tensors"
      ]
    },
    {
      "cell_type": "markdown",
      "metadata": {
        "id": "I5g0D76btzCb"
      },
      "source": [
        "Sometimes you need to select parts of your tensor. This is called *slicing/indexing*. Slicing in PyTorch is done using the `[ ]` operator (same as in NumPy).\n",
        "\n",
        "Let's get back the slices from our stacked Tensor.\n",
        "We're basically indexing the matrices along the first dimension.\n",
        "\n"
      ]
    },
    {
      "cell_type": "code",
      "execution_count": null,
      "metadata": {
        "colab": {
          "base_uri": "https://localhost:8080/"
        },
        "id": "7xOstJPeqY-x",
        "outputId": "6d4c743d-436f-4af8-dbab-dca5d7b76758"
      },
      "outputs": [
        {
          "name": "stdout",
          "output_type": "stream",
          "text": [
            "tensor([[0., 0., 0., 0.],\n",
            "        [0., 0., 0., 0.],\n",
            "        [0., 0., 0., 0.]])\n",
            "tensor([[1., 1., 1., 1.],\n",
            "        [1., 1., 1., 1.],\n",
            "        [1., 1., 1., 1.]])\n",
            "tensor([[2., 2., 2., 2.],\n",
            "        [2., 2., 2., 2.],\n",
            "        [2., 2., 2., 2.]])\n"
          ]
        }
      ],
      "source": [
        "first_slice = stacked[0]\n",
        "second_slice = stacked[1]\n",
        "third_slice = stacked[2]\n",
        "print(f'{first_slice}\\n{second_slice}\\n{third_slice}')"
      ]
    },
    {
      "cell_type": "markdown",
      "metadata": {
        "id": "n6iINxcsQk8a"
      },
      "source": [
        "Let's now define a random cube."
      ]
    },
    {
      "cell_type": "code",
      "execution_count": null,
      "metadata": {
        "colab": {
          "base_uri": "https://localhost:8080/"
        },
        "id": "2zzvZ1ZjW6Zs",
        "outputId": "4c9afc7e-43cd-450b-eb75-6fb847b2360f"
      },
      "outputs": [
        {
          "name": "stdout",
          "output_type": "stream",
          "text": [
            "tensor([[[0.3308, 0.1794, 0.3428],\n",
            "         [0.9280, 0.9327, 0.9143],\n",
            "         [0.6642, 0.7438, 0.7919]],\n",
            "\n",
            "        [[0.7120, 0.0687, 0.6379],\n",
            "         [0.0342, 0.7036, 0.4758],\n",
            "         [0.2426, 0.8435, 0.5700]],\n",
            "\n",
            "        [[0.2620, 0.1660, 0.1350],\n",
            "         [0.7127, 0.6939, 0.9331],\n",
            "         [0.7528, 0.7034, 0.5705]]])\n"
          ]
        }
      ],
      "source": [
        "cube = torch.rand(3, 3, 3)\n",
        "print(cube)"
      ]
    },
    {
      "cell_type": "markdown",
      "metadata": {
        "id": "KmiCofZKWwTB"
      },
      "source": [
        "To select the central element in the cube, we specify its position (0-indexed) along all dimensions/axes:"
      ]
    },
    {
      "cell_type": "code",
      "execution_count": null,
      "metadata": {
        "colab": {
          "base_uri": "https://localhost:8080/"
        },
        "id": "o90wNgWAXoP3",
        "outputId": "38c07dad-1298-41f4-8912-10feb7786091"
      },
      "outputs": [
        {
          "data": {
            "text/plain": [
              "tensor(0.7036)"
            ]
          },
          "execution_count": 53,
          "metadata": {},
          "output_type": "execute_result"
        }
      ],
      "source": [
        "cube[1,1,1] # second matrix, second row, second column"
      ]
    },
    {
      "cell_type": "markdown",
      "metadata": {
        "id": "akw1bnMtYnAp"
      },
      "source": [
        "To select all the elements from a dimension, you can use `[:]`. Let's get the middle line from the central matrix:"
      ]
    },
    {
      "cell_type": "code",
      "execution_count": null,
      "metadata": {
        "colab": {
          "base_uri": "https://localhost:8080/"
        },
        "id": "RoRHwhouZYZ6",
        "outputId": "3e606471-1df7-447a-da89-d025517775fd"
      },
      "outputs": [
        {
          "data": {
            "text/plain": [
              "tensor([0.0342, 0.7036, 0.4758])"
            ]
          },
          "execution_count": 54,
          "metadata": {},
          "output_type": "execute_result"
        }
      ],
      "source": [
        "cube[1,1,:] # second matrix, second row, all columns"
      ]
    },
    {
      "cell_type": "markdown",
      "metadata": {
        "id": "IyRyutGEZxOz"
      },
      "source": [
        "You can specify ranges by combining `:` and numbers. For instance:\n",
        " - `[:idx]` means all indices up to idx (excluding `idx`)\n",
        " - `[idx:]` means all indices starting from `idx` (including `idx`) all the way to the end\n",
        " - `[left_idx:right_idx]` means all indices starting from `left_idx` to `right_idx`\n",
        "\n",
        "One neat trick to get all elements except for the last one is to use `[:-1]`"
      ]
    },
    {
      "cell_type": "markdown",
      "metadata": {
        "id": "Ga3qdX6_atJa"
      },
      "source": [
        "#### Task 1d [0.5pt]:\n",
        "\n",
        " a) Slice tensor `x` (defined in the code block below) to obtain matrices\n",
        "\n",
        "```\n",
        " A = [[1, 2],\n",
        "      [4, 5],\n",
        "      [7, 8]]\n",
        "```\n",
        "and\n",
        "```\n",
        " B = [[22, 23, 24],\n",
        "      [25, 26, 27]]\n",
        "```\n"
      ]
    },
    {
      "cell_type": "code",
      "execution_count": null,
      "metadata": {
        "colab": {
          "base_uri": "https://localhost:8080/"
        },
        "id": "vImukCmMYMWL",
        "outputId": "74bfbf77-5173-4534-8e6f-4fb245c620df"
      },
      "outputs": [
        {
          "name": "stdout",
          "output_type": "stream",
          "text": [
            "tensor([[[ 1,  2,  3],\n",
            "         [ 4,  5,  6],\n",
            "         [ 7,  8,  9]],\n",
            "\n",
            "        [[10, 11, 12],\n",
            "         [13, 14, 15],\n",
            "         [16, 17, 18]],\n",
            "\n",
            "        [[19, 20, 21],\n",
            "         [22, 23, 24],\n",
            "         [25, 26, 27]]])\n",
            "tensor([[1, 2],\n",
            "        [4, 5],\n",
            "        [7, 8]])\n",
            "tensor([[22, 23, 24],\n",
            "        [25, 26, 27]])\n"
          ]
        }
      ],
      "source": [
        "x = torch.arange(1, 28).reshape(3, 3, 3)\n",
        "print(x)\n",
        "A = x[0,:,0:2]\n",
        "B = x[2,1:3,:]\n",
        "print(A)\n",
        "print(B)"
      ]
    },
    {
      "cell_type": "markdown",
      "metadata": {
        "id": "XWATLoegYbBD"
      },
      "source": [
        " b) Use `torch.mm` to multiply `A` and `B`"
      ]
    },
    {
      "cell_type": "code",
      "execution_count": null,
      "metadata": {
        "id": "nYTyxGFnZfui"
      },
      "outputs": [],
      "source": [
        "C = torch.mm(A, B)\n",
        "\n",
        "correct_result = torch.tensor(\n",
        "  [[ 72.,  75.,  78.],\n",
        "  [213., 222., 231.],\n",
        "  [354., 369., 384.]]\n",
        ")\n",
        "assert torch.all(torch.eq(C, correct_result)), \"try again :(\""
      ]
    },
    {
      "cell_type": "code",
      "execution_count": null,
      "metadata": {
        "colab": {
          "base_uri": "https://localhost:8080/"
        },
        "id": "HpDnna_tYbBJ",
        "outputId": "82033e4c-dcd0-4db9-acb5-b88ed5b6da5e"
      },
      "outputs": [
        {
          "name": "stdout",
          "output_type": "stream",
          "text": [
            "tensor([[[ 1,  2,  3],\n",
            "         [ 4,  5,  6],\n",
            "         [ 7,  8,  9]],\n",
            "\n",
            "        [[10, 11, 12],\n",
            "         [13, 14, 15],\n",
            "         [16, 17, 18]],\n",
            "\n",
            "        [[19, 20, 21],\n",
            "         [22, 23, 24],\n",
            "         [25, 26, 27]]])\n"
          ]
        }
      ],
      "source": [
        "x = torch.arange(1, 28).reshape(3, 3, 3)\n",
        "print(x)"
      ]
    },
    {
      "cell_type": "markdown",
      "metadata": {
        "id": "GoflaFC8S5hq"
      },
      "source": [
        "### Reshaping Tensors"
      ]
    },
    {
      "cell_type": "markdown",
      "metadata": {
        "id": "7D6tXY7bKcVa"
      },
      "source": [
        "Consider the `3x9` Tensor below. Let's reshape it into a cube."
      ]
    },
    {
      "cell_type": "code",
      "execution_count": null,
      "metadata": {
        "colab": {
          "base_uri": "https://localhost:8080/"
        },
        "id": "3JmmrwaWY8-e",
        "outputId": "779eb930-c3a0-432e-9669-dc6a661571f4"
      },
      "outputs": [
        {
          "name": "stdout",
          "output_type": "stream",
          "text": [
            "tensor([[0., 0., 0., 1., 1., 1., 2., 2., 2.],\n",
            "        [0., 0., 0., 1., 1., 1., 2., 2., 2.],\n",
            "        [0., 0., 0., 1., 1., 1., 2., 2., 2.]])\n",
            "torch.Size([3, 9])\n"
          ]
        }
      ],
      "source": [
        "x = torch.tensor([[0., 0., 0., 1., 1., 1., 2., 2., 2.],\n",
        "                  [0., 0., 0., 1., 1., 1., 2., 2., 2.],\n",
        "                  [0., 0., 0., 1., 1., 1., 2., 2., 2.]])\n",
        "print(x)\n",
        "print(x.shape)"
      ]
    },
    {
      "cell_type": "code",
      "execution_count": null,
      "metadata": {
        "colab": {
          "base_uri": "https://localhost:8080/"
        },
        "id": "3ZYOiu4_KZ95",
        "outputId": "46ff4784-2211-49cf-ff4d-fe78cb31e452"
      },
      "outputs": [
        {
          "name": "stdout",
          "output_type": "stream",
          "text": [
            "Before reshape: \n",
            "tensor([[0., 0., 0., 1., 1., 1., 2., 2., 2.],\n",
            "        [0., 0., 0., 1., 1., 1., 2., 2., 2.],\n",
            "        [0., 0., 0., 1., 1., 1., 2., 2., 2.]]), shape: torch.Size([3, 9])\n",
            "After reshape: \n",
            "tensor([[[0., 0., 0.],\n",
            "         [1., 1., 1.],\n",
            "         [2., 2., 2.]],\n",
            "\n",
            "        [[0., 0., 0.],\n",
            "         [1., 1., 1.],\n",
            "         [2., 2., 2.]],\n",
            "\n",
            "        [[0., 0., 0.],\n",
            "         [1., 1., 1.],\n",
            "         [2., 2., 2.]]]), shape: torch.Size([3, 3, 3])\n"
          ]
        }
      ],
      "source": [
        "print(f'Before reshape: \\n{x}, shape: {x.shape}')\n",
        "cube_fst = x.reshape(3, 3, 3)\n",
        "print(f'After reshape: \\n{cube_fst}, shape: {cube_fst.shape}')\n",
        "# Note that we've expanded a 2D tensor onto 3 dimensions!"
      ]
    },
    {
      "cell_type": "markdown",
      "metadata": {
        "id": "t2Oe3qmuNoGj"
      },
      "source": [
        "One caveat is the fact that you can't specify the reshape dimension. For instance, each of the vectors above\n",
        "```\n",
        "[0., 0., 0., 1., 1., 1., 2., 2., 2.]\n",
        "```\n",
        "are reshaped into a `3x3` matrix, and then stacked together.\n",
        "\n",
        "What do you think happens when you reshape the `9x3` transpose of `x` into `3x3x3` cube?"
      ]
    },
    {
      "cell_type": "code",
      "execution_count": null,
      "metadata": {
        "colab": {
          "base_uri": "https://localhost:8080/"
        },
        "id": "32-J_9h3NzfY",
        "outputId": "4ebbf8cb-fea8-40b8-8344-7deaa486748c"
      },
      "outputs": [
        {
          "name": "stdout",
          "output_type": "stream",
          "text": [
            "Before reshape: \n",
            "tensor([[0., 0., 0.],\n",
            "        [0., 0., 0.],\n",
            "        [0., 0., 0.],\n",
            "        [1., 1., 1.],\n",
            "        [1., 1., 1.],\n",
            "        [1., 1., 1.],\n",
            "        [2., 2., 2.],\n",
            "        [2., 2., 2.],\n",
            "        [2., 2., 2.]]), shape: torch.Size([9, 3])\n",
            "After reshape: \n",
            "tensor([[[0., 0., 0.],\n",
            "         [0., 0., 0.],\n",
            "         [0., 0., 0.]],\n",
            "\n",
            "        [[1., 1., 1.],\n",
            "         [1., 1., 1.],\n",
            "         [1., 1., 1.]],\n",
            "\n",
            "        [[2., 2., 2.],\n",
            "         [2., 2., 2.],\n",
            "         [2., 2., 2.]]]), shape: torch.Size([3, 3, 3])\n"
          ]
        }
      ],
      "source": [
        "x_concat = x.transpose(dim0=0, dim1=1)\n",
        "print(f'Before reshape: \\n{x_concat}, shape: {x_concat.shape}')\n",
        "cube_snd = x_concat.reshape(3,3,3)\n",
        "print(f'After reshape: \\n{cube_snd}, shape: {cube_snd.shape}')"
      ]
    },
    {
      "cell_type": "markdown",
      "metadata": {
        "id": "DwAA1wSlwVQU"
      },
      "source": [
        "### Collapsing, squeezing and unsqueezing Tensors\n",
        "Sometimes it's useful to `vectorize` a tensor of dimensions `d1 x d2 x ...` to a single array of length `d1*d2*...`. You can easily do this by calling `reshape(-1)` or `view(-1)`."
      ]
    },
    {
      "cell_type": "code",
      "execution_count": null,
      "metadata": {
        "colab": {
          "base_uri": "https://localhost:8080/"
        },
        "id": "0Y0TJDStweFv",
        "outputId": "0448776e-602d-4e0e-be89-e6774fd6bcb9"
      },
      "outputs": [
        {
          "name": "stdout",
          "output_type": "stream",
          "text": [
            "Cube: \n",
            " tensor([[[ 1,  2,  3],\n",
            "         [ 4,  5,  6],\n",
            "         [ 7,  8,  9]],\n",
            "\n",
            "        [[10, 11, 12],\n",
            "         [13, 14, 15],\n",
            "         [16, 17, 18]],\n",
            "\n",
            "        [[19, 20, 21],\n",
            "         [22, 23, 24],\n",
            "         [25, 26, 27]]])  shape:  torch.Size([3, 3, 3])\n",
            "Collapsed cube: \n",
            " tensor([ 1,  2,  3,  4,  5,  6,  7,  8,  9, 10, 11, 12, 13, 14, 15, 16, 17, 18,\n",
            "        19, 20, 21, 22, 23, 24, 25, 26, 27])  shape:  torch.Size([27])\n"
          ]
        }
      ],
      "source": [
        "# initialize random cube\n",
        "cube = torch.arange(1,28).reshape(3, 3, 3)\n",
        "print(\"Cube: \\n\", cube, \" shape: \", cube.shape)\n",
        "\n",
        "# collapse cube into a single array:\n",
        "collapsed = cube.reshape(-1)\n",
        "\n",
        "print(\"Collapsed cube: \\n\", collapsed, \" shape: \", collapsed.shape)"
      ]
    },
    {
      "cell_type": "markdown",
      "metadata": {
        "id": "lffhL8TmEeeH"
      },
      "source": [
        "We can also explicitly *squeeze* (remove redundant dimensions) and *unsqueeze* (add redundant dimensions) Tensors.\n",
        "\n",
        "A 1D tensor of shape `5` can be seen as a `1x5` tensor. Analogously, a 2D tensor of shape `5x5` can be seen as a `1x5x5` tensor. This will be extremely helpful when handling *batches* of data (more on that in the next labs)."
      ]
    },
    {
      "cell_type": "code",
      "execution_count": null,
      "metadata": {
        "colab": {
          "base_uri": "https://localhost:8080/"
        },
        "id": "OcPaStflExDw",
        "outputId": "f1be97e1-e92d-4411-cb0c-ddb70bb03acb"
      },
      "outputs": [
        {
          "name": "stdout",
          "output_type": "stream",
          "text": [
            "Collapsed:  tensor([ 1,  2,  3,  4,  5,  6,  7,  8,  9, 10, 11, 12, 13, 14, 15, 16, 17, 18,\n",
            "        19, 20, 21, 22, 23, 24, 25, 26, 27]) shape:  torch.Size([27])\n",
            "Unsqueezed:  tensor([[ 1,  2,  3,  4,  5,  6,  7,  8,  9, 10, 11, 12, 13, 14, 15, 16, 17, 18,\n",
            "         19, 20, 21, 22, 23, 24, 25, 26, 27]]) shape:  torch.Size([1, 27])\n",
            "Squeezed:  tensor([ 1,  2,  3,  4,  5,  6,  7,  8,  9, 10, 11, 12, 13, 14, 15, 16, 17, 18,\n",
            "        19, 20, 21, 22, 23, 24, 25, 26, 27]) shape:  torch.Size([27])\n"
          ]
        }
      ],
      "source": [
        "print(\"Collapsed: \", collapsed, \"shape: \", collapsed.shape)\n",
        "\n",
        "# Let's unsqueeze the collapsed tensor (add redundant first dimension)\n",
        "collapsed = collapsed.unsqueeze(0)\n",
        "print(\"Unsqueezed: \", collapsed, \"shape: \", collapsed.shape)\n",
        "\n",
        "# Now, let's squeeze the expanded tensor and get back the initial tensor\n",
        "collapsed = collapsed.squeeze(0)\n",
        "print(\"Squeezed: \", collapsed, \"shape: \", collapsed.shape)"
      ]
    },
    {
      "cell_type": "markdown",
      "metadata": {
        "id": "DFF4zK-f3DRF"
      },
      "source": [
        "### Gathering from Tensors\n",
        "A very useful way to get elements from a Tensor is [`gather()`](https://pytorch.org/docs/stable/torch.html?highlight=gather#torch.gather) - as the name suggests, it is *gathering* values from a tensor `src` along a dimension specified by the `dim` argument. The gathering positions along dimension `dim` are specified by an `index` tensor.\n",
        "\n",
        "![image.png](data:image/png;base64,iVBORw0KGgoAAAANSUhEUgAAAk0AAAGSCAYAAAD+evU/AAAEDmlDQ1BrQ0dDb2xvclNwYWNlR2VuZXJpY1JHQgAAOI2NVV1oHFUUPpu5syskzoPUpqaSDv41lLRsUtGE2uj+ZbNt3CyTbLRBkMns3Z1pJjPj/KRpKT4UQRDBqOCT4P9bwSchaqvtiy2itFCiBIMo+ND6R6HSFwnruTOzu5O4a73L3PnmnO9+595z7t4LkLgsW5beJQIsGq4t5dPis8fmxMQ6dMF90A190C0rjpUqlSYBG+PCv9rt7yDG3tf2t/f/Z+uuUEcBiN2F2Kw4yiLiZQD+FcWyXYAEQfvICddi+AnEO2ycIOISw7UAVxieD/Cyz5mRMohfRSwoqoz+xNuIB+cj9loEB3Pw2448NaitKSLLRck2q5pOI9O9g/t/tkXda8Tbg0+PszB9FN8DuPaXKnKW4YcQn1Xk3HSIry5ps8UQ/2W5aQnxIwBdu7yFcgrxPsRjVXu8HOh0qao30cArp9SZZxDfg3h1wTzKxu5E/LUxX5wKdX5SnAzmDx4A4OIqLbB69yMesE1pKojLjVdoNsfyiPi45hZmAn3uLWdpOtfQOaVmikEs7ovj8hFWpz7EV6mel0L9Xy23FMYlPYZenAx0yDB1/PX6dledmQjikjkXCxqMJS9WtfFCyH9XtSekEF+2dH+P4tzITduTygGfv58a5VCTH5PtXD7EFZiNyUDBhHnsFTBgE0SQIA9pfFtgo6cKGuhooeilaKH41eDs38Ip+f4At1Rq/sjr6NEwQqb/I/DQqsLvaFUjvAx+eWirddAJZnAj1DFJL0mSg/gcIpPkMBkhoyCSJ8lTZIxk0TpKDjXHliJzZPO50dR5ASNSnzeLvIvod0HG/mdkmOC0z8VKnzcQ2M/Yz2vKldduXjp9bleLu0ZWn7vWc+l0JGcaai10yNrUnXLP/8Jf59ewX+c3Wgz+B34Df+vbVrc16zTMVgp9um9bxEfzPU5kPqUtVWxhs6OiWTVW+gIfywB9uXi7CGcGW/zk98k/kmvJ95IfJn/j3uQ+4c5zn3Kfcd+AyF3gLnJfcl9xH3OfR2rUee80a+6vo7EK5mmXUdyfQlrYLTwoZIU9wsPCZEtP6BWGhAlhL3p2N6sTjRdduwbHsG9kq32sgBepc+xurLPW4T9URpYGJ3ym4+8zA05u44QjST8ZIoVtu3qE7fWmdn5LPdqvgcZz8Ww8BWJ8X3w0PhQ/wnCDGd+LvlHs8dRy6bLLDuKMaZ20tZrqisPJ5ONiCq8yKhYM5cCgKOu66Lsc0aYOtZdo5QCwezI4wm9J/v0X23mlZXOfBjj8Jzv3WrY5D+CsA9D7aMs2gGfjve8ArD6mePZSeCfEYt8CONWDw8FXTxrPqx/r9Vt4biXeANh8vV7/+/16ffMD1N8AuKD/A/8leAvFY9bLAAAAXGVYSWZNTQAqAAAACAAEAQYAAwAAAAEAAgAAARIAAwAAAAEAAQAAASgAAwAAAAEAAgAAh2kABAAAAAEAAAA+AAAAAAACoAIABAAAAAEAAAJNoAMABAAAAAEAAAGSAAAAALs82hQAAAILaVRYdFhNTDpjb20uYWRvYmUueG1wAAAAAAA8eDp4bXBtZXRhIHhtbG5zOng9ImFkb2JlOm5zOm1ldGEvIiB4OnhtcHRrPSJYTVAgQ29yZSA2LjAuMCI+CiAgIDxyZGY6UkRGIHhtbG5zOnJkZj0iaHR0cDovL3d3dy53My5vcmcvMTk5OS8wMi8yMi1yZGYtc3ludGF4LW5zIyI+CiAgICAgIDxyZGY6RGVzY3JpcHRpb24gcmRmOmFib3V0PSIiCiAgICAgICAgICAgIHhtbG5zOnRpZmY9Imh0dHA6Ly9ucy5hZG9iZS5jb20vdGlmZi8xLjAvIj4KICAgICAgICAgPHRpZmY6UmVzb2x1dGlvblVuaXQ+MjwvdGlmZjpSZXNvbHV0aW9uVW5pdD4KICAgICAgICAgPHRpZmY6T3JpZW50YXRpb24+MTwvdGlmZjpPcmllbnRhdGlvbj4KICAgICAgICAgPHRpZmY6Q29tcHJlc3Npb24+MTwvdGlmZjpDb21wcmVzc2lvbj4KICAgICAgICAgPHRpZmY6UGhvdG9tZXRyaWNJbnRlcnByZXRhdGlvbj4yPC90aWZmOlBob3RvbWV0cmljSW50ZXJwcmV0YXRpb24+CiAgICAgIDwvcmRmOkRlc2NyaXB0aW9uPgogICA8L3JkZjpSREY+CjwveDp4bXBtZXRhPgqWqErQAABAAElEQVR4AexdBZgcVdY9beMaD3GiQICEQIDgGghhsZ9AFttdnN1lsWVxCxLcbZOFAAkaPASHQCDBNUqCxN3GpeW/p2Zqprune6bae2bune9N2asnp6qrTt173302nwhUFAFFQBFQBBQBRUARUASaRcDe7FE9qAgoAoqAIqAIKAKKgCJgIKCkSW8ERUARUAQUAUVAEVAELCCgpMkCSJpFEVAEFAFFQBFQBBQBJU16DygCioAioAgoAoqAImABASVNFkDSLIqAIqAIKAKKgCKgCChp0ntAEVAEFAFFQBFQBBQBCwgoabIAkmZRBBQBRUARUAQUAUVASZPeA4qAIqAIKAKKgCKgCFhAQEmTBZA0iyKgCCgCioAioAgoAkqa9B5QBBQBRUARUAQUAUXAAgJKmiyApFkUAUVAEVAEFAFFQBFQ0qT3gCKgCCgCioAioAgoAhYQUNJkASTNoggoAoqAIqAIKAKKgJImvQcUAUVAEVAEFAFFQBGwgICSJgsgaRZFQBFQBBQBRUARUASUNOk9oAgoAoqAIqAIKAKKgAUEnBbyaJZWjkB1dTVqa2sDktvtDtjmcY/HA+YNPha87fV6jTzM7/P5jPO4LzjxGM9lYl7/88x1LpkvnNjtduO8UMcdDgeYnE4nXC5XwzIjI6NhP48xT2ZmppGHx7ienZ2NvLw8FBYWori4GDk5OcjNzTX2s66amhrYbDbjnFB16z5FQBFQBBSB9oeATV5Y4d9Y7Q+PuPd48eLFGDp0KG6++WbjZU24+TImWaD4kwLu978c/sfMhnFfVVVVQ6qsrDTWg5dmHtZD0kBS0VwiuSCZ8CchZn6TlJjbJB4U5mV7mLjO9vsveZ65j/tDJZZpYmH20X8ZCgPzOMv2J3kmuWN55n6TsJG0ESOSIZNEbt26Fdu2bUNpaSl4nfLz842ie/fujenTp2PYsGH4/vvvzep0qQgoAoqAItDOEVBNU4JvgCFDhjSQkY4dOxokgsTIJEf+RKk5guDfTBKNrKwsQytCjQnXzWRum0vmNWXy5Mk4++yzDZLCelubLJUG/+7X6CxZ7yipWFJ3SbHYmseNG4djjjkGJ510EpYtW4ZBgwbhyCOPlFJVFAFFQBFQBBSBOgRU05TgO2HUqFGYM2dOgmuxVjy1T4cccgg+//xzayekKBe1QyQu/fv3D2jBo7J1QcCexo0iWWVuEqlQQkJVIIk6si6SekraRdKfJFGeeeYZrF+/HpdeemndDv2vCCgCioAioAgEIaCapiBA4r1JX5mNGzeiU6dO8S46oeWVYjM+8k7HFmwIqscm5KMI+ZLEKwhO+TNFjIDIseXLfxcqUIZS31ZZlqBUSpEtbPCtxWIskD1lxim7Cm252jHJPL1hOW3aNMyYMQMvvfRSw76WVrZKhm9byhR0nATMJE0DBw7EZ599FpRDNxUBRUARUAQUgUYEGt94jft0LY4I9OrVy9CatDbS9L33E4z33Rg5EhF4yBUaup+mVRx66KEREaamJUS+h35M1G6pKAKKgCKgCCgC4RBQ0hQOmTjtJ2lavXo1RowYEVRiNeC9vX6fOIX7lst6haSa+mX9IThkJU+SeO3Y+slysCyZ+sh6ZF489HuiiS7dpXPnzoZ2LuJ2St8cGzbAUyTGunqnbqtldO3a1aiTTuT0LVNRBBQBRUARUASCEVDSFIxInLe7dOmCNWvWhChVSJPvhhD7m9llanGMZY5kHCJpkBAoWfroJk0DVVBd9jfl+D6yv044zH7Lli3GMHtzX7otOTrPqlnTuXAhsp59Fr7Fi+BdsQLidY/KTz6FTdZ9Pem5ZE04sq9IyBZH0zEEgYoioAgoAoqAIhCMgJKmYETivN29e3csWLAgzqWyOGqlvqtLJpni7ibiDthDErd58+a0JwY0l61atap5XzAJIZBxycXwnjgOFePHixJuMLJfeQU5Qn4qIiBMJkDUxJWXl6c9NmZ7dakIKAKKgCKQXASUNCUY7w4dOmDTpk0JrsV68dTiMF5RXKXGh4wXS1E7uRwVn/mQ/YeMT+sZ263F8AwbxNTWrEi4hYoXxVm83hTn/O47+B55GJUvTW/2tHAHqYWrqCAZVVEEFAFFQBFQBJoioM4bTTGJ6x6+/NOJNDF+E6N/x0NqRcNl+7UW9pPXwft9NRyPdUTBFRlwfRI78SBuHHXYovj5LmU/9RRs554HUU+1eFqoDIxdxXAHKoqAIqAIKAKKQCgEYlMHhCpR9wUgwJc/I0+ni9B3hxGxYxVfpWiUbtsEz1w3bOflwn1CXTRtx3pxpD6mLmJ4LHWYZkTLZaxdi4opT8Jz772WT9GMioAioAgoAopAJAiopikStKLIy7nN6EOULsII4XHRNO2/Fr51MurvlS7w1BMmzgzjWepBzQ6xk6aIzYjix5Qp057k33gjMj/5RBzjm3X0Cnk5SChbY6T0kJ3RnYqAIqAIKAJxR0BJU9whDSyQfjIc5h8Ps8+iRWIOc/ogSpWoJR7mOee75fCWyES9j3eBL7/xFsp+ehtcI1yw5TXui7ahbGdEvlfixF3xyqtwyzx/zvvvQ+5J44DlyyOq3pyAOKKTNLMioAgoAopAu0Eg9rdbu4Eq+o5yCHtJSUn0BdSfKdPY4Yr/AJ/PiVyLYlbOSXljdXZ2j85F5vOc9a1RfJtFw/RMJTwXc0KT2IUhByI2I4optPLEE1Eu5Ml71tlAnz7Ie+GFqLROsfdAS1AEFAFFQBFoawgoaUrCFS0oKDBiI8WjqhG7ARKaKGrJzc2NS4BL9y6BJriMyaJlOjYT3u3i4yYXK2aVhx8O8SRH2cknw754cdR46YmKgCKgCCgCioCJQKsgTZVX3ADvHxK4sJWKGTQxXs2PJWC10+mMXIMTquEOW8NeT4kX7pnVqDyjsGGfb5s4OMUg9AWLSTsnYRXy/vc/ODt1hJcqOguiPk0WQNIsioAioAi0YwTiQpoqzvwHqh9qOvFqvHCtlAlcvT/Pj1dxSS+HBCCeI+hkZHzUQvNcXBzB/VqQ/UYZXAdnwFEgt9NKNzKu3giX7ItFosHM+eOPyHnzTeRMmoTssUdB2CHci3+x3Az1abIMlWZUBBQBRaBdIhAXW4pzn73gOvLQhALoXrgYzqOPSGgdiSqcAS45PUc8hIQpioFhDVVzdBjJQTzFV2yH5+dauK7YCPfXEoLgNHHiHp8PVwyVkDQxOnckkvHcc7CLQ7hNnO/LnngSPvFpUlEEFAFFQBFQBOKFQFxIU8bfTo1Xe0KWk3noYTKPLSeybZ1C0rR+/fq4NJ7D+mPRNMWlEUGF1B6VB+eXVfANyYD7ho7wZdliIkwsnqERgkfP/VX2y2QpxgQypKA02G6R1BB1auJE2QoU0i5SREbKWi6J4TJLJVEkbnmA0HSpoggoAoqAIqAIhEOgVbwlvFu2wv3+x8i65t/h+pHW+zt37owlS5bEpY3x0DTZo3CK6gIH1hv0I3Q33DfVReF2hD5s7KXr+PbIRDGy0AfdcJAtvOaQZsTg0XNZcj4Tx+dtJ2kHSfGUUEQtnuVrWYqAIqAIKAKtG4FWQZqcOwxG5dSprRbpTjKtx5w5c+LSfk5jF8ssKFYdwXe17Yc5tuca2ryLbZSxXoEyeHyN07B4hUhViO6mCqHns7PDhhwUIt9WhGzkyZY1Nzq20xeLHbKh5dZXGBuKMbVUFAFFQBFQBBSBUAi0CtLk2nskPEt+DdX+VrGPpKllR3DqYWgw4iWhLw63OdHvsvqlLETOPYfzo9WtR/Of2hQrvkKFtk4Yhv2bVJFHPU+QI3qxaI0SIWZMKcZsSoZEFRsqGQ3TOhQBRUARUATSAoG4kqbaKc/COfoQ2Lp3jWvnvCWlqPlyblzL9C/M/dW3qHn6eWRdcBbsOw72PxSX9XyZVLYpaSoA7B8D3g/r6rD1le2/halPyJNPYg35JECTbx6cTo4I42jC1ZL8GRTZDIf97yVpuJAbmsz6S2oUkqZka3Aaa49szTTRJYs0ceqWWAN/RtZDza0IKAKKgCLQmhCIL2n65ns4RCsUL9Lk4ygv+t/Q+1nEJ75NtuLQEaeZt/qWu+CSEXaO4bvW5a+ogOfr7+E8YB9jO9S/2ldmoPRfF6PgyUkJIUysk4EaS0tN92O/VtgOABySWhSJvk3zWL2JrDE7calp3BS/I3Gh9ttuukrC5K3Hs+nR9NpD0lSTxAEAWTLyTs1z6XUPaGsUAUVAEUgnBOJKmmC3wSeTngZLzZOigdp7D9iHDIRPtEbgxKi5zZtcvCtXo+reh+H+aR7cixYg+/TTUfvWe8g4VeYUCxJfWTlKjx0Pm/ikVEyajA4r6pyua/77NMrvvhtF77wJ+05Dgs4SHc3rMw3CVPjRu3AM3L7J8Xjt4PD5eIUcCGwT/YPoGm1dGHIgqklpZ/iA5+vroTXuctFqUanFYWkMyUTuJlnEuUmGs3GlXmQknWFxLKvfR2XYDvXnmnnCLOMxT16YokPuVtIUEhbdqQgoAoqAIlCPQHxJEwsN4bzr/f13GY4+ECRC5Rdcitrvv0Hhi9MMrVSoK1H9yP9Q+/GnyP7Xeci+/gps2Wk3uEaOQNXzL8M1/gTYgohZ9X+fROaY0ULMRqL62Zcaisz4x1moePhRbD3iaORPegwuapyy60iG58tvUPKPf6F44Q8S1ye34ZxErNCpmdGmOWlv0oa111SIx3j9YHyHXOasfKNrpp9QxP2kS9nP9Wdx+YGQID9uFL68EJlk0mF8WU+mwp9oHAkZiFMUbJX1Lm42uZxZvVooJMzh5TKhb+/evRuOqk9TAxS6oggoAoqAIhACgfiTphCV1H7/E1xHHIqtex+Agv8+itxd7sG2Q49CwZT/wrHn7gFn1Ex7CbWffo6cR++BXabAqH3+FeRcdCGcx4yB44uv4fnkczgP3r/hHJ+Ymryr1iDrb6eh4obbkH3xBQ3HbEJWima/jy177APPN9+h+n9PIePYo+HYa3dU3nE/Cme8lnDCZDaG/jKMO0T/pmbFLSqb2ipUyyiuGptTxqZRm1Qn1BCRRNBkxWVtyUbUSEKFmC23rapLJavh2Loc3vLGuFC+rjuj9sibxNJpl+nYNoJkYd68eWaxho8TyyOp81/SjGf6P7kW+WCjVknEbrPD66NpMFDYPof8uWwuZNhdxpLrTumHL4hh1c53wOsILIPnm/WxZE6j8ssvvwQ4rjOPd4sPK/5GMmYXMupFlrht2WRaF1uWD67Odti7e+Hq5EL3Ed2Q1Vf2i8XSV2bHH3OWY82aP/Dl0q8wd/EXGDp0KO4WTaQp1DSpT5OJhi4VAUVAEVAEghGIM2mSF1SQpsnz/Y9iistF5Z0PIO+aq+Gsjxyef+dtKLvoPyic+2FDm7y/L0PN62/VEaaOHeArr0D1qzItxp0TjDwZ409E1Z33wbHf3vIirPPd8Qohq/l4FqpefBHZ4/8Mx6g9G8rjiueXpaKFGovMqy9D5oZNqH7mOZQfNx6ZBx4A23aJGfUV0ID6jVWrVuHaa681zHSbJG6AGSvJ37+IJKFCCFBNTS3EnQfZ2SQR5iXyGe5ddPHKcPmQkeGV5IO8502Xr4Zq69zAOPquXlavBH64zahzxYoV2LBhQ4CPFbVg1IAx0VHcf2m2zyF+6LZtdVqjcKTJYXOg2luNWglJwFRTvyTBCtY3eW+XvtkC9xITsz62nITpscceg78juJGn0guHdImWPqOEZY1EztxHkrbGvdYgYbYMIVpuL3o6eqBPZi+MHLoHznrubPTs2bMeoLoFzYG8NiqKgCKgCCgCikAoBMw3cqhjEe+z5WTDJ87X/mITf56az2cj8+g/IePcvzQcco4dDdx8O6om3ouMP40xnLBrn3sZWaePh52Eac06lF90Rd2x3nUvN8cuO8IxeKChfco47SSjLFuHYjj790fNhvWS94iG8lFZhdq33xefpUtQ9N5bdX48XTqJNiJb/KNOgV3Oq7jgYjh3GGI4ijsO2k9UG2WwFcmotjjL448/bhCVYcOGYfjw4ejYUSaRNZ3b60kmiQrJQdGnj8M2+7/xbcH2MpLugqlGmTNnzjRiRt18882R1XG/0JN48omnhN4077OO448/Hvfccw/69u0b0Fb3ZuC9gzwB+yLZ6NbLJoSpUYNnnpsr5F4dwU00dKkIKAKKgCIQjEB8SROdu0vpFdwo9u37Iv/mm+A6Y3zjzvq1gg/eRMWFl6P2tRnIlKH+FVOeRvbJ4wztUOXT05D/6P3i97RHwHmZV10KrNvQsM/erw9yn3sC2Qt/QdWDjwOPTJaR9kJKxH/KtftuoJO3vd7J2/PDz3DP/RI5/70fNiEoLiFentlz4f50DirveRCOfv2Q89CdDWXHa+Xcc8/FjBkzcPDBBwf40IQsn2qiBAo1SYkgBmXeMlz4+0V4svwJ3NThJlzb85qYe0Fi6W+ui7nAFgqgv5eVGFYtFKOHFQFFQBFQBNooAnElTY6ddoT7ux8N85k/XqEIE4/TATv3iYcbsha++zo8QmBQWIDCT96BTZbBYiOpCIoDRd8lx847IlfIkG/9xrrQBNv3aTDhGWWI5qnq7oeQdfnFBmHiPpr46B/FlMlRfbR1tXGh3w79luIpM7fOxFHLx+LYzGNxVdGVKHC04LcVz8rjWJZqmuIIphalCCgCikAbRCCupMl1/NiYIKLWiCkWsdEEJylYqp+YCteB+4ImvlBiK0jsi56+OPQdipd4vD68/msF8lx2HN43O6JiPYx/FSf5ueJngzDN6P0mRuXvg8MWHYa3B78dp9KTWwzNoyHjaSW3GVqbIqAIKAKKQJoikFhbUBp12lZcCOc+jJSdGqGpKV5k5ePlVRj98jq88kuFLNdi1vJKy50ieeMItHjJf9f9F2/1noGjio7CCxufx7FFx6KzsylpjaY+mhJN369ozo/0nLy8PJSVBZqXIy1D8ysCioAioAi0XQTiqmlKZ5gy/nxiOjfPctve/b0SR7yyFp+e1B3v/1GJA3plYZ8e1s2KUcdpCtPC+/rJaEYjEjnw8bZZOLXzKWFyRr472rZuc29EjqNAQh74jSC0UD1JUyL8vSxUrVkUAUVAEVAEWgEC7UbTlOprQQ0PUyyyqsxtEKZ3T+iG8lofJny5Fa8d0wUuiVFkVRgvKl4aL9ZpEiau/6nDn/CnFcdgyoanUO4t566YJNoI3a+tvg8TFh8bcd3UaiVTsxVxA/UERUARUAQUgZQiENtbPKVNb12Vx+OF/NqSCpy3SwEGFTtx+9dbMfvk7ijKjNxPKp7mOf+rcEqnP2N2v9lYUvkLes7rhTe2vOF/OOJ1OmZXV1dHfN5OBfuiX46EWYhQ4u13FmH1ml0RUAQUAUUgzRFoN+a5NL8Olpr39+EFcIsD+MkzNuDi3QqxbwRmObOCeJA3s6xQy33FGZzpL13+gh1+2QnTvFNxUsem8wWGOjd4HzVN0fgYLa9YgN7ZQ4KLa3Gb2MRTC9dihZpBEVAEFAFFoFUhoJqmJF2ueDlgPzmvDH0LnPjTAImJFYVQyxSrmTBctR6Z9OWP6j+MwwOzBuLBrvdjbqmEkIhSOJqNU89EKqurfkW3rO0jPc3AJVHYRNwYPUERUAQUAUUg7RBQ0pSkS0ItRqyBGjfJ9CHTFpXhkt2bxq+KpBuJMs9NWHkzSjwlRlM+LZ2NC9b9HRd0uyCSpgXk5bQmkcaUKvNsxYqq+RiQu1tAWbqhCCgCioAioAjEioCa52JF0OL51GDEqsWYuqAUR/TJwXZ56XfZZpd+hhs334iuri54adNLeL/kA8wfOA+DsgZZRKhpNprKSDYjke+2vo8+2bsg0x5Z7CrWkWjTZST90LyKgCKgCCgC6YeAapqSdE3i8UK+7/sS/GVoHpZuqTViMz2/qBxTxFx359fbLPeCwRvz86MI5JnXfBX75e+L7/p/ixc2vYi+mX3x+qDXsWN26ECizZfUeJQkM1KtGJ3AF5Z/LhMHR27WiwexbWy9rikCioAioAi0NQTST2XR1hCu7080BCAYihv2LsbIaauxR7dM9BJtU7dcGfAvtPeY/ta1KiQhUZkJz5SwBgNk0t6PpVVmQHFWS0shw0QVAcOLhmNWrmRwhQiBsFzO/UHyycIQC4P+ojFpdnR1x4NDv62vJLKF2+2OWRsYWY2aWxFQBBQBRaA1IaCkKUlXKxoCENy0M3bKA1OLkimapK6DgU59ZJ4+WfYNHH4fqfamob4DhAwd0LAV2crucu7xkZ0SLrddfOA79ZPy6glY9VagXFypvDKyMBbZsGEDBg8WvFQUAUVAEVAEFIEQCChpCgFKInaRqFjyaeohJq3d/g+oluCQXlOlIy1yuoAMUe3YRLXkEtWOQ6JdO+Ty5RYDeR1F49NFlqLuKegqqXOzXWgtw+rDmcvs0v2RrwVZloUvucVKWfEbULlU0kofqtb6UBtkucwQuLqMDjq3Hq3dd98dTCqKgCKgCCgCikAoBJQ0hUIlAfvefPNN3HrrrejZs2fzpe8mkx4zJUhogmotk9JG5AcmiicnOaMMmmMSdlmfEgSkFqsIKAKKgCLQ7hCwiX9LbDaNdgdZZB3mXGYcOn/ooYeCcYe6devWUIC/f5H/OjMEb5v7ampqQOJjJhILRs3mNofnM5nHQl1anj9//nzsvPPOOOecc/DYY4/B6XTC4XAYmrDmJsml5oflm6PauGQd3M8ymhOWz7I5jQvnlPNfEh8mzv3GKOBcEqsPP/wQvXv3xpgxYwzndTqwFxQUGImBL1UUAUVAEVAEFIFkItD8my6ZLWmjdfHl/vjjj2P48OFGD0lySDL8lzxg7jNhCEWamIfkg4kkhYlExH/d3CYpCUWaWD7LZlmTJk3CDz/QOzs2MclTc2Y/1kkCSYJH4ua/JBGj9qu8vNyIAM4l08aNG41zuM7jTCUlJcaxiooKg1iZhItLkiouSbhIvrhtEjUuzbwmKWOejh07ori42CBqsaGgZysCioAioAi0dQRU09TWr3Ar7t/tt9+Ovn374qSTTmrSCxJCEidGDDcTt03CxSW3SdRIykjUmDgtC/NzuWnTJrzwwgtG2a+++iqOPfbYJvXoDkVAEVAEFAFFwERANU0mErpMOwRoylyzZk3IdlFzRU0RUyxC0x+1focffngsxei5ioAioAgoAu0AAdU0tYOL3Fq7SN8raoxGjhzZWrug7VYEFAFFQBFoQwgoaWpDF1O7oggoAoqAIqAIKAKJQyB0wJrE1aclt3EETpnwJTZsqWrjvdTuKQKKgCKgCLRHBJQ0teKrXlXtF/wyTfrRIT8Da7dUp0lrtBmKgCKgCCgCikD8EFDSFD8sk1rS3HkbceYd3yS1TiuVFeW74HIysGTypKzCjQlTFiSvQq1JEVAEFAFFoF0ioKSplV72Xl1yUJwnU6ukmeRnO7FpW01SW7WlrAZvfb02qXVqZYqAIqAIKALtDwElTa30mjOMu92eXI2OFagYXz7WiXOt1OOfx+mwo1DImooioAgoAoqAIpBIBJQ0JRLdBJedjhPgdCnKxMYka5q6d8zCu3ftn2C0tXhFQBFQBBSB9o6Afp630jvA4/HBkYaapr8e1a+VIqrNVgQUAUVAEVAEmkdA4zQ1j09aH62ociMnS3lvWl8kbZwioAgoAopAm0FASVObuZTaEUVAEVAEFAFFQBFIJALq05RIdLXspCHw/tfrMP/3bUmrTytSBBQBRUARaH8IKGlqf9c8oT1+5ZOVmPdb8snL14s2w8shhSqKgCKgCCgCikCCEFDSlCBg22uxN09bBGeSg1sS66Wry7BkRWl7hV37rQgoAoqAIpAEBNSnKQkgt6cqvlywCZVVHhy4W5f21G3tqyKgCCgCikA7QEBJUyu9yJUy79yW0hps1ym7lfZAm60IKAKKgCKgCLQuBNQ817quV0Nr126uwkk3fdGwrSuKgCKgCCgCioAikFgElDQlFt+ElZ7htGPXfoUJK18LVgQUAUVAEVAEFIFABJQ0BeLRaraKZLLeOQs3w+3xtpo2a0MVAUVAEVAEFIHWjICSplZ69XJlgtq9h3RAeaW7lfZAm60IKAKKgCKgCLQuBNQRvHVdr4DW1tR64ZXgRFmZjoD9uqEIKAKKgCKgCCgC8UdASVP8MdUSFQFFQBFQBBQBRaANIqDmuTZ4UVPZpW1lNaiu8aSyCVq3IqAIKAKKgCKQEASUNCUE1vZb6CWP/KR+Vu338mvPFQFFQBFo0wgoaWrTlzf5naNj+oJlOp1J8pHXGhUBRUARUAQSjYCSpkQjnMDyPeIEvl6CXKaTjBraERkpmHsunTDQtigCioAioAi0TQSUNLXi67qtrBY3P7Mw7XpQkQKfpmfeXYb3vl6bdlhogxQBRUARUATaDgJKmlrxtWS4ga1CnNJJOhdkoqQs+bGjenTOxuc/bUwnKLQtioAioAgoAm0MAWcb60+76o7dbkNhriut+nzA8M7YIiPoki0H79YFTCqKgCKgCCgCikCiEFDSlChkk1CuR6ZQKa9Kvlanua5t1ykbTCqKgCKgCCgCikBbQ0DNc634inYuzsLGkhrQIVxFEVAEFAFFQBFQBBKLgEYETyy+CS99w5YqkDy1d3l51kqM3KEDenXNae9QaP8VAUVAEVAEEoSAkqYEAavFJheBknqH+IK89PLxSi4KWpsioAgoAopAIhFQ0pRIdLVsRUARUAQUAUVAEWgzCKhPU5u5lNqReCBQW5teIRzi0SctQxFQBBQBRSA+CChpig+OWkobQGDOnDkYM2ZMG+iJdkERUAQUAUUgEQhoyIFEoBqmzDfeeANVVVXo1asX7HY7+vfvj06dOoXJrbuTjcCoUaNQUFCAWbNm4cADD0x29VqfIqAIKAKKQJojoD5NSbxAfBEvWrQIffv2xfDhw7F06VJs3boVPXr0QJcuXdC9e3d069YN+fn5KC4uRnZ2NjIyMuByuZCZmWmknJwcMOXm5hrLJDY/7lW53W7QHOa/LCkpQVlZGcrLy1FZWRlQp8PhMPAwMdmyZYuBH8+hkIjyHBJT4lpaWor169ejoqLCOGYWRuwKCwvB8kiSrrvuOvMQJk2aZNR90UUXNezTFUVAEVAEFAFFgAgoaUryfUDSdNVVV+GVV14xaq6pqcG6deuwevVqI23evBlMJnngcZIKJr78SSbMJcmBz2ctRpPNZjNIgtPpNJYkHlzPysqC1+ttggIJCMs285NgMHGbJM7j8YQ8h+3lMbPNXLL86upqgyCRJDEPy+Yx9qFr164NbSGhYcrLyzOW/m3jOczPsrifhIfkkol1so9sG89lMo8xnz9OJGUkVewPsT7mmGMa+kIie+mll+L1119v2KcrioAioAgoAooAEVDzXJLvgyFDhmDbtm3YuHGjYZojeaG5jinRQpKy7777GhoYmqBMYuNPKMw2kICQiJgEyFznkoQl1DkkWkwkVibZ4tIkaCQ0ZuL+a6+91iCAd999t1ltypcDBgwwrg2vEbVRKoqAIqAIKAKKgImAkiYTiSQu6ctEjUay/ZlIVCZOnGiYoDp06JDEHoeuilqndHS83mWXXTB//nzQx0lFEVAEFAFFQBEwEdDRcyYSSVz269cPy5cvT2KNjVXRJJUuGpRwGqvG1qZmjaR2yZIlqalca1UEFAFFQBFIWwSUNKXg0tDZe9WqVSmouc5ZmhqndBCaAJnSTQYNGoRff/013Zql7VEEFAFFQBFIMQJKmlJwAThajqO6UiEkKaH8kVLRFrYjXdri3/+ePXtixYoV/rt0XRFQBBQBRUARgJKmFNwEDC+QKk0TR8sFD+VPAQRGlelqnqMmcM2aNamCRetVBBQBRUARSFMElDSl4MIwHtPatWtTUDOM2E8ctp8OwpF26WieYwiEDRs2pKUWLB2um7ZBEVAEFIH2ioCSphRceWqaGCeImpZkCwNmMs5TOki6aproLM/YTgw7oKIIKAKKgCKgCJgIKGkykUjiktoVDvlPhbaJPkTpqN1JIvyWqmKATQbBVFEEFAFFQBFQBEwElDSZSCR5ud122xkRwJNcrRFokvGR0kHS1TxHbBhRXElTOtwl2gZFQBFQBNIHgfQYe54+eCStJSRNIZ2NfcukDab5zCUT3fSW7Yy4tYtkgKbBdJDmzHM1psuX0PqMLslvLXHi3HUqioAioAgoAoqAiYCSJhOJJC/pDM755pqI9wzZ9anfbioDd5E0VFJHIVHdZdlXlpLQQ5aM7J0tyZrQ7JQIR3A6Tq9cudKYiNhaS8Ln8sk8vR+MbpzbzuW0wS2b/uEJ1tesRKW7BD2zByGLExrnAjldRUPUR9Doa0NGUWP5ncfa4PTbbjwSfo0+Teni+xW+lXpEEVAEFAFFIJkIKGlKJtp+dZE0LVy40G9PuFU6i/9Qn2Qh8/P++CMwbIQPtVVCBowrmCcHuknqK4lErEaSiP05IVUj6tbr/zOwJeeci5dwYuHXXnsNkydPxuzZs/HQQw/h73//u6XizbnqWspc666blHhT7Rp8vfkt/FbxE9ZWL0W2vQA/V83CA0O+RSd3D5SJ3/b6X1haXX6z3AOGyUTDEZKmnJwc1TSZAOpSEVAEFAFFwEBAfZpSdCNwKpNNmzZFVfs999eRgsbA3nRYXirpA0kL6te5HTq0AB3BYyVO33zzDS688EIcddRRWLBgAWbMmGGQQBInq0LznNURhDPXPY7rFx+FSk8p9io+GjcOeQtXDnoee+cdhw83PG21Ssv51BHcMlSaURFQBBSBdoOAappSdKmLi4uj8i2a+wWwcaMY7Gixi1IyMzPh8XhESxXd5T/22GOxePFi3HXXXbjzzjvB8ii//fYbOFw/3rK2ehkWl36NW4a8j0KnmCj9ZFvteuzfcZzfnvis0qepvLw8PoVpKYqAIqAIKAJtAgHVNKXoMpI0bd68OaLamf3yK3y47mobxI0naok1VtPrr7+Ohx9+2NAymYSJjZk6dSrGjh0bdbvCndg5oycuHjC5CWH6dNNLyBcStWvhQeFOjXo/zXNKmqKGT09UBBQBRaBNIhCdqqFNQpHcTjFOU6TBEx962IfjjwX22CO2tlLDVFNT7/cURVE81xXE2n7++WfMnz8ft912m+USrfo0OWxNtVeba9firXWP4vKB0yzXF0lGOoLTuV1FEVAEFAFFQBEwEVDSZCKR5CVfypEO/b/+RuCruZxwV/y7bdE3OCMjwzDPRVtCMGGiqW/ChAm46KKLmpCp5uqIxKcpuJxnV0zAEZ3PQkcXRxPGX9gn/9F68a9BS1QEFAFFQBFobQgoaUrRFaMzNp2NGQsoPz/fUisaR8tx+D2E+EB8iCydGpCpufhIARktbjzwwAPo06cPRo8ebfGM2LLNK/kMJe6NOKjzn2MrSM9WBBQBRUARUAQiQEBJUwRgxTsrtU0csm+VNPn7bcvgOzkXENeoiIWEjaaxeMiXX36JDz74ANOnT49HcZbK+H7b+1hVs9hSXs2kCCgCioAioAjECwElTfFCMopySJqijTpNAhXtbCgkTLH4NPl39Z577sEll1wCOpdHKhxpFw15+3PPa7GxeiWuXng4hubvh50K9seQvD2RYc+KtAmaXxFQBBQBRUARsIyAkibLUMU/o6lpiqZkkiaa56IR+jTFw19nypQpYLypQw45JJpmGJHJowl74LA5ZTTd/7CxZhXmi6nus03T8dTKq9Ercwec3+8BZNojJ3BRdUBPUgQUAUVAEWhXCChpSuHlLioqilrTRF+maEkTHbkrK2WukhiEU6Y89dRTeOONN6IuJdQovEgK65TRAwd0OslItb5qfLD+aVy0YE88OvSnSIoJmzfY4T1sRj2gCCgCioAi0C4QiI9jS7uAKv6dzMrKQlkZo3lHJuvXQ2I8Affe68OcuZGdy9w0pdVGa9urr44+TAxyadUfK1Qr2YZ4EROXLRMfbnoavTKGhKoq4n2M0eQfgyriAvQERUARUAQUgTaHgGqaUnhJSZoimTz36mt9+OLLOl8mcYfCDjsCOw+NvAMcTm91+pJwpc+cORNPPvlkk8OcT2/RokU47rjjmhwL3kFNE02FscqqqqWYtuIGwzz3j+0fjbU443xq4nh9VBQBRUARUAQUARMBJU0mEilYUuNjlTRxkt6JdwC/Lrahb9/YGms1qGS4Wqqrq8Fglpx02BSSjPvvvx8ff/wxzj//fHN3s0vOfxetNmd9zUqsrvwFX215C8sq5+H47pdgWOGhCBUIs9lGhDnI/tB8qqIIKAKKgCKgCJgIKGkykUjBkpoMq75Fu+4qPkzVMUS09OtfrBP2kugceOCBOPLII3H00Udjy5Yt+OSTT3DQQQfh1VdfBacgsSLUNEXjCM6y3d5qfLllhjGFyl963xL3kXMks6ppsnIVNY8ioAgoAu0HASVNKbzWfCk3mUrFfrNErlwh6TtpmaiXwKk81tUniWgZByFRiXX03HPPPYc333zTmGqEGqfTTz/dCHAZSfPCOYLbxGI38E821GxrLM0uc+1lFAOujjY4ZXDczlUDcdDGe1GxHCgXuMplEuPqmvjgw1pJZqMJo9DYYl1TBBQBRUARaGsIKGlK4RUlaVq3joTIT2z7yhwp3B7vt5OrVUKkhCH4Vsr6JklCpnxrZfl73TpqZenvVE7T0naSmgr9iCoqKpoeiHAPtUyxSFhHcBkZOHCClTEKgZo3r0DE5C+cts5hLeC6/2mgCZIR21UUAUVAEVAEFAETASVNJhIpWNKMRW2LNRGnZNugumTthLC58vLyLJsFwxYShwPxcgQ3m8LYlvGKb0lSGQ8ndbNtulQEFAFFQBFo/QhY+Zxv/b1M0x4wIrZ10hS/TnCYPzUpqRaO4EtXYkKfJjXPpfoO0foVAUVAEUgvBJQ0pfB60LeII8iSLRw9x7ADqRYSk2gdwRPddnUETzTCWr4ioAgoAq0PATXPpfCaUdOUCtJE7U6scZriARv7Hq/glmZ76OBOwkNNGrV4XNJ3ion1cUnCyGPc9t/nfx5jTXEk4OzZs8HRhqbjPM/duHGjgd+HH36IyZMnY9AgMZuqKAKKgCKgCLR5BJQ0pfASp0rT1FzIAZIIRilnRGxOJswlt0kozKCYoZYkFSQiZiI5MYmLP2nxh3vZsmW48sor/Xc1kBu2g/WYxMYsn2TP3G+uc0kfJNbNuuhgz7AI9BkjMSUxYyLeXJI0cj+3zX3Mz3Uumdh24sTyqJkzSSaPDR06tCFv7969A9qvG4qAIqAIKAKhEfD+vhy2Ht1hy5Dh0K1UlDSl8MLxJU1SkAghgdiwYQM2bdpkLDfLvCskQSUlJUZMpTlz5uCjjz4y9pEUcT+XJAd0FDcTR5Bx3RxJRrJBEhFqyf6QkJBYcHoVrpuJ+0hCTCHxef311zF69Ghzl1EmyzUJjbk0iY0ZlJPbZv1mnSRDrIPLeAjbxiCdzQW4jHX0YDzaqWUoAoqAItAaEPD++jsq73gAuY/f26S53mUr4dtWAscuMs1FmouSphRcIBIl88VP8hCp8BxOmLtmzZqAtF4mpWOi+YiaoU6dOjWkzp07G8SnsLAQPXr0MMjAiSeeaJAbEgNqZUiOSHKSIYyD1LFjRxx22GHJqC7iOqhpshqkM+LC9QRFQBFQBNobAtU1sGWGfr9U3nw7auZ8geL5X6c9KkqaUnCJ7rrrLlxxxRUGQaFmhwSCQS79NUNcZ6KGiFogJlNTxHO6du2K7bbbzpjKpFu3bthjjz2M9Q4dOoAEqYCT04URmrpY59577x0mR+J3kzhSM5SuQtKZLAKZrhhouxQBRUARiBcCtu26w7tufcjiXHvugep33gl5LN12KmlK8hVZsWKF4cdDJ2Oaw9auXYuffvoJJDvFxcXo0qWLsU4t0c4772wQIGqAaO4iEeIy1qHwpq9OkrseUB19pdJ1mhKaNuNl5gvotG4oAoqAItBeEZCPdfHtCN17jxf5994V+lia7VXSlOQL0qtXr4aRWIsXL8a1116LF198MamtoAbFdGxOasV+ldFxO13NXzTNpSuh84OwVa165n6N2o8+QdbVl7WqdmtjFQFFIPEI+OQj2t6vdQyqCUP7Eg+S1gDjxcwXdLKFTtSpqNe/n9Q0mc7l/vvTYZ3YtHfTXO2Lr8L90adxuxw1r85AxWOPx608LUgRUARaGQIyYs4nbiGhhKTJlmttovdQ5ydzn5KmZKIdVBd9eug7k2yheY8+TakU1q+aplRegfB1ezduQumll8PerWv4TBEesYs/g4oioAi0XwQMUiSuD6HEVyZzoebITOytQNQ8l8KLRNKUCo0PSRPjD6VSSJroq5WOQp+mWP3G0rFfVttk79QRHVYssZrdUj7n7rvCOXCwpbyaSRFQBNomAjbxy+VHGZ8x/uIT7b4tq3WQJtU0+V+5JK/TbyYVpCkdHMGpYWPYhXQUEjp1BI/vlfFt2Qb3ksXwlZZFXXAo1b6PITsqk6+tjboTeqIi0I4RsHfpBN/WkiYI+ORD1RenGHtNCo/zDiVNcQY0kuKozUgFafKPcB1Je+OZl5qudPUbIqFrz5qmeF5nsyzvqjWwd+wMz1ffmrvCLr2Ll8L94SdNjm8ZtEuAT4RPwlaUn3oOqm6/r0le3aEIKAJ1CPB3Eiy+NWtR+9pbwbub3eZgjop//Bu+dRuazdfcQUObJEGWg8Umo+r8Yh8HH06rbSVNKb4c1PokKip4uK7RLBhNUM1w5UWzn6QpXbU5JE3pHEMqGrxTdY7ny2/gFqLk+WMZss/8C2pmvtdsUzw/LcDWQ49E2SVXoPqBQMfxzIMORuV/boD5Eqi65mbjQZt1wxXNlqkH448ASbBn7lfw1URv5veVV8Cz9Pf4N05LDECgfNxf4F34S8M+4l56xnmwd+1i7GPcPn54lBxyNGqeeaEhn/+K+423sW3cn+XDpwO2HXksWIZv7Xrw9x2J2IsKjcjfwef4JPYgIxJ4lvwGDkKpeexJVF5xA2plAEm6SXraR9INpQS2hyYqM0J4AqsJKJoanuYcwd2ogQd1D0MXsiCTpgScH4+NdCdNGnIg9qtcO/11lF5cF2LAXtwRhd/MRsU5F8Lz43w4dt0pZAXUMOXfdQfs23VD5YOPI/PCcxvy5Tz1GKqvuwW1T0yD87CD4JFpGXKfndxwXFcSi4B3wybjheaWyM3yxWO8/Gq++crwfys78QxkX3Q+HPvs1WIj+JKuvuUu1H79nZhsl6Dw1edhHzygxfM0Q3QIuHYfDo+QJvsOdROLV024A1lnnALH3nuAZKV6wp3w/LIEeZMelA+WMaCnacZpJwVUVj39NeTffw9cxx+NjH+eY4x08y5bgW3/Nx7FyxaDmiIrwt+1d826gKzeX36F5/ffUXHl9bBLrELXiOGwde2MjD2GN7Q54IQUb1jraYob2Zar5/D/ZGt9WjILXuU5FcWeQUaa6r0TJFHxlnQOIEmTaXsnTZ7vfzTITbTXvfbdD1F23QQUL/wB2ePHw7X7CGOSzszTx6Nm6vNhi7VxBI1MUVj98hvI/mcjYeIJ1MpmXnkJ3D/NQ+npZyHzxGNhayV+EGE73EoOeFeuxtbdhBDJNci562bkTnkUWef8BYUzXjN6wNGRvqqm4VO8K1YF+Jz5RMNcPu4M1Hz6OfJemYqij2bCHaG2opVAljbNdOy0A7xr64gK/QI9vyyF69ij6tonpraaT2aDHyTepb9BRgiFJLBZF/8dpf+6BLXvfNjoxC3vrqzjjm9CmHwlpfB8/1PI/nOyXu9KuSdEPN/9gHLReFXeeZ88GzKRdeYZyP3v/cg49y9wHTcWjhHDYJPpvdJNVNOU4itiapqS2QwSAgaXDCdeoUmmnOd7EBd6HsRe6IDuEG2B/BXIX7Z8j+TIXzZy4bDVaaJs8rbzwItyX4mUIP4mKIVP/ihXOR5FhuQ2JZ1HqNE8195Jk3f9Rnh+DtQIUSXPYcOez+Zi2/jTUfD0E3AetJ95SQOWtW+9h4Kpk2HLy4Wv1o2sv51qHHccsA+qRQNF9XvGeX81TG02vwEBTjm+9bAxyDrh/+DYb++AMjmhZ/VjTyDzsgtRPfYEuOctgFO+fP3PDzhBN+KGQNlfz0fBtKfg3H9UQ5nOIxvnjXTuMBi+zVsajnGl5OCx8Kxbh2LRMJpS+/TzcO0zCpkXnVe3q1sXuMafYB7WZSIQ6N4Vvm9/MEr2fP4lnLsMbYiJVPvmO8YAjfKT/grv1q0o/uoz2CR/sDiG72JogEvPPg9Fcz+Bved2QHaWEOXAQRgc6LFlp92M04vnfQtbYeB0Xra+feARkxtN7G4hYFnnnwnHXnug6sbbYQ/KG9yGdNlW0pTiK0G/nmT7NDE+EoNLWhXqmT7FZvm/GY6lYrrr54IwJdQKH3Ju8cC5yg3777Wo/VP4EAKXi7nPnzRxCpl0DW6ZzoTO6jWLNZ9jwPaoEZW8KTWTn5Yv1F+RcdxRqHpiKgpffNbwcci78QZk/O0UM1vD0rtqtajWB8O7QEbMbdkC+6g9jWM2+TrNvvkabN11JAr3HAHf6jWwiZ+ETaYH8sn8i+4f5hn5aj79VCh5o/Drdeu+hyL3qv/AJvdOxn5C1tweVP77OmRPuNogZ425dS3eCLgXLYD762/F/LYneA2DxSGmlOrnpsMl2j9KzbMvyeSsmSia95WhneI+moJqRAOZ8/Dd3GwQ1RY2QJGQFbvMRerZsNEou1YC1maMHd1QD82i9s5dkPvovUBxYbOaW9dJxyFfziw/+5/InfwQbMVF8K5YaVxX0zxXM+kp5Jx7DnwVotH6dA6cRx/RUBdX7H16gc8Gm3xIZV51aeOxfPm4iuCd1Hhi8tfUPJd8zANqTIV5jvPXNefTFNDA+g3H2+WodK5G2ZCNsI9fD9tRa+HcU154J8tIiru3AUsiM+HFKyI4/SPmzJmD7777LlSzo9pHLVy6juyLqkNRnESnzIC4KfICtHfvhirRFGSd+1fDH6Lw4/dQdv0NqJp4L4yh/3712OQrFKXlKDn9bNAkZz5UmcXeobjui1ZGj9q374eaV99C1ZNTUSv+TLb8PBR//Tmcg4egUhy9+RDmC3jLiH2Q/9C9yBCthGf+IvF72BVZt1xrfDVXnPsv0IGcEotjslGA/guJQPG3c0V1VIYKMafQWZgk1l/sO+8Ez+IlxguUJrgacRzOfex+w6Rq5vMtXyWah3x5SXc0d+kyCQjU+RGtNbQ7vEZ2MdeZ4hQtj3fDenh/+z0kYaJZ1l9InLLPPws1U6YZv1XHoIEoOWis4d9WJtoq9w8/IevSfyLrH+eg5IJ/wi3Eyd8JHXYbnEN3RO2Md/yLhV3iN1GT3BpENU0pvko0zyU70CS1W5GSJveBOcjouQ2OV0QrUOyAL9cOXyeHvAzFNi0YMkUiJCaxapo+/PBD3HfffcZIt5dffhkbNmwAJzqOVdSnSQgTR7PI16Apjp13RNnfL4FDfFfsI0cYux0D+qFozixUPzwJ5X8+C1mnnwznUXVfsa6DDxSiszdy/nIGnAfvbxbTsDRMAPLypGkt+/YbGvabK7lPPCQjc76Fb9NmeUGXiWZrKmgioNA/wzGov/FCzvjrn+EULUfFtTfD3rsXsm+9TrxYRROqElcEbBJfJ+vGK43Rbu73PkLJYX9CzqUXwjXuOKMem2Bu+J9sKzWcxV17jRStQs+ANvg2boSjmSjzbnEMd+5RZ9oJOFE3YkMgM0N8hjLgnvqiQVgCTGZyrOjDd1D+72vER/A4OOgsLk7dPo6OFEdv+j/l3D8xoP7a2XPEYbvI2Jd9322w3/swSk88HY4+vZHziGgR5f1iy+6GovfeQuU9D4mv0mkN5xu/d/nYQXXgR7ZdfJ08i39tyJfOK0qaUnx16DsT0jy3RRj+d/XDLR18Ccinf+kmSevFsTLwK8/ogjMDyJcvuNwOYjPLbOxVJ5kEcddAFSkdwem3E4k417pRtlLM2LtlNRCkWNSU1DTFMo3KHXfcgc8++wwTJkzAsGHDQHNfvCKME5vCwsJI4Glzee1CSlBaIqp0ia8kDzT70B3gWf4Hcq+/MkB7YO/VA9kTJQzAmnUBgStpsis6aF+ZhLNPWGya80WyyT3qPHDfkOdmnH26mIgaH11sW+4z/4VH/DZay/xVITvWCnaSKDsGnAlqHLaK9q9AfNxMosxpdzw//IiaD2eJ+ebBJr3hNa16531kTbimybEa0WBSC6KkqQk0cdlRu3ABauZ+jqIP3m5SHn/rufdNhPv9Wah55U35KvHK6FX5zffYDhl/PtHIT80inbbtPXugetYnKPryY2M/B2dkXfIPIwUXzNF6uZMeCN5dty1kzV/sOwxB9Wsz4ffm8j+cVuuNT560alb7aUzY4f+bVgBvBzL8YFRsd/+O6WO74ITBucGHGrd3OKwJaeJBanmobbIaxJF+TDnH2OHddw28M7vCURALZYJB2qLVND399NN444038O677zZoq+JFmIgNSVPXrk2dIXmsPYmXPkbig5IhTtwkOM1NrULNUbADaXOEKRYcQ42oocM5nchVkoMA4/VQi+heuLiRNMlw8vJrJiD7vLNgK6D3S6DYdxqCjL33RPkpZyHn3omGeYcTOde++wEcYqbNkpGRKolBwDV0Z2SLD1G40A78rWacc0b4yuXjPkO0yNREZd92fdxHtdn79kLu4+JX1QpESVOKL1K0k/Yu2VLDkdk4op/4jkQhJCylEpnVKmliFZ6XuiHj7s3wjFsP+0Md4BkQ+LUQSTOoGYpG0/T222/jiSeeAE1ziQpAqea5uiuZe89E+NaLZlNFERAE6LdW88B/xdctE7WfzxUH/o7Ivu7yBmxIpKiNbG40XPb9t6NWRk5WXPQfie4uUyntPRLZV8rLfMjAhnJ0Jf4I5D33v5gKpfk146zTYyqjrZyspCnFV5LmuWimUrnli23ome9EbkbTkSxWulQgjnckLl26dLGS3cjD+GXuf3cQ59tyVI/ZiIyZnaImTtGY50jy7rrrLkyaNClhhIkd1ZADdbeEYaKjmU5FESACMiLKV14mPmYldURHNEf+wpdqh9NOFveA8K8VmnMyzv+bkfzP1XVFoLUgEP7ubi09aOXtjEbTNOPXCri9QB8hTaU1XuRnRG4qo6apRB5+0Yh7dC6yH7Nhm4yky1zWRWzfkd9GdASPVNP06quvYsSIERg4MLFfpSRNidJiRYO3nqMIpAMCHNmYdc2/m29KkK9K85n1qCLQ+hCI/G0bYx/pWMohxBWXXo3NvQai+qFJlkvk8PK2JtQ08SVtVSqFLT34fQmu2qvIMM/RRBeN0AcoklhNwXXUHJyDwhsliuvrZcGHLG1HE3LglVdewd/+9jdL5ceSSeM0xYKenqsIKAKKQNtFIGmkiWHVK6+egIpLrgLKKpApQ1WLF/+ITL/hiCbM2/Y7XEbjrDU3jSXnq+J8ReHEt2WrTCD5dbjDabufGo1IzHNT5pVhZLdM7NhR5n6SXom2OyqheS4W0sRKvRLgEpErmYz2ss+ROIIvkTmqSGaGDAk0CUTV+RZOooO8appaAEkPKwKKgCLQDhGI8pUXAVLi7Fd6wqlwSGC8jJNPkOGmEr23mcn96GxoLyoGOjfG22FwLE4MWPDslJAVeyXYXfnl18C12zAj6F7ITGm6k8TBKmn6bWstnhDSNOO4upFduS4bymp8yHVF3jnWu01GR0UitW4fshZKRPCdM+H4Sq7rNVXIW9R4nayWxbhUXhnWyhhVVoUBLA8++GCr2WPKR9LU3qdRiQlAPVkRUAQUgTaKgPW3VpQAVD8pkUNl2o5sidtBJ8CWxLd8pcSI2K5hPinP0t9RedPtKJz+XJOZ0Tn5oPv1t1H96pvIue0mOHbZsaXi0+54JIEm+/9vJa4Ts1yt1wea6TpkObC6zI0uOTLrm0SZfO+PShzet3F+Zb9QjgAAQABJREFUt+Y6y6jgdKyORFxOuX4TRaP3uQe+bjaDMEUzgi4aJ/AffvgBY8eOjaS5UecliVVNU9Tw6YmKgCKgCLRZBBJOmhwSFbZW4PPOWwjHQBmJI8NVmxOfTBpo7yiaJhHv78tlKgWJ+3HxBU0Ik1ciBW878EhkHXO0hOuXWZJl3pzWKJGY56Yf3QWTfirFt+trsLXSiyXbavHjxmpkO+0oq/WiW67DMmkqLi7Gpk0SLDNC8UzriszXyuDeU4Jcdo/u9iFpijSuEkf6keglQ3T0XDJQ1joUAUUgVgRWrlyJjRJpnc9zPlMZ949hZDxisaGSwvQDtot1h9p9CtcZUJmJ+ZiYz8xrtsn/fP995jkszzzXLI9WBP9yzfO4ZHmcNoyKAia2ldu0ODBxH/vx7bffYt68efjrX//qf3rarEf31oug+YwWmymAVD/+JLwyOadr9+GwjxgG1+hDQpciw1rtEqjO+/syVFxxQx1h2nP3gLz0dyoddzpyL/oHMkL4RAVkTvONSBzBTxiUCyZTnvi5FCVinrtoROBM0ubx5pacbmThwoXNZQl7zH1sXthjVg5Eo2kyf+jffPMN5s+fb6S1a9cafk49evTADTfcEDdSRU2TmuesXEnNowi0fQTuvfdenHzyyejevXvadfakk04y5t48+uijjQFFHJVM4kIC5E+U/Oc45X6TwJikhUuTVJmdDEWazHO55Dlckuwwr0l+uAylqWce+qWSVLGNJFz+26yfH/Ikf7NnzwYH/uyxxx5GWJx+/fph6NCh4LM+1ZJw0sQOkiA5Dxd/FDGneeZ8hfIbJ8IhJCrvuSeAoCGqDNfuk3lpKq++qY4wyYSCwVIto++yzzsbGafUhXgPPt6atnlzbRXtWjSyfZELryypiOZU40bkF0oosUfr3R2qsBD7+MOmI3okwlADF198MQYPHmxMm3LIIYcYUbv5VfXss89il112we+//x5JkWHzqk9TWGgaDphfluZXJa8pcaOWznwQml+kfIBzP8momZiHx/0l+CHNBzIfrmZiXXyw+n8R+59jrptLlk3yyylx+AXLUBXJGEjg3ycr68uWLUOfPn2sZNU8KUCA980//vEPcH7LdJPPP/8c++67L/73v/+hc+fOSWkep6669tprE1YX34cvvfQS2Dc+19dLgF0GM77++uuNdwCJYiolKaSJHeSDTALzwHnogSiUVHnljaiVEPpOmcPIONaAgg0VEvE577Zb4AhBmJjN/cXXyH3y0YYzWvMKH+p8kUQjgzu4sHhz4MSHVsvhD2zdunUhs1/neBxHeN/DMizBBt8abMNWlMhfmfyVo9JI8p1gnCuvMNkrJBfugLKy4UAxclCAXGTABX8iFmkkchZMf6Zzzz0XnHPugAMOaKiLL2Nqro466qiGfbGu8GUe6ksp1nJbw/lr1qwxNJDUQi5fvhybN282gqASZ8b1Ijni/Wp+aZpflaZZgPezGX+Lx8wvWTMfjzMv8/iTH2LDMv2/dvlcMM/nwAV+0bIc//P8CZJ5vrmP22wv+/Drr79i6dKlaUeaZsyYAWoJKMOHDzcmnOZXNafx4Ve1uSwqKjLIX4cOElxWMGjPQvJsinmPmNtc8v7kIBeSeArz0LzPbb6QmTi5N8W8l3jfEW/eMxS+rPv27WusjxkzBrfffrvhA5osFwGjYov/dt55Z/zyyy9JI03XXXedES+PuCRCeK+PHj0ajMt37LHHNlTBaxTp4KWGk+O4kpRfn3FjyuzXyMtpcPDOuukqlI8/E84xhwF+8xRVPvy4zElUiIxTx4XtZu3CRTKnR+BXatjMaX6AL2e+kKKR7uLDNKZfNjZWutEpO7JLyUjgZPChJE/ozsH2xLH5aHyatpPBAXPnzgV/sPyq4vaqVauMFyEfGo8//niorkS1j1oQ8+EZVQGt8CT6D7zwwgvYb7/9sOOOO2KnnXYCtXl8gFFdzkSiQ/ISydQ7qYZi+vTpRp8GDRqU6qaErJ8fA3w+jh8/Hqeddhp23313/PHHH1i9erXxUfPdd9+BUweR+PFlz5cG70+TQJKE8nrw2vinYC0e72d/Qmo2hqSUySyPhIzrJLah8rMck6iYhJbLcPlZD/tnaibZLlNjSHJjahFNzaO5j3mYl4mEh88MLnmc9ZvC9ph4EAceZ33ULBIbCvNwnfcutY4knvxoNPvC/Czzp59+aiBR/LAzSRPzjRw5Ep988knSBqOY/bOy3GGHHQwfoH32Sc7ci2+++SZmzZqFRJEm9rl3797GRxqvO68bhdeB1zXVEtmbNsrWVl0rWqPBA5FxWuOL2CY/TO7zzhcHcZl/yBQ6eGeOOcLcDLnMGjsG5WdfiLwXpwQc9/GH9tGndabAgCPpu8EHHX/00cq/RkTnAM8HDB+Q/jdltG2I9Dw+/MwfQiTn7rXXXpg5c6bhKMiXSK9evTBgwICGh2MkZYXL+8gjj+C882Q2b/mBtifhlzSnpzG1GNTK8MF4+OGHt2oYOKkzX5jpSppMcMeNG4cvvvjCeBFZmdrIJBtcmloU/papWQv1PCEpIDkIFu5jfn7Zc05Hms1ZJglTqPwsx58AkdSQqPDDj+uhhPcUz+OSH4lcmolkiySNicf4u6P55fnnnzfawn28fiTtfGaEe26wD0ws1yRLodoS7T4SEvpTJmsEbyTtpK/PW2+9FckpMeWln9Hdd98dUxlWTqbGlfH5hg0bZiV70vIknDS53/vI0Aq5gjRHtdNfR+UzzyDrsgsDOls498OA7VAbWTdfg6qrb0bFxVfBOWQQbOIX5Rby5fntD2T95ZRQp6TtPj40+KBLhXSUCTeppg73IEpUm/hw50MwGuFDcc8994zmVEvnnH322Rg1apRhCrR0QhvJFPyiJmEiFlSPc9BAIuXBBx807odEjJYhGfjxxx/T8mXnjynNQdOmTfPf1ey6STSYidqTWIVkgNfZNBXGWl6051P7TYLlb4K3Uhafo0yJEhKTSK5PotoRqlyTXIQ6loh9NBnz+U0fUtadKKEv2R+idW13pIlfK1Uvv4qME4+BLTfPGEHn/mwuar/5HsVffhpVqAAbvyZuvRber76Fd816cRyvRsb4E2Dv11fKK0rUNUxIufwqisg855AHQ7b0saCrmDs7yOyy5TKR5hagRohXlcwl56sbVlrXWFFjZ4d/oPJFSWfwvvW2+4R0MESh9C2IljSFKC6uu/gVTWLW3uWss87CRx99ZJDqRJMmquI5zDgRsv322xvayUSUHc8y6Qi+YsWKeBYZUVnUxKXDb5JkkOamdBPeR7w+1MKxjekkJC70T03ms4vaJmpGE0maaEYN50KSSvwT/nbgyLm8iRNQxTnmaBLq0R2OnXdC5pWXNPg3RQOAjbZ4Mes5ojk5jc4haaJ6u4n03wO4enbjbgleiSzRzmTlN+6Lca1bt25gnA/6USRTSBLj8XWciDbzwUMfDRWZEFpe5HQGT/RLjP5pdIhOhHC03KJF4gOZ5kKizt8EX378kk+FpINJmh/Z1DSlm/D6kNz/9ttvxgjedGsfP2w4iIMuC8kQ+nh98MEHhi9eoupjiIfFixcnqvioy004aWLLXMcfbaSoW9mGTyRpMkd5BHSTJKk4sTEpevbsaZCmgHqTsEHfA/oqpKMk82stHfvv3yaabTliLtFCcsaXUSKEPoP03+MXa7AJMhH1xVImP2L44ksVaQrlwxRLf6I5Nx0Jk9mP/v37G9omhj1JN+GHBwcPJIs07bbbbpg4cWJCYUjW8yfSTrQvb9dI0UlC/ojNc3FsE7+cOAIt2ULSlG4qbhMDOrMm0jfCrKc1LGmuich0HGWnSGY4WimcI3GUxTacRtMKNWbpLhzyHi4MSKLbTmKZjGvdUj9I3EKN2mvpvGQc531KYpKOwg/gZN47xILPh0T+rnhPhlQopPgCKGlK8QUIa55LQrvML9skVBVQBbU56appos9COpgpAgBL0QaJbbIeWvRfiGZaHyvQUM2fSn8hK21knlS+lPmhENJNwGrj45gvXX9/fF5yFoJ0lFTcO3SO5yCLRImSpkQh28rL5Y1BzUsqhD+0VDja8Ys2XbU51HaoI3jd3UhCTxKZDKFPRqK+lGn+o9kr3YXkLlXtpCmEo1rTQdJV08Trk4rnpZVrkooPYI74ZGyrRAnfjelC5P37mBSfJv8KdT0QAWpcUvWwou9Eor7uA3sZuJXO5jn1aWq8Vox+nCgi01hL3VoiCTz9PWZJCIV0F7aTI5JSIfQlSleykgo8QtVJ/ziakdNRaNp95513omiaxNaSWR/gI/n5Q9JWWd8kS/NDXpzybd1ke1eJLhk46wKDCr/++utyrFEW+b7Gb775xo5etoHoit4yZ0RjfDC3lFuKLQH78lGE7Wz9ZdaIwAE4fP6kQwTwxt7VrSlpCkYkydvUuCTraz64a+aIHaqc+aWSLOHXQ7qa55Q0Nd4FDHSYDEdw1sj7L1Ff8fTdS6TvRSNisa0Rg1T4GLLVfBbw3k+1kLylq3mOPjwMJJqOQvN2uLlEjfb6ZgHesbJqjtTeRdZJjlbh+RfcGC/hDb21Nhm5KLuCxeA8h8jeQNLEUbXBYRje9D6N6/FKXQmNXCm4xCbbj9n+idPtVwTsJ2lKR5KqpCngMqVmwxxBR3VksoWjLfhCSSZpIklMV/OckqbGO5CkKVlaUE5rkSh/EZrnGCQv3YXmn+YdjakFqB/NaOsg3TEDxIoJ1UdfG5kWyViulHVqD1bI8hdJPLZNEs1v/nHcxgOOJ2Qfo8FkpwUhSGdHcJKmZP0ejIsSwT+SJs6SEFZ8nDLLP4jy90ZWjgMiYRJLvESAF6VSKNIUplAS7b59+2LBggXYdVfRRIWQgkovBnxcgfxZFfDl2fDF1Z1Q42haib82yiyGeCtpMtHQZQAC5gg6q6SJanR+VfDLnOYTLhlVnP44PMYXP9fNbZrDuC84sRG84W+66SZjOhL/RvFrL5y6nseY6CjMH445BxXXSYbMxH5xnVolJqq3+SKmSZAPH5KndBtFxzaxH+x7un7x+l+nRK7zS4/znSVDSNoTFZOFD1/eo3Rqt/obS0afg+sg3hS+KMz1gDyeO2RzYv2uAlkycC3NRSREEXzWS+46afRX4xyDnNTYijzmuQbzUPfSHWP7P/SyDRLDilOm5+YcYaKtMP7s2LJlM2a+8h5G/Wl3dOhcjEpfmby268xbPW0DMMA2zEp1Lebhs48aD86dOH/+fJB83nLLLXGf6YDXJF1JE+dk4281kjhXJEk3TPDh0YeByXXcuUWsgzNwjkpiHkya8qp92PnprfA8J7+53Z0o2z8bRZNLMery9Zh1t7U4ZHxnUPOYbh+yqmkKvgtSsM2bg2p5OoFyWhOSCpIimkZo0+VDlOtcUj3MPHzI0Q+Efkl8SJCg8MXAxPJMIkNSwpc/iUCoZL5M/GeTJgQ8Jxxp4o0cjojxHL6caIJjW7n0T/xhf/XVV7jqqquMHwPr4Q+eDyQG92O/SKzMdS7ZH77szETyZfbP7BP76d9ettE/7gzzsx1st9keto9O6eaSX2okkRwRcv7558d1EuAU3FYxV9lWzHMEwvRHSWfSxHZy6DifAyFJEzM0CDVO9Vqnhn3Rr/D3wY8sKzIfP+IJ/GBkfcInyyC+5tvmRcbb5XBPKodduF3Vf7xwrekuWq1GDcNtvpPxL0do0mT1Y4XtnTJlivE7pcb8mGOOwcknn4yXX37ZeCbG27ScrnGDeCH4vOO0WHy+WpnUllbGiy71IV+UleedaxPSFHQRrdwIkoeTe4eK5j/swU1Y8EANsr/qglXd6mjG/t9VoXKHTIsl12XjvcBnNp/z6SLp05J0QSQB7SDxoUbI1AoxCjfV8NQQkQCRRJxzzjlgPBne8BxJxB8AnfsYSI0PUDORRPA4H3LxEJKG999/HwceeGA8irNUxgknnABOEMvJdlk/yeCWLVsMgkiszEQSQ9MhvyRJxMxkkh5/zVmwWj+Y9PGhQsxIwKj94suTL1JqIUg4+UA0iSjJ6L/+9S9LfWnLmXiv8drET6jZoE+ImIh862RpmhNcMvN8N+O3EL+6Akvi9SU55rVNZyHm0Wr3ZCowbD/Qhz9+tUk098h6aX5URHZWYG7nohr4Ht8Gzw9u+PZzwfdUJ3h6yiS9x6+Fd6X4S/WxNv2I/8dPYA2BW5wnj7/f9957z/jtmkePO+44vPnmm3HXFvM5wRc422eV2JltSsaS7wg+R62QplPP8KH/9sDddzYSWWqeIhW+n6ZPn97ktM8u6wRc1rg7p0Ymhv60FqvPKW7c2UrXlDQl4cKR5FCTQxJEMsSvSd5spqbosssuw/XXXw9O+ZBs4Rda834U8W8RSQ/JC4UPIib6tKSDUMtEbRO/oNq78CEc8gXuuUqgWVQHj22UqCX/LiSIZEg0Hz4GkVwiSZwlTD8broP76VcRSjrL7+LXmEZyrpN6N0H8eERoKhpsGxFQEftC0pTuwhdes74pzXTg0cfr3nrRvPyoqfXXzDZTTchDzsmiET+vHAUvFcBzey7cGfUvY494q8ht4SkIHhsVspiIdt5zzz0hn5m33nqroclOBLEhSaOJjvdTugkJNz84mxPeG3aXD8OHA6+93EiYhAcaPk3NnRvqGN8fnLi3Jdnx7TJk7epo0Dq1lD+djytpSsLVaWl0HH+A8VYlW+1WKkbsUENEoqSS3ghQ+0CNHMkGXxaN8omszq3b9L0mb8TLGw9Fucby+Tvhlzw1gaZM9d6BUt9WY7O7rQ8ykSWDojehUpyaN/s2YCkW4yv5vwhV5ikYInm+cwT659BRNiQBbDgrPVZImqgtiFRmySX5RbiqWKfkpR7p2XUfL7GQSvqu5J3iQO1x/vcJkPlyGTxDHfAVx0cz7t+zUB+ZU6dONTTIY8eO9c8at3VTY5lM0rR0ZRlcTtEedqPPWHghaWrpPXLnXXXE+tuvGgkTSxQrmJHClx76CHGg6awlDVfBq+JWcg598Fq/KGlKg2vIF0Z8zSDWO8WXiWnuMrU/1s+OLie/hvjwUUl/BMyv10DS1Hy7OcemhBySr/Hm8wUfpeaV/nz00TNliu8pzGHsGErd875udYMEIf29Fp6R1sg3y062RtVoaIT/aCKOlNwxSPU11/nw3FQbrrrWD6QI6iY5bunjrrniamZ2hSsz8EVsq/CienI5fA93ENdwa0IzerQaIvqCTZ48Gc8++6y1yqLIlcwRpWweCdO4m77AbgOKcNUpQ7B9j0BS6t8FKz6IJ42z4fJ/+5/VuB6NhpJnmxN7hzMLbv9bDWrX+fDzqJzGylrxmvBLlVQjwBdSLF95sbaf2qZkvVDoD0A/JvoTqaQ/AnyJR3pvDtnJh3HjI395k9jwxdec1MqonIwZYmY7aj3KRm2G45tGDVNz5/EeT1RIg+bqjfQYzfctmViCy7zmep98dNWR1GhffNQWUAMcrQQTJpbjvG8rnPu7YBvYqDlsqfxg38SW8vsfp5/kmWeeKYRdGHsCJZTDfEWV+HG1AP7sHzdg5tw1ePertVi9sdJSC1dsqMBFxw3A5Mt3R1Zm89o6/lZb0jSF83WL1jzHTpA00U83nHSbKdrGsdY+boLLIIEmkU4nUdKUBleDKs5IX0zxbDZfKC29rOJVH3/U/CJKV4nlSzdd+xRLu+iPFwnZYEBrl7wjRXERsbREbKi5cOy+Bp5nyuF8oRMKnsqD/TVrfkrUXkXSj4gbH6cT+CyIVNO010jgg3dt4gxdZ2Jp4d0dsqV84YciAyEzW9jpnF0JzxcyUvWyDhZyx56FGsrHHnsMp556auyFRVHCefd8hxHnfojXZtN/L7T89Ns2vP+NhIjZXIWqamsjFQ8a3gWnH9nXKHC7Ts3/qOjyEG1IhGjNc2wYf1vNkabs2VXYdEB0lgV+ZLdERg1wkvhPzXNJBDtcVaadPNzxRO/nl1miojEHt53kkCafdBX68dCvRqUOAWp/Irk3nprqwxuvAtdeHzmCDJ/RHLGpKFiL/NNEI/Jk3Qg42y81ls0+fLBH0o/IWx+fM6yYWIJrOuvMxi9xmkRLrfHIgGL4RR+tWSygINmwbfXCc6M4JD/SAY6sxrYF54vnNjV0jBlE0nTGGWdg1KhRQX548aytaVlPXzUS83/fhrVCiMLJ30VjlEihLyBdLZIt/G39/PPPIasd8qPgYbdh8dC6gT8hM7WynappSoMLxq9LDqdPlZDERDtiJ9I2M3xAsnynIm0b88dqpoimznQ+h6MarZINWtYWLgQOPshmaJoijVbQkqYpa03XBsJEzOwyjN3WtXmThYktTeAtmS7MvKlc8lkQSzvz5IO+tDRy0yj7HIt5zh8z15RtcB6SAd8g62Y58/xYNL1ffvkl6AA+c+ZMHHnkkUYYl0mTJhnuAGb5iVzu1K8Qh4ywFrgxEe0gaYrFLy0aDSX70dzvNndFLWr7W/uNJgKTRJSppCkRqEZYJh+U0YyYibCasNnpwBepSSBsYS0c8A830ELWlBxW0hQIOx+Izc5p5Zd92rM+HH8sZPRb3c5IXRGoaWrud2DrHPjw9X5dDfcu1r5gU63N9YOp2dVoNE3NFmjxYHBwWIunNcnmkgCGtW9JENlzo9Mm86UfrcaLv93x48fjvvvuw0cffYTTTz/deK6NGTPGiPXWpLFtbAevYbRacv5WI/29mvDxGRHOvcO5RcyQbYxlqHnOvPIpXJI0pWr0HLtN1XaiprAIhlVJUzAi6b3Ne8OKpknCW+HF6YGxXyLtGYmNVfLunF8NzwovavbJhpWQiSybWs5QQqdcf38Rt0eC1og4Hcl/2sdKmrKEQ0ZjoeELlwM0YhE6E3tvFefvm4tQ2yGQ4FotNzjkhNXzgvOxP/vuuy/22msvXH755fjjjz/iEnstHR2Tzb5T0xQtaZKfuQSXhcwwYZZmfdmcv+Cag3Kx+K8VOKjPFtT0kFhg8pPKXO2Go9QLb7YNZRIh/Od9WtegICVN1u+NhOWM9UEZa8NogmG08ibyiqj5/eMR8m7ZXpLppsBnLJP82LBM0kZJjdNZ1X1h7Cf7zjBPkMPyJWllKgtxi0GIFsleCQtUU4tp55yNbfIg7Cd+DDvtthtOkVEzdC/vJim6cRosWc1zdSg0/m9xIlDJ+smnwIEH+/DJxzYj1ADP5gs0UrH6OzBG+sjL2XFhvhG/xko94TRNJWW1GHvV59hrcLGUJfOlldfdwDv1KcB/ZIi3KVtLa/D2l2tRnJ+BATLse0DP8EO/zXPWbKrCr6vKsNdOHSwTMGIQrTMv6xWXPCGHEJIA9O3LPdYk1pADrCXz2yp4ZaqU2j2j/wXypU/CEw9ZtGgRLrjgAmMeungFq01n9wI6gkdrYuXASXk0RyW8d0jYjMFMQb7qy3u6MGBlF7gmbUHGH7WwieLJ3V3m9hTCBAl8miUEqjmJVuvYXJmxHlPSFCuCcTg/1ZomfimENME8Lp1bG2MH6Zd4RmMZfOjwB9aSXCcZ5oXKJHP0ZY05EjYZ5lo7ZQp+laGu78j2Q19/hYrH2GAZzSGJNzbTB5LI86wKH9jRPnis1tGa8lkhTQfsD6xeYZNRNI09Y0QJvrzFlciyWP0dZErIAW9HO9yjrY/IMafQCdZkFOS58NHd+6PWLZGrxamjU1GmmIcaSb7Z+GfeWyZOvtUYJGSpb/fmv4wvf/QnLF1dhqJcl6HB+mLBJlx28mCzqGaXbCfvv0im6qDv2Jy5PpkDDJj2rLyL5MV0+0SfkKam/Wiu8pjv+/crYD8uB1J9gNjlxeh8sRTVZxXClieqhmaEH1WxkiZO3vvUU09h1qxZOO+88zBu3LhmaozsEH1PrXz0RVZqfHLzuRpOmxpcA+8REmxqlzhPc+9ekNGHPthl38rVQmxqnXh6CrWF5qCY5u8lhjvgCEb0DK5J5gaQuedWXRvdjA8kgsQ8nULUKGlqeo2TvsfqyyJRDeONGUnIgw3ujeiyoEtDc7y7eET51PyPyswc60Mn77prgauuRtlJJxlFuvv1Q87NN8P74gtmFfWTadRtRqrw4IMnnkOvGxrVSleskCZ2zZ8wcZvqfpk6UKYK4pY1sapp8kwpg+/6YmuF+uXi74zmP44I9Jci0R61JP88YWBLWRqOXz5+MBxCvIoL6sqtdUd2F/KlzN8JtWNWpKDYh0MPBU4ZDzz/rE2maOIExVbOjF+eWlFKO+aLqmJwo5aIGsHsSVtR82IVbOOy4MuRmDstVEniFstAEU7YyzhXnLbqtddei/sIulifXy10P6bDfI6HN7Ey0ixTneyxZ7mQP06EnomBA7ugf/+e4tDdV9IAHNN9L4m9NFQuaCcze4tLmvFJmo7vfTZG+g5qkt8pRnSZ4TPgPcFpj2QKXyPvDkHTHpkFNN8nM1dyl0qakot3yNqsvizMk/kV+s033+ALCYpjrvOG5QOHLwUe43QCp5xyinlKs0s+nCMxCZz161m4peMt+Ff3C3HN8mvky1KiMxt6nWarMQ7Sp8nqyyC4NPtvv8ErEx1X1BMmcbYxsriPOgo1V18dnD2qbX7pp2LYblSNTcJJJJF8iUX6smBUCQnJFZGQ1BD75rQstnnVsMm8Zt5dMyMqm5nN6ObBpCniglo4gdoqf6HZLxIhaeLLz+rv5O23gCNGh6MjZE80WveWNEiSfPHb6KRNQtao/YrVV8cl1duuLUbp0I0o+HsVfBId3C0T93pHOuGb2gnVYpKxggKvfyyapptuugmDBrGfiRFel3TVNJlkO2TP7UfKbgkDUS/XXf8aDjjgAEuT+5rnNLc0P652sx2K/rZdmssa0TFT0xTRSQnOrKQpwQBbKZ4vC6tqVZa3/fbbGw/Uf//738ZIEzo6cgQDH3wMRvjSSy/h66+/tkyaqPqMxIEw05aJo4vHIseeg/tK7sfd8mdVrJrnQpWXNX8+7Lvv0XAo+8/jje8Ur4yaiZfwgR3LsN14tSOdyqHP2yoxiw4YMMBys/rKO3rxLz6MHBnuZR66KFMbxIdwKHGUeFE63YMg14lQWZvsI2my6mje5OQk7gj7dW0/XJzF+GVeHdCaI0aLdsdGrQC9+kSLZqOdlOSIy9A4yoEA4ceC1fveKVMihxL3kAzkrBZPYnHS9wpDsv9ThsD3iuy3Gat5LpGEiRpoEnqO0ktHCXvfhGgsNXHxFJM0xbNMlhVJn+Jdd7jy0vPqh2ttG97Pr0qOoONLoyX59NNP0bs3vxxDC4+PHj069MEwe/mVYrX+0UWHY+rGqTi/2wXYz7mffEFa+Yasq5ikKWr7tDy0yu++C1kHHoiqww+DQ5w880bsjloJEOQeKurkOIiSpqYgMvgphxRHQpo4x9UzEugyUmH4C8YMC0ea3KOykX+R+DT9eR3sx+TAXmiHdzsJeGkh9ABJUywxkCLtS7T5w35d2w4Uk4mkBAi1iVZ9mm5yPIHLfJshISzlo0WuRf2kgNWyVdu1Gr6ujdfdLgQrx5YnZpnAZ0RPW/+QvYinI3jICmLYSS1Y1M+uGOq1emqzmiarhUSZzzTPmaeT/NJPlr9lhhHhu4UuINRY8x3AJa81MSUZ5b69994bxx9/vFmEsVTSFACHbvgjQLLEB7oV0tQSYaJWgLFJIhG+UHhTW6n/tM6n4YTF/4ezfj0bp3a0ZgI028IfCeuKRirk6yjv0svgff455Lw5A2XSx7xHHoFryRJUH3ZYNEU2OYdf3PyaVGlEgKTJytyEH33sE+zEF7RHnXZp3Ik2yAAmbNwEubfqXqQcpTP2qPDaJ5Km5mI1sVXuuzrD9bTY/haKk6o40/hWyev7gU5wFAS+mBt7ULdGItYaSFOkmt/gfkazzZeTVb/GfNFe5dvCaLDCX1pLzYpV02Spkigz8cUei79VlNVaPi1epIn3Af3C6LLBdfabvxuuk/xwv0mCzDwcqUiC9PzzzxvH+fHJ5zx/c7R+UCnAxCCzvNf4O+d9zuctMaUbQP/+TYm0kibLl7/9ZSRZ4Y0Yi5CQTJw4EbfeemvEAeLoV0XTBUfStSQZtgxc2fNK7PPbPnik8KGWsgcc5w+PpsRopWzChIBT3eL16npLnDriKOZXd7qq4ePYVUtF8Z6wQpom/Q+Y/jJw4v81ahrgc8iDMxdFBfmij8jFHruLic92sNTL+4x+NQ7ZlqE79cJROFZMaLWn0xTVKFJKi8KHtpWyWywowRl43/G3nEzhCzcSE32i2kbSxBdlOkqkfn3J7oNJtqkx5O+V0dX5XKe/Kz9ESIT4jvEnPIzBtkGG0PE4fxvMQ2LDxN8L30tMLJtL7meZfCaYRIj76Q4yX9wn6FPGPPF6dpp9SjaWzdWn5rnm0EniMd54sZKmKVOmYPjw4Rg2bFjELSfz5w/GqswumY2h9qGYuOoOPNF/stXTjK8V/tjiJVU77ADbnXfEqzijHH718AHJa6IC9OjRIzD4qeMN8a35WKBZIalRK/fcNOC5acRMSJDhbNxXlpHNOE//KX9NU3OhKzk2bQhyUCTjcrqJ9mOQbA2x7YrBtt3kSFP5f/auAzCKamuf3VRSCKF3CL2LdBFFRMCGvw0LiqJg1yfW9+wNe+8+xYpif6KiKCpYEJAuIL33FpKQXvc/3yQ3mWxmdmdmZ7Yk98DNzM7cembm3u+ec+65Zhdc1MwhOFcw+zaqKrOrRrCHBGAJNaEO4eibB3wJZyNw1A9ABVIhSHlGjBih9F+YpGIiAqkPAvp5AGQAG0xesV8fJEH47tDfIa4V/mPsWrt2rZIedbGLMIFFm8KJJGgKk6eBFxovuFXCSwvRKFbNWSEgeqOgrcBTQN9lfkd/9VhEt+24nV7d/yrd0PwGQ8ViBm0naFK8KaKz55lVpWdFQzXRjwRe4EOVoKmcR1htVn0jXfYn4D5fn4EB3MG7oVahzYxaQrnEqjimKF6hyfPdytzL3VwY1wcBNEF1He6EwS8UoAmSiVBTuKjnYGeDZ4AjJlAATJvYDAD127hxo8Im8Au+vQByMeFEQDxMukaOHBl0VgIsob6Q+NjlzNNoIwDCjI4fRvNEPEgdwf9wIgmawuRpoEMPRHUwbdo0Ovnkk5U8FixYoBjh4WO++uqrDbUQ5Rt1O7AkZyl1i+c5Pq+ee7rdU3TxxvHUKb4TjWng3/gcwBAzHTvJNXAQxa1YQYVse2MHoX7hNruxo11W88AsVNP5qdUMfaRD56uWNEWxf5f6xCDNBooUSVMoQBPYCxAAoGBUtQLbP0yCcETAgO19BKhAHKj+1AHgA9eRBkEQNt0FsJ01a5ZyCVIP1EkroCxxXZSN37iOcgFgUAaOKFv8FmXjiIA0OCIPxMNvlAs+CHsbHNE/7mZnuvdUuDdB/yrqjgkW7HcQZ/Xq1SEBTQBrqH+wARMeFL7bQCb94vl7H8F3PMNwIgmawuRpQNJkBDThI8XHio8DMwrMflatWkUATTAQxzlUdBjoEM8omZI08bLn1OgGStZJ7iR6pcMrNH7zeOqV2JtaxfgGLui4bJU0cS3cffqQm9tdyP6a7CAhabIjr9qQB94lI/vP2dFWvBsYmJwgqB6c6NjtrisGazEY2523Oj98izDehYQA0j1MFL766isFXOA3AADugWfiHEcEXAM4QR8DgKF3RFvU4APSEAzuImBQBMARtG7dOqXMhQsXKpeEqgjpkA/KEXniGu4jD1wXAddEfEgqcF8dMClCHogj4uGIOon8RX3Ux99++42+/PJLeumll9SXa5wb6cdrJLLhguAVnos4tyFbQ1kANOG9sJvwrPCehhNJ0BQmTwMdunqGrVetUbxKDHppGPphtQFmFTjHUs1nn33WshQHMyWjYtASD8/8OAhqF9uWBicMon/y1lCrFN+gScwCRVo7jjnspC3hiolEd91lR3aK0aOUNFWxUgw4GECdVlkif6eADcCwWvVX1cLwOBODHQZ0SDusEtJiL0m4iYBaFeeQFIoAw1+cY2DFZA08F1I4OMYFSMbvdrxVEXgGIItBEUGc4+iEwTa2PwGQu+WWW6w237F0mKiCH/4IfXmoSEibnHg2vtqEd8gJ0IR2SNDki/N1+B4+tG3btvnlwGmnnUbnn38+tWnTRpktoUPE3krYMiAQtRfSojM1QiNTRtLL+1+h1w+8Ttc1u05J8kX2lzQk+Ti/ydFR2247wYbKbu78Y1eupCILRvDelcbgEG4fqncdg/0bxqJ4P5wGTRiMnQJNyNuJjt2OZyGkN814m3kt0IQBGwAIYAeroQAsAACFlAjpIQ0EUMI9AB+scIIRP54d+gssEMF1Yfjr3V+gb7n11lt5p3t2UBkigoQNA384EiaVkEiFM+GZQtUYbNCEb8uJCQnaY2aBUjCejZQ0BYPLBsqA9AgdoD+CF3A1vfnmmzRu3LiA3eFjMNy+fbs6a91zuBx4Je1l6rihE63LW0eNYhqz35ZkGtfIv3GwE5ImVLTszLEU8/XXtoAmfKhGnoUug2rhDay0wYANb/ROEiQcTkn5ICUwKk11so1aecOxX1paGnXn1aDz58+nNWvW0KefflopHcJEAzYzAD0wzIeECLwCAEI6nOM+fGrhvpWJCVRTAGehJABmDMDhSLCtCTYYMcsHAG5M+Jye3HjXC+8OACXKtpNH+GbDrS+WoMn76YfoNzo/zBLN0DLe1hzev2GHEChBBWNmQOkQ14E8fcrox8wfaVfRLmUlnZFNe9GZO6FvzzvnHKp31lii61jy5bUhq1neOKWfN1uPcIqP9xNSTacJgz8kJU4QOmCnAFmg9cV3PG/ePEUFBokSgBC2uoAEGrwPBpDAgBsMWypfvMLzATAMRwIgQD8ZzoT6hQr44h3F87MTNKE/kKApnN+4ENYNonSzoAkv1PTp05WONtCq44WvoZKqss/Uzb7GijnAcKwKFwtivCT9AE1qw0/djFU3BvN5w4os9/NxJ4dMDtWIeUFXTqKYY/rwtiqIZZ3AC6dURNZrFdqUkF4EwxgcM2RItHbs2KGAeAB5vJfoOCGmFyop/MYzwuwf7xOAOAZ9SAnx/K7nLXa8Z9sATeGqngM4OoeBP+jvv/9WVGTHHHNMUB861GLhAJrwnMKRIkHShGcYqtVmot+ExNMuwjcsQZNd3Kxl+eBFA0o3I97s3LmzbVyAdKUGUJjJflvguxBaw8MaRcFzgHDeC4k6TBFskqzDdaJwm8hbkNYgeO6A9x4EQCTIQPIvu4ye/vhjunT9BmrRrStfIWqs/DX3Bx9/uA6u5lpiX2yApq1bt5rOEO8zJFSwhwLogj0OAlYYAQCBz+gU8e5DwoTzzZs305QpU5RZvQBBOEIlhYBvpXXr1pWGyVD5AoyjLNhz6NlAiJVRAAY4D1fCTD0UAx8GXDyHUBLKx/cXjoT3S0qa9J+MExJ6CZr0+S3vMAfEHl9O241oMRsbLtaQJIgJXxKnaKGVyvw1ozZN/sAO8BoCBFlq6HgBG8QH2rHhQzWyktF86yM3BUDTokWLlAbce++9yspNvKd4ZwCIAFSEoTLOISGCmgCDPwyLYRMFNRMAD941pMXgiI4WAVJTYaczbNgw+uCDD2pIiuzgHgAJJgcoK1wJ7y8G6GATnkcoylW3E6ApXCVNeJ/xnoYzherdAU/w/tSYeAfILAmaAmRgbU+OlS6YlYcCNGEw05uh2813qFGcokABE+oFVckKdpYpqYoDwhAcVx599FHq378/nXDCCYr9Cd6dLl26KLuUIx46T0iGMPhZGQDBf0ii0GHaTagbpFvhDpqcWInkj5eQ1gXi6sBf/kbuA2Tj3QlHCsWqNLN8AO9QT18E84Y5XhHgCx7TCDhLgPIAu4MCHiIIZQKf+iR8W5qSyr3rWef8A9GR3US56cT69Or5lHJ9s1mVkZdBVKTy9eSOpuQ7f3dkVV71Cpj75dzoZa4eMjZzAINPDWlPkDiDGVQwOmpIJSBpCGfCc5CSpupPCMa5wubOrE1a9Zz8/xIAHsvk7SaAOM2O3e6CAsgPA18oJD5QWUISHEqCNMfJSVUgbQPYtmNSFkgd/KXFt+nPLu1PzuQqfxmp7kPhoHYC8TT/nqy6L07xbWmaNaxiiPbLSyKacswvKaPe7++hLZkl9O6YJjSxF9QZXhTFuwHwuBRu36vbq5ryZwg5gIEJRrChomCsngnnTlHwHe4fJGgS3Cg/QrUG6Y+/Drl6Kmu/IGFyyqsyOnYzq0SttSCwVFAhhkLig+/faUDsjzPoH8LVFxKkYOEOmiwDXxb+nPLGfzUfD6zcsPBGBC85UWUaIcWtvODj5NZ5GTSoWTzd2Lc+rT6k7+YC0k/Y2mmCMR/5O3lLSpqc5K7JvDEw7dqFneNDQ+isMaDAxsQpcsS5pc2VhSQsWKpKm6vuWHbovMAXgHqnnR8K9ZwTjcG7He6gCd9IXTUEh2opXEETpH/hqjoU3wreHbMTG1eZhzxRbvoZmVx7jciK2h06TKUsfXSx9Go3TyQ9bt8bOuuq5ypzLD95ZGEm9WsWS1f1SabfduVT80TfizKEFgT5hwNJ0BQOT6GiDhiMVrJX61ARQBPAgpOgyagheKh4gHLxkWKFl6TqHMD7CZs7p0ET7I2cUhVDmhIK1Vd1Tvr+hTqGQtKE798MbyB5yOGQVRGElxHRuiN8gvWWO8QFPj7DwdegE+6gKdwlTQBNZlWsJ/DimWJ2rtqoXz+if/2LonjD5IPsMxASX+SFCVP09A9pWzOtdcxVD1dXPVcVhb7YmEfr04vpjoHlBvXD2/i3XxOgCW55woF8vb/hUL86VQcMRk5tVmqEkdiIEqJQJwni/3CdSYp2Y9ACHyCRCPeZpahzMI7B8tUE0OSUei5UgMTM80EdzUoLzOSvFxeDni8J1ypO+DmHNRw2cFjHwSw9yQl8DTpoN8BbOBIAZbjWTfDLCmhKnf4Bfc0bJI/h/UszBw+hLLYl3McLOrLizTnyhCRI2D2K+qiPJSzRevPvo/TMSQ0pPtq4ZZAATeq8Qnnu6/0NZb3qZNnC5UCoGt+tWzfHi4Zu2olVUXZXXHyoEjRVcRYr42DI7zRBPbdlyxZHioHNRygAiZnGhArY4V33tWT8H27EVO+GsJ1bAruHyLv0UmIRNfELQtEsjYxlr+budesoZ9IkLEf1TqX7G366AvrmsDILK7EObWcjnP28WovlXUcPlpeX2JBoBNfHIgFQhjtowoTUrF3aPt7wfdTLr9CPN95gkTPlydCv+/Ll9s2WPOrSMIb6NDE3MRd9cUCVszGxBE02MjPQrLBqCLOZSDA4tNpWzIQigWAMDhWR06qoSOCFqCPez2CBJl+Dt6iPlSMGlVCovszUNVSgCYOeGXsv96pVVMZey2EoHP/22+SqxxIi9ufl5uBq2ozKevTgG+akRnjumrYry75lD7aby9mYwIvji9mPVXEh7zzAy9VzWJW+hyFd9gH2cJuhqJTYWxu9utxNr/Yrpm5UUp6uaZeAQROkceFMUKX5czngXf+UyydSwtxfKJUBbgaeoUXCc/OlVn9nTQ49eQIDV5PkpLreZFWU6BI0WeGag2lgbIuBCR6PayNFCmgS6rna+AystgnvJrY3cZrQSTplUyYlTfpPD++8mVWjZX36UCx73i+a9R0VdOyon7HBO5gsAtRq9hHLviLa+KvfnFi+RRNX16NevYju7VdCl/0eQ4tPrABNflP7jgBAGQmmBWYnBT9dfx2dejSLhpx3LmX8+z+0aPiJvhmhcxe2sHpbnuw8WkJ5xWXUs3GMTmr9y+gP9PLVT+XcnciY9jvX/rDLWaxQCruK2VQhzQ7RprztzAYqAjOzbjvLDte88G46BWbUbQ5o9VwZD5CLPmPvfa+Whx1/q7NWbNXCXT0H8BKKOpo1BAdji9ZvILdNvp2guteUMlV7gvo/FlAMtXh2C13Xu5SeceXTCCpmwIQNl+yhSLBpsjop+OE//6FDDz5ETd94nc668EI68etvTDMNoElPQrz6cBENaWFNioV8fUmwTFc0wARS0hQgA+1ODmNbzOb79u1bLWusYsDKNqGvhhhWnONDgX8TiGUxy8ARnS5mbuI37uNcBNwXAXmLtOK+OCKOr9UY6npUqzD/AEDyTruHV2Y8+eSTyuCldV/kYTZfpEN+SIfZIALUHDhiEAKP8BsB51gFo66bd10ADhaycSQ6cvAZBo6QAOLZIJx66ql0zTVVy3NFvWvzEaAJ+8M5TT5BE9Qxgtj5XSXBjgVO9H5/hygda7YqKI7VKe2OEb8Uexm9jr0yUohP8L4G4tBv8eLFilq5Xbt2plrizxBcK7O4OXOo5LghFPftLCrkFViBECYpVu0d/2TA9PCqaFp/W2di2Vcg1dBNGyk2Tei7rdDSQQOJeO/OAUuW0gp+pmfceit999RThrPCs9P7trZkllLnBqrv1XCuvP875xsqp89a1ZSgSYsrIby2bds2evbZZ+naa69VAAAQNnzjYMCGnQ1ADEg9yAMo4Lc3UBCgQYAIAAXEA2gQQcRBHgJUiHww80QHLsCZFlt8gRute8gT4lZIcrTuizKs3EMagD8EzArVQFBcR4cCHuKobpean6gDQNJPP/2kACTwA45HAWix8zy2uTE7IIl2RfIx5JIm2LHc1aOKhb3PJGqSRrST3XRsXcg7PPsfLPDeBQJIqgp37gzfKQZoqzRy5EhlYnL99debygIzerP+yQpHjaKoH36kqLvvoqQJl1HOhAmmylRHxgTFypJ+QCQApqf7FDNg8v8OqMs0cw5QF+6G4OjXxRhhpm3quEsHDqD4/ALKGzNacXj5s8p3kzqe97kvSVMiI43sYj23mN45Vf8N0BRO6jkJmqo/n5D/Gj58uDI4T5w4UakLZn8wRobjSwzskU4bNmyg448/nnr37h3WTXnjjTcUSZTZgSesGxVg5fAOmrF58VXcUb7JsiESyhMsbu5UkQADEwAtgEP1QbR6p7vzz5k0dVEmvbU6m/Zf25aa+XGSh+zxPYVTB1zR5GoHtN8qaFqwYIEyIbAiBcVkRk9SUK2CXj9KBwygvI9mUPwZp1Py2rWU/fjjXjGM/bSqnnuHd0c7sY+H+jgImDDpwuQJE7NwJrtUuwUx0ZT+yqvU/uGHqjm89NV2rHLDM9SilklR9OuuqolAGX/fk348TDlFHrqoWyL9X6cEitZxnilBkxZH5bVKDmAjVKjSBg8eXHmtNp089thjEdEcSJbWr+eNJiVVcgCzWHTKGFgxq1TTRv6xgANWUoEwtAAIoZuEJABKPbgLhSOBvRxWcVDTaP7xo+oCpFqQekC6p0Xbs4opbdpueoF9vvzr2BR64+9semCo/6XtAE1w0BnOBNBkxZ4O0tOpU6dS586dFcCP52WGYE9kGVDy91Lwx3wqSE6iBO678s4+20zRSlxIAK3YNH2y1EUzB7AU0kGC5Lo6gHewsACyFtL2ALKoTNpsys1UPGxY5W9/JwCV4BMmPN7gcmCLWHpiCcxLyqiQlSVTF2bR8oNF9OrIRvTaimyatjqHZp/XTLMICZo02SIvCg5ACoMgKbQcsKKqCG2Ng1M6VMRwPOkNml7k4l/zrgKrMxI//ZTom6+plCWMUaPHUO7zz3vH0vwNqQfsp/RAEwDTHQMa0M39U+jGX9KpP2/LYITQAVsBJEbytiuOVfXc27zsH+pjzPYhqcIgZobwTC2DJhTEasX4OT+R+122K7MImsz6aPqdbZl4AR81oOpSSDPtNhIXkiYA7nAnmFhYtWlSt20Mm4hs3rqVdn0/W33Z7zmeH4CT93NMjYuiNknRtHBfEQ1tGU9TT0hVAjIc1iqeYp7fppt3uIGmyNf36LJa3pAcsM4BfKj4+CVV5wCMtI2o6BK+/ZbqjT2TXOyksvCJJ6lg0V+U+/JL5Nq9u3qGOr/8lfPrBc3p0WFcl4JS+ptnrKe0M7YyB1IcPRWCTlWCftmKeg6Gsh+zEe/tt9+uzPTV9npGG2AHoHRv2kRl7KPJClkxBJ/N/sXHJpfbeVop02gaSMEgZXWScvJKaOWmTPpozg564O019NMS8xJRgKZAbJoGz/+Tzhw7luJ5EUz+0mVUFG1OWqknJY1i1dsNxybTLfOO0OH86nZnr604Sqe3199XDhOocLJDlDZNTn4FtTDvQxkFNGvBPrriDDbArcWElXXeIuZa3FzDTfO5sq0il6Q776SSOT9SyWefU36XLpV51+PVVfkGvUMLiVZlYq8TsWfV3C0FNLx1vOFtGSLBEBwSIrMD31O8yumCCy5QNlVGeqj4zZI/54R6+cWzHVUB7yYQwwA57+qrKXr1ar2oPq9D7estofCZgG8uY48Stx1TfRD2l8bKfUygAAgCob/WptPqrVm0L72AGtbnDWvP7ECxMVVyi1tf+5tSEqJpSI9GdOnodtQgyTxIMytpguxMqNTRtv1du1LUzVNoOdvWwq7JLOH56Ulyj1MkTE3pxC+O0B2n9adu7VvTzKWb6am52+jg6+yNvD7XJprbnNyYjQ/ZgWlsuWQPElAjEzWzdbUa3zxXrJYk0znOgUMZhZTMH108i0KdovTsIpr1V3iBpuUbMmjGzzvpmRuqlpYH2n4Y3+/nrSAkVecAwIy/Dqx04EAqueQSKlEBJkggePln+VYb1bPU/OVP0iQSrWQp0wC2lzBKULHozVoLi0rpUGYhtW7qXw1TUlpGB/l7a9m4ntGiTcWDig6DjxEQ8dBDD9Hy5csJwAkE3mHVLezCBGnZmYh74ohJAvijZbMm4mgdXQx2uDCKHjKYXOwlvAieJS0QJIBmVGA5bDkHF1GNif84TABNgdo0Hc0tocT4aDpveGvK5H40Kqq6Ufmbt/cPuBUATf4A8wlcyq8VJbXnYysOgNiQa2U1aUxHTxmpbMQs5HewS8TGzILYMYEuAVjWkNCPmEx0/HglzajYevTV9t00Y8YMWnLwEB37f5Mpa8ZPyibpepkiT0xihTG+XrxgXZegKVicDkI5H/28g4b1bkwDupl3VW+0eh1aJFEsb7ZYxN5d1bMko+mdiBcVzZ19PXtfZXyoV/OsWVJ1DgA0+XM0lz9uXPVE/Cvxa7ZrOv2MGtf1LhgBZ0j7844CuqCrvmjfO39foOm4G+fRcP5+brmgC0XzgIYJCN7z9KNF1KVNcmVWR/j3Kbf/TmnNE2jMgOZ09VkdKu95n/zw137auDubEngik9YikUb2N6a6wgCNwccIaFqxYoUCmq677jpl8Nm+fTthwQX2CoTECivq5s2b5101zd9QhQC8eNusaUauuJg/ejRF86q5fOxiwGptqwSwhudulAA5AJrUlM1A6iB7BW/IQCrVRjsnX5KmFz/fSJt359CEU9vToO76fe+ogcaevbo9Zs9h/O8PNPFTIgQ1ofe0Q3cAaWWNlZ/wlYZQQV1ZmgWgb4awMg8LQ7CCN9Rk70gT6tbU8fI7tUqiP9ekOwqawOJ6sVGEmXa4gKbEuGjqxAOSndSGd/pGkFSdAxhMzfry4V6Uir9j54czPq6emY9f2Odu48aNPmKU31p7pIje5pU3Tw9PpRivmbtWYoAmPfXBx/cNppe/2ETPfbpRAU15BSUUwxOEjq2TqoGmrJxieuWmvjSUAVZWjm81WIOkGGqeGk9xsW7KOKpyzKlVOdU1M8bgM2fOJDi0hEsS+HSDfRPABxzkQsI0dOhQw6pmDEqQsJrdc7Gke3dV7a2dQgJoZvuoRAZFhcz+z3id5u/5bvrnH9bu8IiGcZXZwJIcou975zOECpwABPTUc4UMrK9i4NyxZfUVpYGXaj4Hs+o58yX4TiFW0PmOZf6u2LRXgibzvJMpfHCgXfNEWrUly0eMwG8BKD16VW/K5IEjgUXN4UCdeFBDkOQ8B2AsbHb/uXgWxccMOY4KWrQwXEGAM38SLWS265rWdNPPR+j4T/bROZ0S6fKeidSSV+noEWbCeqCpK0uTXiAl8EgAAEAASURBVLmln17SyutpLRMJAZTix+5kSM9GhGCWMEDXmLH7yGTQoEGVdyFd+vPPP+m8886rvGb0BK42nNiUuRNX4DgOvgwHIOHC+2WGOrKQ78cjbprcsIR6Diih+kK6xKKUdp+X0mQGMu80yjeTpWZcX5KmO8d300wTiot2OLcMpN5CQhpIHlppIQE1PVnTysiGa/q9iw2ZyyyCy4H0o4XUOAXecZylFo0CM4h0tnYydyc5gEENahTDxO4J3NM/oOz33jecBBFRjpHl7/VZ6vn2qSwdyS2lV9nfS6v/7qJtk1tT+xTt5fbIN1w6X18MCWTwgcf6Dz/80Ff2uvcgYYK0SosAZ9QK1i78uzOH5hxgF4P79SsCVGeCcG5EDmzFEPzpZoU0fFY0nX6mm4YwYILcbwOvqPuSXRHs37+ZXmrkrYgStTJ3hMrLiKrUXK72x4akxw6XA1ZrBrBfw6bJamaqdELSpLoUslMJmkLGevsLbtskgY5k+VYX2F+qzLEuccAomBE8SbznbnJdeBFR27bikqGjmXLgSbh1cjQ9fmIqjWpXjy7/4TD9dqG2VAvqC8zGfUkODFXQ4UiBDD6wGdm5c6dim2TWWSSMx/Wcf57JbUZwiswaoKMezdh26fszS+nFolh6fnk9imJdXPv2RIObeijnplYMnVT+m+IB6awRjJAjYTWtlZWX1jiincqshFQ7l5pXsbjB1GStZha2XZGgyTZWhj6jDmzThCBJcsApDvjaKsG7zLgffiBPdjblWtjYGOo5I5Im7zLv/zOD6sf5tmIRgAwdfLgSpBr+DHr16g7bpt9++00Bh3px9K7DeHzRokV6tx29DvWcWZBH7mjq0KAVvRjFKyjbs5Q9mY2tW7K6LIlVoonsIT6VZWCN2TaxPnuWd/l+L3w1DtIbAJJwJzx7ALxQUSDvra86wxbRiLreVx523ZOgyS5OynwkB+oAB9ApGprx8bKmqFdepoLHHrfEFQFsjCTG1gxHeQ+rR3hrhrb1o+mjM3zbEIm8Yb8TrgT1nJ5rBCN1hkTNCsHQVk/SZCU/M2l8rtq79DmiYix+Z0riFWruCuuoAIBQeWbG/sJOzOy2NMZytjdWqG2aACz1bAYDaSkmUYb6nUAKMZjW2pdlMHMZTXJAcqB2cQAzPgxu/ijul1/IxQN/WZ8+/qJq3jcj0XI/t4OObRpH53dOpKnsJdylHkhdNU2PYVQaLh2wZuP5YiDqOb08jVwHaHLCENxI2Xiv8Nw1KcH/voKa6Wy6COmNVSBqUxUMZQPQBJ9GoSKAfasSUl91xkQH2yqFA0nQFA5PQdZBciBCOODLz5G6CTFLl1Lu7NlU76OPyMXL3t0ZGeThpeweNqiFCsHTsiXlXnwx8eZy6mSV56LzhVrE32A1bVRjOqdLAjWMVwGklJZEJ1/PS7YurMxTnMA+Ij09XfwMyyPab2b1nF2NaMErHOGyIBQEO7NwVYEZeQ9DwTPvMvFtmfUm751HIL/x3jphCA5Jk9lVu4G0w1daCZp8cUfekxyQHKjGAaOgKeeuuygBFrkMlACaytjA2NOpE5VxpwpPw9HbeINO9kDti4QardLhIduvUG9ev7VjOdHRfZVJJ/WpWKbepBNRp6FEfTlOhwG6+cMHVLjMWisb4XUCNagTg49XMTV+4vkCpII/4FMwCRKKcAVNkaSeC7WkyYn3VqrngvklyrJqPQe278sluEGI4+XnkpzlAAZVozYLeZAk6VCFdYrO3fLLNUBTFBviXv5y+c0s3vShpGKlKOxbktmOKdqYuw2AAX9bwfisWBBuhko9h6bBweSePXuCDpoATPxJFYPAes0iAESc3rBXs2CTF8E/K5s1myxGNzrAvhMG21DbBmLjp1thCzekpMkC0+pykl0H8pTNJhNt3rYkEJ7eM20NnTW0BV040tyy9kDKrMtp0TECOOGoRbA+6ep1A5soIMBfDzZCgAk2/K3DgqUdBy0lnQBNfLsmpVjfkgKgaffu3TXzDKMrTqk5jDSxVatWilfw3r17G4luSxyoIsMZlEAKBtVXuBNsmkKh1hV8gRoTgHspq+ehAsfkBCGT/bXBPxqAD/oOBNiJIT7AslApov5Qn+MbxfsACVPHjh2V+Hr+w0TZwTpK0BQsTteCcrAh8JMz1hvymhzM5vZsX5/aGNhkNZh1qs1loSPzBk3HcoNvrWj0OXwcZgMDfIKmAPKHsfPq1asDyMH5pJDohcpYvSnbme3bV6X+dL61vDCOB1A9EB6M8v2VgcEdzyTcCZIm1NVuwruIiQYAEY5YYSkAEY6QLsEWDqo5lA93IQA/UK0jdO7cWQFAeMYIcC0BgIT6YoKglo4BbCE/9DFYHLBlyxbasGGDrtNVu9vqLz8JmvxxSN6v5MDe9HzK453gw42wqWqZyodduNWvttUHnR46RbXNy2QHGumUSB6deKiMnY2yCQNJqFaxwVdTsPkD6Ui4qubwzAAEwrl+4r2CTZhZP00AKLBhA1AGGMKzF+f4jfcQeUJtK0K7du0Ikkg1MIJjVPgH+/777+nZZ58VVTJ9bKvhCBdSqrFjx5rOy4kEEjQ5wdUQ5Tl3+UE6pmMKNXJoK5VjOjWg3PwS2rInhzqGkRPN3Yfzac22LBrWB4ofSU5zIFhGmRiknDAqhX+mcBH16z2rUNo0YQXdsmXL9KrmyPVwV89FEmjCu33WWWdRr169FNcVUH1BagPgAYkRVGT4rqByhJQI3zOkr/gusI1OS17ZCkB0yimnKL9xDVJfI4QJFcqymzCBsuLs1u56ID8JmpzgaojyvP2NVTT1ip50+nEtHKvBsZ1TKSUxvDzjvnFbP1M7yDvGnDqSMTpZI76aAmUHbBqc8PmCGXG4g6ZQ2jS1adOGdu3aFejjM5UezxltDlcCaII6KdxJqLsmTy6X/QIcod5CJQbJEL4rgHJcg88yO221kKcT3yy2sEG/A+BkFMA59awkaHKKsyHI97P7h9BHP+1wFDT95xLeoiDMKJo3nGqSGr4dbpixK+DqiM4r4Iz8ZIDO3ayqwU+Wym10uujYEVBGOFKgkiaAWgBD8E8Y2uKIwR/2I7iOc++AOJD6wOZr5syZ1ViDwVVvOTvuYWATdioYvHEOdRHOwWcEACN1wCCLOKhHuD4LMAH1QzvCnUQdx4wZE5Kq4t3Se0cCrRAAHqRlEjQFykmZvpIDnVon0QMsaZIkOeAkB2DEGcmSJvAGKgcYnEIVFY4EMKFWTQLkwLYEticYODDjRoA9CtQtsENBgA0KAgi2SQAzAC8CzHgfBbjBEQHABQMfAOX8+fOr7QXnDzRpATD1NahtAMiQt1AP4RxtQ71gRzNx4kRF+gF1DGzPcMRgiSOkJDjHdfBHAC4nnh8GfqiyUGe8J9vYrxjOUY/Ro0c7UaQteVqxabKl4CBkgueP9z3UFP7QOdQckuVLDkgOVOMABo5g+EzBAIBB1QnCbBX2HOEAmgAssCoJQRjewqYIRrXnnXeesvwfYAN2JwB7kPSh/iIASMB4Fvew8g1H0xvfejF5+/btdMkll9Cxx2JdpLOE9v/xxx/02muv0c0336wMjACGGCCxVB08wW8RcF0AGqTFqjYBogDsBADEEe+QWvLhDfwgHQMYwnuGvJAvJgQAjsgXvMaCB6zeAtDr1i38JO3qp4M2ox21kfAs8A6EmiRoCvUTkOVLDkQYBwTgcLraGAidAk2QVmBADhWtW7eOrrjiCmVQRxsBdgB8YIwLCVHPnj0JwOW5555TBm3wPJiE1VF79+4NCmjCQA91JGzNzII0ACLh+wcSKxEAHBAAfhAEASSpfwNEAVgJlSHqAcDprSp84IEHlLpprewSeYfDEe2AijVUBP6Cp04QJmtS0uQEZ2WekgOSA45yAGJyqCucJgymTqkBIZ0JJWiC1Ojxxx+ngQMHKtIMb15in62ff/6ZAF5CQZBWBdMYHMARA75ZwgANCQSCJFLAXjCkwHq8BiBVS/b04lm5Hi6gyRlIaIUjMo3kgORARHAAoCkYYnIMolBLOUGQagSjDXp1h0RpxIgRuoM9JEtQFYWK4BVc2EYFow5QfQWqUgxGPcO9jEAXEIRz+/BNhIPbAameC+e3RNZNciAMORColAYzYdgTQdKDcwAjESBZQsD1hQsXKioirAKDJAIBKheoH0Q6zGoRhK0KjrgHNQ3OUdcvv/yyBhehnguV88galdG4AMlJKAcIqAhnz56tUTNnLgHASmlR4LwFaHJqohF47QLLAZKmUE50RO0laBKckEfJAckBQxyAYayWbQEkI/v371dWcQHoCK/CACf4jZVfCFC7AbRARSWWoaOzF8a8MMBFB4n7GAAgkcE1sfILaUQ62KOAhK0KjriH/KAqAGjSIrRh586dWrfC4hragPoDJIJfwSYYyOP5BYvwPuGZSwqcA3j3Q/XeOGnTBAk37OxCTcH/GkPdYlm+5IDkQEAcgL0NpBA33HCDIs0BUMJ+VAAwUDsJY2Yce/TooRg2AyRBJQYgZBQEzJkzh+bNm0ennnpqQPXVSox6AMiFM0EdATCh3q4mWPWFV+hgqufQTjyTcCUBzsO1fup6AXBDWqs3YVDHtfvcSZsmqG9DaYcoeCVBk+BELTpCNQEbARGE6gPXocrALESoNcQ5VB5YeouA+Oq0YkUK0iCeOOIcHwmOeiTUJlr3heQAMyMhHRBHXENadFYYZEWAnQuui98iD8QTAXmIc9RPkJBGaP0W98QRcXCOgLKk6kBwjWjUqFEKMMKSdLwLUOVAMmG3TQqkS1oSraqaWD/DAB0OHbCvFuCdg/QuFKAJ3w++LQy+dj9XrTaj3wn2CkGteuhdQ58D9XAkECS24GcoQJOT/JE2TU5yN4zzXrt2rTL7NlJFgBHocNG5q9UbcLYmbEKEkztxRCeLzg6gAwADRwQMQAAAuIeATkCc44hOUsTHER8ejhCZ41ykVacT4MVXW5BODVzUcXEP4EyAOnGETQoGS/wGYAOwEwE8QeeFo7gmgB/yEgAPR8RRl436YpAXpP4t6olrIMTDOdL369ePnn76aZGszh/BK2y1gZ3LIU1yijBY411wgrA6DH6Rwpkw6AG0hIqEW4ZggCZ8u5ichCuhbuhnIoEEaNKsazFfVS98xYLFthxcmrEDurj/Ew8dmguXD+XZuPnxxjfn0NJF8a1Zjd6Uz9vwij8+or/eunUrderUSRmXtAoWkwite8G8Fr5vaTC5EKSy4LBuwIAB9NZbbyklYvARdh4ARpgdCAkPgBEGDHScUGuII2ad+I1BC8gbAcBGfR6k5tSpYt5++23Cfk5qEFanGODVWIAOvKO2giYhFKzowDFYO7WCDN8RAAkAOCST4UhofygNX9HPYHKGlXROE/o9TNL80uv8ksxQxYKnATGKYWs4/E7kAPOoLhywQUJbfqGa8TGALTMjCTThvQE/NQlmfOPEh1YRA3zpzgF+O/tw6Mr8ApCK52CSxKQTyfbP9tDeldXLcmXNo53566igjCe4HvZyX3KYtpZup72ufZQYn0g/HfqFFo87StExeIhEHa7nxRzHK6fKGOdUf1BegrG/4nUzFlvGCogD/fv3p7vvvrtSzIsBGGoNOLJDB4XOG7MEvPQwegMQcpogwcLAh5cR5erRes9SerjsX8SyHyUKy7HoRBpB3VzHUmNXS2pITSnZ1ZD7q3JjznTPXjpAu2iXZxPlELy4ln88Z7mvIm6lXjG0ePFiZcZx7rnnhtVg1qFDB7rtttt0613XbgB0YNsOQx6Ssen5EQ54Dfbye7CZj9sqwkE+YmU9NLxCCHgen9/vUt5HJyUtwtg5VL6QuJU+CZMhK+pJDwtE8jYR5TOPc9bzlijpvNdcNhcl+ItSeVyM5xl+kzPcVL+fdjWgwoRdU69evbQj2HgV4NUQaMrgQtU7aVSel9DdO+6m+bkLqYQZ0CWuM01t8wC1juvICfidG8KH/1agcQv1hiQe0pBIIGgVTK285GblLD9M0+fMoNmZc2h/6QFaUrqMXmv5Al3X4V/lILQBtxwBiOFsDqdo8xJaC198On3HKLoq8QoanTKSYl2x1DN6AA2P70wUB5TG72TWWXRo5W6iekC8RC32EomlHBgPTbVLycH+PxI02c9Tnzk++uijiuoHHoEBljSp7Gv+zpeUDyRuHkEYmDhF6BhPOOEEpXMEMNCjLM8hmkk7qt3+CiMf90cVeEi5F8t/WZnH4yNu1KS9nov4Y9EHTffddx+9//77fgETxtkZFdlDoTaSQ1rFbycOALiQDEoq5wDeG0iaNGkOP/s7VXe0XwVVBO1TdJJq9VzBNn7VGFyV8MP3qAGAKrmbZ83RjP3dCCy4iAaGL9e4qmKVnwpj53AFTX4HCeYrwNHR5US52zxUsM9DOcyjTB5zSsuMMd3Dauj6/bQZBFAZLLcMAE2YMFqjUrpt+220r+gAzev2Az9uN32S/jm12dCZ9nfbTs1iywdka3mXp4KkyRcYCCRvu9Ni8qv+bvzlvzn/H+q8qTdNbfgAvZn2KsXyR9RoXWu6fu8UuqzBJZR4tBGReiEl8Mwp2rn6k8h914cRfVkef5MJSgbeb2mBh/2yxWir/PE9ODmJ0m5RzasSNNXkieNXbrrpJmWfJV3pjuc7rsO08nqU/cig6Ql+yU7k30bkyyyW9WzluKpRxYVNSfnF16GhQ4cSbK18gSadpDUuw1SySAcw1YisceHss8+mF154gZ54gtvsgwCarvG6fxr/bs8B8rldHHjs0CRI8MGRMzicqxmj5kWAJthISSrnACSjuqAJUbx7QwuMgy2e6CRLWUo192zz/G89yEV93tIGBa1bt6bt27fToEGDLNTO+ST+QNPWpzy0fobqO7e5SrAhMWMsj+8D0lgAoHPOOUdZMGC0SnjOhiRNGhlOO/AmbSrYQt90m6XcPWP9afRz0Ty6ImECT9/smehAC6Cr8tKoUygvATQZVWOty1tJ12+fQovT/qCByccr1b5g4/nK8alGUykxWn/c0GojJHJ++8kKwFQjfeE2SsJsJzq1xi1cwDNAnwCTllAsjhCVkqBJcCKIR8yo3nvvPZ/qsKrqLOMBaBRPHfllor4cWJbu6sOBj9SaA8urPZv5uJSP6DRWcPAaXFwPMui6n69rU/fu3WnTJp6yhgGdf/75NG7cOGVWhw/QDKld8cUsWUJuloQU9mWe8eouLYLK3ihogpRJra/Xyq8uXcNeaQAcZqjIU0R/5Sym3UW7qZBtGiY2megzOTpJYeSvKy5S5bApZxlN2TqYlNmsuO4DvGEfsXD21eRPPacnbUPT2eUnbctdTZnFB6iMxXPpxXtpR94/NK7VndQwRvt7ECwTR6h5MEAZpYsuuoiW8Hc3fvx4Gj16tGJoD2meEQIgwYBohWZlzKbX016qSOqh74t+pMsTLqV3Or1vJTvNNFA7AQxGAgHsGgV4N26/lR5r/VAlYPrXtusVtdlDqfdSj3rdTTcXfbbRsr0z35/5M42sf5L35Wq/MdGBexMJmqqxpfb/wAdo3rgSq2j+LA8YCHwMBmY5mJaWpnR2ZtPpxY86UEqlzWCVaZ5gXwUbit9//51GjoTSzRxFb9lCsQ89SC6o09gurPA0lj9BjcQ2OIEQJE3qlXeB5FUb0kLSBPszI8RvA72w9wX6X+ZX1Du+N3WM70g/Zf3MMgA3Xd7kMp9ZYOCGqqGeYuGrH3V++v/o8T0XUGt3V/1IXnegllu+nHVbYUqwazTjK2lX/gb6Ys9TDEo3KECpTVx3ahTbUpG2NIptRYWlufTUpkvoiR6/GGoxBl8MUEYJ+xGuX79eWSwBWyyjgAn5Y6UsnrUVOlB6kFrFdVCSXrzxQmrjak19E3pbyUo3DcBApKyew2TDqHpubsmvtLPoSupevJ+u3zaF/ixcSFt7rqU3DrxF2aWQ55sjSAvxLK3QrMzZNLntVJ9JMW5i1WufPiw4CBFFtKSpbPde8mRkUlTvHiFin7ViYQ9il60AVsEOG+6hV1508co8a/WB7QIcFJqhmCUFVBrDwu/0UnId5nCE/TetYz9Qq3hn8WQWiX9rbDarVebw4cMtgSY3S8tKunShmI8/pjye9bq4w4/+5BOKXrWKCk46Sasow9cAdKVNUxW7AG6NvsOnrz+T9pfso/k9/qBkN5SnrD4t3EkNooWJZ1W+3mdi1lwvBkpVbVpzdL4CmCY3fpryS7O1I2lcFeo5jVthcQlqFjOr5xZnfEtdkwfRv5r+l+vP7kVc1Scuvxz6kJoXpRluG8o3Y3jbl6W6CxYsUDYZfvXVV+mVV14xXBbUSVZtmhaVLqYX9z5D0zM+VuyZPmz7Dn3NvLCTAJpCadO0ZU8O1U+IofyiUmrdpB5LvfXVjpDYGZX2pHffTeM3T6Q3Dk6jixuOoxnN3uNXh13UsArtaOlR0yzEM7TEJwb8mJhSPd9juZA0ma6YjQkiGjSVrlnHA/XGiANNcAZoZgbn63m/xktw//qLV9fCOM8ioT5YCWWGiiYeoQLWCibfGEPuFlFU1oBBxTge2B6O43NtGxKj+cMwHZ2uGePrWHbnQGeNJRd7kc5n54vxv/xCBaecQowpqSRAwIR6e/t8MtqW2hoP6jkjUpA/sufTHFaXlPVhYM3/QIVs7LkifyU91u4xv+zBzBX2LqkNGmvG/Wrv8zTt8B10e4sPNO/7uogOOJx9NUE9Zwa0nNPyVgU0aLW5hJd3/5n+BY3nFWVGCeULmzIjaS699FJ6+eWXFbcqL70k1GVGUvJKP3a3YhU07eiygd459D693OY5Oq7+cDrE6t8n9z1rrGCDsZwCTT8vPUANk2OpW7tkSojXH47HP/oXHdetEcXHuWnqpF4+QRP4CH4aoYYxLemHbmxDqwDsqn47MSqR9heZm0ijPKu2n+szvqGxqaf7rTK+2ZUrV/qN52QE/afkZKk25e1OqU+lLAaONIJaAD6bAiU2H6B33ydiTwbsq8l6bjA4xcsOo0+oBIxQ7OXxFJPoppIbjMU3kqeIAxAHScbq1asNi2Gj7ryDSmZ+TUUDB1L0xo3keuB+SmDfSq6VKwiKTUn2cgCgyYi9ywnJw8jTp7qx8sLshXRMvT5s9KkvPRK19TVrfpNXTC3M/oqmddlELeLT6Ot9L1FyjHHDVQAyAANMGNCecCN/huDe9cWqMT364cA0apPQgzolGl+Ji/Lhp8koncSTk6+//lpxq2LGgBz5QzICyZYVastL1h9sM7UyaZPY1nS0LJtXEOZSFAyLbSB/q8KsFFFSWkZ3vrmaLjqpNaUycEprqT8c//WacVMFqOd8LtLwrqyrpu1oHLsDKPDwoqIg0R9HF9BVaS/6LQ2gKZgbSWtVSP8r04odZtc80Sx+LoUswTdlDR5BxZ9+5TtSEO+iMzIjdteqGtRyDzzsoUceIu7wtWKYu5aWlkawSTBK2VMLqGx+IXnyWaTqAEHatGjRIsM558+dR7F//EGJrBIo6dqVyh5+hApZ4kS8T5ok+zkAdSUAtlkJJWry4eEZdFLKCEOV8jVrToiqT2/2Wq8AJmSWx0vsEqPMgXhMYMJV2mQWNOkx9HDRHpp/5Asa1/IOvSia12Fsa7afwqAGMjMphFTE6so5zYrzxR5x3WgNG77bRaifL7VTbn4JLVxzmBb+k04/LTlAOw/k+S06OspNf748gu4c340Bkz3gDoWiroEarUPSlFvqvw3ejcRiGfQNpohV6hllmZW+mnylhVPdUG/aG9Ggyc3goyzLvw1D/ITx5EpM8PUsgnoPBo9mxN5albvmeg/17sWOW9u4bAFNcDdgZiVR7Lqm5OK3xzV6P7nH7qe497KotNg+AHXMMceYMtJ18e7XLjYQ5K3ZKXrzZio8+WQqZTRZxs757CBp01STizD0tQI4thRuoWkH366ZocYVSB/0BoBLWdUUwzNiQaW8nIw3bRA/DR0h1bTSBkOZBxjJ3+o5o9l/u/81Gtl4AiXpLOXWywf2ZGZAEySPkDRhgcDUqVP5U9ynl3W16wBNKMtO6pfYl1dqsijeJgJ497WMf9u+XJr+4w5atiGD9h7Op+gol6GS68WZBBgGcgVoCtRovUl0Y9rPKy/NEhbL+HU54JWpK3cFS555MDNA+F6NmAUYyMpylIgGTaxTghLVb+Nd8XHksWjR7zdzCxHQQRjVOXtnD23ktTd46J13iO65C3vJwd7GO5b535hVmtn13d0qmko/4r0J/mhB7qcbUunaYoq99CAVl/h/HkZqh/3eoJ4zSh42Zs959lnKZeehJR07lifjzsPDomru7YxmoxtP2jTVZA1AkxVJ02y2oYD7gZf3v0x5cHTng6AWMfqtRDGKF3ZTPrKsdgurcYwO7tUSavzIL/T/ISLOroN5BMmEP8LWSWZsmrTy28ceQTfnLqHhjS/Suu3zGvopX0DBOzFWImKyM5BV5Ndccw1NmTLF0EoqlGHV3YB3HcTvQUkDaGXe3+JnwEexilMvo14dUui12/rTjed2ostPa08tG9fTi+r4dajnjH4zepVpGsPq9xLjqlm9fIxc35b7N692PMZIVMVXE95LI6YBhjK0ECmyQRM2VzXipTmhHnmOBj5wWuCvZhLMWqxImqA9S2nooQ7teYPDAldAdkzeFfPrrNA7gep3STf2p/NUY3LF8ePovM8WiRNUE+hIzQA5VZUqT90MoGLZcack+zkAoG0FNMXz6pyZXf7HWzb8QIlrkmh9/nrdymEA0JM0eScys3BApIV6bgu7qQiUsnKKaPJTS+nG55fTO7P4Q9WhR95fS5c/voT+WHVYJ0bVZUg3ARqNLh+vSll+BuPvj3Y/RO3rHaO4Inh4wzl029phdPM/g2hvwVbv6DV+o3zw3+gSchjoDh48WMnnwgsvVADUY4/5N/aHPZPdkqbeCb1oTcE6rot/IFuj4RoXAJoCBSIa2Tpyycwz06tAanQDOlyarndb9zrUc2b92c09+hs1Sxmum6f3DUib7JroeOdt5Le+5ZmR1KGOAymTAdAENV5pJqtuwoQAmqx0hFu3eeij6UTjLzYm+jXTXLhB+OefwGwASj5oRvFX8Cq8z7OpZHwAlukVFUedAJpwtEqu3n0ohkFTkQ1en03r6q1WOkLSwXjalMGpql312R7pe5Y4fcbbXTy8+xGa0fkj1d2qUwBnX7YkVTHLzwCczBD2zps2bZrfJE9/vIEyGRgdyiqiqVf2pKYN46ulSUmKpddv6Ue7DudRHGwtdeiRyb3YONn495uamqoYY/vzYXSE/ewcKNhO+9gz9o78tbSHgej+4m1sK7KfRje4UjECH9l0IqWyBCHKFa0EnSpWuwz1KPoqIzZHmHipDcfvuusuxdca1J++/NIFqkqqVuGKH9G8yKBHfDdakr2o0nGjVjyj1/xJmozmE4x4+GaMTjT06hPPtoG5nly+jUUcxmUrUM+Z8mfHvqDgZ4uw/xzbJLrYQe02tkU7XJJOA9o8qFk9SLiNujvRzCDAi8a5EWBBjiRHB8kPKdIIL7WVjmLkya4agAmqOQjcAiXUyYwoXre8/0sg10beAdIGgtGf1UFZFF/Ezqs8v/0qflo+YpZpZOCwXEAEJsQKRzP2BdjRHABJbXd0hDvHFB/+muAby6iNRLlFkznQ1KlTJ8VHmT9g9uUfe2jCmHb07PV9agAm8ejqJ8VQz/Yp1Km1vn2OGcCEfKGiM2JXNIH3Cvvl0HRKZ6PvXrxicVK7Z6hH4jC6uuXzdDk7DDyh0fnULK4t7ysWbxgwoXyABaMqQnhYn8MuPwTh2WGpvr/dBhDPiQnJmJRT6AfegNYOAng06vvIjvICyQO8tDK+eJfZ0J1KOSVHvC/7/G1K0sSe6nMq/GnN2HQpPbXhbJqb8Z3SHwxMOUm3HKsSbt0MTd6IbEmTUfUcgFUYgSvMho0OBP6eJ/dTtGKFv1j+71uZSUWvL6LC9jEUFV81cy666yjFXll9Fu6/dO0YAClW1Jjq3IpPPJGin3maYtk+qqh3b/UtU+cATQCWkqo4YNRXk0gB49Jd7EMHm6vewj6FluUspesOXE/rOtujPo3hpdPYMsQsQdy/a9cun3svLnrtZLPZ2hIfKxSNLN9/v9sOasxevwVtyV1Jhwp30AlpL4hLlo4wRjcqFYcH/+nTpytOYOHRH/0cQNT333/vs2w7+0N1Qac3OJVePPAa3VWWQ9F+PMqr02mdo3+El/O6RN3iu9AKtjc6IWWk4WbrSZrgjLOsYDfN4klTRkkmZbHjzMyyLJZjlVH7mHZ0Ca/s9CRW2TX5mvrY6RzacMNUEQMGTR4eTFysbhKE356D6eRuV770VFx35AggZEQcD3BlhzjGkUYElincKu1mzSO2iFLvFAKXBLygjACqjBBUhv5m2975uH/IpfjMMip+sBG5+BgzK4eKW7Hvpjsaeke19BsgxY7ZnevKSVQEt/tZWZYdWgWyzYOlxkdAIoANszZnz7Z7mjr805GW562gwUmDaHHHxdStXjfd1kIKgWCE4KMpmyVXZql9+/Z+QZPZPO2KD5WXEdCkBkwo+6t9z9Ppza5lxUpgYmhMXIyCJpT73nvv0YQJE+jDDz9UloZvZJ9p/qRIpiRNWGS1mANGVTQNGw/AXBWaJKwpgKlYhaA7LiqFRtU/md4++B5v7n0j37BOAE2RYtMEfuraFbVkHjzFYReH+Ry2cgAW1EAp/RN5MU7eGtOgCdJFUO/X3dS74lnAXVZpTltq8OMkSsxPpehD9SnqcFN667tbaUyjs9l9SV8ljfjjZmQSxbCiXtU8QNxSzDUCNSWpzMzCSUCgycO67oyuxzAjZpG7R1fysK4o+4xxlPDkw5WgybN3PxW9P4NK1m+khFefJVeSff4oPGwkaQg0WWCMk0lMiTANVOTQPhfPgog+/cxDf68iJWC7tYmX8Uq7a4wNOJgh+LIHSXE1ocme/rSH9tFsYjTGVHR+MuW3P0hJm3lT0N08ZxjKM/1vm1X4fa5Z8RRlbZOx+iA1gJwdoCnv7LMp4fXXycVeinPvvbdmxQxcAWgSnYGB6HUiCkCTps8UjQ5YMAS2TIf7HBI/idC/wh9lOw7o0GG+dlzVO4J30td7ybErqT5LsvYWbKr8bfQExuCb2U0Ftu8JN8IWR5CCmaFFGbMoKSqVBqaeVi1ZvXqsBmN+57GXFvGI/OFRgAWjhuCiMEiczOwbiUHesB3MWfxunCVK0jiiYWDXdj45QDTlyM106nNj6eSTRlFn0gfnGjnVuAReQPJt1QlnjQwduoDvRZefkG+Mqfi+JldUAIBzA4cdzLP9fATw5PlluzVt6dtN3xE14d9CgIukvGhaj6DKhXQSFJVQPRbbltPQC4dUXsQkfdlff9O/P7uH3eYYB/eQcEOSGSoKCDS5+CVKvO02Kl2/SQFNxW99QG62Q4ke2E9pD/aGyzxuOCWzB0bXoXTKnXwTJX3yTrW2lqUfIRcbartiy9FptZt+frgZgHmMLCdXqec8GVkM7krI3Rg9dWhIT4RZVZuqQaPqWs0z7KX57SwPLVlG3OkTjRhONIQXr1x7tYvgY86McE13ZlJRbDfXAHop6hvlVxHl0yHPHspoe5A2bF1H6bmHqFHnFIqOiapRyTiK52+sLTV3taMWrvZ831jbkBE6UwQtwifG3yBlat3UuJZ37bUaV41fgmGlBE3V+YWVXbAvgFEm7JsqqRs/s7O4AxYdbRu+gw4UjzKZAx5cKv/gd1QBSXzQI5+zZq9EjeN4i4WsX7yu+v8Ju6YlcK8fhgSj17//Nr50HmqQkW3H0pBuAyitt4sa9HdRUk8XJbTnQSzFfAPNuh0wXwIsJ3xP2EzliXcM0vW2OCFKpFR6e8Q7NHfevIBBE3gRCaBJabiZP5BjYMjuV84zkXRw4Yk0PH40PbruKWUVpbju64h+0p9kUaSH5O63334z7Y0foElzsiYydvgYEGhC3dxtW5HncDqV8T5wxfMXUOK0l5UqQ+qU/9ATlPzS8xTVtzdlPzSVGsz+ulpzyhhIZfYbQtGdu1L9ubMq75Vu3kbuVs2rqf0qb6pPWH3jyQFM9k0lW7ZTycK/qPiPBYptU+KbL/pOEOq7rtE8FXyXa1FSoyb8ntETT3qIWcc7ihOdwZPJqyeVb9YLwZtVMrpCBvnH8p7zrVydqBV1ol5pQ60W6TcdPiosn9WipnwRQ8nPHBg7KhMkZomy1oMPCsXzX8RDH4oxGxOo1RxWcgChr1AT7MywcfHWrVuV2X2vXr0qt3FBZwA3CJKqc0BIm6qBpnYc55HqHXD1VMZ/iVmzm2fI3S8rn40CR8cw8Ero4KJYlkyxT0sW/RP1Su9Dn/1nLR17p5vtJ8rLQBx/ZNag3V9+dt6HpOmHH37QzLLhEBd1zChvX0xjFzUZzQCpF2NTpR/Q0Gto5uL7IgzRzapgfedY867dknfvErrwxpwIgRK+/0BtLAOtg5H0ZiYavvKDava0006j6667js444ww699xzfUVX7vma6HonhkRqzZo13pf9/kafY2YBit8MTUYIYJgtL8kVF0tlrLrIf/F1irv5Ou7JIP/jwWvbTnJBwsOUOepMqv/um+Tu1ln5Lf5kn3sxxZ93PsXfe7u4pByzL7iUUr77H/QzVdcLi9jNutcAmsySpnwosrWp8NVpVPQjzzzZXX1U29ZU7z+38sy2IbkqdK7aqZy/ihcLs3Rdcp/HIwFDAQ93lp6FHG05h7UcchWWjGHx6vr1HnrlReiutXIBn8dy7zmIj6l87KgVqdo1ABSow5wmiGShcgMIgdjf+4hVHwgAMBs2bFDqhI8XvzGAotNCetQXRwQX59mQ80riPJE/8kR8HA/y770V+QEYIn5DDijjN87vOGYgZrp4HriHWQyA2k8//aSobAQ/kBfqIak6B7CUHEATTg2dIAyoSkfMn37abb4BUAob+/48YjY/x3RF+oXnupldVgznf74IoEm9VN5X3GDfw7Ykej5pUkfw1z1CswOwrZr4HoLhSNCoCta2hlnICAAS70laWpqF1MFLgj7Srr5q5syZ9Mwzz1ROHu1uRc+ePU1nieeA/jhYY5Z3BX2M3N5RdX4zAChZwXP+mFiKGnAs5V11E5Ws20DRPbpT4Zwfyd2yOaX+8RO5WjSvkYErIZFtYfZUU5V5ior5dxOOX6U4hRQr87SzKHXNMnLxJr2CXDzQubhc2FZBVehNHu7MEx65lzw7dlIpqwrVeXrHDeZvDAIY3NFR4FyTXCwjcV3GtxBADEA9rHj2bKWhQ7M4lF+t+gvPkqwHcQEwMVAySQAMmEnhRQSYgfsBgAx8gLgmznEUv9Xn4hrS4jqOaKMARnjJAVRg3A01F4AJAj5u7yN4AhEvlirjHIaw+I10iA9wh3zw8cAtAX4D9OC+Om9xDUdRHtIh4Df4j0EZgysI1/VI1F3vfl29HohTVCM886e6ATgeO3Ys/fzzzzRkyBAF+GLFGQZ7PFvc80fCF5K/eKG4D/6GclaNb8yKA1MzvAIoQznhTuH8nqh5h77cLrsr9JN33323Onu/57pjmt+UxiNgsobvon379sYT2RQzcNBUUkqFP82hlM9nKANcwgtPUtHb03nPr4NKFeP+fUs14++ydRvJ3b1cVJr87WeU0bEHHWnTmVJXLSVXKn84uQyAVBIPxAdgovh6lNGrP6VuXFXtvrttGwZFu8lVkaeaL/EMmEAlDJrCjYSRs3HpDs8oXd3Lg6oxGMwBTnDEkticnIMctiq+VQB8EGCcJ84BgvAbHxaOAvjAAR1mUb/88ovywaFeCPj4YACpDriGe7BnEfFwRBzo/QW4EUAFR4AdgBczhK0YrrjiCmUwNJPOibgAhWbr70Q9wi1PSEL8+eEJpM7ogAF+9Ahg+oEHHqDPP/9ciYJ30GynDTXBIBucn+rVMZDr+K7Qfny3dg2EZuqD7xZ9hZOEvilSQFMwpG6B8hp9Op5bKAjl4l11mvC+wIdfRIKmwlnl+nZ3t64Kn7A6Lu7mcqPbqO5dKaNnf4rn1UsuVtuV7T9AUWntKP7+f5fHZePv1J0bKWvwCMq98npK+uojwj5xJevXkSc7h0oXL6OjEydT/envUvRJw+jo6LMp++zxVO/aSRRzzplKHlHNmlDZrt2VQEzrYXkYUJjtSLXysfOa6Iy+/fZbBbwAsECigg4EUhmQkIJgYMCHoAY/6MgQD/cEOEGnCtCCgIFAHDGQYJbUpk2byvu4J4AOjliNgI02n3jiCTubGVBekFKpP/6sBWy/NKNcKhTHdvxNznRTHNu0xLEQ0+VDs8guQahwL4cDvBo5g0H0UTZS5v+g5hfyoKwvYCqPxH+961J5o46fwO7Lnx+eQFgEaaCQBOrlI7bu0Lvv7zrA8KO8Z2G4EtSHsCsKBWhC3yL6I6f4g34uEtRzkPoZcTTqFJ+M5osJHvr3UBAm0sHwZ4VyQqVSNzf193oKACPxl19M9R74D7kaVKnNRLTYCRdSg9NHsQXuEVah5XKcVHKntRW3CYbgHgZSZfv2UL2P3im/Xi+ekp97krKGjyF3akNqsOBXcrcpN2qsP2cmFc34ggDGBMXe/i/eV45HRR8UdewxVDT9Yx8xgn8LHSAGYuiMsdQZ6gTod/GyAwiBAPREZ4LOC+oz3AfKFtIcu2oO4CTK1czzU0YZwCvQJo7kP6rFUpXxi/kMy33Xcdz1fNzIQUw62CaFJnE4Xkcdybe8CfxRq8yyVnpoxx8VaIcjb5xZWpkEnpZjGfzE8AQrikMJT46L2Gge+FPwsDKy6mTU6VESNKn4YfYU77GTM0t/kiaz9Y3E+ABNmFXDNUKwCZMtI36iAqkXQLE/YBxI/nalRb+7G0uWw5xCKWlCfwDQhufpS0IcKAuN+i8LtByt9AGBJtgURR0/RCvfymvuRg3ZDwsHDSp47Fm2adpNKZ9Mp6jOHSpjRJ8xhhpw0KLY8edXuwxXBS4/7gMA1IR0q1riEP4A6IG0aMaMGSGsRVXRfmf0EECVC3mInmHgop7IACwVcsBivypMwz+8qAf/Pt7rmo+fAE0Ac0aotMxDWBPgY12AkWx040AFarQuupnUwhvoHCEddYowScCEoS6TWKHYr1+/oLOhc+fO1LVrV0fLxeDq5ABrV+UhvQ+GFCXQ+qLfDIVUUtQbk3v0CeCXU4QyIlLSFChDEp5/LNAsIjY9JCi22Qpk7mPHZGyMv4fFO4e3s4fX/RxYF1UKNFNBMWwo34SB6WlT2IlgN3HV2hHZspoLlM57E31w6H36nneszyrLpNNTTqMHWz+o3Av0Dz4Kox9eQVkuzTn4Li3M+JolS2WU78mmzaXL6YPuu6hRTItAq6LMnur64K3FRIAaSCOcojvvvNOprCMmX7gdCJVfGjzbKVO4z3CQYCdk9Dt3sBp+s0YdI0E9B0kTpJOhIl+SfbvqhGcRqk17A5I02cWAupgPQBNmBKaJbTzowGaiLUs4/MWeb5cyQGLQZIQOc7o+LMHTAE1WZnvYifqYdcfQDQ1vUHapT3Qn0LSD09j1/mrqndDbSI18xkEHhZVQ/gg7vD+3eSJ1TxpKd3SaTg1jmlMp70H2n3Un06+HZtB5LW/zl4Xf+xA5q1WFfhPUkQhYvfjJJ5/UkdaGppmwRVy5cmVoCg9CqRjkIwE0oS9yUqpqF6uxxQi2sRk9erSyWMeufI3mAzUm+m4nnykkTTt27DBaJVvjSdBkKzuNZwb7Iah8DBGA0oY/iZZ8QbRpPu+DcMRQMjOR0BmYBQWj1o+imxvdTHfyZouCfjv6OzXi7SwCBU2wk4EUw4jYHju839TsDTq12WRRDfo7ay6tLfmT7m/6VeW1QE5CLfIOpO4ybWRzABuUhtLtgNPcC7dFOnrthXo+EkATtt2BmwAYS4eCIOWCmwqAfacIZgHBkGhp1V+CJi2uhNu17cuJpl3mt1b/XXmULuyeSA3iyg3J/SZQRcBsz6wefGXZSprbbG5lLu5V0dQ36hi6pPH4ymtWT+AwEcZ+Ruie1l/Q0IZnV0b9fM9T9F763fRw2+8pOdqejgMgTr2Sr7IweSI54DAH8B047ZXb4SbUiuwBmiBxDldat26d0mfOnTs3pKvFV6xYYVwgYJGZVjQjFouqkUyCphosCcMLkDT5oacWZ9K//8igMWn1LIEmK8tUX2n6Mp2/cRxN7/QBnbLhFLYBL6NlPVldaANhZg0DWCOkBkwzdj1MC7O+pg+776XUGHYQahOBP3DdIElyINgcwMwd9n1OrUjCjB1+3hDgLFQElCec0qrv4xz3ELRIvepX6z4GPHVafOvbt28nDLYgX+mt3EN5kOzDtQQW4KiDuC7u4aiWYKjLA2iCHSru4zqMwiFREfXfsmUL3XjjjSGT8Nx8882KZB4rLaEaE8BC8BptxbMV5P0cvH8jHq6BkBbngl84B6/wW1wTK7phf/c6b5D+66+/KtoLaAww4QT/RMAEHTaiCLgHLQf6V5wb8bXm6/1TKuzgHwmaHGSuv6zxstlBOUVl9P7aHLqkWzK1T4mxlCU6ABicmqEbmt/Au6knU6t1rZRkJX2K2SOBcZcCvsqCpMkoaBL55PMGZB9lPEwXpd5D67MXUePYVtQ5qb+4HdAR6jkJmgJiYdASo0OFZBDSUwQAXvEb5+pBBJ01OnB01ujcAVBwDCeCpGnp0qV05ZVXKnuAoW4YqBEwaKONIO9BDwO7AD0wBcCAifcY5yLgPgY/xBUDoHoQFIMj4qgDBkg1uFAqUPHHux7qezhXAxH8xiCLgGcD8pXeyj2Uh3YD7Il2C37gKAChFhhUl4d8sLXTscceq9QR7w1cxWBTZbiD6N69e0j3p5wzZ47CP/yBmwg8W3X91eeI4/3b+7kgDq6pQbQAK2qe4T5+433AuzhixAilbFwHyERAffB8RcDzwDmO6iC+U7xfarCFvheACzzHNwvXD9sZaN9///2oZlBJgqagsruqMLwceAnsoB+359OQ5nGUUaA98zNSBl52GNeZpTNSzyCqsEP/Iv1LurDRBWaz0IyPAcEsiKsXlURPtv+V9hVsoY05i+ndo/+jhu4W9ESPXzTLMHMRnYXeIGEmn7oeF+8ZOlF0mBiwhMNWfA8IYnADv0Vnjfi4jiMGApwD5Is0yAv54og4GPTFzBXfGDpfAY5wLkATBgTYqCA/kf7HH3+kiy66iN56662welQYLGDbhM2kUX8M1gMGDFAGbLQN5D3o4bcAOkK6gt/iHEfM9BEvlARA+NJLL9G7774bymoYKvukk06i//2P+5UQ2QsZqiRHMrKAxmheoYgnvnN8nwJc4Vz0BXCoiz0ZES/Yq5olaArFG8Fl4kWwCzTNWJ9L/xmUQlPmHiFInZJiy0WqZpqGwcuKJGUNr5S7NvlaxRj8zE1jKZmBy+kNTjdTtGbcnTt30rBhwzTv+brYq/4wQgBdTlPp1n+Opx15a6ldApxEWSfMykI9uFivvTMpYWdzzz33EHz54P0BAcjg3UZnBlCEI2aZWE2D60JMj4Ee7z/eOQACgBmAdgzkAD3gt3qAxyCFtCK9SIP0SIfryBMB6a0S2vT+++9bTe5YulGjRtH48eMpFL6aHGtURcYAfy+88ILTxdiSP6TfeEfCHTTZ0tgQZiJUd3oT+VWrVlH//v2DDpjAEgmaQvRiYHZrBaR4V/eXHfmUGO2mgSxpapYQRYfzSy2BJgxoGLjM0srclXRc0nGUFpdGv3X7jS7cdBE1YVuigYkDzGZVLT5WgAS6+gJuB9wuNyXFBO5HSEqaqj0e5QekgdgkFx2ccIAIIARAA+ACAITf6PiwDNnK+1WzVGevQJpz222Bu6iwu5bYad6O/sLuetmVX6SAELzbkeDg0q7nEq753HrrrSGrmgRNIWI9ZuaBSppyi8vo8cVZ9MQJ5aCgYT03HcgrY7sm842CJMDKoJZZmkVp8WlKgY2jG9GU5v+izw9/FjBogug1UND08e5HqEFUM1ucW0LKJCVN1d8rbPuDIMl5DhhdSep8Tep2CQD/keB2oG4/JWdbb16P42x96kzuViU7agZNW5VNQ1vE0QCWMoEgabJq1wTQZGW21zymGa3KXV1ZrYKyQiry8IZvARBsWaDSsaqXzyw+RG9sv4UOFG6nu7p8GkBNqpLKGWYVL+SZ5EBd5QDsGoVNXF3lQV1vt5Q0heANAGCyw3jtsw15NOvc8mX1BSW8B1ixh2ZtyaN/0ovZaJm3guP92K7snURNGUz5I9iEwBjWLI1MGUldNnalnmwztKlgM711ZBot6MaOOAMg2AzA0NWsZCej+CB9tfd5Wp+7iIY1PI/ObH498a5WAdSkKim2k7AKLKtykWeSA5IDkcwBaAdgpyep7nJAgqYQPHsYy0JyESgt2FdAzy09SuuOFNPe7HL/G40S3DS4ZRwxXqI8Vt+lxhkDDdgOAzYqMOo1Q53jO9OqTn/TF+lfUIPoBvRH19+paXRg+x5ZVRXCL9MpTS+jCfEPUYzL3k1e77jjDgKPJEkOSA7UXQ506NDBlr677nIw8lsuQVMIniEkOnbsy/P52GZs6Oyhi7snUY9GMfTlxlwFQE3oYd6g+5ZbblGWXlthB7ZMCXTbFHW5sBmA7YAValuvu5VkftMcd9xxfuPICJIDkgO1mwOTJ0+u3Q2UrfPLAQma/LLI/giQpNghaTq/S3UP1V1SYxTD8HuH+N/k1rtVnTp18r5kz2+4gIG/TRyrV1c3f4i/tZaNtxzvosYjo6gkg1027GX1Y6aHCtOJSo96qJhXvHtKambpZoFTDLufimnoIiyii23soljWaMaxP05cd6vwJYzz9+zZozja286O04RfJtgwYAm8WNoOj7u4N2nSpJoFyiuSA5IDkgOSA7WWAxI0heDRQj1nh6TJu+q9m8TSsgOFtJZtmiB5spXu49x+5+C99RJs0OtzAChCgJ89CIkac0jj0J0vmvSZCVsmgBRvYu0fIYBQZHmB6qNy0ecfGJljZd6u7bsU777Y+gABIAl2ZrClat26NaWlpVUCNwGaYGsF52oAT6eddprPcuRNyQHJAckByYHaxwEJmkLwTJ1cgbHz6jaUWcyG381YTdWkPaMMRjXblhAV5Za3NEofTAEQQDUGSRh8kYgACYxy3vKo4sQQ57gG54UE23GW/AgSTiDVXodxDkNz4awQ4ATX4IgQAAnnas/F2Kpg48aN9MknnyjZQuqENCLAGBPgRxDuw7heeIvFUThURHuOHDmi/Ea9YbcFYIRtDzp27EiDBg2iCy64gNq3b6+AIZGnPEoOSA5IDkgOSA54c0CCJm+OBOG3niTFctGJLNbpyDY37Y6lNu37UptWPajUFaWABaiSMjtdoEhXIGHZP3Mx7X/jG8Wrrdg6QoANOM8DIIE9ESRhCDhHgA8nSGAgZcF1uAPQkgahbQBTCNiPSJzjCIee6t/iHPUQexkBDB06dEip+7Zt2ypZAlAk8kBc9bJfAbyER2ioPlFfSItQT1FfrIADYNJS/VUWJE8kByQHJAckByQHdDggQZMOY5y8DMkHBnojpEhNWC2UQ+yDiZfPZ7EOLNMVQxmJaZTlakpZxYmUneWi7N+yWUo0m7ex+EKRAkESBJAAp3gIWPmFLQCwDQP2dMM5JDcASQJsGKlPMOIAIJ166ql0xRVXmN60Nxj1k2VIDkgOSA5IDtRNDrhYVcSL0yUFkwNQCUFVNG7cOGWvLtjKwM4JBtCQoABQQa2Ea5DmNGyYQo3YkLl+/XhKSU6k1EbdKSm5UaUkCNIUgB9IVxCElCiYbbK7LEicwAuo7iRJDkgOSA5IDkgOhAMHJGgKwVP49NNPFUeSADeQAmG/K0h7oB4DhgVoAgiCKgy2PpIkByQHJAckByQHJAdCzwEJmkL/DGQNJAckByQHJAckByQHIoADNdd1R0ClZRUlByQkZn3IAAAVdElEQVQHJAckByQHJAckB4LNAQmags1xWZ7kgOSA5IDkgOSA5EBEckCCpoh8bLLSkgOSA5IDkgOSA5IDweaABE3B5rgsT3JAckByQHJAckByICI5IEFTRD42WWnJAckByQHJAckByYFgc0CCpmBzXJYnOSA5IDkgOSA5IDkQkRyQoCkiH5ustOSA5IDkgOSA5IDkQLA5IEFTsDkuy5MckByQHJAckByQHIhIDkjQFJGPTVZackByQHJAckByQHIg2ByQoCnYHJflSQ5IDkgOSA5IDkgORCQHJGiKyMcmKy05IDkgOSA5IDkgORBsDkjQFGyOy/IkByQHJAckByQHJAcikgMSNEXkY5OVlhyQHJAckByQHJAcCDYHJGgKNsdleZIDkgOSA5IDkgOSAxHJAQmaIvKxyUpLDkgOSA5IDkgOSA4EmwMSNAWb47I8yQHJAckByQHJAcmBiOSABE0R+dhkpSUHJAckByQHJAckB4LNAQmags1xWZ7kgOSA5IDkgOSA5EBEckCCpoh8bLLSkgOSA5IDkgOSA5IDweaABE3B5rgsT3JAckByQHJAckByICI5IEFTRD42WWnJAckByQHJAckByYFgc0CCpmBzXJYnOSA5IDkgOSA5IDkQkRyQoCkiH5ustOSA5IDkgOSA5IDkQLA5IEFTsDkuy5MckByQHHCIAwWFxZSTW+BQ7jJbyQHJAZeHSbJBckByQHJAciCyOYCufORlz9P2fUdoQM+2dMbw3nTx2IEUGxMd2Q2TtZccCCMOSNAURg9DVkVyQHJAciAQDvy8YB2VlJbRrLmr6If5a6ldi1R69cHx1K1D80CyrZNpd+49Qms27aH1W/bTlp2HKD+/mNLaNqarxg2j5k1T6iRPZKOJJGiSb4HkgOSA5EAt5MD23Yfplsc+pw3bD9CHT19J/Vj6JEmfA5DULVuzk76d+zfN/uMfOpSRUxk5JjqK4mOjKTuvkFo1bUA/vzeF4uNiKu/Lk7rDAQma6s6zli2VHJAcqMUc+GfTXnr4lVk0/ZkrK1VyRcUlNOmuD2jtln301SvXUttWjXxyYP/BLNq2J5369WhDcXUIFCz/Zyfd8eQXtJXbDhrYqx0NPbYj9enairq0b0Ytm6WQ2+2mp6fNodc+/o3enjqBTj6um09eypu1kwNS2V07n6tsleSA5EAd48CRzFxavGYH/bNxLx1bIVWCPdNrrJ4776Y36Iq73qcvGTg1qJ+gy5kpj31Gf63eTknxsTRl4kiaxKqo2k7FJaV02Z3vUmK9OLrv2tPp1BN7MkhqoNns/Pwi5XpKcj3N+/Ji7eeABE21/xnLFkoOSA7UAQ60qhjo9xzMrARNaHZyUjy989jl9H/Xv0bXPTiDPnjqCoK6SYsmnD2Ezj6lL/Xv3Y7aNE/VilLrroEXD950JkuX2lO71vqSOIDSz35YRm2apVLf7m1qHR9kg4xxQLocMMYnGUtyQHJAciCsOZCcGK/UL69CGqKubGs2CP/vw5fSMlZDPf76bPWtaudnnNSbLjpzIHVu17RO2eycf2p/n4AJTHrx/V8ot6CIbrz0JIqKkkNntRenDv2QT74OPWzZVMkByYG6y4EBLD26c9Joeu/rRbRq/e66ywgLLf/0uyX0wTd/UTe2bzpvTD8LOcgktYUDEjTVlicp2yE5IDlQpzngoXKXe75c70089zjq0q4JPfaGvrSpTjNRo/FLVm2ne1/4hpqkJtGbUy+VUiYNHtWlSxI01aWnLdsqOSA5UGs5INwUi6NWQ6PZfuemCScrxt4r1+3SiiKvqThw4PBRuvHhT5Qrr7NBfZsWDVV35Wld5IAETXXxqcs2Sw5IDtQ6DggJk5A46TXw1BN6KlKTb37+Wy+KvM4cKOQtaa69/yM6mJFN999wBvVnNwSSJAfk6rkIfgfe/eJPWrRyG8Wx07U+3Vorq14aN0yK4BbJqksOSA5Y5YBYEVdYVOIzCxgxD+3bgRaza4FIIEjE1rGfqZbsVDKV3SXU59WAbpeLikvKlL6vpLSUGrPqLKnCEN6uNt334je0csNuupCNxLGqUJLkADggQVOEvgebth2gL+esoJOHdKWMo3k0nY0Un3p7Dt0wfjhdf8lJukuKI7S5lqv9F4PK3Qcy6NzRx5KLO1pJkgO1lQMJ9WKVpuWw12p/BCeXvy3Z5DPa/KWbqaikhPuYmk4cv/xxOW3bdZhunzzaZx6B3sQy/wm3v0M5vGpNj1LZZ9KTd5xLo47voRfF9PUZ3y6mz7mNfbu2podvPst0epmg9nJAgqYIfbYd2jah956YSEKyBNH87N/X0EMvf0fzl22m1x+8pPJehDYx4GpjhjqBndYV80wUWx8MObZDwHnKDCQHwpUD9dghJSYGObn+QVMZ70+HPep80QdfLaSLzxqkGWU5bzeSlZOveU9cXL91P9089VNlAvfRs5PIikPIhg0S6e9v76PMo/m071AWpfPWJrnsUsHldlGzhsmKE8qmjZJtnRDBs/qD7Fm9IUu1YMcUy5J8SZIDggPSpklwIsKO2bkFvALm+8pao7M8nXc1n/XfG6iUO8MLp7xJmKXVVcJmm1fdO10BTODBwSPZdZUVst11iAOJvPWJEUnTOgY0nXjipUfKPmxrd1LHNtpx0LdAHYh4z/DWIo+9/j2VlVWBMBhQw8s2gM5aLuulD+bqFeX3OrYvAXjq2bklnTioC502vBfBLgtez5s1rm8rYCph7+B3PvUlq/5K6cV7LpQb8/p9OnUvgoTQEfrMc1kEP++vjTVq34RnXR/w5pzjb51Gk+7+gD5/6WrCipm6RAVswHnNfR9SUXEpXXnuUHrnfwvqUvNlW+swB5KT6rFUJs8nB/JZ1bVw5VYaz04s9WjP/kw6wvkc4slG25Y1V4xB043w3pcL6NWPf1Oy6d6xBZ3DanCUj74H0qEZLGF65/P5NGPWErr0rMGU1qaxXpE+ry9dvYM++34pbd9bvjdcEdttHTySo5gmxES7lb32XrnvooClydNnLlJA3vjTB9KwAZ181knerJsckKApQp97HgODTBaPb95+kDq1b1qtFUkJcfQWbyg55soX6dWPfqWbLx9Z7b73D8wKN+84xKtD2ka8F2B4QwZg2rzzkLKz+9bdh5Tm1ouXO5J7P3f5u/ZxoHFqogJ0fLXs42+XUD73H5BM6xG2XgEdTNeW0EK1t2ztLvpm3mrFqDwrO5+efvsnghH621/Mp6270+mFuy8gONRs1jiZ5q/Ywlu4fERfvHSNJYPtPWyXuGbTHt5M+IhSr2g2Zm/O+XZq105RvXdgMNatY3PlntU/kDK9/snvlMIG5Xdc5aytltU6ynSh54AETaF/BpZqgJkW6AB3at6gCdchtr73+tPp7ue/pvPZg20rH/tI3f3MVzR3yUb6vxF96IV7L0TyiKXbn/hC2bT0v49cQoP7ptGfyzcrbWnC9g+SJAdqOwdSWNIE6dCDL31L407rr6i01G3GJOt53g7kxP6dqV/Fpr7q++Ic9kcdWzemvbyPnRZFscps574j1KNDc3rjoUto2+7DdMPDH9Ndz88kGGa//egEOmlwVyUpfBs9d9c4upqX70Nl9+YjE0zbW/4f74eH4CQtZxB4iG2mJvJKOb1NjWH6AJLbqDj5JMI7bwmawvv56NZOGHvGx+k/QqwYe/vzP9meYB49eee5unldfdGJtHrzXuqa1kw3TiTcwIqe2fP/oef+fX7lip/9h44qVYchuCTJgdrOgWSWMq/euIc+4tVfN146olpzF63YSlMe+4xVWVH0yBT/K8IuYNA1+/d/aNK4YdXywY+brxipTEoAzBK5TLg8mffBrbRrXwa7BkihOLatUtMpQ7vTK/ddSHc9O5NGXPacYmAdbuovqC1B+w5m0XLeow+rEfezTdZGXqm8ZuNe+pv5unt/BpWxHVdr3hx5UO/2dPpJvWjkcd3VTZXntZwD+iNuLW94pDcvO69AaQJWzOgRDCivYUB05zP/ozt4abBYaecdHxKZX967hdZu3ud9K6J+P8QrXiadN1SxqxAVFx2hWI4trsuj5EBt5ABsmrCpbAkbZcP4euzJfVh6kk0z56yknxatV5xaTmPVvZadkjc/Lj/nOEVi7X0dv7uxhAlBTbCd9GWzBHXg0GM70qK/t1HfHm3UScPifFCf9tSJ1Xw/LlinBO9KYbFNd55YduH952D0DrOGXxasl6DJm1G1/LcETRH6gCu9//raM4HbhpnQI699Rx/zhpM3Tag+81Q3HTYMAE+RTB+yAXzvrq2qNQE+rGKiopRZY7Ub8ofkQC3kQMtmKYorgV5slD3927+UgGbCGeQFY/rTv68eo6xEM9J0SIvsVolB7YWVb+FImIB+/foNiusWuFTIY/CJVXsdWE0JeykYusvJVzg+ueDWSYKm4PLbttIgIgYJ8KSXcWxMNJ0zqi99PnuZT9Cklz6SrkNF4E2wUWjCXtKlY0tvzsjftZEDvbuUTxrOGnkM3TzxZNq687Ay8J84sDM1bVS/NjbZ1jYBFJ3HNqAIkiQHtDggQZMWVyLgmhAwlZaVgydfVR7WvxO9zUuD9x7IVJzB+YobjHsAeivY6HLT9gOUmpKo2AhgnycsUYbY/hgN8GO1XkdzCqhhSoLV5DKd5EBEcQDfegf29v3yh/Po1+m30SlD7fOSHVGMkJWVHHCIAxI0OcRYp7NNqDC0LCgo9luUMPBei/2b2IDRm2D7MLhPWtDUc3CMd8eTX9DWPeU+V7zr8/kLVytLlb2vW/kNJ6BtW6RaSSrTSA5EHAfgvXrOu1MUB7fSk3XEPT5Z4QjggARNEfCQtKooNqfMyS83CNeKI6414s0sQXBYp0VwdLd+y/6ggSbU5//bu//QKssogOPHNHJmmWbBCkEWRWJm1ixNrdFPLDPwD7stQklGEmOBRP1huQrtv2AERgkVERN/1B+LYWX+iBQyXRhLWgqCWVLMNreVczP7cc7bvbL7+t7dw3bXfjzfBy7svfe5773P5xns7H2f55ydutOmST/z519bo9wuYzUItLUDF2l5BM8i1aRxxJ+zvCu2KDZjFX+dYwRGooBth2dL/EicWcY0FAQImobCLPThO1ypt7WsnWrrPfuv9cmkJ7CEcElt4mXjojwrSa+9VFMnayoXSVt7Z1RdPL6V2LL/WhkFW0+09KHSpFPkfG5atLgyewdOzs59eMFKIVi7RNd10RBAAAEEEOivAH9N+is4SO+3XR3WWtvz15fLpBIo1p01Sc22z57TorZJ7bO93+vtrUlRtt/rdDtu/YbK8//F2tqkldW18nXjManV3XkTLi+SB+f7d8ZY9u7mlo6oHILt7rGs3VdoYrzeEnEmfcdcz/2dXu9lV69oCCCAAAII9FeAoKm/goP0/rHpsiCdjjVN9bsbo295y43JuVEsn5M9ktrvWjH99fd2RIVvf9CF21YBPLNL7cNPv4kCpsVlM2SX1sF7e9Med9C0QcsV1OhaKivnEG9vvVLuPk/8vT2PLSizxjbhnir8jAACCCDQVwGCpr7KDfL7rMK4lTLo0JpPlto/1xqGg5rZdqtmyl6oV4AyV6e8X912tHWd/S+oSS0slU2fNMh+vapkQdNxXcT96vptYrcJX65aLBO1NMP7dfsSa+Elfd7MaVNkuSbPs6tBtrttjOZSKiq6WKZeO1lma72qQrRM4dJJ6VuZhTgn50AAAQQQCFeAoGkYz/14zSmy7ctDUqxlCyoeW3DBSI5pPagKLV5bpIusn++lAKUtmLZHvHWl69tdqknfVmsduy/2H5GNWp4h9XBpdFvOFlmvX5PStAHj5FHNC2NB00fbD0YJ9OLnih/fMVN36+ljIFubBpTWJqcXwg/kZ3FuBBBAAIGRL0DQNIzneIJm17XaalY4M94O6BWhqnWbpVUXar9Z/bhM1Z1puVqmCGX89UxR4Hla+mC81peqfKJMXnzjY7l3WY00a2mGF1Y8IHfdfkP0tlla/HO6Zsyt1SzET6cW5Cx4Gf+MQhyf7uyWqrWb5ZSu77IklpZ12GpwWWJLa2bxi9aQyiQCtZ16V2sBX8sHZZl+eytFU4jvxzkQQAABBEaGAEHTMJ5HqyberldTNtYf0CKcY2SOlkH5TQOFz/c0ye6GI1HphHVamDNf2YIzeguu+KoLF4nbFSQ779xbSyKl1KLZckjXNO3UGlaV5WWysvzuLL1VT90nK1Z/IM+u3SLLlsw5XzQ3q9MAHJz98y85+tNJsfxPXd3novVXPT9m+1dNPQ+zfrZAzxa30xBAAAEEEMgnMEr/+86fUjrfWXh9UASefO5dadFAoUMTOJ5ozs7BNOP6a6RaUwXcdlP+9UEN3/0oLe1/JC6+tlt8lhDTgidPq9vxbVRhvWLpfLl/3v+fjdh+nS2QtEK9tl7Kqq6PHj1K/hF9pH/VbSx2de30mW4p0R2BU3R3IA0BBBBAAIF8AgRN+YSG8OurXtsijYdPaJHJZ2TXvsNy9PjJ6Dba3FklMl2DJhoCCCCAAAIIFE7Ad/mgcJ/HmQoosHzJnfLO1r1i5RIeuefmAp6ZUyGAAAIIIIBAXIArTXERjhFAAAEEEEAAgQSB5IyGCR15CgEEEEAAAQQQCFmAoCnk2WfsCCCAAAIIIOAWIGhyU9ERAQQQQAABBEIWIGgKefYZOwIIIIAAAgi4BQia3FR0RAABBBBAAIGQBQiaQp59xo4AAggggAACbgGCJjcVHRFAAAEEEEAgZAGCppBnn7EjgAACCCCAgFuAoMlNRUcEEEAAAQQQCFmAoCnk2WfsCCCAAAIIIOAWIGhyU9ERAQQQQAABBEIWIGgKefYZOwIIIIAAAgi4BQia3FR0RAABBBBAAIGQBQiaQp59xo4AAggggAACbgGCJjcVHRFAAAEEEEAgZAGCppBnn7EjgAACCCCAgFuAoMlNRUcEEEAAAQQQCFmAoCnk2WfsCCCAAAIIIOAWIGhyU9ERAQQQQAABBEIWIGgKefYZOwIIIIAAAgi4BQia3FR0RAABBBBAAIGQBQiaQp59xo4AAggggAACbgGCJjcVHRFAAAEEEEAgZAGCppBnn7EjgAACCCCAgFuAoMlNRUcEEEAAAQQQCFmAoCnk2WfsCCCAAAIIIOAWIGhyU9ERAQQQQAABBEIWIGgKefYZOwIIIIAAAgi4BQia3FR0RAABBBBAAIGQBQiaQp59xo4AAggggAACbgGCJjcVHRFAAAEEEEAgZAGCppBnn7EjgAACCCCAgFuAoMlNRUcEEEAAAQQQCFmAoCnk2WfsCCCAAAIIIOAWIGhyU9ERAQQQQAABBEIWIGgKefYZOwIIIIAAAgi4Bf4F2ytmvo4Sij0AAAAASUVORK5CYII=)\n",
        "\n",
        "*Image source: [StackOverflow](https://stackoverflow.com/questions/50999977/what-does-the-gather-function-do-in-pytorch-in-layman-terms)*"
      ]
    },
    {
      "cell_type": "code",
      "execution_count": null,
      "metadata": {
        "colab": {
          "base_uri": "https://localhost:8080/"
        },
        "id": "S2GRlK6x2-ir",
        "outputId": "196e3979-fa81-4077-a5cd-7557b7d0b8f5"
      },
      "outputs": [
        {
          "name": "stdout",
          "output_type": "stream",
          "text": [
            "Initial Tensor:\n",
            " tensor([[-1.2451, -0.0288, -0.8601,  1.2799],\n",
            "        [ 0.1995, -0.6920,  0.3259,  0.9575],\n",
            "        [ 0.6273, -0.5571, -0.3997, -0.3072]])\n",
            "Gathered Tensor (along dim 0):\n",
            " tensor([[-1.2451, -0.5571, -0.8601, -0.3072],\n",
            "        [ 0.6273, -0.0288,  0.3259,  0.9575]])\n"
          ]
        }
      ],
      "source": [
        "random_tensor = torch.randn(3, 4)\n",
        "print('Initial Tensor:\\n', random_tensor)\n",
        "index = torch.Tensor([[0, 2, 0, 2], [2, 0, 1, 1]]).long()\n",
        "\n",
        "gathered = torch.gather(input=random_tensor, dim=0, index=index)\n",
        "print('Gathered Tensor (along dim 0):\\n', gathered)"
      ]
    },
    {
      "cell_type": "markdown",
      "metadata": {
        "id": "q2G0IhRRGEoi"
      },
      "source": [
        "### Argmax\n"
      ]
    },
    {
      "cell_type": "markdown",
      "metadata": {
        "id": "bWHqsltIpO7w"
      },
      "source": [
        "You can get the index of the maximum element in a Tensor using `torch.argmax()`."
      ]
    },
    {
      "cell_type": "code",
      "execution_count": null,
      "metadata": {
        "colab": {
          "base_uri": "https://localhost:8080/"
        },
        "id": "cPmbWIZjAzxh",
        "outputId": "3d3857bc-174b-429d-b3e0-e20303a32c44"
      },
      "outputs": [
        {
          "name": "stdout",
          "output_type": "stream",
          "text": [
            "Tensor:\n",
            " tensor([[ 0.4402,  1.4038, -1.7495, -0.2645,  0.7070],\n",
            "        [-1.0629,  0.7450,  1.0036,  1.9311, -0.1482],\n",
            "        [-0.7125, -1.3520, -1.0285,  0.2289,  1.1106],\n",
            "        [-0.1590,  0.5039, -0.6500,  1.3558, -0.9954],\n",
            "        [ 0.3966,  0.6789,  0.0636,  0.2365, -1.4070]])\n",
            "argmax index: 8, max element: 1.9311\n"
          ]
        }
      ],
      "source": [
        "x = torch.randn(5, 5)\n",
        "print('Tensor:\\n', x)\n",
        "\n",
        "# alternatively, you can call x.argmax()\n",
        "argmax_idx = torch.argmax(x)\n",
        "\n",
        "# to get the maximum element (without using torch.max),\n",
        "# we flatten the tensor first and access the location\n",
        "# indicated by argmax_idx\n",
        "max_element = x.reshape(-1)[argmax_idx]\n",
        "print(f'argmax index: {argmax_idx}, max element: {max_element:0.4f}')"
      ]
    },
    {
      "cell_type": "markdown",
      "metadata": {
        "id": "mWpnEc9NKKIL"
      },
      "source": [
        "You can also get the indices of the maximum elements over any dimension (axis) in the Tensor by specifying the `dim` parameter in `torch.argmax(dim=...)`."
      ]
    },
    {
      "cell_type": "code",
      "execution_count": null,
      "metadata": {
        "colab": {
          "base_uri": "https://localhost:8080/"
        },
        "id": "9kD3W5h2KXpo",
        "outputId": "64899809-2811-4496-f8ea-568a852efad8"
      },
      "outputs": [
        {
          "name": "stdout",
          "output_type": "stream",
          "text": [
            "Tensor:\n",
            " tensor([[-0.9856,  0.4075,  0.4813,  1.0511, -1.4420],\n",
            "        [-1.8711,  0.8182,  0.3600, -0.7211,  1.2314],\n",
            "        [-1.1858,  1.0514, -0.7601, -0.4890,  1.7719]])\n",
            "Indices of maximal elements of each column: tensor([0, 2, 0, 0, 2])\n",
            "Indices of maximal elements of each row: tensor([3, 4, 4])\n"
          ]
        }
      ],
      "source": [
        "x = torch.randn(3, 5)\n",
        "print('Tensor:\\n', x)\n",
        "\n",
        "argmax_cols = torch.argmax(x, dim=0)\n",
        "print(f'Indices of maximal elements of each column: {argmax_cols}')\n",
        "\n",
        "argmax_rows = torch.argmax(x, dim=1)\n",
        "print(f'Indices of maximal elements of each row: {argmax_rows}')"
      ]
    },
    {
      "cell_type": "markdown",
      "metadata": {
        "id": "4Cr3WRmbEPm1"
      },
      "source": [
        "To illustrate a bit how `torch.gather` works, we write a custom `my_max` function that uses ``torch.argmax()`` and ``torch.gather()`` to get the maximum values from a Tensor over a given dimension."
      ]
    },
    {
      "cell_type": "code",
      "execution_count": null,
      "metadata": {
        "id": "EdKaEchyEcIG"
      },
      "outputs": [],
      "source": [
        "def my_max(x: torch.Tensor, dim: int=0) -> torch.Tensor:\n",
        "    \"\"\"\n",
        "    Maximum elements of x over dimension dim,\n",
        "    using torch.argmax and torch.gather.\n",
        "    \"\"\"\n",
        "    argmax_indices = torch.argmax(x, dim=dim)\n",
        "\n",
        "    assert len(argmax_indices.size()) + 1 == len(x.size()), \\\n",
        "      \"argmax_indices should have 1 dimension less than x\"\n",
        "\n",
        "    argmax_indices = argmax_indices.unsqueeze(dim)\n",
        "\n",
        "    max_values = torch.gather(x, dim, argmax_indices)\n",
        "\n",
        "    return max_values"
      ]
    },
    {
      "cell_type": "markdown",
      "metadata": {
        "id": "HxkALAXqfjsT"
      },
      "source": [
        "Enter your own tensor shape, argmax dimension and run the blocks:"
      ]
    },
    {
      "cell_type": "code",
      "execution_count": null,
      "metadata": {
        "id": "I7IfaxsRfB6Q"
      },
      "outputs": [],
      "source": [
        "tensor_shape = (5,3) #@param\n",
        "dim = 0 #@param"
      ]
    },
    {
      "cell_type": "code",
      "execution_count": null,
      "metadata": {
        "colab": {
          "base_uri": "https://localhost:8080/"
        },
        "id": "p15nzilue-68",
        "outputId": "5c90ad94-e70c-46fd-dfeb-dc57b5603cdd"
      },
      "outputs": [
        {
          "name": "stdout",
          "output_type": "stream",
          "text": [
            "x: \n",
            "tensor([[0.9642, 0.7787, 0.7933],\n",
            "        [0.7981, 0.2766, 0.8731],\n",
            "        [0.7500, 0.2491, 0.0694],\n",
            "        [0.3602, 0.8582, 0.2681],\n",
            "        [0.7885, 0.0441, 0.4149]]) shape: torch.Size([5, 3])\n",
            "maximum values of each column (computer over all rows - dimension 0): \n",
            "tensor([[0.9642, 0.8582, 0.8731]]) shape: torch.Size([1, 3])\n"
          ]
        }
      ],
      "source": [
        "x = torch.rand(tensor_shape)\n",
        "max_values = my_max(x, dim)\n",
        "print(f\"x: \\n{x} shape: {x.shape}\")\n",
        "print(f\"maximum values of each column (computer over all rows - dimension {dim}): \\n{max_values} shape: {max_values.shape}\")\n",
        "\n",
        "# check that maximum values returned by my_max() are the\n",
        "# same as the ones returned by torch.max()\n",
        "assert torch.all(torch.eq(max_values,\n",
        "    torch.max(x, dim=dim, keepdim=True)[0])), \"wrong max\""
      ]
    },
    {
      "cell_type": "code",
      "execution_count": null,
      "metadata": {
        "id": "89H0iiMhEP9H"
      },
      "outputs": [],
      "source": []
    },
    {
      "cell_type": "markdown",
      "metadata": {
        "id": "MMdl97ccEP9H"
      },
      "source": [
        "## Part II. A regression problem using neural networks\n",
        "---"
      ]
    },
    {
      "cell_type": "code",
      "execution_count": null,
      "metadata": {
        "id": "kaN0CaNXEP9H"
      },
      "outputs": [],
      "source": [
        "from collections import defaultdict\n",
        "\n",
        "import matplotlib as mpl\n",
        "import matplotlib.pyplot as plt\n",
        "import numpy as np\n",
        "import seaborn as sns"
      ]
    },
    {
      "cell_type": "code",
      "execution_count": null,
      "metadata": {
        "id": "p9BtsWOuEP9H"
      },
      "outputs": [],
      "source": [
        "import torch.nn as nn\n",
        "import torch.optim as O\n",
        "import torch.nn.functional as F\n",
        "from torch.utils.data.dataset import TensorDataset"
      ]
    },
    {
      "cell_type": "code",
      "execution_count": null,
      "metadata": {
        "colab": {
          "base_uri": "https://localhost:8080/"
        },
        "collapsed": true,
        "id": "_y9xAwEbEP9H",
        "outputId": "4a983761-a499-49d8-b1ee-c64860bebfda"
      },
      "outputs": [
        {
          "output_type": "stream",
          "name": "stdout",
          "text": [
            "Collecting git+https://github.com/floringogianu/utc_mdp\n",
            "  Cloning https://github.com/floringogianu/utc_mdp to /tmp/pip-req-build-lhq9tlrj\n",
            "  Running command git clone --filter=blob:none --quiet https://github.com/floringogianu/utc_mdp /tmp/pip-req-build-lhq9tlrj\n",
            "  Resolved https://github.com/floringogianu/utc_mdp to commit d280562349a0e37cbae4bd566ff0195205dc7b8c\n",
            "  Installing build dependencies ... \u001b[?25l\u001b[?25hdone\n",
            "  Getting requirements to build wheel ... \u001b[?25l\u001b[?25hdone\n",
            "  Preparing metadata (pyproject.toml) ... \u001b[?25l\u001b[?25hdone\n",
            "Requirement already satisfied: numpy in /usr/local/lib/python3.10/dist-packages (from utc_mdp==0.1.2) (1.26.4)\n",
            "Requirement already satisfied: matplotlib in /usr/local/lib/python3.10/dist-packages (from utc_mdp==0.1.2) (3.8.0)\n",
            "Requirement already satisfied: contourpy>=1.0.1 in /usr/local/lib/python3.10/dist-packages (from matplotlib->utc_mdp==0.1.2) (1.3.1)\n",
            "Requirement already satisfied: cycler>=0.10 in /usr/local/lib/python3.10/dist-packages (from matplotlib->utc_mdp==0.1.2) (0.12.1)\n",
            "Requirement already satisfied: fonttools>=4.22.0 in /usr/local/lib/python3.10/dist-packages (from matplotlib->utc_mdp==0.1.2) (4.55.2)\n",
            "Requirement already satisfied: kiwisolver>=1.0.1 in /usr/local/lib/python3.10/dist-packages (from matplotlib->utc_mdp==0.1.2) (1.4.7)\n",
            "Requirement already satisfied: packaging>=20.0 in /usr/local/lib/python3.10/dist-packages (from matplotlib->utc_mdp==0.1.2) (24.2)\n",
            "Requirement already satisfied: pillow>=6.2.0 in /usr/local/lib/python3.10/dist-packages (from matplotlib->utc_mdp==0.1.2) (11.0.0)\n",
            "Requirement already satisfied: pyparsing>=2.3.1 in /usr/local/lib/python3.10/dist-packages (from matplotlib->utc_mdp==0.1.2) (3.2.0)\n",
            "Requirement already satisfied: python-dateutil>=2.7 in /usr/local/lib/python3.10/dist-packages (from matplotlib->utc_mdp==0.1.2) (2.8.2)\n",
            "Requirement already satisfied: six>=1.5 in /usr/local/lib/python3.10/dist-packages (from python-dateutil>=2.7->matplotlib->utc_mdp==0.1.2) (1.17.0)\n",
            "Building wheels for collected packages: utc_mdp\n",
            "  Building wheel for utc_mdp (pyproject.toml) ... \u001b[?25l\u001b[?25hdone\n",
            "  Created wheel for utc_mdp: filename=utc_mdp-0.1.2-py3-none-any.whl size=5382 sha256=47b299db4d4b057400919fbc9aacbe80ed3d327d335d44492dc559cf86513b3d\n",
            "  Stored in directory: /tmp/pip-ephem-wheel-cache-wyvq1dse/wheels/56/47/4c/1c3199b61e3a6113fed1081141468f4c35adf36deefed10514\n",
            "Successfully built utc_mdp\n",
            "Installing collected packages: utc_mdp\n",
            "Successfully installed utc_mdp-0.1.2\n"
          ]
        }
      ],
      "source": [
        "!pip install git+https://github.com/floringogianu/utc_mdp"
      ]
    },
    {
      "cell_type": "code",
      "execution_count": null,
      "metadata": {
        "id": "mVWxSrb3EP9H"
      },
      "outputs": [],
      "source": [
        "from utc_mdp import MDP, Sim"
      ]
    },
    {
      "cell_type": "code",
      "execution_count": null,
      "metadata": {
        "id": "M3cDjNG3EP9H"
      },
      "outputs": [],
      "source": [
        "SIMPLE_MAZE = \"\"\"\n",
        "G:2.0\n",
        "x:-0.05\n",
        ".: 0.0\n",
        "---\n",
        "xxxxxxxxxxxxxxxxx\n",
        "x               x\n",
        "x          xxx  x\n",
        "x            x  x\n",
        "x            x  x\n",
        "x  xxx          x\n",
        "x   Gx          x\n",
        "x    x          x\n",
        "x          xxx  x\n",
        "x           Gx  x\n",
        "x            x  x\n",
        "x       s       x\n",
        "xxxxxxxxxxxxxxxxx\n",
        "\"\"\""
      ]
    },
    {
      "cell_type": "markdown",
      "metadata": {
        "id": "OzC81pCPEP9H"
      },
      "source": [
        "The API of the `MDP` and `Sim` objects remains the same as in the previous labs."
      ]
    },
    {
      "cell_type": "code",
      "execution_count": null,
      "metadata": {
        "colab": {
          "base_uri": "https://localhost:8080/"
        },
        "id": "BoyT1M4nEP9H",
        "outputId": "8d1108fd-3908-4b4f-8fb0-663ebd11a8bb"
      },
      "outputs": [
        {
          "output_type": "execute_result",
          "data": {
            "text/plain": [
              "(142, False)"
            ]
          },
          "metadata": {},
          "execution_count": 9
        }
      ],
      "source": [
        "sim = Sim(MDP(SIMPLE_MAZE))\n",
        "sim.reset()"
      ]
    },
    {
      "cell_type": "code",
      "execution_count": null,
      "metadata": {
        "id": "6rKatQaeEP9H"
      },
      "outputs": [],
      "source": [
        "def get_V(mdp, γ, ε_iter=1e-1):\n",
        "    Qs = [torch.zeros(mdp.nXU)]\n",
        "    while True:\n",
        "        Q = Qs[len(Qs) - 1].clone()\n",
        "        for x in mdp.X:\n",
        "            for u in mdp.U:\n",
        "                Q[x, u] = mdp.ρ(x, u) + γ * Q[mdp.f(x, u)].max()\n",
        "        Qs.append(Q)\n",
        "        if (Qs[-2] - Q).abs().max() <= ε_iter:\n",
        "            break\n",
        "    return Qs[-1].max(1).values"
      ]
    },
    {
      "cell_type": "code",
      "execution_count": null,
      "metadata": {
        "colab": {
          "base_uri": "https://localhost:8080/",
          "height": 440
        },
        "id": "fQTojsMSEP9I",
        "outputId": "3bc4511a-a932-4304-dd2d-8019d85c39f8"
      },
      "outputs": [
        {
          "output_type": "execute_result",
          "data": {
            "text/plain": [
              "(<Figure size 640x480 with 2 Axes>, <Axes: >)"
            ]
          },
          "metadata": {},
          "execution_count": 11
        },
        {
          "output_type": "display_data",
          "data": {
            "text/plain": [
              "<Figure size 640x480 with 2 Axes>"
            ],
            "image/png": "[encoded data removed]"
          },
          "metadata": {}
        }
      ],
      "source": [
        "V = get_V(sim.mdp, 0.95)\n",
        "MDP.plot_values(sim.mdp, V)"
      ]
    },
    {
      "cell_type": "markdown",
      "metadata": {
        "id": "JtkSOGxHEP9I"
      },
      "source": [
        "### From states to observations\n",
        "\n",
        "In deep reinforcement learning we often make the assumption that we don't have access to the underlying state $x$ of the MDP but to an observation $o$, produced by the environment, which is a function of the state $o = \\phi(x)$.\n",
        "\n",
        "The `Sim` object allows us to create simulations with various functions $\\phi$."
      ]
    },
    {
      "cell_type": "code",
      "execution_count": null,
      "metadata": {
        "colab": {
          "base_uri": "https://localhost:8080/"
        },
        "id": "2bQQRPt9EP9I",
        "outputId": "e70854ff-aa27-4ef8-a7f9-f2808a8cc95e"
      },
      "outputs": [
        {
          "output_type": "execute_result",
          "data": {
            "text/plain": [
              "array([[0., 0., 0.],\n",
              "       [0., 0., 0.],\n",
              "       [1., 1., 1.]], dtype=float32)"
            ]
          },
          "metadata": {},
          "execution_count": 12
        }
      ],
      "source": [
        "# a partial observation of 3 by 3 cells, centered around the agent\n",
        "sim = Sim(MDP(SIMPLE_MAZE), \"partial_observation\")\n",
        "sim.reset()[0]"
      ]
    },
    {
      "cell_type": "code",
      "execution_count": null,
      "metadata": {
        "colab": {
          "base_uri": "https://localhost:8080/"
        },
        "id": "9syH07O1EP9I",
        "outputId": "9a76865e-ac01-45f3-fc22-025156823eb7"
      },
      "outputs": [
        {
          "output_type": "execute_result",
          "data": {
            "text/plain": [
              "(11, 8)"
            ]
          },
          "metadata": {},
          "execution_count": 13
        }
      ],
      "source": [
        "# a representation in which each state is encoded by the cartesian coordinates on a grid\n",
        "sim = Sim(MDP(SIMPLE_MAZE), \"coords\")\n",
        "sim.reset()[0]"
      ]
    },
    {
      "cell_type": "markdown",
      "metadata": {
        "id": "o1SrlftLEP9I"
      },
      "source": [
        "### Sample observations using a random policy\n",
        "\n",
        "Obtain a dataset of samples $o$ and targets $V^*(x)$, where the observation $o$ is a partial representation of the state: $o = \\phi(x)$.\n",
        "\n",
        "The goal is to use these samples to learn $V^*(x)$ from observations $o$."
      ]
    },
    {
      "cell_type": "code",
      "execution_count": null,
      "metadata": {
        "id": "qaeKAB7SEP9I"
      },
      "outputs": [],
      "source": [
        "#@title\n",
        "def sample_env(sim, policy, N=2**13, censor=None):\n",
        "    \"\"\" Uses a given policy to sample the environment.\n",
        "        Returns the states and their groundtruth values.\n",
        "    \"\"\"\n",
        "    samples = []\n",
        "    V = get_V(sim.mdp, 0.95)\n",
        "\n",
        "    if censor is not None:\n",
        "        ybounds = list(range(*censor[0]))\n",
        "        xbounds = list(range(*censor[1]))\n",
        "        print(f\"Stările din intervalele y={censor[0]}, x={censor[1]} nu sunt eșantionate.\")\n",
        "\n",
        "    done = True\n",
        "    while True:\n",
        "        if done:\n",
        "            obs, done = sim.reset()\n",
        "\n",
        "        y,x = sim.mdp._x2yx[sim._crt_state]\n",
        "        if censor is not None and y in ybounds and x in xbounds:\n",
        "            pass\n",
        "        else:\n",
        "            samples.append((\n",
        "                torch.tensor(obs).flatten().float(),\n",
        "                V[sim._crt_state].unsqueeze(0),\n",
        "                torch.tensor(sim._crt_state)\n",
        "            ))\n",
        "\n",
        "        action = policy.sample().item()\n",
        "        obs, _, done = sim.step(action)\n",
        "\n",
        "        if len(samples) == N:\n",
        "            break\n",
        "    return TensorDataset(*[torch.stack(t) for t in zip(*samples)])"
      ]
    },
    {
      "cell_type": "code",
      "execution_count": null,
      "metadata": {
        "id": "AZp5j-N4EP9I"
      },
      "outputs": [],
      "source": [
        "def sampler(dset, batch_size=32):\n",
        "    \"\"\" A generator that returns random batches (chunks) from a dataset. \"\"\"\n",
        "    idxs = torch.randperm(len(dset))\n",
        "    chunks = torch.split(idxs, batch_size)\n",
        "    for chunk in chunks:\n",
        "        batch = [dset[i] for i in chunk]\n",
        "        yield [torch.stack(t) for t in zip(*batch)]\n",
        "\n",
        "\n",
        "def eval_model(mdp: MDP, model: nn.Module):\n",
        "    observations = torch.stack([torch.tensor(o).flatten() for o in sim.observations()]).float()\n",
        "    return model(observations).detach().flatten()"
      ]
    },
    {
      "cell_type": "markdown",
      "metadata": {
        "id": "ceI9Va_uEP9I"
      },
      "source": [
        "### Train a linear function approximator with Stochastic Gradient Descent"
      ]
    },
    {
      "cell_type": "code",
      "execution_count": null,
      "metadata": {
        "id": "wOp86XKPEP9I"
      },
      "outputs": [],
      "source": [
        "sim = Sim(MDP(SIMPLE_MAZE), \"partial_observation\")\n",
        "policy = torch.distributions.Categorical(torch.ones(sim.mdp.nU))\n",
        "dset = sample_env(sim, policy)"
      ]
    },
    {
      "cell_type": "code",
      "execution_count": null,
      "metadata": {
        "colab": {
          "base_uri": "https://localhost:8080/"
        },
        "id": "yboVLMYqEP9I",
        "outputId": "79b500aa-23ca-47b7-edc0-63cc4d3cbb9d"
      },
      "outputs": [
        {
          "output_type": "execute_result",
          "data": {
            "text/plain": [
              "(tensor([0., 0., 0., 0., 0., 0., 1., 1., 1.]), tensor([1.5476]), tensor(142))"
            ]
          },
          "metadata": {},
          "execution_count": 17
        }
      ],
      "source": [
        "dset[0]"
      ]
    },
    {
      "cell_type": "markdown",
      "metadata": {
        "id": "ETqUjrDpEP9I"
      },
      "source": [
        "### Task 2 [3pts]\n",
        "\n",
        "Fill the missing code in the cells below:\n",
        "1. instantiate a linear model using `nn.Linear` and an [optimization](https://pytorch.org/docs/stable/optim.html) algorithm. Try several learning rates.\n",
        "2. fill in the rest of the [training loop](https://pytorch.org/docs/stable/optim.html#taking-an-optimization-step)."
      ]
    },
    {
      "cell_type": "code",
      "execution_count": null,
      "metadata": {
        "id": "zb35jKV-EP9I"
      },
      "outputs": [],
      "source": [
        "input_dim = dset[0][0].nelement()\n",
        "\n",
        "model = nn.Linear(input_dim,1,True)\n",
        "optim = O.SGD(model.parameters(),lr=0.01,momentum=0.5)\n",
        "#optim = O.Adam(model.parameters(),lr=0.01,betas=(0.65, 0.9), eps=1e-8,weight_decay=0.0015,amsgrad=False)"
      ]
    },
    {
      "cell_type": "code",
      "execution_count": null,
      "metadata": {
        "id": "2bjIuhyFEP9I"
      },
      "outputs": [],
      "source": [
        "def train(dset, model, optim, epochs=10):\n",
        "    mse = nn.MSELoss()\n",
        "    for epoch in range(epochs):\n",
        "        losses = []\n",
        "        for obs, target, _ in sampler(dset):\n",
        "\n",
        "            # observations size: (32, feature_size)\n",
        "            # target size: (32, 1)\n",
        "            # state size: (32, 2)\n",
        "\n",
        "            # compute predictions using the model and the observations\n",
        "            y = model(obs)\n",
        "            # compute the loss of the model using mean squared error\n",
        "            loss = mse(y,target)\n",
        "\n",
        "            optim.zero_grad()\n",
        "            # compute the gradient of the loss wrt the weights\n",
        "            loss.backward()\n",
        "            # perform an optimization step\n",
        "            optim.step()\n",
        "\n",
        "            losses.append(loss.detach().item())\n",
        "        if epoch % 2 == 0:\n",
        "            print(\"[{:02d}]  avg. loss={:6.3f}\".format(\n",
        "                epoch, torch.tensor(losses).mean())\n",
        "            )"
      ]
    },
    {
      "cell_type": "code",
      "execution_count": null,
      "metadata": {
        "colab": {
          "base_uri": "https://localhost:8080/"
        },
        "id": "ToW16W1EEP9I",
        "outputId": "77a54cb9-d466-4ca4-dbc6-bef417376a90"
      },
      "outputs": [
        {
          "output_type": "stream",
          "name": "stdout",
          "text": [
            "[00]  avg. loss= 0.215\n",
            "[02]  avg. loss= 0.039\n",
            "[04]  avg. loss= 0.038\n",
            "[06]  avg. loss= 0.038\n",
            "[08]  avg. loss= 0.038\n",
            "[10]  avg. loss= 0.038\n",
            "[12]  avg. loss= 0.038\n",
            "[14]  avg. loss= 0.038\n",
            "[16]  avg. loss= 0.038\n",
            "[18]  avg. loss= 0.038\n",
            "[20]  avg. loss= 0.038\n",
            "[22]  avg. loss= 0.038\n",
            "[24]  avg. loss= 0.038\n",
            "[26]  avg. loss= 0.038\n",
            "[28]  avg. loss= 0.038\n"
          ]
        }
      ],
      "source": [
        "train(dset, model, optim, epochs=30)"
      ]
    },
    {
      "cell_type": "code",
      "execution_count": null,
      "metadata": {
        "colab": {
          "base_uri": "https://localhost:8080/",
          "height": 374
        },
        "id": "V81AJrYBEP9J",
        "outputId": "56391212-fd5e-4710-e093-aa649bb742b2"
      },
      "outputs": [
        {
          "output_type": "display_data",
          "data": {
            "text/plain": [
              "<Figure size 1300x400 with 4 Axes>"
            ],
            "image/png": "[encoded data removed]"
          },
          "metadata": {}
        }
      ],
      "source": [
        "V_star = get_V(sim.mdp, 0.95)\n",
        "V_pred = eval_model(sim.mdp, model)\n",
        "\n",
        "fig, (ax0, ax1) = plt.subplots(1, 2, figsize=(13,4))\n",
        "MDP.plot_values(sim.mdp, V_star, ax=ax0)\n",
        "MDP.plot_values(sim.mdp, V_pred, ax=ax1, vmin=0, vmax=2.0)"
      ]
    },
    {
      "cell_type": "markdown",
      "metadata": {
        "id": "OBDZ-RC4Qo9N"
      },
      "source": [
        "### Task 3a [2 pts]"
      ]
    },
    {
      "cell_type": "markdown",
      "metadata": {
        "id": "LMw-BMTQEP9J"
      },
      "source": [
        "Instead of a linear model we will now train a neural network with three layers. Define the newtowork using `nn.Sequential` and multiple linear and activation layers.\n",
        "\n",
        "You can use whatever activation functions you want."
      ]
    },
    {
      "cell_type": "code",
      "execution_count": null,
      "metadata": {
        "colab": {
          "base_uri": "https://localhost:8080/"
        },
        "id": "uDDZ7P4fEP9J",
        "outputId": "9f124a64-5720-4d52-e0ed-bd519e6819b4"
      },
      "outputs": [
        {
          "output_type": "stream",
          "name": "stdout",
          "text": [
            "[00]  avg. loss= 0.570\n",
            "[02]  avg. loss= 0.029\n",
            "[04]  avg. loss= 0.025\n",
            "[06]  avg. loss= 0.025\n",
            "[08]  avg. loss= 0.025\n",
            "[10]  avg. loss= 0.025\n",
            "[12]  avg. loss= 0.024\n",
            "[14]  avg. loss= 0.024\n",
            "[16]  avg. loss= 0.024\n",
            "[18]  avg. loss= 0.024\n",
            "[20]  avg. loss= 0.024\n",
            "[22]  avg. loss= 0.024\n",
            "[24]  avg. loss= 0.024\n",
            "[26]  avg. loss= 0.024\n",
            "[28]  avg. loss= 0.024\n"
          ]
        }
      ],
      "source": [
        "input_dim = dset[0][0].nelement()\n",
        "\n",
        "model = nn.Sequential(\n",
        "    nn.Linear(input_dim,10,True),\n",
        "    nn.LeakyReLU(0.03),\n",
        "    nn.Linear(10,3,True),\n",
        "    nn.LeakyReLU(0.03),\n",
        "    nn.Linear(3,1)\n",
        ")\n",
        "\n",
        "#optim = O.SGD(model.parameters(),lr=0.01,momentum=0.8)\n",
        "optim = O.Adam(model.parameters(),lr=0.002,betas=(0.87, 0.95), eps=1e-8,weight_decay=0.0015,amsgrad=False)\n",
        "\n",
        "train(dset, model, optim, epochs=30)"
      ]
    },
    {
      "cell_type": "code",
      "execution_count": null,
      "metadata": {
        "colab": {
          "base_uri": "https://localhost:8080/",
          "height": 374
        },
        "id": "mN6MweyVEP9J",
        "outputId": "51beca8d-70fb-4f61-f242-e1806566b47b"
      },
      "outputs": [
        {
          "output_type": "display_data",
          "data": {
            "text/plain": [
              "<Figure size 1300x400 with 4 Axes>"
            ],
            "image/png": "[encoded data removed]"
          },
          "metadata": {}
        }
      ],
      "source": [
        "V_star = get_V(sim.mdp, 0.95)\n",
        "V_pred = eval_model(sim.mdp, model)\n",
        "\n",
        "fig, (ax0, ax1) = plt.subplots(1, 2, figsize=(13,4))\n",
        "MDP.plot_values(sim.mdp, V_star, ax=ax0)\n",
        "MDP.plot_values(sim.mdp, V_pred, ax=ax1, vmin=0, vmax=2.0)"
      ]
    },
    {
      "cell_type": "markdown",
      "metadata": {
        "id": "WtLcDiYVEP9J"
      },
      "source": [
        "### Task 3b [1 pt]"
      ]
    },
    {
      "cell_type": "markdown",
      "metadata": {
        "id": "-9F5UXaGEP9J"
      },
      "source": [
        "What do you observe? Which model produces more accurate predictions?"
      ]
    },
    {
      "cell_type": "markdown",
      "metadata": {
        "id": "hGJ8zS1pEP9J"
      },
      "source": [
        "**Your answer:**\n",
        "\n",
        "The model that produces more accurate predictions is the one with more layers and nonlinear activation functions.\n",
        "\n",
        "This happens because a simple linear layer assumes that the dependece between the input (partial observations) and output (V*) is linear. In reality, this is not the case, as complex patterns can exist beneath the feature space and the corresponding output, petterns which can be observed by, at least, using a nonlinear activation function, if not, many linear layers with nonlinear activation functions.\n",
        "\n",
        "Also, because the features in the areas with no obstacles and goals are characterized by zeros, the prediction remains the same for both models (like a flat surface). The main difference during the prediction step is for the areas where we have walls and goals.\n",
        "\n",
        "The model tries to generalise the place where a goal should be, as it can be seen in the top right corner, where, despite the fact that we don't have a goal, the area around the wall resembles a bit the areas with walls around goals."
      ]
    },
    {
      "cell_type": "markdown",
      "metadata": {
        "id": "-odv5Q0REP9J"
      },
      "source": [
        "### Do neural networks generalize?\n",
        "\n",
        "We will train the same model again, but on a dataset from which we exclude the observations around the second final state `G`, the one from the right.\n",
        "\n",
        "The goal is to illustrate wether the model is able to accurately evaluate the states it wasn't trained on."
      ]
    },
    {
      "cell_type": "code",
      "execution_count": null,
      "metadata": {
        "colab": {
          "base_uri": "https://localhost:8080/"
        },
        "id": "Xsd9NWZxEP9J",
        "outputId": "01e2ad47-d85f-4c74-cfbd-6ffe4af4ab69"
      },
      "outputs": [
        {
          "output_type": "stream",
          "name": "stdout",
          "text": [
            "Stările din intervalele y=(6, 13), x=(9, 16) nu sunt eșantionate.\n"
          ]
        }
      ],
      "source": [
        "sim = Sim(MDP(SIMPLE_MAZE), \"partial_observation\")\n",
        "policy = torch.distributions.Categorical(torch.ones(sim.mdp.nU))\n",
        "dset = sample_env(sim, policy, censor=((6,13), (9,16)))"
      ]
    },
    {
      "cell_type": "code",
      "execution_count": null,
      "metadata": {
        "colab": {
          "base_uri": "https://localhost:8080/"
        },
        "id": "OUHl_fd_EP9J",
        "outputId": "45ff69f5-efe6-4c62-db7a-f79ef9371b6b"
      },
      "outputs": [
        {
          "output_type": "stream",
          "name": "stdout",
          "text": [
            "Excluded states: \n"
          ]
        },
        {
          "output_type": "execute_result",
          "data": {
            "text/plain": [
              "array([[' ', ' ', ' ', ' ', ' ', ' ', ' '],\n",
              "       [' ', ' ', ' ', ' ', ' ', ' ', ' '],\n",
              "       [' ', ' ', 'x', 'x', 'x', ' ', ' '],\n",
              "       [' ', ' ', ' ', 'G', 'x', ' ', ' '],\n",
              "       [' ', ' ', ' ', ' ', 'x', ' ', ' '],\n",
              "       [' ', ' ', ' ', ' ', ' ', ' ', ' '],\n",
              "       ['x', 'x', 'x', 'x', 'x', 'x', 'x']], dtype='<U1')"
            ]
          },
          "metadata": {},
          "execution_count": 25
        }
      ],
      "source": [
        "print(\"Excluded states: \")\n",
        "sim.mdp.world[6:13, 9:16]"
      ]
    },
    {
      "cell_type": "code",
      "execution_count": null,
      "metadata": {
        "colab": {
          "base_uri": "https://localhost:8080/"
        },
        "id": "wK4bncd0EP9J",
        "outputId": "3cf67b91-55b4-4962-dee9-ad39dcbc64c4"
      },
      "outputs": [
        {
          "output_type": "stream",
          "name": "stdout",
          "text": [
            "[00]  avg. loss= 0.357\n",
            "[02]  avg. loss= 0.027\n",
            "[04]  avg. loss= 0.024\n",
            "[06]  avg. loss= 0.023\n",
            "[08]  avg. loss= 0.022\n",
            "[10]  avg. loss= 0.022\n",
            "[12]  avg. loss= 0.022\n",
            "[14]  avg. loss= 0.022\n",
            "[16]  avg. loss= 0.022\n",
            "[18]  avg. loss= 0.021\n",
            "[20]  avg. loss= 0.021\n",
            "[22]  avg. loss= 0.021\n",
            "[24]  avg. loss= 0.021\n",
            "[26]  avg. loss= 0.021\n",
            "[28]  avg. loss= 0.021\n"
          ]
        }
      ],
      "source": [
        "# reinițializăm modelul de mai sus\n",
        "for module in model.modules():\n",
        "    if isinstance(module, nn.Linear):\n",
        "        module.reset_parameters()\n",
        "\n",
        "#optim = O.SGD(model.parameters(),lr=0.01,momentum=0.8)\n",
        "optim = O.Adam(model.parameters(),lr=0.002,betas=(0.87, 0.95), eps=1e-8,weight_decay=0.0015,amsgrad=False)\n",
        "train(dset, model, optim, epochs=30)"
      ]
    },
    {
      "cell_type": "code",
      "execution_count": null,
      "metadata": {
        "colab": {
          "base_uri": "https://localhost:8080/",
          "height": 374
        },
        "id": "zhFPcZ2KEP9J",
        "outputId": "b7ee7a0a-4c6b-449a-e01c-38215b932f78"
      },
      "outputs": [
        {
          "output_type": "display_data",
          "data": {
            "text/plain": [
              "<Figure size 1300x400 with 4 Axes>"
            ],
            "image/png": "[encoded data removed]"
          },
          "metadata": {}
        }
      ],
      "source": [
        "V_star = get_V(sim.mdp, 0.95)\n",
        "V_pred = eval_model(sim.mdp, model)\n",
        "\n",
        "fig, (ax0, ax1) = plt.subplots(1, 2, figsize=(13,4))\n",
        "MDP.plot_values(sim.mdp, V_star, ax=ax0)\n",
        "MDP.plot_values(sim.mdp, V_pred, ax=ax1, vmin=0, vmax=2.0)"
      ]
    },
    {
      "cell_type": "markdown",
      "metadata": {
        "id": "cacB8Vy6EP9K"
      },
      "source": [
        "### Learning in the fully observabale case"
      ]
    },
    {
      "cell_type": "code",
      "execution_count": null,
      "metadata": {
        "id": "IYjeFdsvEP9K"
      },
      "outputs": [],
      "source": [
        "sim = Sim(MDP(SIMPLE_MAZE), \"coords\")\n",
        "policy = torch.distributions.Categorical(torch.ones(sim.mdp.nU))\n",
        "dset = sample_env(sim, policy)"
      ]
    },
    {
      "cell_type": "code",
      "execution_count": null,
      "metadata": {
        "colab": {
          "base_uri": "https://localhost:8080/"
        },
        "id": "4UZnTUJdEP9K",
        "outputId": "c6bd736c-19bf-4357-d7ab-9a71a2280c7b"
      },
      "outputs": [
        {
          "output_type": "stream",
          "name": "stdout",
          "text": [
            "[00]  avg. loss= 0.043\n",
            "[02]  avg. loss= 0.005\n",
            "[04]  avg. loss= 0.002\n",
            "[06]  avg. loss= 0.001\n",
            "[08]  avg. loss= 0.002\n",
            "[10]  avg. loss= 0.001\n",
            "[12]  avg. loss= 0.001\n",
            "[14]  avg. loss= 0.001\n",
            "[16]  avg. loss= 0.001\n",
            "[18]  avg. loss= 0.000\n",
            "[20]  avg. loss= 0.000\n",
            "[22]  avg. loss= 0.001\n",
            "[24]  avg. loss= 0.000\n",
            "[26]  avg. loss= 0.000\n",
            "[28]  avg. loss= 0.000\n"
          ]
        }
      ],
      "source": [
        "input_dim = dset[0][0].nelement()\n",
        "\n",
        "model = nn.Sequential(\n",
        "    nn.Linear(input_dim, 32),\n",
        "    nn.ReLU(),\n",
        "    nn.Linear(32, 32),\n",
        "    nn.ReLU(),\n",
        "    nn.Linear(32, 1))\n",
        "\n",
        "optim = O.Adam(model.parameters(), lr=0.01)\n",
        "\n",
        "train(dset, model, optim, epochs=30)"
      ]
    },
    {
      "cell_type": "code",
      "execution_count": null,
      "metadata": {
        "colab": {
          "base_uri": "https://localhost:8080/",
          "height": 374
        },
        "id": "AMIKmr3mEP9K",
        "outputId": "aad1b295-1d11-466d-8f38-be32a2b83949"
      },
      "outputs": [
        {
          "output_type": "display_data",
          "data": {
            "text/plain": [
              "<Figure size 1300x400 with 4 Axes>"
            ],
            "image/png": "[encoded data removed]"
          },
          "metadata": {}
        }
      ],
      "source": [
        "V_star = get_V(sim.mdp, 0.95)\n",
        "V_pred = eval_model(sim.mdp, model)\n",
        "\n",
        "fig, (ax0, ax1) = plt.subplots(1, 2, figsize=(13,4))\n",
        "MDP.plot_values(sim.mdp, V_star, ax=ax0)\n",
        "MDP.plot_values(sim.mdp, V_pred, ax=ax1, vmin=0, vmax=2.0)"
      ]
    },
    {
      "cell_type": "markdown",
      "metadata": {
        "id": "XhZiXt5FEP9K"
      },
      "source": [
        "### Task 4 [1 pt]\n",
        "\n",
        "How do you explain the better approximation performed by the model that is trained on observations that contain the coordinates of the agent?"
      ]
    },
    {
      "cell_type": "markdown",
      "metadata": {
        "id": "EjKcNBbZEP9K"
      },
      "source": [
        "**Your answer:**\n",
        "\n",
        "In the first case, we used a feature vector that describes the surroundings of the agent. This means we aimed to generalize the V-function based on the type of environment the agent is in, rather than its exact position. By doing so, the model attempts to infer the value function for states with similar surroundings.\n",
        "\n",
        "In contrast, in the second case, the feature vectors are directly tied to the exact position of the agent. This creates a one-to-one correspondence between specific locations on the grid and their respective V-function values. As a result, the model learns a specific value function for each position, rather than generalizing across similar surroundings."
      ]
    },
    {
      "cell_type": "markdown",
      "metadata": {
        "id": "OPY_D0ewEP9K"
      },
      "source": [
        "### Task 5 [1pt]\n",
        "\n",
        "Define a new MDP and train a neural network on data sampled from it.\n",
        "\n",
        "Try to think of interesting structures that would stress the generalization capabilites of the neural network."
      ]
    },
    {
      "cell_type": "markdown",
      "source": [
        "**For this task I tried to improve the training proccess by reducing the batch size to 8 in the training function and also by increasing the number of samples in the dataset to $2^{15}$**"
      ],
      "metadata": {
        "id": "-WE40fELfkZK"
      }
    },
    {
      "cell_type": "code",
      "source": [
        "def train(dset, model, optim, epochs=10):\n",
        "    mse = nn.MSELoss()\n",
        "    for epoch in range(epochs):\n",
        "        losses = []\n",
        "        for obs, target, _ in sampler(dset,batch_size=8):\n",
        "\n",
        "            # observations size: (32, feature_size)\n",
        "            # target size: (32, 1)\n",
        "            # state size: (32, 2)\n",
        "\n",
        "            # compute predictions using the model and the observations\n",
        "            y = model(obs)\n",
        "            # compute the loss of the model using mean squared error\n",
        "            loss = mse(y,target)\n",
        "\n",
        "            optim.zero_grad()\n",
        "            # compute the gradient of the loss wrt the weights\n",
        "            loss.backward()\n",
        "            # perform an optimization step\n",
        "            optim.step()\n",
        "\n",
        "            losses.append(loss.detach().item())\n",
        "        if epoch % 2 == 0:\n",
        "            print(\"[{:02d}]  avg. loss={:6.3f}\".format(\n",
        "                epoch, torch.tensor(losses).mean())\n",
        "            )"
      ],
      "metadata": {
        "id": "CEpiMI6_f20q"
      },
      "execution_count": null,
      "outputs": []
    },
    {
      "cell_type": "code",
      "execution_count": null,
      "metadata": {
        "id": "EKl7upWLEP9K"
      },
      "outputs": [],
      "source": [
        "GRIDNAV = \"\"\"\n",
        "G:2.0\n",
        "A:1.0\n",
        "B:1.0\n",
        "x:-0.05\n",
        ".:0.0\n",
        "---\n",
        "xxxxxxxxxxxxxxxxxxxxxxxxxxxx\n",
        "x       G           x      x\n",
        "x   xxxxxxxxxxxx    x   G  x\n",
        "x   x          x    x      x\n",
        "x   x   xxx    x         xxx\n",
        "x   x   x x    x   xxxxxxx x\n",
        "x   x   x x        x     x x\n",
        "x   x   x xxxxx    x xxx x x\n",
        "x   x   x          x x x x x\n",
        "x   x   x   xxxxxx x x x x x\n",
        "x   x   x         Ax x x x x\n",
        "x   x   xxxxxxx      x x x x\n",
        "x       x            x   x x\n",
        "x   xxxxx      s         x x\n",
        "x        xxxxxxxxxxxxxx  xxx\n",
        "x   A    x       G         x\n",
        "x   xxxxxx   xxx           x\n",
        "x        x   x   xxxxxxxxxxx\n",
        "x    xxx x   x         B   x\n",
        "xxxxxxxxxxxxxxxxxxxxxxxxxxxx\n",
        "\"\"\""
      ]
    },
    {
      "cell_type": "markdown",
      "metadata": {
        "id": "6TdGksTp8jM-"
      },
      "source": [
        "**Training a simpler NN with partial observation as features**"
      ]
    },
    {
      "cell_type": "code",
      "execution_count": null,
      "metadata": {
        "id": "XpFJTU1iEP9K"
      },
      "outputs": [],
      "source": [
        "sim = Sim(MDP(GRIDNAV), \"partial_observation\")\n",
        "policy = torch.distributions.Categorical(torch.ones(sim.mdp.nU))\n",
        "dset = sample_env(sim, policy,2**15)"
      ]
    },
    {
      "cell_type": "code",
      "execution_count": null,
      "metadata": {
        "colab": {
          "base_uri": "https://localhost:8080/"
        },
        "collapsed": true,
        "id": "eJelI2btEP9K",
        "outputId": "dc23006e-a619-4790-f465-8d488838e279"
      },
      "outputs": [
        {
          "output_type": "stream",
          "name": "stdout",
          "text": [
            "[00]  avg. loss= 0.099\n",
            "[02]  avg. loss= 0.053\n",
            "[04]  avg. loss= 0.051\n",
            "[06]  avg. loss= 0.050\n",
            "[08]  avg. loss= 0.050\n",
            "[10]  avg. loss= 0.050\n",
            "[12]  avg. loss= 0.050\n",
            "[14]  avg. loss= 0.050\n",
            "[16]  avg. loss= 0.050\n",
            "[18]  avg. loss= 0.050\n",
            "[20]  avg. loss= 0.050\n",
            "[22]  avg. loss= 0.050\n",
            "[24]  avg. loss= 0.050\n",
            "[26]  avg. loss= 0.050\n",
            "[28]  avg. loss= 0.050\n",
            "[30]  avg. loss= 0.050\n",
            "[32]  avg. loss= 0.050\n",
            "[34]  avg. loss= 0.050\n",
            "[36]  avg. loss= 0.050\n",
            "[38]  avg. loss= 0.050\n",
            "[40]  avg. loss= 0.050\n",
            "[42]  avg. loss= 0.050\n",
            "[44]  avg. loss= 0.049\n",
            "[46]  avg. loss= 0.049\n",
            "[48]  avg. loss= 0.049\n",
            "[50]  avg. loss= 0.049\n",
            "[52]  avg. loss= 0.049\n",
            "[54]  avg. loss= 0.049\n",
            "[56]  avg. loss= 0.049\n",
            "[58]  avg. loss= 0.049\n",
            "[60]  avg. loss= 0.049\n",
            "[62]  avg. loss= 0.049\n",
            "[64]  avg. loss= 0.049\n",
            "[66]  avg. loss= 0.049\n",
            "[68]  avg. loss= 0.049\n"
          ]
        }
      ],
      "source": [
        "input_dim = dset[0][0].nelement()\n",
        "\n",
        "model = nn.Sequential(\n",
        "    nn.Linear(input_dim,10,True),\n",
        "    nn.LeakyReLU(0.03),\n",
        "    nn.Linear(10,3,True),\n",
        "    nn.LeakyReLU(0.03),\n",
        "    nn.Linear(3,1)\n",
        ")\n",
        "\n",
        "#optim = O.SGD(model.parameters(),lr=0.01,momentum=0.8)\n",
        "optim = O.Adam(model.parameters(),lr=0.001,betas=(0.87, 0.95), eps=1e-8,weight_decay=0.0015,amsgrad=False)\n",
        "\n",
        "train(dset, model, optim, epochs=70)"
      ]
    },
    {
      "cell_type": "code",
      "execution_count": null,
      "metadata": {
        "colab": {
          "base_uri": "https://localhost:8080/",
          "height": 374
        },
        "id": "Jl8AXHkfEP9K",
        "outputId": "86be64e2-e147-4810-803e-ef40f810ceb0"
      },
      "outputs": [
        {
          "output_type": "display_data",
          "data": {
            "text/plain": [
              "<Figure size 1300x400 with 4 Axes>"
            ],
            "image/png": "[encoded data removed]"
          },
          "metadata": {}
        }
      ],
      "source": [
        "V_star = get_V(sim.mdp, 0.95)\n",
        "V_pred = eval_model(sim.mdp, model)\n",
        "\n",
        "fig, (ax0, ax1) = plt.subplots(1, 2, figsize=(13,4))\n",
        "MDP.plot_values(sim.mdp, V_star, ax=ax0)\n",
        "MDP.plot_values(sim.mdp, V_pred, ax=ax1, vmin=0, vmax=2.0)"
      ]
    },
    {
      "cell_type": "markdown",
      "metadata": {
        "id": "xOwqQEXV8wvl"
      },
      "source": [
        "**Training a simpler NN with coordinates as features**"
      ]
    },
    {
      "cell_type": "code",
      "execution_count": null,
      "metadata": {
        "id": "zWPTBm9c8vt_"
      },
      "outputs": [],
      "source": [
        "sim = Sim(MDP(GRIDNAV), \"coords\")\n",
        "policy = torch.distributions.Categorical(torch.ones(sim.mdp.nU))\n",
        "dset = sample_env(sim, policy,2**15)"
      ]
    },
    {
      "cell_type": "code",
      "execution_count": null,
      "metadata": {
        "colab": {
          "base_uri": "https://localhost:8080/"
        },
        "collapsed": true,
        "id": "PpB-BNeX83Nt",
        "outputId": "cd8b606d-2f14-4140-8ecc-37aa8b7b41b4"
      },
      "outputs": [
        {
          "output_type": "stream",
          "name": "stdout",
          "text": [
            "[00]  avg. loss= 0.029\n",
            "[02]  avg. loss= 0.023\n",
            "[04]  avg. loss= 0.023\n",
            "[06]  avg. loss= 0.023\n",
            "[08]  avg. loss= 0.022\n",
            "[10]  avg. loss= 0.022\n",
            "[12]  avg. loss= 0.022\n",
            "[14]  avg. loss= 0.022\n",
            "[16]  avg. loss= 0.022\n",
            "[18]  avg. loss= 0.022\n",
            "[20]  avg. loss= 0.022\n",
            "[22]  avg. loss= 0.022\n",
            "[24]  avg. loss= 0.016\n",
            "[26]  avg. loss= 0.015\n",
            "[28]  avg. loss= 0.015\n",
            "[30]  avg. loss= 0.015\n",
            "[32]  avg. loss= 0.015\n",
            "[34]  avg. loss= 0.015\n",
            "[36]  avg. loss= 0.015\n",
            "[38]  avg. loss= 0.015\n",
            "[40]  avg. loss= 0.015\n",
            "[42]  avg. loss= 0.015\n",
            "[44]  avg. loss= 0.015\n",
            "[46]  avg. loss= 0.015\n",
            "[48]  avg. loss= 0.015\n",
            "[50]  avg. loss= 0.015\n",
            "[52]  avg. loss= 0.015\n",
            "[54]  avg. loss= 0.015\n",
            "[56]  avg. loss= 0.015\n",
            "[58]  avg. loss= 0.015\n",
            "[60]  avg. loss= 0.015\n",
            "[62]  avg. loss= 0.015\n",
            "[64]  avg. loss= 0.015\n",
            "[66]  avg. loss= 0.015\n",
            "[68]  avg. loss= 0.015\n"
          ]
        }
      ],
      "source": [
        "input_dim = dset[0][0].nelement()\n",
        "\n",
        "model = nn.Sequential(\n",
        "    nn.Linear(input_dim,10,True),\n",
        "    nn.LeakyReLU(0.03),\n",
        "    nn.Linear(10,3,True),\n",
        "    nn.LeakyReLU(0.03),\n",
        "    nn.Linear(3,1)\n",
        ")\n",
        "\n",
        "#optim = O.SGD(model.parameters(),lr=0.01,momentum=0.8)\n",
        "optim = O.Adam(model.parameters(),lr=0.001,betas=(0.87, 0.95), eps=1e-8,weight_decay=0.0015,amsgrad=False)\n",
        "\n",
        "train(dset, model, optim, epochs=70)"
      ]
    },
    {
      "cell_type": "code",
      "execution_count": null,
      "metadata": {
        "colab": {
          "base_uri": "https://localhost:8080/",
          "height": 374
        },
        "id": "GsDwtyC887o8",
        "outputId": "ded77f8c-f814-4f8a-b551-f5995f41a3be"
      },
      "outputs": [
        {
          "output_type": "display_data",
          "data": {
            "text/plain": [
              "<Figure size 1300x400 with 4 Axes>"
            ],
            "image/png": "[encoded data removed]"
          },
          "metadata": {}
        }
      ],
      "source": [
        "V_star = get_V(sim.mdp, 0.95)\n",
        "V_pred = eval_model(sim.mdp, model)\n",
        "\n",
        "fig, (ax0, ax1) = plt.subplots(1, 2, figsize=(13,4))\n",
        "MDP.plot_values(sim.mdp, V_star, ax=ax0)\n",
        "MDP.plot_values(sim.mdp, V_pred, ax=ax1, vmin=0, vmax=2.0)"
      ]
    },
    {
      "cell_type": "markdown",
      "metadata": {
        "id": "M_ndBs_s9F7f"
      },
      "source": [
        "**Training a much complex NN with partial observations**"
      ]
    },
    {
      "cell_type": "code",
      "execution_count": null,
      "metadata": {
        "id": "bE7ivrYs9cE4"
      },
      "outputs": [],
      "source": [
        "sim = Sim(MDP(GRIDNAV), \"partial_observation\")\n",
        "policy = torch.distributions.Categorical(torch.ones(sim.mdp.nU))\n",
        "dset = sample_env(sim, policy,2**15)"
      ]
    },
    {
      "cell_type": "code",
      "execution_count": null,
      "metadata": {
        "colab": {
          "base_uri": "https://localhost:8080/"
        },
        "id": "Peev9KFnEP9K",
        "outputId": "673d7562-46dd-4316-e04f-73165ebb99d3",
        "collapsed": true
      },
      "outputs": [
        {
          "output_type": "stream",
          "name": "stdout",
          "text": [
            "[00]  avg. loss= 0.057\n",
            "[02]  avg. loss= 0.049\n",
            "[04]  avg. loss= 0.045\n",
            "[06]  avg. loss= 0.044\n",
            "[08]  avg. loss= 0.043\n",
            "[10]  avg. loss= 0.041\n",
            "[12]  avg. loss= 0.039\n",
            "[14]  avg. loss= 0.038\n",
            "[16]  avg. loss= 0.037\n",
            "[18]  avg. loss= 0.037\n",
            "[20]  avg. loss= 0.037\n",
            "[22]  avg. loss= 0.037\n",
            "[24]  avg. loss= 0.036\n",
            "[26]  avg. loss= 0.036\n",
            "[28]  avg. loss= 0.036\n"
          ]
        }
      ],
      "source": [
        "input_dim = dset[0][0].nelement()\n",
        "\n",
        "model = nn.Sequential(\n",
        "    nn.Linear(input_dim,10,True),\n",
        "    nn.LeakyReLU(0.03),\n",
        "    nn.Linear(10,5,True),\n",
        "    nn.LeakyReLU(0.03),\n",
        "    nn.Linear(5,8,True),\n",
        "    nn.LeakyReLU(0.01),\n",
        "    nn.Linear(8,10,True),\n",
        "    nn.LeakyReLU(0.01),\n",
        "    nn.Linear(10,10,True),\n",
        "    nn.LeakyReLU(0.01),\n",
        "    nn.Linear(10,1,True)\n",
        ")\n",
        "\n",
        "optim = O.SGD(model.parameters(),lr=0.01,momentum=0.8)\n",
        "#optim = O.Adam(model.parameters(),lr=0.001,betas=(0.87, 0.95), eps=1e-8,weight_decay=0.0015,amsgrad=False)\n",
        "\n",
        "train(dset, model, optim, epochs=30)"
      ]
    },
    {
      "cell_type": "code",
      "execution_count": null,
      "metadata": {
        "colab": {
          "base_uri": "https://localhost:8080/",
          "height": 374
        },
        "id": "Krr2nkn78SFn",
        "outputId": "b61c4706-30b6-4cb0-ccea-5c3e92abb678"
      },
      "outputs": [
        {
          "output_type": "display_data",
          "data": {
            "text/plain": [
              "<Figure size 1300x400 with 4 Axes>"
            ],
            "image/png": "[encoded data removed]"
          },
          "metadata": {}
        }
      ],
      "source": [
        "V_star = get_V(sim.mdp, 0.95)\n",
        "V_pred = eval_model(sim.mdp, model)\n",
        "\n",
        "fig, (ax0, ax1) = plt.subplots(1, 2, figsize=(13,4))\n",
        "MDP.plot_values(sim.mdp, V_star, ax=ax0)\n",
        "MDP.plot_values(sim.mdp, V_pred, ax=ax1, vmin=0, vmax=2.0)"
      ]
    },
    {
      "cell_type": "markdown",
      "metadata": {
        "id": "SsBuDn8a9vSY"
      },
      "source": [
        "**Trainig a much complex NN with coordinates as features**"
      ]
    },
    {
      "cell_type": "code",
      "execution_count": null,
      "metadata": {
        "id": "V3Ei7p5Z93q6"
      },
      "outputs": [],
      "source": [
        "sim = Sim(MDP(GRIDNAV), \"coords\")\n",
        "policy = torch.distributions.Categorical(torch.ones(sim.mdp.nU))\n",
        "dset = sample_env(sim, policy,2**15)"
      ]
    },
    {
      "cell_type": "code",
      "execution_count": null,
      "metadata": {
        "id": "DcJLFxkF930F",
        "colab": {
          "base_uri": "https://localhost:8080/"
        },
        "outputId": "c22b286d-35b0-422b-b250-104bbb4cc0d9"
      },
      "outputs": [
        {
          "output_type": "stream",
          "name": "stdout",
          "text": [
            "[00]  avg. loss= 0.032\n",
            "[02]  avg. loss= 0.017\n",
            "[04]  avg. loss= 0.013\n",
            "[06]  avg. loss= 0.013\n",
            "[08]  avg. loss= 0.012\n",
            "[10]  avg. loss= 0.012\n",
            "[12]  avg. loss= 0.011\n",
            "[14]  avg. loss= 0.011\n",
            "[16]  avg. loss= 0.010\n",
            "[18]  avg. loss= 0.010\n",
            "[20]  avg. loss= 0.010\n",
            "[22]  avg. loss= 0.009\n",
            "[24]  avg. loss= 0.009\n",
            "[26]  avg. loss= 0.009\n",
            "[28]  avg. loss= 0.009\n"
          ]
        }
      ],
      "source": [
        "input_dim = dset[0][0].nelement()\n",
        "\n",
        "model = nn.Sequential(\n",
        "    nn.Linear(input_dim,10,True),\n",
        "    nn.LeakyReLU(0.03),\n",
        "    nn.Linear(10,5,True),\n",
        "    nn.LeakyReLU(0.03),\n",
        "    nn.Linear(5,8,True),\n",
        "    nn.LeakyReLU(0.01),\n",
        "    nn.Linear(8,10,True),\n",
        "    nn.LeakyReLU(0.01),\n",
        "    nn.Linear(10,10,True),\n",
        "    nn.LeakyReLU(0.01),\n",
        "    nn.Linear(10,1,True)\n",
        ")\n",
        "\n",
        "#optim = O.SGD(model.parameters(),lr=0.01,momentum=0.8)\n",
        "optim = O.Adam(model.parameters(),lr=0.001,betas=(0.9, 0.99), eps=1e-8,weight_decay=0.0015,amsgrad=False)\n",
        "\n",
        "train(dset, model, optim, epochs=30)"
      ]
    },
    {
      "cell_type": "code",
      "execution_count": null,
      "metadata": {
        "colab": {
          "base_uri": "https://localhost:8080/",
          "height": 374
        },
        "id": "eSdxYWuG94JM",
        "outputId": "6de80d2c-c8e4-4012-d96b-a19de5f23ff8"
      },
      "outputs": [
        {
          "output_type": "display_data",
          "data": {
            "text/plain": [
              "<Figure size 1300x400 with 4 Axes>"
            ],
            "image/png": "[encoded data removed]"
          },
          "metadata": {}
        }
      ],
      "source": [
        "V_star = get_V(sim.mdp, 0.95)\n",
        "V_pred = eval_model(sim.mdp, model)\n",
        "\n",
        "fig, (ax0, ax1) = plt.subplots(1, 2, figsize=(13,4))\n",
        "MDP.plot_values(sim.mdp, V_star, ax=ax0)\n",
        "MDP.plot_values(sim.mdp, V_pred, ax=ax1, vmin=0, vmax=2.0)"
      ]
    }
  ],
  "metadata": {
    "accelerator": "GPU",
    "colab": {
      "provenance": [],
      "toc_visible": true
    },
    "kernelspec": {
      "display_name": "Python 3 (ipykernel)",
      "language": "python",
      "name": "python3"
    },
    "language_info": {
      "codemirror_mode": {
        "name": "ipython",
        "version": 3
      },
      "file_extension": ".py",
      "mimetype": "text/x-python",
      "name": "python",
      "nbconvert_exporter": "python",
      "pygments_lexer": "ipython3",
      "version": "3.12.7"
    }
  },
  "nbformat": 4,
  "nbformat_minor": 0
}