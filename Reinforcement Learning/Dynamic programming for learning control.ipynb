{
  "cells": [
    {
      "cell_type": "code",
      "execution_count": null,
      "id": "YzCn5G4ucpfO",
      "metadata": {
        "colab": {
          "base_uri": "https://localhost:8080/"
        },
        "collapsed": true,
        "id": "YzCn5G4ucpfO",
        "outputId": "23c0afec-9da5-44ab-80c7-4e1b7346800c"
      },
      "outputs": [
        {
          "output_type": "stream",
          "name": "stdout",
          "text": [
            "Collecting git+https://github.com/floringogianu/utc_mdp\n",
            "  Cloning https://github.com/floringogianu/utc_mdp to /tmp/pip-req-build-8z8hvspv\n",
            "  Running command git clone --filter=blob:none --quiet https://github.com/floringogianu/utc_mdp /tmp/pip-req-build-8z8hvspv\n",
            "  Resolved https://github.com/floringogianu/utc_mdp to commit 1dd8ca9a8e78a5c14a4f1f7ac93865e94b19e5d0\n",
            "  Installing build dependencies ... \u001b[?25l\u001b[?25hdone\n",
            "  Getting requirements to build wheel ... \u001b[?25l\u001b[?25hdone\n",
            "  Preparing metadata (pyproject.toml) ... \u001b[?25l\u001b[?25hdone\n",
            "Requirement already satisfied: numpy in /usr/local/lib/python3.10/dist-packages (from utc_mdp==0.1.0) (1.26.4)\n",
            "Requirement already satisfied: matplotlib in /usr/local/lib/python3.10/dist-packages (from utc_mdp==0.1.0) (3.8.0)\n",
            "Requirement already satisfied: contourpy>=1.0.1 in /usr/local/lib/python3.10/dist-packages (from matplotlib->utc_mdp==0.1.0) (1.3.0)\n",
            "Requirement already satisfied: cycler>=0.10 in /usr/local/lib/python3.10/dist-packages (from matplotlib->utc_mdp==0.1.0) (0.12.1)\n",
            "Requirement already satisfied: fonttools>=4.22.0 in /usr/local/lib/python3.10/dist-packages (from matplotlib->utc_mdp==0.1.0) (4.54.1)\n",
            "Requirement already satisfied: kiwisolver>=1.0.1 in /usr/local/lib/python3.10/dist-packages (from matplotlib->utc_mdp==0.1.0) (1.4.7)\n",
            "Requirement already satisfied: packaging>=20.0 in /usr/local/lib/python3.10/dist-packages (from matplotlib->utc_mdp==0.1.0) (24.2)\n",
            "Requirement already satisfied: pillow>=6.2.0 in /usr/local/lib/python3.10/dist-packages (from matplotlib->utc_mdp==0.1.0) (11.0.0)\n",
            "Requirement already satisfied: pyparsing>=2.3.1 in /usr/local/lib/python3.10/dist-packages (from matplotlib->utc_mdp==0.1.0) (3.2.0)\n",
            "Requirement already satisfied: python-dateutil>=2.7 in /usr/local/lib/python3.10/dist-packages (from matplotlib->utc_mdp==0.1.0) (2.8.2)\n",
            "Requirement already satisfied: six>=1.5 in /usr/local/lib/python3.10/dist-packages (from python-dateutil>=2.7->matplotlib->utc_mdp==0.1.0) (1.16.0)\n",
            "Building wheels for collected packages: utc_mdp\n",
            "  Building wheel for utc_mdp (pyproject.toml) ... \u001b[?25l\u001b[?25hdone\n",
            "  Created wheel for utc_mdp: filename=utc_mdp-0.1.0-py3-none-any.whl size=5191 sha256=4106388a2879c3021e2ac4f3f049fac603f0c837ef941bf3be1aced9d40fc48a\n",
            "  Stored in directory: /tmp/pip-ephem-wheel-cache-rhajcmdp/wheels/56/47/4c/1c3199b61e3a6113fed1081141468f4c35adf36deefed10514\n",
            "Successfully built utc_mdp\n",
            "Installing collected packages: utc_mdp\n",
            "Successfully installed utc_mdp-0.1.0\n"
          ]
        }
      ],
      "source": [
        "!pip install git+https://github.com/floringogianu/utc_mdp"
      ]
    },
    {
      "cell_type": "code",
      "execution_count": null,
      "id": "a8e72d96-ddc4-4ff5-b73e-3e101a5be75c",
      "metadata": {
        "id": "a8e72d96-ddc4-4ff5-b73e-3e101a5be75c"
      },
      "outputs": [],
      "source": [
        "from collections import defaultdict\n",
        "\n",
        "import numpy as np\n",
        "import torch as th\n",
        "\n",
        "import matplotlib as mpl\n",
        "import matplotlib.pyplot as plt\n",
        "\n",
        "from utc_mdp import MDP, Sim\n",
        "from utc_mdp.blueprints import FOUR_ROOMS, TWO_ROOMS"
      ]
    },
    {
      "cell_type": "markdown",
      "id": "b0616757-a2fa-4fe5-b38b-c56492ce9351",
      "metadata": {
        "id": "b0616757-a2fa-4fe5-b38b-c56492ce9351"
      },
      "source": [
        "# Markov decision processes. Q-iteration and Policy Iteration.\n",
        "\n",
        "## Lab policy\n",
        "\n",
        "- This lab is a mandatory part of the \"Reinforcement Learning\" course.\n",
        "The solution is graded from 0 to 10.\n",
        "The average of the Python labs counts for 50% of the final grade.\n",
        "\n",
        "- The lab is preferably solved in groups of two students (larger groups are not allowed).\n",
        "  A group submits a single solution, shared between the two students.\n",
        "\n",
        "- The solution consists of a copy of this notebook, containing your implementations and algorithm analysis.\n",
        "It will be sent by email to florin.gogianu@gmail.com.\n",
        "\n",
        "- The deadline for submitting the solution is **October 29, 2024, by 23:59**.\n",
        "Late submission is accepted, but the maximum grade is reduced by half: 5 points.\n",
        "The time required to complete the lab depends on experience with Python programming, but part of the work will need to be done at home.\n",
        "It is strongly recommended that you do not wait until right before the deadline to finish the solution.\n",
        "\n",
        "- Discussion of ideas between groups is encouraged, but reusing code or reports (even partially) is not allowed. Use of generative models (Chat-GPT, Gemini, Copilot, etc.) is prohibited. **Violation of this rule (copying) will result in immediate loss of the right to take the exam**.\n",
        "\n",
        "- A discussion session will be organized where the contribution of each student will be determined through detailed technical questions, including questions related to Python implementation."
      ]
    },
    {
      "cell_type": "markdown",
      "id": "PA39K7tJq7KJ",
      "metadata": {
        "id": "PA39K7tJq7KJ"
      },
      "source": [
        "**Team members:**\n",
        "\n",
        "Tudor Alinei-Poiana"
      ]
    },
    {
      "cell_type": "markdown",
      "id": "Ca7dZ7ijK86l",
      "metadata": {
        "id": "Ca7dZ7ijK86l"
      },
      "source": [
        "## Short note on matrix operations in `Python` using `PyTorch`\n",
        "\n",
        "`Python` is an open-source _general-purpose_ programming language, therefore it does not have built-in support for matrix operations.\n",
        "\n",
        "For this purpose, the community around it developed `numpy`, a library that allows `Matlab`-like operations.\n",
        "\n",
        "With the advent of Deep Learning, several other libraries appeared which extend `numpy` to allow for GPU computations and support for automatic differentiation.\n",
        "\n",
        "For these labs we will use one of the more popular such libraries, called `PyTorch` or simply `torch`.\n",
        "\n",
        "For completing this lab you are only required to know about the following:"
      ]
    },
    {
      "cell_type": "code",
      "execution_count": null,
      "id": "bAFVHJbLM-Yh",
      "metadata": {
        "colab": {
          "base_uri": "https://localhost:8080/"
        },
        "id": "bAFVHJbLM-Yh",
        "outputId": "cfc309a0-db7f-4d02-f443-73d7e2865195"
      },
      "outputs": [
        {
          "data": {
            "text/plain": [
              "tensor([[0., 0., 0.],\n",
              "        [0., 0., 0.]])"
            ]
          },
          "execution_count": 9,
          "metadata": {},
          "output_type": "execute_result"
        }
      ],
      "source": [
        "# create a tensor\n",
        "a = th.zeros((2,3))\n",
        "a"
      ]
    },
    {
      "cell_type": "code",
      "execution_count": null,
      "id": "GActkeSSNcvm",
      "metadata": {
        "colab": {
          "base_uri": "https://localhost:8080/"
        },
        "id": "GActkeSSNcvm",
        "outputId": "6e511610-74f9-4fc5-88cb-f9853f5a4d2f"
      },
      "outputs": [
        {
          "data": {
            "text/plain": [
              "tensor([0., 1., 0.])"
            ]
          },
          "execution_count": 11,
          "metadata": {},
          "output_type": "execute_result"
        }
      ],
      "source": [
        "# change a value\n",
        "a[1,1] = 1\n",
        "a[1,:]"
      ]
    },
    {
      "cell_type": "code",
      "execution_count": null,
      "id": "YvcIETqDN16D",
      "metadata": {
        "colab": {
          "base_uri": "https://localhost:8080/"
        },
        "id": "YvcIETqDN16D",
        "outputId": "1ef6aab7-4147-424a-ca4c-8548852fc412"
      },
      "outputs": [
        {
          "data": {
            "text/plain": [
              "1.0"
            ]
          },
          "execution_count": 10,
          "metadata": {},
          "output_type": "execute_result"
        }
      ],
      "source": [
        "# select a value (slice operator)\n",
        "a[1,1].item()"
      ]
    },
    {
      "cell_type": "code",
      "execution_count": null,
      "id": "dSMtw_n2NnLX",
      "metadata": {
        "colab": {
          "base_uri": "https://localhost:8080/"
        },
        "id": "dSMtw_n2NnLX",
        "outputId": "7ea66880-6a67-4895-eb4a-1b23c591ebe1"
      },
      "outputs": [
        {
          "data": {
            "text/plain": [
              "torch.return_types.max(\n",
              "values=tensor([0., 1.]),\n",
              "indices=tensor([0, 1]))"
            ]
          },
          "execution_count": 12,
          "metadata": {},
          "output_type": "execute_result"
        }
      ],
      "source": [
        "# find the max value\n",
        "a.max(dim=1)"
      ]
    },
    {
      "cell_type": "code",
      "execution_count": null,
      "id": "TA_Q2wtKOKUR",
      "metadata": {
        "colab": {
          "base_uri": "https://localhost:8080/"
        },
        "id": "TA_Q2wtKOKUR",
        "outputId": "04119613-5a6c-412f-c750-669b7b990ae6"
      },
      "outputs": [
        {
          "data": {
            "text/plain": [
              "tensor([0., 1.])"
            ]
          },
          "execution_count": 13,
          "metadata": {},
          "output_type": "execute_result"
        }
      ],
      "source": [
        "a.max(dim=1).values"
      ]
    },
    {
      "cell_type": "code",
      "execution_count": null,
      "id": "jR6B01XmN6Ux",
      "metadata": {
        "colab": {
          "base_uri": "https://localhost:8080/"
        },
        "id": "jR6B01XmN6Ux",
        "outputId": "1fe21eb2-82d5-4c71-9358-76b5425e265f"
      },
      "outputs": [
        {
          "data": {
            "text/plain": [
              "tensor([[0, 0, 0],\n",
              "        [0, 1, 0]])"
            ]
          },
          "execution_count": 11,
          "metadata": {},
          "output_type": "execute_result"
        }
      ],
      "source": [
        "# cast to int64\n",
        "a.long()"
      ]
    },
    {
      "cell_type": "markdown",
      "id": "797c97c8-9747-4c55-88c6-5c3b308a4fba",
      "metadata": {
        "id": "797c97c8-9747-4c55-88c6-5c3b308a4fba"
      },
      "source": [
        "## Part 1\n",
        "\n",
        "\n",
        "The objective of the first part is to become familiar with the interface provided by the Python implementation of the considered problem, as well as to review the basic concepts in Markov decision processes.\n",
        "\n",
        "See the presentation of the first course, which can be downloaded [here](https://busoniu.net/teaching/rl2024/#slides).\n",
        "\n",
        "### Environments\n",
        "\n",
        "The final aim of the lab is to solve problems in the environment depicted in the figure, called `GRIDNAV`:"
      ]
    },
    {
      "cell_type": "markdown",
      "id": "OHO5FSi00SnT",
      "metadata": {
        "id": "OHO5FSi00SnT"
      },
      "source": [
        "![gridnav](data:image/png;base64,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)"
      ]
    },
    {
      "cell_type": "markdown",
      "id": "xLBqq3NM0Ywp",
      "metadata": {
        "id": "xLBqq3NM0Ywp"
      },
      "source": [
        "The environment is a simplification of a real robotic navigation problem.\n",
        "A robot must find the shortest path to a target (red mark X), avoiding obstacles (gray squares).\n",
        "\n",
        "The robot's position varies on a $5 \\times 5$ grid, with the state $x \\in \\{0, ..., 19\\}$ (the set of reachable states, that do not include the 5 obstacles).\n",
        "Note that the state $x=0$ represents the top-left corner in the figure.\n",
        "\n",
        "The robot can move one cell at a time in one of the four cardinal directions.\n",
        "These four actions $u$ are represented by the numbers 0 (up), 1 (right), 2 (down), 3 (left).\n",
        "Any movement that results in hitting a wall or obstacle fails, and the robot remains in the same cell.\n",
        "\n",
        "The robot receives a reward of $-0.1$ at each step in which it does not reach the target, and $10$ when it reaches the target.\n",
        "\n",
        "The target is a terminal state, so when it is reached, the episode ends, and the robot is reset to an initial position.\n",
        "The negative reward represents energy consumption and leads to a minimum-time solution, i.e., a path of minimal length.\n",
        "\n",
        "For illustration purposes and for testing your implementation we will also use the `ROOMBA` MDP, which is described in the lecture slides under the name \"cleaning robot\"."
      ]
    },
    {
      "cell_type": "markdown",
      "id": "K2a2N8Cy0fgP",
      "metadata": {
        "id": "K2a2N8Cy0fgP"
      },
      "source": [
        "### Defining MDPs and working with them\n",
        "\n",
        "\n",
        "Familiarize yourself with the code and the interfaces you will be required to use in order to solve the rest of the assignment.\n",
        "\n",
        "There are two main objects in this \"library\":\n",
        "\n",
        "- an `MDP` which follows the Markov Decision Process formalism and encapsulates objects such as the set of states $X$, the transition dynamics $f$, and the reward function $\\rho$.\n",
        "- a `Sim`, which takes an `MDP` as argument and makes out of it a _simulator_ exposing methods that make possible the agent-environment interaction loop (more on this later).\n",
        "\n",
        "First, let's focus on the `MDP` class. It allows for easy definition of MDPs from a very simple domain specific language (DSL).\n",
        "\n",
        "To keep things simple, remember the `ROOMBA` cleaning robot from our lectures:"
      ]
    },
    {
      "cell_type": "markdown",
      "id": "2ebc07fd-2a08-4893-be65-ee800fd56273",
      "metadata": {
        "id": "2ebc07fd-2a08-4893-be65-ee800fd56273"
      },
      "source": [
        "![image.png](data:image/png;base64,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)"
      ]
    },
    {
      "cell_type": "markdown",
      "id": "B28yGAOY0mHh",
      "metadata": {
        "id": "B28yGAOY0mHh"
      },
      "source": [
        "We can define this MDP using a few conventions:\n",
        "- ` ` (space) indicates a state in which you can move in.\n",
        "- `x` indicates an wall or obstacle.\n",
        "- `s` indicates the starting state.\n",
        "- uppercase letters such as `T` (trash), `B` (battery) or `G` (goal) are terminal or \"absorbing\" states which end the episode.\n",
        "- lowercase letters other that the special tokens above indicate rewarding states.\n",
        "- the line `---` separates the two sections of the DSL, the header, and the blueprint.\n",
        "- the header (everything above the line) is used to define rewards as field-value pairs:\n",
        "    - `x: 0.0` reward associated with bumping into walls. Usually negative.\n",
        "    - `.: 0.0` reward associated with moving. Usually negative.\n",
        "    - `T: 5.0` reward of 5 for picking up the trash (and restarting the episode)\n",
        "    - `B: 1.0` reward of 1 for charging the battery (and restarting the episode)\n",
        "- the blueprint is a string representation of the grid, containing the positions of walls and rewarding states. Its only constraint is that it needs to be fully enclosed by walls (`x`).\n",
        "\n",
        "The DSL that defines the Cleaning Robot MDP will then look as follows:"
      ]
    },
    {
      "cell_type": "code",
      "execution_count": null,
      "id": "ebe170ff-7066-4f69-bd48-a3a7e8745d6e",
      "metadata": {
        "id": "ebe170ff-7066-4f69-bd48-a3a7e8745d6e"
      },
      "outputs": [],
      "source": [
        "ROOMBA = \"\"\"\n",
        "B: 1.0\n",
        "T: 5.0\n",
        "x: 0.0\n",
        ".: 0.0\n",
        "---\n",
        "xxxxxxxx\n",
        "xBs   Tx\n",
        "xxxxxxxx\n",
        "\"\"\""
      ]
    },
    {
      "cell_type": "code",
      "execution_count": null,
      "id": "aa2d5585-97b5-4eff-a3bd-126c54a1ac3c",
      "metadata": {
        "colab": {
          "base_uri": "https://localhost:8080/"
        },
        "id": "aa2d5585-97b5-4eff-a3bd-126c54a1ac3c",
        "outputId": "0b351661-a617-43f1-e1d6-16652b22aef8"
      },
      "outputs": [
        {
          "data": {
            "text/plain": [
              "xxxxxxxx\n",
              "xBs   Tx\n",
              "xxxxxxxx\n",
              "Actions: 0: right, 1: left"
            ]
          },
          "execution_count": 11,
          "metadata": {},
          "output_type": "execute_result"
        }
      ],
      "source": [
        "mdp = MDP(ROOMBA)\n",
        "mdp"
      ]
    },
    {
      "cell_type": "markdown",
      "id": "48b04e89-4af0-462e-95f3-de07af57da42",
      "metadata": {
        "id": "48b04e89-4af0-462e-95f3-de07af57da42"
      },
      "source": [
        "#### MDP interface\n",
        "\n",
        "- `mpd.X` return the list of reachable states $X$\n",
        "- `mdp.nX` return the number of states\n",
        "- `mdp.nU` return the number of actions\n",
        "\n",
        "**For solving the tasks you are only required to know about:**\n",
        "- `mdp.f(x: int, u: int) -> x': int` returns the next state `x'` when applying action `u` while in state `x`.\n",
        "- `mdp.rho(x: int, u: int) -> r: float` returns the reward `r` when applying action `u` while in state `x`.\n",
        "- `mdp.ρ(x: int, u: int) -> r: float` is a shorthand (alias) of `mdp.rho`"
      ]
    },
    {
      "cell_type": "code",
      "execution_count": null,
      "id": "fd31cbbf-9705-4e6a-864c-0cf8b945a5f9",
      "metadata": {
        "colab": {
          "base_uri": "https://localhost:8080/"
        },
        "id": "fd31cbbf-9705-4e6a-864c-0cf8b945a5f9",
        "outputId": "ea2a444c-2dc2-4536-beb5-da7031a7f1fe"
      },
      "outputs": [
        {
          "name": "stdout",
          "output_type": "stream",
          "text": [
            "#states:  6\n",
            "#actions: 2\n",
            "states:   [0, 1, 2, 3, 4, 5]\n",
            "actions: [0, 1]\n"
          ]
        }
      ],
      "source": [
        "# get the action-state dimensionality\n",
        "print(f\"#states:  {mdp.nX}\")\n",
        "print(f\"#actions: {mdp.nU}\")\n",
        "print(f\"states:   {mdp.X}\")\n",
        "print(f\"actions: {mdp.U}\")"
      ]
    },
    {
      "cell_type": "code",
      "execution_count": null,
      "id": "51cd6077-6c8a-4027-99fa-806098b56778",
      "metadata": {
        "colab": {
          "base_uri": "https://localhost:8080/"
        },
        "id": "51cd6077-6c8a-4027-99fa-806098b56778",
        "outputId": "8820dd48-91a7-4bfd-c400-a24b86a84f93"
      },
      "outputs": [
        {
          "name": "stdout",
          "output_type": "stream",
          "text": [
            "Cleaner is in state x=4 and it applies action u=0. Arrives in next state x=5 with reward r=5.0\n",
            "Cleaner is in state x=3 and it applies action u=1. Arrives in next state x=2 with reward r=0.0\n"
          ]
        }
      ],
      "source": [
        "for x, u in ((4, 0), (3, 1)):\n",
        "    print(f\"Cleaner is in state x={x} and it applies action u={u}. Arrives in next state x={mdp.f(x, u)} with reward r={mdp.rho(x, u)}\")"
      ]
    },
    {
      "cell_type": "markdown",
      "id": "6c36c321-a974-435b-8db0-ac25fd926fe7",
      "metadata": {
        "id": "6c36c321-a974-435b-8db0-ac25fd926fe7"
      },
      "source": [
        "#### From MDP to simulation\n",
        "\n",
        "An `MDP` object can be used by the `Sim` object to create an environment with a simple API that facilitates the agent-environment interaction loop:\n",
        "\n",
        "- `x, done = sim.reset()` returns the initial state and the episode termination signal. Use it to begin a new episode. `done` indicates the agent reached the goal.\n",
        "- `x', r, done = sim.step(u)` receives action `u` and returns the next state, reward and episode termination signal."
      ]
    },
    {
      "cell_type": "code",
      "execution_count": null,
      "id": "3b664328-4bc7-44b4-8297-fde274a45ea1",
      "metadata": {
        "colab": {
          "base_uri": "https://localhost:8080/"
        },
        "id": "3b664328-4bc7-44b4-8297-fde274a45ea1",
        "outputId": "e3e6954b-5b1d-4f42-a85c-5d263e1bce95"
      },
      "outputs": [
        {
          "name": "stdout",
          "output_type": "stream",
          "text": [
            "(1, False)\n",
            "(2, 0.0, False)\n",
            "(1, 0.0, False)\n"
          ]
        }
      ],
      "source": [
        "mdp = MDP(ROOMBA)\n",
        "sim = Sim(mdp)\n",
        "\n",
        "print(sim.reset())\n",
        "print(sim.step(0))\n",
        "print(sim.step(1))"
      ]
    },
    {
      "cell_type": "markdown",
      "id": "c4167ce3-54c1-46de-ac03-d9919a4927ad",
      "metadata": {
        "id": "c4167ce3-54c1-46de-ac03-d9919a4927ad"
      },
      "source": [
        "### Task 1.1 [2pts]\n",
        "---\n",
        "\n",
        "**For the `GRIDNAV` MDP described above**, identify the state variables and the state space, the action variables and the action space.\n",
        "\n",
        "Knowing that the state $x=0$ is in the upper-left corner and the data structure is in row-major order, write in the very next cell, using $\\LaTeX$:\n",
        "\n",
        "1. The transition function $f(x=10, \\cdot)$ (for taking any action from state 10)\n",
        "2. The reward function $\\rho$."
      ]
    },
    {
      "cell_type": "markdown",
      "id": "7c3ec930-8bf8-4b57-9d96-ba6cf4a4f74c",
      "metadata": {
        "id": "7c3ec930-8bf8-4b57-9d96-ba6cf4a4f74c"
      },
      "source": [
        "**Solution**:\n",
        "\n",
        "For this particular problem, the state variable is defined by the position of the robot on the 2D grid and can be represented in two possible ways:\n",
        "1. Usig the pair of state variables $(x,y)$, where $x$ represents the horizontal position and $y$ represents the vertical position, with $(0,0)$ being in the top left corner;\n",
        "2. using only one state variable $x$ which denotes the position of the robot on the grid $($for e.g. for a 5x5 empty grid, the value of $x$, when the robot is on the second row and third column, would be 7$)$\n",
        "\n",
        "The discussion will be furhter developed considering the picture of the 2D grid provided in the begining of part 1 and considering the second possible representation of the state variables.\n",
        "\n",
        "The state space $X=\\{x|x<=19\\}$. For the general case, in a r by c dimensional grid, the state space is  $X=\\{x|x<=r⋅c-1-no_{obstacles}\\}$.\n",
        "\n",
        "The action variables define the possible moves that the agent can make from any given position: $u$.\n",
        "\n",
        "The action space is the set of all possible actions the agent can perform from a given state and can be encoded with numbers from 0 to 3: $U=\\{0,1,2,3\\}$ which have (accordong to the implementation of the python package) the following meaning \\{up, right, down, left\\}.\n",
        "\n",
        "1. The transition function when choosing an action from state 10 is:\n",
        "            f(x=10,u)= 6, u=0,\n",
        "                       9, u=3,\n",
        "                       11, u=1,\n",
        "                       15, u=2\n",
        "\n",
        "2. For the reward function $ρ$, we first have to define the reward received when reaching the goal, 10, the penalty for any possible movement that does not reach the goal, -0.1, and the reward for any movement that does not change the robot's possition, 0. The reward function $ρ(x,u)$ is:\n",
        "              10 if x=9 and u=0;\n",
        "              -0.1 if x ∈ {4,5,7,8,10,11,12,14,15,16,17,18,19} and u=0 or\n",
        "                      x ∈ {0,1,4,6,9,10,12,13,14,15,17,18} and u=1 or\n",
        "                      x ∈ {0,1,4,6,7,8,9,10,11,12,13,14} and u=2 or\n",
        "                      x ∈ {1,2,5,7,10,11,13,14,15,16,18,19} and u=3\n",
        "              0 otherwise\n",
        "            \n",
        "\n",
        "  \n",
        "          \n",
        "\n",
        "(double click to edit this cell, `Shift+Enter` to execute it)"
      ]
    },
    {
      "cell_type": "markdown",
      "id": "ZZr_EHmtLWFl",
      "metadata": {
        "id": "ZZr_EHmtLWFl"
      },
      "source": [
        "### Task 1.2 [1pts]\n",
        "---\n",
        "\n",
        "- Define an interesting navigation problem choosing the position of obstacles (walls), rewards and initial state.\n",
        "- It should be of comparable size to the `GRIDNAV` illustrated above or larger.\n",
        "- Simulate a trajectory with a policy of your choosing (pick actions manually or randomly).\n",
        "- Record the number of time-steps required for the agent to reach the goal and print it."
      ]
    },
    {
      "cell_type": "code",
      "execution_count": null,
      "id": "d4ee698e-9544-4682-86aa-b1b320c9aaef",
      "metadata": {
        "colab": {
          "base_uri": "https://localhost:8080/"
        },
        "id": "d4ee698e-9544-4682-86aa-b1b320c9aaef",
        "outputId": "fd455a23-3ee8-46df-aac3-5ede78371277"
      },
      "outputs": [
        {
          "output_type": "stream",
          "name": "stdout",
          "text": [
            "#states:  64\n",
            "#actions: 4\n",
            "states:   [0, 1, 2, 3, 4, 5, 6, 7, 8, 9, 10, 11, 12, 13, 14, 15, 16, 17, 18, 19, 20, 21, 22, 23, 24, 25, 26, 27, 28, 29, 30, 31, 32, 33, 34, 35, 36, 37, 38, 39, 40, 41, 42, 43, 44, 45, 46, 47, 48, 49, 50, 51, 52, 53, 54, 55, 56, 57, 58, 59, 60, 61, 62, 63]\n",
            "actions:  [0, 1, 2, 3]\n",
            "(1, -0.1, False)\n",
            "(2, -0.1, False)\n",
            "(3, -0.1, False)\n",
            "(4, -0.1, False)\n",
            "(10, -0.1, False)\n",
            "(16, -0.1, False)\n",
            "(21, -0.1, False)\n",
            "(29, 10.0, True)\n",
            "reached state x'=9, reward r=-0.1, ending episode signal:False\n",
            "reached state x'=9, reward r=0.0, ending episode signal:False\n",
            "reached state x'=13, reward r=-0.1, ending episode signal:False\n",
            "reached state x'=9, reward r=-0.1, ending episode signal:False\n",
            "reached state x'=9, reward r=0.0, ending episode signal:False\n",
            "reached state x'=9, reward r=0.0, ending episode signal:False\n",
            "reached state x'=0, reward r=-0.1, ending episode signal:False\n",
            "reached state x'=1, reward r=-0.1, ending episode signal:False\n",
            "reached state x'=2, reward r=-0.1, ending episode signal:False\n",
            "reached state x'=3, reward r=-0.1, ending episode signal:False\n",
            "reached state x'=2, reward r=-0.1, ending episode signal:False\n",
            "reached state x'=2, reward r=0.0, ending episode signal:False\n",
            "reached state x'=1, reward r=-0.1, ending episode signal:False\n",
            "reached state x'=2, reward r=-0.1, ending episode signal:False\n",
            "reached state x'=2, reward r=0.0, ending episode signal:False\n",
            "reached state x'=3, reward r=-0.1, ending episode signal:False\n",
            "reached state x'=3, reward r=0.0, ending episode signal:False\n",
            "reached state x'=2, reward r=-0.1, ending episode signal:False\n",
            "reached state x'=3, reward r=-0.1, ending episode signal:False\n",
            "reached state x'=3, reward r=0.0, ending episode signal:False\n",
            "reached state x'=3, reward r=0.0, ending episode signal:False\n",
            "reached state x'=2, reward r=-0.1, ending episode signal:False\n",
            "reached state x'=2, reward r=0.0, ending episode signal:False\n",
            "reached state x'=1, reward r=-0.1, ending episode signal:False\n",
            "reached state x'=0, reward r=-0.1, ending episode signal:False\n",
            "reached state x'=0, reward r=0.0, ending episode signal:False\n",
            "reached state x'=1, reward r=-0.1, ending episode signal:False\n",
            "reached state x'=1, reward r=0.0, ending episode signal:False\n",
            "reached state x'=2, reward r=-0.1, ending episode signal:False\n",
            "reached state x'=3, reward r=-0.1, ending episode signal:False\n",
            "reached state x'=3, reward r=0.0, ending episode signal:False\n",
            "reached state x'=4, reward r=-0.1, ending episode signal:False\n",
            "reached state x'=10, reward r=-0.1, ending episode signal:False\n",
            "reached state x'=10, reward r=0.0, ending episode signal:False\n",
            "reached state x'=10, reward r=0.0, ending episode signal:False\n",
            "reached state x'=16, reward r=-0.1, ending episode signal:False\n",
            "reached state x'=16, reward r=0.0, ending episode signal:False\n",
            "reached state x'=15, reward r=-0.1, ending episode signal:False\n",
            "reached state x'=14, reward r=-0.1, ending episode signal:False\n",
            "reached state x'=20, reward r=-0.1, ending episode signal:False\n",
            "reached state x'=14, reward r=-0.1, ending episode signal:False\n",
            "reached state x'=14, reward r=0.0, ending episode signal:False\n",
            "reached state x'=20, reward r=-0.1, ending episode signal:False\n",
            "reached state x'=14, reward r=-0.1, ending episode signal:False\n",
            "reached state x'=14, reward r=0.0, ending episode signal:False\n",
            "reached state x'=14, reward r=0.0, ending episode signal:False\n",
            "reached state x'=14, reward r=0.0, ending episode signal:False\n",
            "reached state x'=20, reward r=-0.1, ending episode signal:False\n",
            "reached state x'=14, reward r=-0.1, ending episode signal:False\n",
            "reached state x'=14, reward r=0.0, ending episode signal:False\n",
            "reached state x'=14, reward r=0.0, ending episode signal:False\n",
            "reached state x'=14, reward r=0.0, ending episode signal:False\n",
            "reached state x'=14, reward r=0.0, ending episode signal:False\n",
            "reached state x'=20, reward r=-0.1, ending episode signal:False\n",
            "reached state x'=14, reward r=-0.1, ending episode signal:False\n",
            "reached state x'=15, reward r=-0.1, ending episode signal:False\n",
            "reached state x'=15, reward r=0.0, ending episode signal:False\n",
            "reached state x'=15, reward r=0.0, ending episode signal:False\n",
            "reached state x'=15, reward r=0.0, ending episode signal:False\n",
            "reached state x'=15, reward r=0.0, ending episode signal:False\n",
            "reached state x'=16, reward r=-0.1, ending episode signal:False\n",
            "reached state x'=21, reward r=-0.1, ending episode signal:False\n",
            "reached state x'=29, reward r=10.0, ending episode signal:True\n",
            "Total number of random actions that were taken until reaching the goal was: 63\n"
          ]
        }
      ],
      "source": [
        "# your solution here:\n",
        "\n",
        "GRIDNAV = \"\"\"\n",
        "G:10.0\n",
        "x:0.0\n",
        ".:-0.1\n",
        "---\n",
        "xxxxxxx\n",
        "x     x\n",
        "x xGx x\n",
        "x  x  x\n",
        "x  xxxx\n",
        "xx    x\n",
        "xxxxxxx\n",
        "\"\"\"\n",
        "\n",
        "GRIDNAV = \"\"\"\n",
        "G:10.0\n",
        "x:0.0\n",
        ".:-0.1\n",
        "---\n",
        "xxxxxxxx\n",
        "x     xx\n",
        "xx xGx x\n",
        "x  x   x\n",
        "x  xxxxx\n",
        "xx    xx\n",
        "xxxxxxxx\n",
        "\"\"\"\n",
        "\n",
        "GRIDNAV = \"\"\"\n",
        "G:10.0\n",
        "x:0.0\n",
        ".:-0.1\n",
        "---\n",
        "xxxxxxxxxxxx\n",
        "xs    x    x\n",
        "x xxx x xx x\n",
        "x x   x xx x\n",
        "x x x x    x\n",
        "x   xGx xx x\n",
        "x x x  x x x\n",
        "x x xx    xx\n",
        "x x     x  x\n",
        "x xxx x xxxx\n",
        "x     x    x\n",
        "xxxxxxxxxxxx\n",
        "\"\"\"\n",
        "\n",
        "mdp=MDP(GRIDNAV)\n",
        "# get the action-state dimensionality\n",
        "print(f\"#states:  {mdp.nX}\")\n",
        "print(f\"#actions: {mdp.nU}\")\n",
        "print(f\"states:   {mdp.X}\")\n",
        "print(f\"actions:  {mdp.U}\")\n",
        "mdp\n",
        "\n",
        "#(up, right, down, left)\n",
        "#simulating the agent's movement, staring from x0=0 usig a manually preset policy h\n",
        "sim = Sim(mdp)\n",
        "sim.reset()\n",
        "h=[1,1,1,1,2,2,2,2]\n",
        "for u in h:\n",
        "  print(sim.step(u))\n",
        "#the number of steps until we reach the goal, with this policy, is 8\n",
        "\n",
        "#using a random generated policy and starting from x0=73\n",
        "GRIDNAV = \"\"\"\n",
        "G:10.0\n",
        "x:0.0\n",
        ".:-0.1\n",
        "---\n",
        "xxxxxxxxxxxx\n",
        "x     x    x\n",
        "x xxx x xx x\n",
        "x x   x xx x\n",
        "x x x x    x\n",
        "x   xGx xx x\n",
        "x x x  x x x\n",
        "x x xx    xx\n",
        "x x     x  x\n",
        "x xxx x xxxx\n",
        "x     x   sx\n",
        "xxxxxxxxxxxx\n",
        "\"\"\"\n",
        "from random import randrange\n",
        "sim = Sim(mdp)\n",
        "sim.reset()\n",
        "done=False\n",
        "h=[1,1,1,1,2,2,2,2]\n",
        "nr_random_steps=0\n",
        "while not done:\n",
        "  nr_random_steps+=1\n",
        "  x_next, r, done=sim.step(randrange(4))\n",
        "  print(f\"reached state x'={x_next}, reward r={r}, ending episode signal:{done}\")\n",
        "print(f\"Total number of random actions that were taken until reaching the goal was: {nr_random_steps}\")\n",
        "\n"
      ]
    },
    {
      "cell_type": "markdown",
      "id": "36516c83-8bc3-4224-91c5-b9d781a4adee",
      "metadata": {
        "id": "36516c83-8bc3-4224-91c5-b9d781a4adee"
      },
      "source": [
        "##  Part 2\n",
        "\n",
        "In the second part of the lab we will implement and evaluate:\n",
        "\n",
        "1. Q-iteration\n",
        "2. Policy Iteration\n",
        "\n",
        "You are encouraged to test your implementation on the `ROOMBA` MDP (because it's easier to understand), and then on the `GRIDNAV` MDP you defined above.\n",
        "\n",
        "**Important:**\n",
        "1. For both algorithms, you have to demonstrate your implementations are correct, by running them on the `GRIDNAV` environment, with a value of $\\gamma=0.95$.\n",
        "2. Visualize the resulting Q-values using `MDP.plot_values`. Visualise the resuling control law using `MDP.plot_policy`.\n",
        "\n",
        "\n",
        "\n",
        "### Task 2.1 [3pts]\n",
        "---\n",
        "\n",
        "#### Q-iteration (value iteration with Q-values)\n",
        "\n",
        "The algorithm has been presented in [lecture 2](https://busoniu.net/teaching/rl2024/slides_dp_handout.pdf).\n",
        "The signature of the function is given below.\n",
        "\n",
        "**Arguments:**\n",
        "\n",
        "- the `MDP` object\n",
        "- the value of `γ`\n",
        "- and a default value of `1e-1` for `ε_iter`\n",
        "\n",
        "**Returns:**\n",
        "- $Q^*$, a `torch` matrix of shape $X \\times U$\n",
        "- number of Q-iterations\n",
        "\n",
        "**Important:** test your implementation using the `ROOMBA` mdp.\n",
        "The results should match closely the observations presented during the lecture."
      ]
    },
    {
      "cell_type": "code",
      "execution_count": null,
      "id": "94ab2e54-b196-4e8d-bfbe-b4fc2b6db38f",
      "metadata": {
        "id": "94ab2e54-b196-4e8d-bfbe-b4fc2b6db38f"
      },
      "outputs": [],
      "source": [
        "def q_iteration(mdp, γ, ε_iter=1e-1):\n",
        "\n",
        "    # TODO: your implementation here\n",
        "    Q = th.zeros((mdp.nX, mdp.nU))\n",
        "    Q_prev=Q.clone()\n",
        "    q_itt=0\n",
        "    while True:\n",
        "      q_itt+=1\n",
        "      Q_prev=Q.clone()\n",
        "      for x in mdp.X:\n",
        "        for u in mdp.U:\n",
        "          x_next, r=mdp.f(x, u), mdp.rho(x, u)\n",
        "          Q[x,u]=r+γ*Q_prev[x_next,:].max().item()\n",
        "      if th.norm(Q-Q_prev)<=ε_iter:\n",
        "        break\n",
        "    h=th.zeros(mdp.nX,mdp.nU)\n",
        "    for x in mdp.X:\n",
        "        Q_max=Q[x,:].argmax()\n",
        "        #print(Q_max)\n",
        "        h[x,Q_max]=1\n",
        "      #print(\"-----\")\n",
        "    return Q, h,  q_itt"
      ]
    },
    {
      "cell_type": "markdown",
      "id": "T9JrTM17QKCC",
      "metadata": {
        "id": "T9JrTM17QKCC"
      },
      "source": [
        "#### Q-iteration on ROOMBA"
      ]
    },
    {
      "cell_type": "code",
      "execution_count": null,
      "id": "435d696c-b759-40b4-a685-50ad627184ae",
      "metadata": {
        "colab": {
          "base_uri": "https://localhost:8080/",
          "height": 438
        },
        "id": "435d696c-b759-40b4-a685-50ad627184ae",
        "outputId": "c881e4ab-0048-4b34-b332-68cacf27ad43"
      },
      "outputs": [
        {
          "name": "stdout",
          "output_type": "stream",
          "text": [
            "tensor([0.0000, 0.6250, 1.2500, 2.5000, 5.0000, 0.0000]) [0 1 2 3 4 5]\n",
            "tensor([0.0000, 1.0000, 0.5000, 0.6250, 1.2500, 0.0000]) [0 1 2 3 4 5]\n"
          ]
        },
        {
          "data": {
            "image/png": "[encoded data removed]",
            "text/plain": [
              "<Figure size 500x375 with 1 Axes>"
            ]
          },
          "metadata": {},
          "output_type": "display_data"
        }
      ],
      "source": [
        "# check your implementation on the ROOMBA MDP.\n",
        "# It should reproduce the values from the lecture exactly.\n",
        "\n",
        "mdp = MDP(ROOMBA)\n",
        "Q, h, n = q_iteration(mdp, γ=0.5)\n",
        "#print(f\"{n} iterations\")\n",
        "#print(f\"{Q} Q\")\n",
        "#print(f\"{h} control law\")\n",
        "mdp.qsa_lineplot(Q)\n",
        "#MDP.plot_policy(mdp, h, Q.max(1).values)"
      ]
    },
    {
      "cell_type": "code",
      "execution_count": null,
      "id": "6a3ce896-2d71-459a-8c37-abd5c8fcf308",
      "metadata": {
        "colab": {
          "base_uri": "https://localhost:8080/",
          "height": 258
        },
        "id": "6a3ce896-2d71-459a-8c37-abd5c8fcf308",
        "outputId": "ff6ba32d-adc4-44ba-ba46-ab14288ce89f"
      },
      "outputs": [
        {
          "data": {
            "text/plain": [
              "(<Figure size 640x480 with 2 Axes>, <Axes: >)"
            ]
          },
          "execution_count": 48,
          "metadata": {},
          "output_type": "execute_result"
        },
        {
          "data": {
            "image/png": "[encoded data removed]",
            "text/plain": [
              "<Figure size 640x480 with 2 Axes>"
            ]
          },
          "metadata": {},
          "output_type": "display_data"
        }
      ],
      "source": [
        "MDP.plot_values(mdp, Q.max(1).values)"
      ]
    },
    {
      "cell_type": "markdown",
      "id": "dJS3D-sxQYOo",
      "metadata": {
        "id": "dJS3D-sxQYOo"
      },
      "source": [
        "#### Q-iteration on GRIDNAV"
      ]
    },
    {
      "cell_type": "markdown",
      "id": "f86a8465-06c3-49e6-92d0-9c0772c5becf",
      "metadata": {
        "id": "f86a8465-06c3-49e6-92d0-9c0772c5becf"
      },
      "source": [
        "If your implementation is working properly, you can now evaluate it on the larger MDP."
      ]
    },
    {
      "cell_type": "code",
      "execution_count": null,
      "id": "d3b2028f-de06-4afa-af62-2cc94b26bd47",
      "metadata": {
        "colab": {
          "base_uri": "https://localhost:8080/"
        },
        "id": "d3b2028f-de06-4afa-af62-2cc94b26bd47",
        "outputId": "41a5c5cd-9a6a-441e-8ef4-caa9c12984f6"
      },
      "outputs": [
        {
          "output_type": "execute_result",
          "data": {
            "text/plain": [
              "xxxxxxxxxxxx\n",
              "x     x    x\n",
              "x xxx x xx x\n",
              "x x   x xx x\n",
              "x x x x    x\n",
              "x   xGx xx x\n",
              "x x x  x x x\n",
              "x x xx    xx\n",
              "x x s   x  x\n",
              "x xxx x xxxx\n",
              "x     x    x\n",
              "xxxxxxxxxxxx\n",
              "Actions: 0: up, 1: right, 2: down, 3: left"
            ]
          },
          "metadata": {},
          "execution_count": 6
        }
      ],
      "source": [
        "mdp = MDP(GRIDNAV)\n",
        "mdp"
      ]
    },
    {
      "cell_type": "code",
      "execution_count": null,
      "id": "821b770d-77fa-4a9e-82da-e7d2db83a7e0",
      "metadata": {
        "colab": {
          "base_uri": "https://localhost:8080/",
          "height": 452
        },
        "id": "821b770d-77fa-4a9e-82da-e7d2db83a7e0",
        "outputId": "26a16527-a357-4e7f-c373-facac7ce66e7"
      },
      "outputs": [
        {
          "output_type": "stream",
          "name": "stdout",
          "text": [
            "Done in 14 iterations.\n"
          ]
        },
        {
          "output_type": "display_data",
          "data": {
            "text/plain": [
              "<Figure size 640x480 with 2 Axes>"
            ],
            "image/png": "[encoded data removed]"
          },
          "metadata": {}
        }
      ],
      "source": [
        "Q, h, n = q_iteration(mdp, γ=0.9)\n",
        "print(f\"Done in {n} iterations.\")\n",
        "#MDP.plot_values(mdp, values=Q.max(1).values)\n",
        "MDP.plot_policy(mdp, h, Q.max(1).values)"
      ]
    },
    {
      "cell_type": "markdown",
      "id": "54dc3e02-0a49-4b17-87ca-382c2b6b2bd5",
      "metadata": {
        "id": "54dc3e02-0a49-4b17-87ca-382c2b6b2bd5"
      },
      "source": [
        "#### Policy Iteration\n",
        "\n",
        "The algorithm has been presented in [lecture 2](https://busoniu.net/teaching/rl2024/slides_dp_handout.pdf).\n",
        "The signature of the function is given below.\n",
        "\n",
        "**Arguments**:\n",
        "\n",
        "- the `MDP` object\n",
        "- the value of `γ`\n",
        "- a default value of `1e-1` for `ε_eval`\n",
        "- a default value of `100` for `max_iterations`, the maximum number of policy iterations if the stoping criteria has not been met.\n",
        "\n",
        "**Returns**:\n",
        "\n",
        "- $h^*$, a `torch` matrix of shape $X \\times U$ of type `torch.long`\n",
        "- $Q^*$, a `torch` matrix of shape $X \\times U$ of type `torch.float32`\n",
        "- number of (major) policy iterations $\\mathcal{l}$\n",
        "- number of (minor) policy evaluation iterations $\\tau$ for the last policy that was evaluated"
      ]
    },
    {
      "cell_type": "code",
      "execution_count": null,
      "id": "b6ea0595-62eb-44b5-8aab-f887d598baad",
      "metadata": {
        "id": "b6ea0595-62eb-44b5-8aab-f887d598baad"
      },
      "outputs": [],
      "source": [
        "def policy_iteration(mdp, γ, ε_eval=1e-1, max_iterations=100):\n",
        "\n",
        "    # TODO: your implementation here\n",
        "    h = th.stack([th.eye(mdp.nU)[i] for i in th.randint(0, mdp.nU, (mdp.nX,))]).long()\n",
        "    h_prev=h.clone()\n",
        "    τ_list=[]\n",
        "    for l in range(max_iterations):\n",
        "      h_prev=h.clone()\n",
        "      #policy evaluation\n",
        "      Q, τ=policy_evaluation(mdp, γ, h, ε_evalq=1e-1)\n",
        "      τ_list.append(τ)\n",
        "      #policy improvement\n",
        "      for x in mdp.X:\n",
        "        Q_max=Q[x,:].argmax()\n",
        "        #print(Q_max)\n",
        "        h[x,:]=th.zeros(h[x,:].size())\n",
        "        h[x,Q_max]=1\n",
        "      #print(\"-----\")\n",
        "      if th.norm((h-h_prev)*1.0)<=ε_eval:\n",
        "        break\n",
        "    return h, Q, l, τ_list\n",
        "\n",
        "def policy_evaluation(mdp, γ, h, ε_evalq=1e-1):\n",
        "  Q = th.zeros((mdp.nX, mdp.nU))\n",
        "  Q_prev=Q.clone()\n",
        "  τ=0\n",
        "  while True:\n",
        "    τ+=1\n",
        "    Q_prev=Q.clone()\n",
        "    for x in mdp.X:\n",
        "      for u in mdp.U:\n",
        "        x_next = mdp.f(x, u)\n",
        "        action=th.nonzero(h[x_next,:])[0].item()\n",
        "        #print(action)\n",
        "        #print(h)\n",
        "        Q[x,u]=mdp.rho(x,u)+ γ*Q[x_next,action]\n",
        "    if th.norm(Q-Q_prev)<=ε_evalq:\n",
        "      #print(f\"Minor iterations:{τ}\")\n",
        "      break\n",
        "  return Q, τ\n"
      ]
    },
    {
      "cell_type": "code",
      "execution_count": null,
      "id": "e2225bf9-8d8a-4f7f-83b9-df450cfeccde",
      "metadata": {
        "colab": {
          "base_uri": "https://localhost:8080/"
        },
        "id": "e2225bf9-8d8a-4f7f-83b9-df450cfeccde",
        "outputId": "856bf405-cdd2-4b36-914d-9d6ad52585ec"
      },
      "outputs": [
        {
          "name": "stdout",
          "output_type": "stream",
          "text": [
            "Done in 12 policy iterations. Last policy evaluation took 10 iterations.\n"
          ]
        }
      ],
      "source": [
        "mdp=MDP(GRIDNAV)\n",
        "h, Q, l, τ_list = policy_iteration(mdp, 0.95)\n",
        "#print(h)\n",
        "print(f\"Done in {l} policy iterations. Last policy evaluation took {τ_list[-1]} iterations.\")"
      ]
    },
    {
      "cell_type": "code",
      "execution_count": null,
      "id": "e309c66f-0ea3-48dd-ba93-bbaa38a02afa",
      "metadata": {
        "colab": {
          "base_uri": "https://localhost:8080/",
          "height": 435
        },
        "id": "e309c66f-0ea3-48dd-ba93-bbaa38a02afa",
        "outputId": "8a3f01dc-7929-4a3c-b9bf-466c149e7d72"
      },
      "outputs": [
        {
          "data": {
            "image/png": "[encoded data removed]",
            "text/plain": [
              "<Figure size 640x480 with 2 Axes>"
            ]
          },
          "metadata": {},
          "output_type": "display_data"
        }
      ],
      "source": [
        "MDP.plot_policy(mdp, h, Q.max(1).values)"
      ]
    },
    {
      "cell_type": "markdown",
      "id": "82e9a9c1-8823-4053-a60c-4bba87b7cf32",
      "metadata": {
        "id": "82e9a9c1-8823-4053-a60c-4bba87b7cf32"
      },
      "source": [
        "##  Part 3\n",
        "\n",
        "In this third and last part of the lab we will look into the behaviour of the two algorithms you implemented and the resulting solutions they produce.\n",
        "\n",
        "### Task 3.1 [1.5pts]\n",
        "---\n",
        "\n",
        "Compare i) the number of iterations and ii) the execution time of Q-iteration with those of Policy Iteration.\n",
        "\n",
        "For Policy Iteration, consider on the one hand the number of (major) policy iterations $l$ and the number of (minor) policy evaluation iterations $\\tau$.\n",
        "\n",
        "You can use the `%timeit your_algo(...)` command for measuring the execution time of each algorithm."
      ]
    },
    {
      "cell_type": "code",
      "execution_count": null,
      "id": "gRuYR369_F6a",
      "metadata": {
        "colab": {
          "base_uri": "https://localhost:8080/"
        },
        "id": "gRuYR369_F6a",
        "outputId": "062916c5-63ea-4f5d-c674-edead9d68aca"
      },
      "outputs": [
        {
          "name": "stdout",
          "output_type": "stream",
          "text": [
            "176 ms ± 56 ms per loop (mean ± std. dev. of 7 runs, 10 loops each)\n"
          ]
        }
      ],
      "source": [
        "#measuring time for Q-iteration\n",
        "%%timeit\n",
        "Q, h, n = q_iteration(mdp, γ=0.95)"
      ]
    },
    {
      "cell_type": "code",
      "execution_count": null,
      "id": "mXYmS46g_mad",
      "metadata": {
        "colab": {
          "base_uri": "https://localhost:8080/"
        },
        "id": "mXYmS46g_mad",
        "outputId": "60f03f28-492a-43f2-c7f7-dcd30797d6f4"
      },
      "outputs": [
        {
          "name": "stdout",
          "output_type": "stream",
          "text": [
            "3.28 s ± 690 ms per loop (mean ± std. dev. of 7 runs, 1 loop each)\n"
          ]
        }
      ],
      "source": [
        "#measuring time for Policy iteration\n",
        "%%timeit\n",
        "h, Q, l, τ = policy_iteration(mdp, 0.95)"
      ]
    },
    {
      "cell_type": "code",
      "execution_count": null,
      "id": "KRiJCMDoBw-o",
      "metadata": {
        "colab": {
          "base_uri": "https://localhost:8080/"
        },
        "id": "KRiJCMDoBw-o",
        "outputId": "881d179d-2a81-4822-f258-ed24af3bcfc7"
      },
      "outputs": [
        {
          "name": "stdout",
          "output_type": "stream",
          "text": [
            "Q-iteration number of iterations:14\n",
            "\n",
            "\n",
            "Policy iteration number of major iterations:13\n",
            "Policy iteration number of minor iterations:[27, 3, 4, 5, 6, 7, 8, 9, 10, 10, 10, 10, 10]\n"
          ]
        }
      ],
      "source": [
        "print(f\"Q-iteration number of iterations:{n}\\n\\n\")\n",
        "print(f\"Policy iteration number of major iterations:{l+1}\\nPolicy iteration number of minor iterations:{τ}\")"
      ]
    },
    {
      "cell_type": "markdown",
      "id": "f9da6941-60d1-4fb4-a57b-a683e5830cbd",
      "metadata": {
        "id": "f9da6941-60d1-4fb4-a57b-a683e5830cbd"
      },
      "source": [
        "**Your results:**\n",
        "\n",
        "For the Q-iteration, the number of iterations is 14, while for the Policy iterations, the number of major iterations is smaller, 13, but we have to take into account that for each major iteration we perform a certain number of minor iterations. The number of minor iterations is recorded at each major iteration was stored in a vector and has the following values: [27, 3, 4, 5, 6, 7, 8, 9, 10, 10, 10, 10, 10].\n",
        "Overall, the total number of iterations for the Policy iteration is significantly bigger than the Q-iteration: 119 compared to 14 iterations.\n",
        "\n",
        "The total time required for the Q-iteration to converge was about 176 miliseconds, while for the Policy iteration the average reqired time until convergence was around 3 seconds. This result was expected because, for a large Markov decission proccess, the Q-iteration avoids the full policy evaluation step and relies only on maximizing the reward, while the Policy iteration reevaluates the control law at each step by trying to improve the reward (so each major iteration will take more time due to policy evaluation).\n"
      ]
    },
    {
      "cell_type": "markdown",
      "id": "9df34b5c-fdf6-4521-b373-c80f6f81c347",
      "metadata": {
        "id": "9df34b5c-fdf6-4521-b373-c80f6f81c347"
      },
      "source": [
        "### Task 3.2 [1.5pts]\n",
        "---\n",
        "\n",
        "Change, incrementally, the value of $\\gamma$ from 0.6 to 0.99.\n",
        "Execute one of the algorithms for obtaining $Q^*$ and $h^*$ for the values of $\\gamma$ you experimented with.\n",
        "\n",
        "Discuss the significance of $\\gamma$ and the evolution of $Q^*$ with the value of $\\gamma$.\n",
        "How does the optimal control law change (why?/why not?)."
      ]
    },
    {
      "cell_type": "markdown",
      "id": "913307b3-799d-45bf-8198-6bffc7f52ebb",
      "metadata": {
        "id": "913307b3-799d-45bf-8198-6bffc7f52ebb"
      },
      "source": [
        "**Your results:**\n",
        "\n",
        "For larger values of $\\gamma$ the Q-iteration algorithm will require more iterations to converge. This is because $\\gamma$ determines how much weight is given to future rewards when calculating the reward of state-action pairs. A higher $\\gamma$ places greater emphasis on long-term rewards, meaning the algorithm will optimize the reward function over a longer horizon. As a result, the Q function evolves more slowly, since changes in distant future rewards still have a greater influence on the updates. This will lead to a solution that takes into account the long-term quality of the solution.\n",
        "\n",
        "On the other hand, when $\\gamma$ is smaller, the algorithm prioritizes immediate rewards, placing less importance on future outcomes. The Q-iteration algorithm will therefore converge more quickly because updates primarily reflect the impact of immediate state-action pairs. This results in a solution that maximizes rewards over a shorter time horizon.\n",
        "\n",
        "Considering these two aspects, the chosen value of the discount factor $\\gamma$ impacts the optimal solution for the Q-function maximization problem. This also has a major effect on the resulting control policy which can vary depending on the selected value of $\\gamma$.\n",
        "\n",
        "(the above comments can be correlated with the output of the bellow code section)\n"
      ]
    },
    {
      "cell_type": "code",
      "execution_count": null,
      "id": "Yg7LuFe6ewqb",
      "metadata": {
        "colab": {
          "base_uri": "https://localhost:8080/"
        },
        "id": "Yg7LuFe6ewqb",
        "outputId": "bd84e99e-9aef-42d2-a8a9-ea7554b4927a"
      },
      "outputs": [
        {
          "output_type": "stream",
          "name": "stdout",
          "text": [
            "[11, 11, 11, 12, 12, 12, 13, 13, 13, 14, 14, 14, 14, 14, 14, 14, 14, 14, 14, 14, 14, 14, 14, 14, 14, 14, 14, 14, 14, 14]\n",
            "Some results on Q:\n",
            "tensor([[ 0.1765,  0.2674, -0.0495,  0.1765],\n",
            "        [ 0.3674,  0.5567,  0.3674,  0.0765],\n",
            "        [ 0.6567,  0.9950,  0.6567,  0.2674],\n",
            "        [ 1.0950,  1.6592,  1.0950,  0.5567],\n",
            "        [ 1.7592,  1.7592,  2.6654,  0.9950],\n",
            "        [ 0.0000, -0.1000, -0.1000,  0.0000],\n",
            "        [ 0.0000, -0.1000,  0.0000, -0.1000],\n",
            "        [ 0.0000, -0.1000,  0.0000, -0.1000],\n",
            "        [ 0.0000,  0.0000, -0.1000, -0.1000],\n",
            "        [ 0.0765,  0.0505, -0.1000,  0.0505],\n",
            "        [ 1.6592,  2.7654,  4.1900,  2.7654],\n",
            "        [-0.1000,  0.0000, -0.1000,  0.0000],\n",
            "        [-0.1000,  0.0000, -0.1000,  0.0000],\n",
            "        [-0.0495,  0.0000, -0.0495,  0.0000],\n",
            "        [ 1.7592,  2.6654,  0.9950,  1.7592],\n",
            "        [ 2.7654,  4.1900,  2.7654,  1.6592],\n",
            "        [ 2.6654,  4.2900,  6.5000,  2.6654],\n",
            "        [-0.1000,  0.0000, -0.1000,  0.0000],\n",
            "        [-0.1000,  0.0000, -0.1000,  0.0000],\n",
            "        [-0.1000,  0.0505,  0.0765,  0.0505],\n",
            "        [ 1.6592,  1.0950,  0.5567,  1.0950],\n",
            "        [ 4.1900,  6.6000, 10.0000,  6.6000],\n",
            "        [-0.1000, -0.1000, -0.1000,  0.0000],\n",
            "        [ 0.0000, -0.1000,  0.0000, -0.1000],\n",
            "        [ 0.0000, -0.1000,  0.0000, -0.1000],\n",
            "        [-0.1000,  0.0000, -0.1000, -0.1000],\n",
            "        [-0.0495,  0.2674, -0.0495,  0.1765],\n",
            "        [ 0.3674,  0.5567,  0.3674,  0.0765],\n",
            "        [ 0.9950,  0.6567,  0.2674,  0.2674],\n",
            "        [ 0.0000,  0.0000,  0.0000,  0.0000],\n",
            "        [-0.1000,  0.0000,  0.0000,  0.0000],\n",
            "        [-0.1000,  0.0000, -0.1000,  0.0000],\n",
            "        [ 0.0765,  0.0505, -0.1000,  0.0505],\n",
            "        [ 0.5567,  0.3674,  0.0765,  0.3674],\n",
            "        [10.0000,  4.1900,  6.6000,  6.6000],\n",
            "        [ 4.2900,  4.2900,  2.6654,  6.5000],\n",
            "        [ 0.6567,  0.6567,  0.9950,  0.6567],\n",
            "        [-0.1000,  0.0000,  0.0000,  0.0000],\n",
            "        [-0.0495,  0.0000, -0.1000,  0.0000],\n",
            "        [ 0.2674,  0.1765,  0.2674,  0.1765],\n",
            "        [ 4.1900,  1.6592,  1.6592,  2.7654],\n",
            "        [ 1.7592,  0.9950,  0.9950,  2.6654],\n",
            "        [ 0.5567,  0.5567,  1.0950,  1.6592],\n",
            "        [ 0.6567,  0.6567,  0.2674,  0.9950],\n",
            "        [-0.1000,  0.0000, -0.1000,  0.0000],\n",
            "        [ 0.0765,  0.5567,  0.3674,  0.3674],\n",
            "        [ 0.6567,  0.9950,  0.6567,  0.2674],\n",
            "        [ 1.0950,  1.6592,  0.5567,  0.5567],\n",
            "        [ 2.6654,  0.9950,  1.7592,  0.9950],\n",
            "        [ 1.6592,  1.0950,  0.5567,  1.6592],\n",
            "        [ 0.5567,  0.0765,  0.3674,  0.3674],\n",
            "        [ 0.1765,  0.1765,  0.1765,  0.2674],\n",
            "        [-0.1000,  0.0000, -0.1000,  0.0000],\n",
            "        [ 0.9950,  0.6567,  0.2674,  0.6567],\n",
            "        [ 0.9950,  0.6567,  0.2674,  0.6567],\n",
            "        [-0.1000, -0.1000,  0.0000,  0.0000],\n",
            "        [ 0.0000, -0.0495,  0.0000, -0.1000],\n",
            "        [ 0.0505,  0.0765,  0.0505, -0.1000],\n",
            "        [ 0.1765,  0.2674,  0.1765, -0.0495],\n",
            "        [ 0.5567,  0.3674,  0.3674,  0.0765],\n",
            "        [ 0.5567,  0.0765,  0.3674,  0.3674],\n",
            "        [ 0.1765, -0.0495,  0.1765,  0.2674],\n",
            "        [ 0.0505, -0.1000,  0.0505,  0.0765],\n",
            "        [ 0.0000,  0.0000,  0.0000, -0.0495]])\n",
            "tensor([[ 8.5549,  8.6413,  8.2703,  8.5549],\n",
            "        [ 8.7413,  8.8296,  8.7413,  8.4549],\n",
            "        [ 8.9296,  9.0198,  8.9296,  8.6413],\n",
            "        [ 9.1198,  9.2119,  9.1198,  8.8296],\n",
            "        [ 9.3119,  9.3119,  9.4060,  9.0198],\n",
            "        [ 0.0000, -0.1000, -0.1000,  0.0000],\n",
            "        [ 0.0000, -0.1000,  0.0000, -0.1000],\n",
            "        [ 0.0000, -0.1000,  0.0000, -0.1000],\n",
            "        [ 0.0000,  0.0000, -0.1000, -0.1000],\n",
            "        [ 8.4549,  8.3703,  8.0876,  8.3703],\n",
            "        [ 9.2119,  9.5060,  9.6020,  9.5060],\n",
            "        [-0.1000,  0.0000, -0.1000,  0.0000],\n",
            "        [-0.1000,  0.0000, -0.1000,  0.0000],\n",
            "        [ 8.2703,  8.1876,  8.2703,  8.1876],\n",
            "        [ 9.3119,  9.4060,  9.0198,  9.3119],\n",
            "        [ 9.5060,  9.6020,  9.5060,  9.2119],\n",
            "        [ 9.4060,  9.7020,  9.8000,  9.4060],\n",
            "        [-0.1000,  0.0000, -0.1000,  0.0000],\n",
            "        [-0.1000,  0.0000, -0.1000,  0.0000],\n",
            "        [ 8.0876,  8.3703,  8.4549,  8.3703],\n",
            "        [ 9.2119,  9.1198,  8.8296,  9.1198],\n",
            "        [ 9.6020,  9.9000, 10.0000,  9.9000],\n",
            "        [-0.1000, -0.1000, -0.1000,  0.0000],\n",
            "        [ 0.0000, -0.1000,  0.0000, -0.1000],\n",
            "        [ 0.0000, -0.1000,  0.0000, -0.1000],\n",
            "        [-0.1000,  0.0000, -0.1000, -0.1000],\n",
            "        [ 8.2703,  8.6413,  8.2703,  8.5549],\n",
            "        [ 8.7413,  8.8296,  8.7413,  8.4549],\n",
            "        [ 9.0198,  8.9296,  8.6413,  8.6413],\n",
            "        [ 0.0000,  0.0000,  0.0000,  0.0000],\n",
            "        [-0.1000,  0.0000,  0.0000,  0.0000],\n",
            "        [-0.1000,  0.0000, -0.1000,  0.0000],\n",
            "        [ 8.4549,  8.3703,  8.0876,  8.3703],\n",
            "        [ 8.8296,  8.7413,  8.4549,  8.7413],\n",
            "        [10.0000,  9.6020,  9.9000,  9.9000],\n",
            "        [ 9.7020,  9.7020,  9.4060,  9.8000],\n",
            "        [ 8.9296,  8.9296,  9.0198,  8.9296],\n",
            "        [-0.1000,  0.0000,  0.0000,  0.0000],\n",
            "        [ 8.2703,  8.1876,  7.9068,  8.1876],\n",
            "        [ 8.6413,  8.5549,  8.6413,  8.5549],\n",
            "        [ 9.6020,  9.2119,  9.2119,  9.5060],\n",
            "        [ 9.3119,  9.0198,  9.0198,  9.4060],\n",
            "        [ 8.8296,  8.8296,  9.1198,  9.2119],\n",
            "        [ 8.9296,  8.9296,  8.6413,  9.0198],\n",
            "        [ 8.0876,  8.0068,  7.7277,  8.0068],\n",
            "        [ 8.4549,  8.8296,  8.7413,  8.7413],\n",
            "        [ 8.9296,  9.0198,  8.9296,  8.6413],\n",
            "        [ 9.1198,  9.2119,  8.8296,  8.8296],\n",
            "        [ 9.4060,  9.0198,  9.3119,  9.0198],\n",
            "        [ 9.2119,  9.1198,  8.8296,  9.2119],\n",
            "        [ 8.8296,  8.4549,  8.7413,  8.7413],\n",
            "        [ 8.5549,  8.5549,  8.5549,  8.6413],\n",
            "        [ 7.9068,  7.8277,  7.9068,  7.8277],\n",
            "        [ 9.0198,  8.9296,  8.6413,  8.9296],\n",
            "        [ 9.0198,  8.9296,  8.6413,  8.9296],\n",
            "        [ 7.7277,  8.0876,  8.0068,  8.0068],\n",
            "        [ 8.1876,  8.2703,  8.1876,  7.9068],\n",
            "        [ 8.3703,  8.4549,  8.3703,  8.0876],\n",
            "        [ 8.5549,  8.6413,  8.5549,  8.2703],\n",
            "        [ 8.8296,  8.7413,  8.7413,  8.4549],\n",
            "        [ 8.8296,  8.4549,  8.7413,  8.7413],\n",
            "        [ 8.5549,  8.2703,  8.5549,  8.6413],\n",
            "        [ 8.3703,  8.0876,  8.3703,  8.4549],\n",
            "        [ 8.1876,  8.1876,  8.1876,  8.2703]])\n",
            "tensor([[True, True, True, True],\n",
            "        [True, True, True, True],\n",
            "        [True, True, True, True],\n",
            "        [True, True, True, True],\n",
            "        [True, True, True, True],\n",
            "        [True, True, True, True],\n",
            "        [True, True, True, True],\n",
            "        [True, True, True, True],\n",
            "        [True, True, True, True],\n",
            "        [True, True, True, True],\n",
            "        [True, True, True, True],\n",
            "        [True, True, True, True],\n",
            "        [True, True, True, True],\n",
            "        [True, True, True, True],\n",
            "        [True, True, True, True],\n",
            "        [True, True, True, True],\n",
            "        [True, True, True, True],\n",
            "        [True, True, True, True],\n",
            "        [True, True, True, True],\n",
            "        [True, True, True, True],\n",
            "        [True, True, True, True],\n",
            "        [True, True, True, True],\n",
            "        [True, True, True, True],\n",
            "        [True, True, True, True],\n",
            "        [True, True, True, True],\n",
            "        [True, True, True, True],\n",
            "        [True, True, True, True],\n",
            "        [True, True, True, True],\n",
            "        [True, True, True, True],\n",
            "        [True, True, True, True],\n",
            "        [True, True, True, True],\n",
            "        [True, True, True, True],\n",
            "        [True, True, True, True],\n",
            "        [True, True, True, True],\n",
            "        [True, True, True, True],\n",
            "        [True, True, True, True],\n",
            "        [True, True, True, True],\n",
            "        [True, True, True, True],\n",
            "        [True, True, True, True],\n",
            "        [True, True, True, True],\n",
            "        [True, True, True, True],\n",
            "        [True, True, True, True],\n",
            "        [True, True, True, True],\n",
            "        [True, True, True, True],\n",
            "        [True, True, True, True],\n",
            "        [True, True, True, True],\n",
            "        [True, True, True, True],\n",
            "        [True, True, True, True],\n",
            "        [True, True, True, True],\n",
            "        [True, True, True, True],\n",
            "        [True, True, True, True],\n",
            "        [True, True, True, True],\n",
            "        [True, True, True, True],\n",
            "        [True, True, True, True],\n",
            "        [True, True, True, True],\n",
            "        [True, True, True, True],\n",
            "        [True, True, True, True],\n",
            "        [True, True, True, True],\n",
            "        [True, True, True, True],\n",
            "        [True, True, True, True],\n",
            "        [True, True, True, True],\n",
            "        [True, True, True, True],\n",
            "        [True, True, True, True],\n",
            "        [True, True, True, True]])\n",
            "Some results on h:\n",
            "tensor([[0., 1., 0., 0.],\n",
            "        [0., 1., 0., 0.],\n",
            "        [0., 1., 0., 0.],\n",
            "        [0., 1., 0., 0.],\n",
            "        [0., 0., 1., 0.],\n",
            "        [1., 0., 0., 0.],\n",
            "        [1., 0., 0., 0.],\n",
            "        [1., 0., 0., 0.],\n",
            "        [1., 0., 0., 0.],\n",
            "        [1., 0., 0., 0.],\n",
            "        [0., 0., 1., 0.],\n",
            "        [0., 1., 0., 0.],\n",
            "        [0., 1., 0., 0.],\n",
            "        [0., 1., 0., 0.],\n",
            "        [0., 1., 0., 0.],\n",
            "        [0., 1., 0., 0.],\n",
            "        [0., 0., 1., 0.],\n",
            "        [0., 1., 0., 0.],\n",
            "        [0., 1., 0., 0.],\n",
            "        [0., 0., 1., 0.],\n",
            "        [1., 0., 0., 0.],\n",
            "        [0., 0., 1., 0.],\n",
            "        [0., 0., 0., 1.],\n",
            "        [1., 0., 0., 0.],\n",
            "        [1., 0., 0., 0.],\n",
            "        [0., 1., 0., 0.],\n",
            "        [0., 1., 0., 0.],\n",
            "        [0., 1., 0., 0.],\n",
            "        [1., 0., 0., 0.],\n",
            "        [1., 0., 0., 0.],\n",
            "        [0., 1., 0., 0.],\n",
            "        [0., 1., 0., 0.],\n",
            "        [1., 0., 0., 0.],\n",
            "        [1., 0., 0., 0.],\n",
            "        [1., 0., 0., 0.],\n",
            "        [0., 0., 0., 1.],\n",
            "        [0., 0., 1., 0.],\n",
            "        [0., 1., 0., 0.],\n",
            "        [0., 1., 0., 0.],\n",
            "        [1., 0., 0., 0.],\n",
            "        [1., 0., 0., 0.],\n",
            "        [0., 0., 0., 1.],\n",
            "        [0., 0., 0., 1.],\n",
            "        [0., 0., 0., 1.],\n",
            "        [0., 1., 0., 0.],\n",
            "        [0., 1., 0., 0.],\n",
            "        [0., 1., 0., 0.],\n",
            "        [0., 1., 0., 0.],\n",
            "        [1., 0., 0., 0.],\n",
            "        [1., 0., 0., 0.],\n",
            "        [1., 0., 0., 0.],\n",
            "        [0., 0., 0., 1.],\n",
            "        [0., 1., 0., 0.],\n",
            "        [1., 0., 0., 0.],\n",
            "        [1., 0., 0., 0.],\n",
            "        [0., 0., 1., 0.],\n",
            "        [1., 0., 0., 0.],\n",
            "        [0., 1., 0., 0.],\n",
            "        [0., 1., 0., 0.],\n",
            "        [1., 0., 0., 0.],\n",
            "        [1., 0., 0., 0.],\n",
            "        [0., 0., 0., 1.],\n",
            "        [0., 0., 0., 1.],\n",
            "        [1., 0., 0., 0.]])\n",
            "tensor([[0., 1., 0., 0.],\n",
            "        [0., 1., 0., 0.],\n",
            "        [0., 1., 0., 0.],\n",
            "        [0., 1., 0., 0.],\n",
            "        [0., 0., 1., 0.],\n",
            "        [1., 0., 0., 0.],\n",
            "        [1., 0., 0., 0.],\n",
            "        [1., 0., 0., 0.],\n",
            "        [1., 0., 0., 0.],\n",
            "        [1., 0., 0., 0.],\n",
            "        [0., 0., 1., 0.],\n",
            "        [0., 1., 0., 0.],\n",
            "        [0., 1., 0., 0.],\n",
            "        [1., 0., 0., 0.],\n",
            "        [0., 1., 0., 0.],\n",
            "        [0., 1., 0., 0.],\n",
            "        [0., 0., 1., 0.],\n",
            "        [0., 1., 0., 0.],\n",
            "        [0., 1., 0., 0.],\n",
            "        [0., 0., 1., 0.],\n",
            "        [1., 0., 0., 0.],\n",
            "        [0., 0., 1., 0.],\n",
            "        [0., 0., 0., 1.],\n",
            "        [1., 0., 0., 0.],\n",
            "        [1., 0., 0., 0.],\n",
            "        [0., 1., 0., 0.],\n",
            "        [0., 1., 0., 0.],\n",
            "        [0., 1., 0., 0.],\n",
            "        [1., 0., 0., 0.],\n",
            "        [1., 0., 0., 0.],\n",
            "        [0., 1., 0., 0.],\n",
            "        [0., 1., 0., 0.],\n",
            "        [1., 0., 0., 0.],\n",
            "        [1., 0., 0., 0.],\n",
            "        [1., 0., 0., 0.],\n",
            "        [0., 0., 0., 1.],\n",
            "        [0., 0., 1., 0.],\n",
            "        [0., 1., 0., 0.],\n",
            "        [1., 0., 0., 0.],\n",
            "        [1., 0., 0., 0.],\n",
            "        [1., 0., 0., 0.],\n",
            "        [0., 0., 0., 1.],\n",
            "        [0., 0., 0., 1.],\n",
            "        [0., 0., 0., 1.],\n",
            "        [1., 0., 0., 0.],\n",
            "        [0., 1., 0., 0.],\n",
            "        [0., 1., 0., 0.],\n",
            "        [0., 1., 0., 0.],\n",
            "        [1., 0., 0., 0.],\n",
            "        [1., 0., 0., 0.],\n",
            "        [1., 0., 0., 0.],\n",
            "        [0., 0., 0., 1.],\n",
            "        [1., 0., 0., 0.],\n",
            "        [1., 0., 0., 0.],\n",
            "        [1., 0., 0., 0.],\n",
            "        [0., 1., 0., 0.],\n",
            "        [0., 1., 0., 0.],\n",
            "        [0., 1., 0., 0.],\n",
            "        [0., 1., 0., 0.],\n",
            "        [1., 0., 0., 0.],\n",
            "        [1., 0., 0., 0.],\n",
            "        [0., 0., 0., 1.],\n",
            "        [0., 0., 0., 1.],\n",
            "        [0., 0., 0., 1.]])\n",
            "tensor([[ True, False,  True, False],\n",
            "        [ True, False,  True, False],\n",
            "        [ True, False,  True, False],\n",
            "        [ True, False,  True, False],\n",
            "        [ True,  True, False, False],\n",
            "        [False,  True,  True, False],\n",
            "        [False,  True,  True, False],\n",
            "        [False,  True,  True, False],\n",
            "        [False,  True,  True, False],\n",
            "        [False,  True,  True, False],\n",
            "        [ True,  True, False, False],\n",
            "        [ True, False,  True, False],\n",
            "        [ True, False,  True, False],\n",
            "        [ True, False,  True, False],\n",
            "        [ True, False,  True, False],\n",
            "        [ True, False,  True, False],\n",
            "        [ True,  True, False, False],\n",
            "        [ True, False,  True, False],\n",
            "        [ True, False,  True, False],\n",
            "        [ True,  True, False, False],\n",
            "        [False,  True,  True, False],\n",
            "        [ True,  True, False, False],\n",
            "        [ True,  True,  True,  True],\n",
            "        [False,  True,  True, False],\n",
            "        [False,  True,  True, False],\n",
            "        [ True, False,  True, False],\n",
            "        [ True, False,  True, False],\n",
            "        [ True, False,  True, False],\n",
            "        [False,  True,  True, False],\n",
            "        [False,  True,  True, False],\n",
            "        [ True, False,  True, False],\n",
            "        [ True, False,  True, False],\n",
            "        [False,  True,  True, False],\n",
            "        [False,  True,  True, False],\n",
            "        [False,  True,  True, False],\n",
            "        [ True,  True,  True,  True],\n",
            "        [ True,  True, False, False],\n",
            "        [ True, False,  True, False],\n",
            "        [ True, False,  True, False],\n",
            "        [False,  True,  True, False],\n",
            "        [False,  True,  True, False],\n",
            "        [ True,  True,  True,  True],\n",
            "        [ True,  True,  True,  True],\n",
            "        [ True,  True,  True,  True],\n",
            "        [ True, False,  True, False],\n",
            "        [ True, False,  True, False],\n",
            "        [ True, False,  True, False],\n",
            "        [ True, False,  True, False],\n",
            "        [False,  True,  True, False],\n",
            "        [False,  True,  True, False],\n",
            "        [False,  True,  True, False],\n",
            "        [ True,  True,  True,  True],\n",
            "        [ True, False,  True, False],\n",
            "        [False,  True,  True, False],\n",
            "        [False,  True,  True, False],\n",
            "        [ True,  True, False, False],\n",
            "        [False,  True,  True, False],\n",
            "        [ True, False,  True, False],\n",
            "        [ True, False,  True, False],\n",
            "        [False,  True,  True, False],\n",
            "        [False,  True,  True, False],\n",
            "        [ True,  True,  True,  True],\n",
            "        [ True,  True,  True,  True],\n",
            "        [False,  True,  True, False]])\n"
          ]
        }
      ],
      "source": [
        "#In this part, we will use the Q-iteration\n",
        "γ_list=th.linspace(0.66,0.99,30)\n",
        "γ_list=γ_list.tolist()\n",
        "#List to store the number of iterations for each gamma\n",
        "n_iterations=[]\n",
        "Q_list=list()\n",
        "h_list=list()\n",
        "for γ in γ_list:\n",
        "  Q, h, n = q_iteration(mdp, γ)\n",
        "  Q_list.append(Q)\n",
        "  n_iterations.append(n)\n",
        "  h_list.append(h)\n",
        "print(n_iterations)\n",
        "print(\"Some results on Q:\")\n",
        "print(Q_list[0])\n",
        "print(Q_list[-1])\n",
        "print(Q_list[0]<=Q_list[-1])\n",
        "print(\"Some results on h:\")\n",
        "print(h_list[0])\n",
        "print(h_list[-1])\n",
        "print(h_list[0]==h[-1])\n",
        "#The printed results from bellow have the purpose to enforce the conclusion stated above by showing\n",
        "#the distinction for the resulted Q-function and policy h when using two distinct values of γ: one for\n",
        "#0.66 and 0.99"
      ]
    }
  ],
  "metadata": {
    "colab": {
      "provenance": []
    },
    "kernelspec": {
      "display_name": "Python 3 (ipykernel)",
      "language": "python",
      "name": "python3"
    },
    "language_info": {
      "codemirror_mode": {
        "name": "ipython",
        "version": 3
      },
      "file_extension": ".py",
      "mimetype": "text/x-python",
      "name": "python",
      "nbconvert_exporter": "python",
      "pygments_lexer": "ipython3",
      "version": "3.12.6"
    },
    "vscode": {
      "interpreter": {
        "hash": "916dbcbb3f70747c44a77c7bcd40155683ae19c65e1c03b4aa3499c5328201f1"
      }
    }
  },
  "nbformat": 4,
  "nbformat_minor": 5
}